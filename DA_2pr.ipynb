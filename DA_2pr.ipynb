{
  "nbformat": 4,
  "nbformat_minor": 0,
  "metadata": {
    "colab": {
      "provenance": [],
      "collapsed_sections": [
        "8dxTeFEoNXgZ"
      ],
      "include_colab_link": true
    },
    "kernelspec": {
      "name": "python3",
      "display_name": "Python 3"
    },
    "language_info": {
      "name": "python"
    }
  },
  "cells": [
    {
      "cell_type": "markdown",
      "metadata": {
        "id": "view-in-github",
        "colab_type": "text"
      },
      "source": [
        "<a href=\"https://colab.research.google.com/github/cuzmyk/data_analysis/blob/main/DA_2pr.ipynb\" target=\"_parent\"><img src=\"https://colab.research.google.com/assets/colab-badge.svg\" alt=\"Open In Colab\"/></a>"
      ]
    },
    {
      "cell_type": "markdown",
      "source": [
        "# Практическая работа №2. Применение классических методов машинного обучения в среде Apache Spark"
      ],
      "metadata": {
        "id": "UxvE18C9T2fG"
      }
    },
    {
      "cell_type": "markdown",
      "source": [
        "### Необходимые зависимости (запустить)"
      ],
      "metadata": {
        "id": "bc9DtOi1i9WM"
      }
    },
    {
      "cell_type": "code",
      "source": [
        "!git clone --recursive https://github.com/tester170/Other.git"
      ],
      "metadata": {
        "id": "6DS8QDsHQQ-h",
        "colab": {
          "base_uri": "https://localhost:8080/"
        },
        "outputId": "b636829f-1b76-4514-fad7-fae744a64ac0"
      },
      "execution_count": 1,
      "outputs": [
        {
          "output_type": "stream",
          "name": "stdout",
          "text": [
            "Cloning into 'Other'...\n",
            "remote: Enumerating objects: 56, done.\u001b[K\n",
            "remote: Counting objects: 100% (56/56), done.\u001b[K\n",
            "remote: Compressing objects: 100% (54/54), done.\u001b[K\n",
            "remote: Total 56 (delta 13), reused 0 (delta 0), pack-reused 0 (from 0)\u001b[K\n",
            "Receiving objects: 100% (56/56), 32.77 MiB | 10.08 MiB/s, done.\n",
            "Resolving deltas: 100% (13/13), done.\n",
            "Updating files: 100% (26/26), done.\n"
          ]
        }
      ]
    },
    {
      "cell_type": "code",
      "source": [
        "!ls Other/"
      ],
      "metadata": {
        "id": "vq1lZv7sRV7A",
        "colab": {
          "base_uri": "https://localhost:8080/"
        },
        "outputId": "212a8d40-261c-4e7f-ab99-e6a837d67c1a"
      },
      "execution_count": 2,
      "outputs": [
        {
          "output_type": "stream",
          "name": "stdout",
          "text": [
            "archive.zip  beauty.csv  columns.csv  email.csv  images\t\t README.md\txl\n",
            "bank.csv     births.csv  data.zip     excel.py\t passengers.csv  responses.csv\tсollege_data.csv\n"
          ]
        }
      ]
    },
    {
      "cell_type": "code",
      "source": [
        "!unzip \"/content/Other/data.zip\" -d \"/content/\""
      ],
      "metadata": {
        "id": "-977ia-VRYRx",
        "colab": {
          "base_uri": "https://localhost:8080/"
        },
        "outputId": "87810f5a-8029-4436-b8ac-32572d3d855b"
      },
      "execution_count": 3,
      "outputs": [
        {
          "output_type": "stream",
          "name": "stdout",
          "text": [
            "Archive:  /content/Other/data.zip\n",
            "   creating: /content/data/\n",
            "  inflating: /content/__MACOSX/._data  \n",
            "  inflating: /content/data/new_customers.csv  \n",
            "  inflating: /content/__MACOSX/data/._new_customers.csv  \n",
            "   creating: /content/data/ml-1m/\n",
            "  inflating: /content/__MACOSX/data/._ml-1m  \n",
            "  inflating: /content/data/Meal_Info.csv  \n",
            "  inflating: /content/__MACOSX/data/._Meal_Info.csv  \n",
            "  inflating: /content/data/fakefriends.csv  \n",
            "  inflating: /content/__MACOSX/data/._fakefriends.csv  \n",
            "  inflating: /content/data/sample_linear_regression_data.txt  \n",
            "  inflating: /content/__MACOSX/data/._sample_linear_regression_data.txt  \n",
            "  inflating: /content/data/College.csv  \n",
            "  inflating: /content/__MACOSX/data/._College.csv  \n",
            "  inflating: /content/data/fake_customers.csv  \n",
            "  inflating: /content/__MACOSX/data/._fake_customers.csv  \n",
            "  inflating: /content/data/movielens_ratings.csv  \n",
            "  inflating: /content/__MACOSX/data/._movielens_ratings.csv  \n",
            "  inflating: /content/data/Book.txt  \n",
            "  inflating: /content/__MACOSX/data/._Book.txt  \n",
            "  inflating: /content/data/cruise_ship_info.csv  \n",
            "  inflating: /content/__MACOSX/data/._cruise_ship_info.csv  \n",
            "  inflating: /content/data/sample_libsvm_data.txt  \n",
            "  inflating: /content/__MACOSX/data/._sample_libsvm_data.txt  \n",
            "  inflating: /content/data/seeds_dataset.csv  \n",
            "  inflating: /content/__MACOSX/data/._seeds_dataset.csv  \n",
            "  inflating: /content/data/2015-summary.json  \n",
            "  inflating: /content/__MACOSX/data/._2015-summary.json  \n",
            "  inflating: /content/data/customer_churn.csv  \n",
            "  inflating: /content/__MACOSX/data/._customer_churn.csv  \n",
            "  inflating: /content/data/titanic.csv  \n",
            "  inflating: /content/__MACOSX/data/._titanic.csv  \n",
            "   creating: /content/data/smsspamcollection/\n",
            "  inflating: /content/__MACOSX/data/._smsspamcollection  \n",
            "   creating: /content/data/retail-data/\n",
            "  inflating: /content/__MACOSX/data/._retail-data  \n",
            "  inflating: /content/data/dog_food.csv  \n",
            "  inflating: /content/__MACOSX/data/._dog_food.csv  \n",
            "  inflating: /content/data/Ecommerce_Customers.csv  \n",
            "  inflating: /content/__MACOSX/data/._Ecommerce_Customers.csv  \n",
            "  inflating: /content/data/hack_data.csv  \n",
            "  inflating: /content/__MACOSX/data/._hack_data.csv  \n",
            "  inflating: /content/data/seeds_dataset.txt  \n",
            "  inflating: /content/__MACOSX/data/._seeds_dataset.txt  \n",
            "  inflating: /content/data/1800.csv  \n",
            "  inflating: /content/__MACOSX/data/._1800.csv  \n",
            "  inflating: /content/data/2010-12-01.csv  \n",
            "  inflating: /content/__MACOSX/data/._2010-12-01.csv  \n",
            "  inflating: /content/data/sample_kmeans_data.txt  \n",
            "  inflating: /content/__MACOSX/data/._sample_kmeans_data.txt  \n",
            "  inflating: /content/data/ml-1m/movies.dat  \n",
            "  inflating: /content/__MACOSX/data/ml-1m/._movies.dat  \n",
            "  inflating: /content/data/ml-1m/ratings.dat  \n",
            "  inflating: /content/__MACOSX/data/ml-1m/._ratings.dat  \n",
            "  inflating: /content/data/ml-1m/README  \n",
            "  inflating: /content/__MACOSX/data/ml-1m/._README  \n",
            "  inflating: /content/data/ml-1m/users.dat  \n",
            "  inflating: /content/__MACOSX/data/ml-1m/._users.dat  \n",
            "  inflating: /content/data/smsspamcollection/readme  \n",
            "  inflating: /content/__MACOSX/data/smsspamcollection/._readme  \n",
            "  inflating: /content/data/smsspamcollection/SMSSpamCollection  \n",
            "  inflating: /content/__MACOSX/data/smsspamcollection/._SMSSpamCollection  \n",
            "   creating: /content/data/retail-data/all/\n",
            "  inflating: /content/__MACOSX/data/retail-data/._all  \n",
            "   creating: /content/data/retail-data/by-day/\n",
            "  inflating: /content/__MACOSX/data/retail-data/._by-day  \n",
            "  inflating: /content/data/retail-data/all/online-retail-dataset.csv  \n",
            "  inflating: /content/__MACOSX/data/retail-data/all/._online-retail-dataset.csv  \n",
            "  inflating: /content/data/retail-data/by-day/2011-03-03.csv  \n",
            "  inflating: /content/__MACOSX/data/retail-data/by-day/._2011-03-03.csv  \n",
            "  inflating: /content/data/retail-data/by-day/2011-03-17.csv  \n",
            "  inflating: /content/__MACOSX/data/retail-data/by-day/._2011-03-17.csv  \n",
            "  inflating: /content/data/retail-data/by-day/2010-12-19.csv  \n",
            "  inflating: /content/__MACOSX/data/retail-data/by-day/._2010-12-19.csv  \n",
            "  inflating: /content/data/retail-data/by-day/2011-11-17.csv  \n",
            "  inflating: /content/__MACOSX/data/retail-data/by-day/._2011-11-17.csv  \n",
            "  inflating: /content/data/retail-data/by-day/2011-11-03.csv  \n",
            "  inflating: /content/__MACOSX/data/retail-data/by-day/._2011-11-03.csv  \n",
            "  inflating: /content/data/retail-data/by-day/2011-06-27.csv  \n",
            "  inflating: /content/__MACOSX/data/retail-data/by-day/._2011-06-27.csv  \n",
            "  inflating: /content/data/retail-data/by-day/2011-01-06.csv  \n",
            "  inflating: /content/__MACOSX/data/retail-data/by-day/._2011-01-06.csv  \n",
            "  inflating: /content/data/retail-data/by-day/2011-08-22.csv  \n",
            "  inflating: /content/__MACOSX/data/retail-data/by-day/._2011-08-22.csv  \n",
            "  inflating: /content/data/retail-data/by-day/2011-01-12.csv  \n",
            "  inflating: /content/__MACOSX/data/retail-data/by-day/._2011-01-12.csv  \n",
            "  inflating: /content/data/retail-data/by-day/2011-01-13.csv  \n",
            "  inflating: /content/__MACOSX/data/retail-data/by-day/._2011-01-13.csv  \n",
            "  inflating: /content/data/retail-data/by-day/2011-01-07.csv  \n",
            "  inflating: /content/__MACOSX/data/retail-data/by-day/._2011-01-07.csv  \n",
            "  inflating: /content/data/retail-data/by-day/2011-08-23.csv  \n",
            "  inflating: /content/__MACOSX/data/retail-data/by-day/._2011-08-23.csv  \n",
            "  inflating: /content/data/retail-data/by-day/2011-06-26.csv  \n",
            "  inflating: /content/__MACOSX/data/retail-data/by-day/._2011-06-26.csv  \n",
            "  inflating: /content/data/retail-data/by-day/2011-11-02.csv  \n",
            "  inflating: /content/__MACOSX/data/retail-data/by-day/._2011-11-02.csv  \n",
            "  inflating: /content/data/retail-data/by-day/2011-11-16.csv  \n",
            "  inflating: /content/__MACOSX/data/retail-data/by-day/._2011-11-16.csv  \n",
            "  inflating: /content/data/retail-data/by-day/2011-03-16.csv  \n",
            "  inflating: /content/__MACOSX/data/retail-data/by-day/._2011-03-16.csv  \n",
            "  inflating: /content/data/retail-data/by-day/2011-03-02.csv  \n",
            "  inflating: /content/__MACOSX/data/retail-data/by-day/._2011-03-02.csv  \n",
            "  inflating: /content/data/retail-data/by-day/2011-04-21.csv  \n",
            "  inflating: /content/__MACOSX/data/retail-data/by-day/._2011-04-21.csv  \n",
            "  inflating: /content/data/retail-data/by-day/2011-03-28.csv  \n",
            "  inflating: /content/__MACOSX/data/retail-data/by-day/._2011-03-28.csv  \n",
            "  inflating: /content/data/retail-data/by-day/2011-03-14.csv  \n",
            "  inflating: /content/__MACOSX/data/retail-data/by-day/._2011-03-14.csv  \n",
            "  inflating: /content/data/retail-data/by-day/2011-11-28.csv  \n",
            "  inflating: /content/__MACOSX/data/retail-data/by-day/._2011-11-28.csv  \n",
            "  inflating: /content/data/retail-data/by-day/2011-11-14.csv  \n",
            "  inflating: /content/__MACOSX/data/retail-data/by-day/._2011-11-14.csv  \n",
            "  inflating: /content/data/retail-data/by-day/2011-06-24.csv  \n",
            "  inflating: /content/__MACOSX/data/retail-data/by-day/._2011-06-24.csv  \n",
            "  inflating: /content/data/retail-data/by-day/2011-08-09.csv  \n",
            "  inflating: /content/__MACOSX/data/retail-data/by-day/._2011-08-09.csv  \n",
            "  inflating: /content/data/retail-data/by-day/2011-06-30.csv  \n",
            "  inflating: /content/__MACOSX/data/retail-data/by-day/._2011-06-30.csv  \n",
            "  inflating: /content/data/retail-data/by-day/2011-01-11.csv  \n",
            "  inflating: /content/__MACOSX/data/retail-data/by-day/._2011-01-11.csv  \n",
            "  inflating: /content/data/retail-data/by-day/2011-08-21.csv  \n",
            "  inflating: /content/__MACOSX/data/retail-data/by-day/._2011-08-21.csv  \n",
            "  inflating: /content/data/retail-data/by-day/2011-01-05.csv  \n",
            "  inflating: /content/__MACOSX/data/retail-data/by-day/._2011-01-05.csv  \n",
            "  inflating: /content/data/retail-data/by-day/2011-01-04.csv  \n",
            "  inflating: /content/__MACOSX/data/retail-data/by-day/._2011-01-04.csv  \n",
            "  inflating: /content/data/retail-data/by-day/2011-01-10.csv  \n",
            "  inflating: /content/__MACOSX/data/retail-data/by-day/._2011-01-10.csv  \n",
            "  inflating: /content/data/retail-data/by-day/2011-06-19.csv  \n",
            "  inflating: /content/__MACOSX/data/retail-data/by-day/._2011-06-19.csv  \n",
            "  inflating: /content/data/retail-data/by-day/2011-08-08.csv  \n",
            "  inflating: /content/__MACOSX/data/retail-data/by-day/._2011-08-08.csv  \n",
            "  inflating: /content/data/retail-data/by-day/2011-11-15.csv  \n",
            "  inflating: /content/__MACOSX/data/retail-data/by-day/._2011-11-15.csv  \n",
            "  inflating: /content/data/retail-data/by-day/2011-11-01.csv  \n",
            "  inflating: /content/__MACOSX/data/retail-data/by-day/._2011-11-01.csv  \n",
            "  inflating: /content/data/retail-data/by-day/2011-11-29.csv  \n",
            "  inflating: /content/__MACOSX/data/retail-data/by-day/._2011-11-29.csv  \n",
            "  inflating: /content/data/retail-data/by-day/2011-03-01.csv  \n",
            "  inflating: /content/__MACOSX/data/retail-data/by-day/._2011-03-01.csv  \n",
            "  inflating: /content/data/retail-data/by-day/2011-04-08.csv  \n",
            "  inflating: /content/__MACOSX/data/retail-data/by-day/._2011-04-08.csv  \n",
            "  inflating: /content/data/retail-data/by-day/2011-03-15.csv  \n",
            "  inflating: /content/__MACOSX/data/retail-data/by-day/._2011-03-15.csv  \n",
            "  inflating: /content/data/retail-data/by-day/2011-04-20.csv  \n",
            "  inflating: /content/__MACOSX/data/retail-data/by-day/._2011-04-20.csv  \n",
            "  inflating: /content/data/retail-data/by-day/2011-03-29.csv  \n",
            "  inflating: /content/__MACOSX/data/retail-data/by-day/._2011-03-29.csv  \n",
            "  inflating: /content/data/retail-data/by-day/2011-03-11.csv  \n",
            "  inflating: /content/__MACOSX/data/retail-data/by-day/._2011-03-11.csv  \n",
            "  inflating: /content/data/retail-data/by-day/2011-04-18.csv  \n",
            "  inflating: /content/__MACOSX/data/retail-data/by-day/._2011-04-18.csv  \n",
            "  inflating: /content/data/retail-data/by-day/2010-12-23.csv  \n",
            "  inflating: /content/__MACOSX/data/retail-data/by-day/._2010-12-23.csv  \n",
            "  inflating: /content/data/retail-data/by-day/2011-11-11.csv  \n",
            "  inflating: /content/__MACOSX/data/retail-data/by-day/._2011-11-11.csv  \n",
            "  inflating: /content/data/retail-data/by-day/2011-08-30.csv  \n",
            "  inflating: /content/__MACOSX/data/retail-data/by-day/._2011-08-30.csv  \n",
            "  inflating: /content/data/retail-data/by-day/2011-01-14.csv  \n",
            "  inflating: /content/__MACOSX/data/retail-data/by-day/._2011-01-14.csv  \n",
            "  inflating: /content/data/retail-data/by-day/2011-06-09.csv  \n",
            "  inflating: /content/__MACOSX/data/retail-data/by-day/._2011-06-09.csv  \n",
            "  inflating: /content/data/retail-data/by-day/2011-08-24.csv  \n",
            "  inflating: /content/__MACOSX/data/retail-data/by-day/._2011-08-24.csv  \n",
            "  inflating: /content/data/retail-data/by-day/2011-06-21.csv  \n",
            "  inflating: /content/__MACOSX/data/retail-data/by-day/._2011-06-21.csv  \n",
            "  inflating: /content/data/retail-data/by-day/2011-01-28.csv  \n",
            "  inflating: /content/__MACOSX/data/retail-data/by-day/._2011-01-28.csv  \n",
            "  inflating: /content/data/retail-data/by-day/2011-08-18.csv  \n",
            "  inflating: /content/__MACOSX/data/retail-data/by-day/._2011-08-18.csv  \n",
            "  inflating: /content/data/retail-data/by-day/2011-08-19.csv  \n",
            "  inflating: /content/__MACOSX/data/retail-data/by-day/._2011-08-19.csv  \n",
            "  inflating: /content/data/retail-data/by-day/2011-06-20.csv  \n",
            "  inflating: /content/__MACOSX/data/retail-data/by-day/._2011-06-20.csv  \n",
            "  inflating: /content/data/retail-data/by-day/2011-08-25.csv  \n",
            "  inflating: /content/__MACOSX/data/retail-data/by-day/._2011-08-25.csv  \n",
            "  inflating: /content/data/retail-data/by-day/2011-06-08.csv  \n",
            "  inflating: /content/__MACOSX/data/retail-data/by-day/._2011-06-08.csv  \n",
            "  inflating: /content/data/retail-data/by-day/2011-08-31.csv  \n",
            "  inflating: /content/__MACOSX/data/retail-data/by-day/._2011-08-31.csv  \n",
            "  inflating: /content/data/retail-data/by-day/2011-11-10.csv  \n",
            "  inflating: /content/__MACOSX/data/retail-data/by-day/._2011-11-10.csv  \n",
            "  inflating: /content/data/retail-data/by-day/2011-11-04.csv  \n",
            "  inflating: /content/__MACOSX/data/retail-data/by-day/._2011-11-04.csv  \n",
            "  inflating: /content/data/retail-data/by-day/2010-12-22.csv  \n",
            "  inflating: /content/__MACOSX/data/retail-data/by-day/._2010-12-22.csv  \n",
            "  inflating: /content/data/retail-data/by-day/2011-03-04.csv  \n",
            "  inflating: /content/__MACOSX/data/retail-data/by-day/._2011-03-04.csv  \n",
            "  inflating: /content/data/retail-data/by-day/2011-03-10.csv  \n",
            "  inflating: /content/__MACOSX/data/retail-data/by-day/._2011-03-10.csv  \n",
            "  inflating: /content/data/retail-data/by-day/2011-04-19.csv  \n",
            "  inflating: /content/__MACOSX/data/retail-data/by-day/._2011-04-19.csv  \n",
            "  inflating: /content/data/retail-data/by-day/2011-03-06.csv  \n",
            "  inflating: /content/__MACOSX/data/retail-data/by-day/._2011-03-06.csv  \n",
            "  inflating: /content/data/retail-data/by-day/2011-04-27.csv  \n",
            "  inflating: /content/__MACOSX/data/retail-data/by-day/._2011-04-27.csv  \n",
            "  inflating: /content/data/retail-data/by-day/2010-12-20.csv  \n",
            "  inflating: /content/__MACOSX/data/retail-data/by-day/._2010-12-20.csv  \n",
            "  inflating: /content/data/retail-data/by-day/2010-12-08.csv  \n",
            "  inflating: /content/__MACOSX/data/retail-data/by-day/._2010-12-08.csv  \n",
            "  inflating: /content/data/retail-data/by-day/2011-11-06.csv  \n",
            "  inflating: /content/__MACOSX/data/retail-data/by-day/._2011-11-06.csv  \n",
            "  inflating: /content/data/retail-data/by-day/2011-01-17.csv  \n",
            "  inflating: /content/__MACOSX/data/retail-data/by-day/._2011-01-17.csv  \n",
            "  inflating: /content/data/retail-data/by-day/2011-06-22.csv  \n",
            "  inflating: /content/__MACOSX/data/retail-data/by-day/._2011-06-22.csv  \n",
            "  inflating: /content/data/retail-data/by-day/2011-06-23.csv  \n",
            "  inflating: /content/__MACOSX/data/retail-data/by-day/._2011-06-23.csv  \n",
            "  inflating: /content/data/retail-data/by-day/2011-01-16.csv  \n",
            "  inflating: /content/__MACOSX/data/retail-data/by-day/._2011-01-16.csv  \n",
            "  inflating: /content/data/retail-data/by-day/2011-08-26.csv  \n",
            "  inflating: /content/__MACOSX/data/retail-data/by-day/._2011-08-26.csv  \n",
            "  inflating: /content/data/retail-data/by-day/2011-11-07.csv  \n",
            "  inflating: /content/__MACOSX/data/retail-data/by-day/._2011-11-07.csv  \n",
            "  inflating: /content/data/retail-data/by-day/2011-11-13.csv  \n",
            "  inflating: /content/__MACOSX/data/retail-data/by-day/._2011-11-13.csv  \n",
            "  inflating: /content/data/retail-data/by-day/2010-12-09.csv  \n",
            "  inflating: /content/__MACOSX/data/retail-data/by-day/._2010-12-09.csv  \n",
            "  inflating: /content/data/retail-data/by-day/2010-12-21.csv  \n",
            "  inflating: /content/__MACOSX/data/retail-data/by-day/._2010-12-21.csv  \n",
            "  inflating: /content/data/retail-data/by-day/2011-04-26.csv  \n",
            "  inflating: /content/__MACOSX/data/retail-data/by-day/._2011-04-26.csv  \n",
            "  inflating: /content/data/retail-data/by-day/2011-03-13.csv  \n",
            "  inflating: /content/__MACOSX/data/retail-data/by-day/._2011-03-13.csv  \n",
            "  inflating: /content/data/retail-data/by-day/2011-03-07.csv  \n",
            "  inflating: /content/__MACOSX/data/retail-data/by-day/._2011-03-07.csv  \n",
            "  inflating: /content/data/retail-data/by-day/2011-10-20.csv  \n",
            "  inflating: /content/__MACOSX/data/retail-data/by-day/._2011-10-20.csv  \n",
            "  inflating: /content/data/retail-data/by-day/2011-09-15.csv  \n",
            "  inflating: /content/__MACOSX/data/retail-data/by-day/._2011-09-15.csv  \n",
            "  inflating: /content/data/retail-data/by-day/2011-09-01.csv  \n",
            "  inflating: /content/__MACOSX/data/retail-data/by-day/._2011-09-01.csv  \n",
            "  inflating: /content/data/retail-data/by-day/2011-09-29.csv  \n",
            "  inflating: /content/__MACOSX/data/retail-data/by-day/._2011-09-29.csv  \n",
            "  inflating: /content/data/retail-data/by-day/2011-07-04.csv  \n",
            "  inflating: /content/__MACOSX/data/retail-data/by-day/._2011-07-04.csv  \n",
            "  inflating: /content/data/retail-data/by-day/2011-07-10.csv  \n",
            "  inflating: /content/__MACOSX/data/retail-data/by-day/._2011-07-10.csv  \n",
            "  inflating: /content/data/retail-data/by-day/2011-02-20.csv  \n",
            "  inflating: /content/__MACOSX/data/retail-data/by-day/._2011-02-20.csv  \n",
            "  inflating: /content/data/retail-data/by-day/2011-05-29.csv  \n",
            "  inflating: /content/__MACOSX/data/retail-data/by-day/._2011-05-29.csv  \n",
            "  inflating: /content/data/retail-data/by-day/2011-05-01.csv  \n",
            "  inflating: /content/__MACOSX/data/retail-data/by-day/._2011-05-01.csv  \n",
            "  inflating: /content/data/retail-data/by-day/2011-02-08.csv  \n",
            "  inflating: /content/__MACOSX/data/retail-data/by-day/._2011-02-08.csv  \n",
            "  inflating: /content/data/retail-data/by-day/2011-05-15.csv  \n",
            "  inflating: /content/__MACOSX/data/retail-data/by-day/._2011-05-15.csv  \n",
            "  inflating: /content/data/retail-data/by-day/2011-02-09.csv  \n",
            "  inflating: /content/__MACOSX/data/retail-data/by-day/._2011-02-09.csv  \n",
            "  inflating: /content/data/retail-data/by-day/2011-02-21.csv  \n",
            "  inflating: /content/__MACOSX/data/retail-data/by-day/._2011-02-21.csv  \n",
            "  inflating: /content/data/retail-data/by-day/2011-07-11.csv  \n",
            "  inflating: /content/__MACOSX/data/retail-data/by-day/._2011-07-11.csv  \n",
            "  inflating: /content/data/retail-data/by-day/2011-07-05.csv  \n",
            "  inflating: /content/__MACOSX/data/retail-data/by-day/._2011-07-05.csv  \n",
            "  inflating: /content/data/retail-data/by-day/2011-09-28.csv  \n",
            "  inflating: /content/__MACOSX/data/retail-data/by-day/._2011-09-28.csv  \n",
            "  inflating: /content/data/retail-data/by-day/2011-09-14.csv  \n",
            "  inflating: /content/__MACOSX/data/retail-data/by-day/._2011-09-14.csv  \n",
            "  inflating: /content/data/retail-data/by-day/2011-10-09.csv  \n",
            "  inflating: /content/__MACOSX/data/retail-data/by-day/._2011-10-09.csv  \n",
            "  inflating: /content/data/retail-data/by-day/2011-10-21.csv  \n",
            "  inflating: /content/__MACOSX/data/retail-data/by-day/._2011-10-21.csv  \n",
            "  inflating: /content/data/retail-data/by-day/2011-10-23.csv  \n",
            "  inflating: /content/__MACOSX/data/retail-data/by-day/._2011-10-23.csv  \n",
            "  inflating: /content/data/retail-data/by-day/2011-09-02.csv  \n",
            "  inflating: /content/__MACOSX/data/retail-data/by-day/._2011-09-02.csv  \n",
            "  inflating: /content/data/retail-data/by-day/2011-09-16.csv  \n",
            "  inflating: /content/__MACOSX/data/retail-data/by-day/._2011-09-16.csv  \n",
            "  inflating: /content/data/retail-data/by-day/2011-07-13.csv  \n",
            "  inflating: /content/__MACOSX/data/retail-data/by-day/._2011-07-13.csv  \n",
            "  inflating: /content/data/retail-data/by-day/2011-07-07.csv  \n",
            "  inflating: /content/__MACOSX/data/retail-data/by-day/._2011-07-07.csv  \n",
            "  inflating: /content/data/retail-data/by-day/2011-02-23.csv  \n",
            "  inflating: /content/__MACOSX/data/retail-data/by-day/._2011-02-23.csv  \n",
            "  inflating: /content/data/retail-data/by-day/2011-05-16.csv  \n",
            "  inflating: /content/__MACOSX/data/retail-data/by-day/._2011-05-16.csv  \n",
            "  inflating: /content/data/retail-data/by-day/2011-05-03.csv  \n",
            "  inflating: /content/__MACOSX/data/retail-data/by-day/._2011-05-03.csv  \n",
            "  inflating: /content/data/retail-data/by-day/2011-05-17.csv  \n",
            "  inflating: /content/__MACOSX/data/retail-data/by-day/._2011-05-17.csv  \n",
            "  inflating: /content/data/retail-data/by-day/2011-02-22.csv  \n",
            "  inflating: /content/__MACOSX/data/retail-data/by-day/._2011-02-22.csv  \n",
            "  inflating: /content/data/retail-data/by-day/2011-07-06.csv  \n",
            "  inflating: /content/__MACOSX/data/retail-data/by-day/._2011-07-06.csv  \n",
            "  inflating: /content/data/retail-data/by-day/2011-07-12.csv  \n",
            "  inflating: /content/__MACOSX/data/retail-data/by-day/._2011-07-12.csv  \n",
            "  inflating: /content/data/retail-data/by-day/2011-10-26.csv  \n",
            "  inflating: /content/__MACOSX/data/retail-data/by-day/._2011-10-26.csv  \n",
            "  inflating: /content/data/retail-data/by-day/2011-09-07.csv  \n",
            "  inflating: /content/__MACOSX/data/retail-data/by-day/._2011-09-07.csv  \n",
            "  inflating: /content/data/retail-data/by-day/2011-09-13.csv  \n",
            "  inflating: /content/__MACOSX/data/retail-data/by-day/._2011-09-13.csv  \n",
            "  inflating: /content/data/retail-data/by-day/2011-05-13.csv  \n",
            "  inflating: /content/__MACOSX/data/retail-data/by-day/._2011-05-13.csv  \n",
            "  inflating: /content/data/retail-data/by-day/2011-02-27.csv  \n",
            "  inflating: /content/__MACOSX/data/retail-data/by-day/._2011-02-27.csv  \n",
            "  inflating: /content/data/retail-data/by-day/2011-05-06.csv  \n",
            "  inflating: /content/__MACOSX/data/retail-data/by-day/._2011-05-06.csv  \n",
            "  inflating: /content/data/retail-data/by-day/2011-05-12.csv  \n",
            "  inflating: /content/__MACOSX/data/retail-data/by-day/._2011-05-12.csv  \n",
            "  inflating: /content/data/retail-data/by-day/2011-09-12.csv  \n",
            "  inflating: /content/__MACOSX/data/retail-data/by-day/._2011-09-12.csv  \n",
            "  inflating: /content/data/retail-data/by-day/2011-09-06.csv  \n",
            "  inflating: /content/__MACOSX/data/retail-data/by-day/._2011-09-06.csv  \n",
            "  inflating: /content/data/retail-data/by-day/2011-07-03.csv  \n",
            "  inflating: /content/__MACOSX/data/retail-data/by-day/._2011-07-03.csv  \n",
            "  inflating: /content/data/retail-data/by-day/2011-07-17.csv  \n",
            "  inflating: /content/__MACOSX/data/retail-data/by-day/._2011-07-17.csv  \n",
            "  inflating: /content/data/retail-data/by-day/2011-10-27.csv  \n",
            "  inflating: /content/__MACOSX/data/retail-data/by-day/._2011-10-27.csv  \n",
            "  inflating: /content/data/retail-data/by-day/2011-10-19.csv  \n",
            "  inflating: /content/__MACOSX/data/retail-data/by-day/._2011-10-19.csv  \n",
            "  inflating: /content/data/retail-data/by-day/2011-10-25.csv  \n",
            "  inflating: /content/__MACOSX/data/retail-data/by-day/._2011-10-25.csv  \n",
            "  inflating: /content/data/retail-data/by-day/2011-10-31.csv  \n",
            "  inflating: /content/__MACOSX/data/retail-data/by-day/._2011-10-31.csv  \n",
            "  inflating: /content/data/retail-data/by-day/2011-07-01.csv  \n",
            "  inflating: /content/__MACOSX/data/retail-data/by-day/._2011-07-01.csv  \n",
            "  inflating: /content/data/retail-data/by-day/2011-07-15.csv  \n",
            "  inflating: /content/__MACOSX/data/retail-data/by-day/._2011-07-15.csv  \n",
            "  inflating: /content/data/retail-data/by-day/2011-09-04.csv  \n",
            "  inflating: /content/__MACOSX/data/retail-data/by-day/._2011-09-04.csv  \n",
            "  inflating: /content/data/retail-data/by-day/2011-07-29.csv  \n",
            "  inflating: /content/__MACOSX/data/retail-data/by-day/._2011-07-29.csv  \n",
            "  inflating: /content/data/retail-data/by-day/2011-05-04.csv  \n",
            "  inflating: /content/__MACOSX/data/retail-data/by-day/._2011-05-04.csv  \n",
            "  inflating: /content/data/retail-data/by-day/2011-05-10.csv  \n",
            "  inflating: /content/__MACOSX/data/retail-data/by-day/._2011-05-10.csv  \n",
            "  inflating: /content/data/retail-data/by-day/2011-02-25.csv  \n",
            "  inflating: /content/__MACOSX/data/retail-data/by-day/._2011-02-25.csv  \n",
            "  inflating: /content/data/retail-data/by-day/2011-12-08.csv  \n",
            "  inflating: /content/__MACOSX/data/retail-data/by-day/._2011-12-08.csv  \n",
            "  inflating: /content/data/retail-data/by-day/2011-12-09.csv  \n",
            "  inflating: /content/__MACOSX/data/retail-data/by-day/._2011-12-09.csv  \n",
            "  inflating: /content/data/retail-data/by-day/2011-02-24.csv  \n",
            "  inflating: /content/__MACOSX/data/retail-data/by-day/._2011-02-24.csv  \n",
            "  inflating: /content/data/retail-data/by-day/2011-05-11.csv  \n",
            "  inflating: /content/__MACOSX/data/retail-data/by-day/._2011-05-11.csv  \n",
            "  inflating: /content/data/retail-data/by-day/2011-02-18.csv  \n",
            "  inflating: /content/__MACOSX/data/retail-data/by-day/._2011-02-18.csv  \n",
            "  inflating: /content/data/retail-data/by-day/2011-05-05.csv  \n",
            "  inflating: /content/__MACOSX/data/retail-data/by-day/._2011-05-05.csv  \n",
            "  inflating: /content/data/retail-data/by-day/2011-07-28.csv  \n",
            "  inflating: /content/__MACOSX/data/retail-data/by-day/._2011-07-28.csv  \n",
            "  inflating: /content/data/retail-data/by-day/2011-09-05.csv  \n",
            "  inflating: /content/__MACOSX/data/retail-data/by-day/._2011-09-05.csv  \n",
            "  inflating: /content/data/retail-data/by-day/2011-09-11.csv  \n",
            "  inflating: /content/__MACOSX/data/retail-data/by-day/._2011-09-11.csv  \n",
            "  inflating: /content/data/retail-data/by-day/2011-07-14.csv  \n",
            "  inflating: /content/__MACOSX/data/retail-data/by-day/._2011-07-14.csv  \n",
            "  inflating: /content/data/retail-data/by-day/2011-10-30.csv  \n",
            "  inflating: /content/__MACOSX/data/retail-data/by-day/._2011-10-30.csv  \n",
            "  inflating: /content/data/retail-data/by-day/2011-10-24.csv  \n",
            "  inflating: /content/__MACOSX/data/retail-data/by-day/._2011-10-24.csv  \n",
            "  inflating: /content/data/retail-data/by-day/2011-10-18.csv  \n",
            "  inflating: /content/__MACOSX/data/retail-data/by-day/._2011-10-18.csv  \n",
            "  inflating: /content/data/retail-data/by-day/2011-07-19.csv  \n",
            "  inflating: /content/__MACOSX/data/retail-data/by-day/._2011-07-19.csv  \n",
            "  inflating: /content/data/retail-data/by-day/2011-09-20.csv  \n",
            "  inflating: /content/__MACOSX/data/retail-data/by-day/._2011-09-20.csv  \n",
            "  inflating: /content/data/retail-data/by-day/2011-09-08.csv  \n",
            "  inflating: /content/__MACOSX/data/retail-data/by-day/._2011-09-08.csv  \n",
            "  inflating: /content/data/retail-data/by-day/2011-07-25.csv  \n",
            "  inflating: /content/__MACOSX/data/retail-data/by-day/._2011-07-25.csv  \n",
            "  inflating: /content/data/retail-data/by-day/2011-07-31.csv  \n",
            "  inflating: /content/__MACOSX/data/retail-data/by-day/._2011-07-31.csv  \n",
            "  inflating: /content/data/retail-data/by-day/2011-02-15.csv  \n",
            "  inflating: /content/__MACOSX/data/retail-data/by-day/._2011-02-15.csv  \n",
            "  inflating: /content/data/retail-data/by-day/2011-02-01.csv  \n",
            "  inflating: /content/__MACOSX/data/retail-data/by-day/._2011-02-01.csv  \n",
            "  inflating: /content/data/retail-data/by-day/2011-05-08.csv  \n",
            "  inflating: /content/__MACOSX/data/retail-data/by-day/._2011-05-08.csv  \n",
            "  inflating: /content/data/retail-data/by-day/2011-05-20.csv  \n",
            "  inflating: /content/__MACOSX/data/retail-data/by-day/._2011-05-20.csv  \n",
            "  inflating: /content/data/retail-data/by-day/2011-12-04.csv  \n",
            "  inflating: /content/__MACOSX/data/retail-data/by-day/._2011-12-04.csv  \n",
            "  inflating: /content/data/retail-data/by-day/2011-12-05.csv  \n",
            "  inflating: /content/__MACOSX/data/retail-data/by-day/._2011-12-05.csv  \n",
            "  inflating: /content/data/retail-data/by-day/2011-02-28.csv  \n",
            "  inflating: /content/__MACOSX/data/retail-data/by-day/._2011-02-28.csv  \n",
            "  inflating: /content/data/retail-data/by-day/2011-05-09.csv  \n",
            "  inflating: /content/__MACOSX/data/retail-data/by-day/._2011-05-09.csv  \n",
            "  inflating: /content/data/retail-data/by-day/2011-02-14.csv  \n",
            "  inflating: /content/__MACOSX/data/retail-data/by-day/._2011-02-14.csv  \n",
            "  inflating: /content/data/retail-data/by-day/2011-07-24.csv  \n",
            "  inflating: /content/__MACOSX/data/retail-data/by-day/._2011-07-24.csv  \n",
            "  inflating: /content/data/retail-data/by-day/2011-09-09.csv  \n",
            "  inflating: /content/__MACOSX/data/retail-data/by-day/._2011-09-09.csv  \n",
            "  inflating: /content/data/retail-data/by-day/2011-09-21.csv  \n",
            "  inflating: /content/__MACOSX/data/retail-data/by-day/._2011-09-21.csv  \n",
            "  inflating: /content/data/retail-data/by-day/2011-07-18.csv  \n",
            "  inflating: /content/__MACOSX/data/retail-data/by-day/._2011-07-18.csv  \n",
            "  inflating: /content/data/retail-data/by-day/2011-10-28.csv  \n",
            "  inflating: /content/__MACOSX/data/retail-data/by-day/._2011-10-28.csv  \n",
            "  inflating: /content/data/retail-data/by-day/2011-10-14.csv  \n",
            "  inflating: /content/__MACOSX/data/retail-data/by-day/._2011-10-14.csv  \n",
            "  inflating: /content/data/retail-data/by-day/2011-10-16.csv  \n",
            "  inflating: /content/__MACOSX/data/retail-data/by-day/._2011-10-16.csv  \n",
            "  inflating: /content/data/retail-data/by-day/2011-10-02.csv  \n",
            "  inflating: /content/__MACOSX/data/retail-data/by-day/._2011-10-02.csv  \n",
            "  inflating: /content/data/retail-data/by-day/2011-09-23.csv  \n",
            "  inflating: /content/__MACOSX/data/retail-data/by-day/._2011-09-23.csv  \n",
            "  inflating: /content/data/retail-data/by-day/2011-07-26.csv  \n",
            "  inflating: /content/__MACOSX/data/retail-data/by-day/._2011-07-26.csv  \n",
            "  inflating: /content/data/retail-data/by-day/2011-02-02.csv  \n",
            "  inflating: /content/__MACOSX/data/retail-data/by-day/._2011-02-02.csv  \n",
            "  inflating: /content/data/retail-data/by-day/2011-02-16.csv  \n",
            "  inflating: /content/__MACOSX/data/retail-data/by-day/._2011-02-16.csv  \n",
            "  inflating: /content/data/retail-data/by-day/2011-05-23.csv  \n",
            "  inflating: /content/__MACOSX/data/retail-data/by-day/._2011-05-23.csv  \n",
            "  inflating: /content/data/retail-data/by-day/2011-12-07.csv  \n",
            "  inflating: /content/__MACOSX/data/retail-data/by-day/._2011-12-07.csv  \n",
            "  inflating: /content/data/retail-data/by-day/2011-12-06.csv  \n",
            "  inflating: /content/__MACOSX/data/retail-data/by-day/._2011-12-06.csv  \n",
            "  inflating: /content/data/retail-data/by-day/2011-05-22.csv  \n",
            "  inflating: /content/__MACOSX/data/retail-data/by-day/._2011-05-22.csv  \n",
            "  inflating: /content/data/retail-data/by-day/2011-02-17.csv  \n",
            "  inflating: /content/__MACOSX/data/retail-data/by-day/._2011-02-17.csv  \n",
            "  inflating: /content/data/retail-data/by-day/2011-02-03.csv  \n",
            "  inflating: /content/__MACOSX/data/retail-data/by-day/._2011-02-03.csv  \n",
            "  inflating: /content/data/retail-data/by-day/2011-07-27.csv  \n",
            "  inflating: /content/__MACOSX/data/retail-data/by-day/._2011-07-27.csv  \n",
            "  inflating: /content/data/retail-data/by-day/2011-09-22.csv  \n",
            "  inflating: /content/__MACOSX/data/retail-data/by-day/._2011-09-22.csv  \n",
            "  inflating: /content/data/retail-data/by-day/2011-10-03.csv  \n",
            "  inflating: /content/__MACOSX/data/retail-data/by-day/._2011-10-03.csv  \n",
            "  inflating: /content/data/retail-data/by-day/2011-10-17.csv  \n",
            "  inflating: /content/__MACOSX/data/retail-data/by-day/._2011-10-17.csv  \n",
            "  inflating: /content/data/retail-data/by-day/2011-10-13.csv  \n",
            "  inflating: /content/__MACOSX/data/retail-data/by-day/._2011-10-13.csv  \n",
            "  inflating: /content/data/retail-data/by-day/2011-10-07.csv  \n",
            "  inflating: /content/__MACOSX/data/retail-data/by-day/._2011-10-07.csv  \n",
            "  inflating: /content/data/retail-data/by-day/2011-09-26.csv  \n",
            "  inflating: /content/__MACOSX/data/retail-data/by-day/._2011-09-26.csv  \n",
            "  inflating: /content/data/retail-data/by-day/2011-05-26.csv  \n",
            "  inflating: /content/__MACOSX/data/retail-data/by-day/._2011-05-26.csv  \n",
            "  inflating: /content/data/retail-data/by-day/2011-02-07.csv  \n",
            "  inflating: /content/__MACOSX/data/retail-data/by-day/._2011-02-07.csv  \n",
            "  inflating: /content/data/retail-data/by-day/2011-02-13.csv  \n",
            "  inflating: /content/__MACOSX/data/retail-data/by-day/._2011-02-13.csv  \n",
            "  inflating: /content/data/retail-data/by-day/2011-12-02.csv  \n",
            "  inflating: /content/__MACOSX/data/retail-data/by-day/._2011-12-02.csv  \n",
            "  inflating: /content/data/retail-data/by-day/2011-02-06.csv  \n",
            "  inflating: /content/__MACOSX/data/retail-data/by-day/._2011-02-06.csv  \n",
            "  inflating: /content/data/retail-data/by-day/2011-05-27.csv  \n",
            "  inflating: /content/__MACOSX/data/retail-data/by-day/._2011-05-27.csv  \n",
            "  inflating: /content/data/retail-data/by-day/2011-09-27.csv  \n",
            "  inflating: /content/__MACOSX/data/retail-data/by-day/._2011-09-27.csv  \n",
            "  inflating: /content/data/retail-data/by-day/2011-07-22.csv  \n",
            "  inflating: /content/__MACOSX/data/retail-data/by-day/._2011-07-22.csv  \n",
            "  inflating: /content/data/retail-data/by-day/2011-10-06.csv  \n",
            "  inflating: /content/__MACOSX/data/retail-data/by-day/._2011-10-06.csv  \n",
            "  inflating: /content/data/retail-data/by-day/2011-10-12.csv  \n",
            "  inflating: /content/__MACOSX/data/retail-data/by-day/._2011-10-12.csv  \n",
            "  inflating: /content/data/retail-data/by-day/2011-10-04.csv  \n",
            "  inflating: /content/__MACOSX/data/retail-data/by-day/._2011-10-04.csv  \n",
            "  inflating: /content/data/retail-data/by-day/2011-10-10.csv  \n",
            "  inflating: /content/__MACOSX/data/retail-data/by-day/._2011-10-10.csv  \n",
            "  inflating: /content/data/retail-data/by-day/2011-07-20.csv  \n",
            "  inflating: /content/__MACOSX/data/retail-data/by-day/._2011-07-20.csv  \n",
            "  inflating: /content/data/retail-data/by-day/2011-09-19.csv  \n",
            "  inflating: /content/__MACOSX/data/retail-data/by-day/._2011-09-19.csv  \n",
            "  inflating: /content/data/retail-data/by-day/2011-09-25.csv  \n",
            "  inflating: /content/__MACOSX/data/retail-data/by-day/._2011-09-25.csv  \n",
            "  inflating: /content/data/retail-data/by-day/2011-07-08.csv  \n",
            "  inflating: /content/__MACOSX/data/retail-data/by-day/._2011-07-08.csv  \n",
            "  inflating: /content/data/retail-data/by-day/2011-05-25.csv  \n",
            "  inflating: /content/__MACOSX/data/retail-data/by-day/._2011-05-25.csv  \n",
            "  inflating: /content/data/retail-data/by-day/2011-05-31.csv  \n",
            "  inflating: /content/__MACOSX/data/retail-data/by-day/._2011-05-31.csv  \n",
            "  inflating: /content/data/retail-data/by-day/2011-02-10.csv  \n",
            "  inflating: /content/__MACOSX/data/retail-data/by-day/._2011-02-10.csv  \n",
            "  inflating: /content/data/retail-data/by-day/2011-05-19.csv  \n",
            "  inflating: /content/__MACOSX/data/retail-data/by-day/._2011-05-19.csv  \n",
            "  inflating: /content/data/retail-data/by-day/2011-02-04.csv  \n",
            "  inflating: /content/__MACOSX/data/retail-data/by-day/._2011-02-04.csv  \n",
            "  inflating: /content/data/retail-data/by-day/2011-12-01.csv  \n",
            "  inflating: /content/__MACOSX/data/retail-data/by-day/._2011-12-01.csv  \n",
            "  inflating: /content/data/retail-data/by-day/2011-02-11.csv  \n",
            "  inflating: /content/__MACOSX/data/retail-data/by-day/._2011-02-11.csv  \n",
            "  inflating: /content/data/retail-data/by-day/2011-05-18.csv  \n",
            "  inflating: /content/__MACOSX/data/retail-data/by-day/._2011-05-18.csv  \n",
            "  inflating: /content/data/retail-data/by-day/2011-05-24.csv  \n",
            "  inflating: /content/__MACOSX/data/retail-data/by-day/._2011-05-24.csv  \n",
            "  inflating: /content/data/retail-data/by-day/2011-09-30.csv  \n",
            "  inflating: /content/__MACOSX/data/retail-data/by-day/._2011-09-30.csv  \n",
            "  inflating: /content/data/retail-data/by-day/2011-09-18.csv  \n",
            "  inflating: /content/__MACOSX/data/retail-data/by-day/._2011-09-18.csv  \n",
            "  inflating: /content/data/retail-data/by-day/2011-07-21.csv  \n",
            "  inflating: /content/__MACOSX/data/retail-data/by-day/._2011-07-21.csv  \n",
            "  inflating: /content/data/retail-data/by-day/2011-10-11.csv  \n",
            "  inflating: /content/__MACOSX/data/retail-data/by-day/._2011-10-11.csv  \n",
            "  inflating: /content/data/retail-data/by-day/2011-10-05.csv  \n",
            "  inflating: /content/__MACOSX/data/retail-data/by-day/._2011-10-05.csv  \n",
            "  inflating: /content/data/retail-data/by-day/2011-04-17.csv  \n",
            "  inflating: /content/__MACOSX/data/retail-data/by-day/._2011-04-17.csv  \n",
            "  inflating: /content/data/retail-data/by-day/2011-04-03.csv  \n",
            "  inflating: /content/__MACOSX/data/retail-data/by-day/._2011-04-03.csv  \n",
            "  inflating: /content/data/retail-data/by-day/2011-03-22.csv  \n",
            "  inflating: /content/__MACOSX/data/retail-data/by-day/._2011-03-22.csv  \n",
            "  inflating: /content/data/retail-data/by-day/2010-12-10.csv  \n",
            "  inflating: /content/__MACOSX/data/retail-data/by-day/._2010-12-10.csv  \n",
            "  inflating: /content/data/retail-data/by-day/2011-11-22.csv  \n",
            "  inflating: /content/__MACOSX/data/retail-data/by-day/._2011-11-22.csv  \n",
            "  inflating: /content/data/retail-data/by-day/2011-06-12.csv  \n",
            "  inflating: /content/__MACOSX/data/retail-data/by-day/._2011-06-12.csv  \n",
            "  inflating: /content/data/retail-data/by-day/2011-06-06.csv  \n",
            "  inflating: /content/__MACOSX/data/retail-data/by-day/._2011-06-06.csv  \n",
            "  inflating: /content/data/retail-data/by-day/2011-01-27.csv  \n",
            "  inflating: /content/__MACOSX/data/retail-data/by-day/._2011-01-27.csv  \n",
            "  inflating: /content/data/retail-data/by-day/2011-08-03.csv  \n",
            "  inflating: /content/__MACOSX/data/retail-data/by-day/._2011-08-03.csv  \n",
            "  inflating: /content/data/retail-data/by-day/2011-08-17.csv  \n",
            "  inflating: /content/__MACOSX/data/retail-data/by-day/._2011-08-17.csv  \n",
            "  inflating: /content/data/retail-data/by-day/2011-08-16.csv  \n",
            "  inflating: /content/__MACOSX/data/retail-data/by-day/._2011-08-16.csv  \n",
            "  inflating: /content/data/retail-data/by-day/2011-01-26.csv  \n",
            "  inflating: /content/__MACOSX/data/retail-data/by-day/._2011-01-26.csv  \n",
            "  inflating: /content/data/retail-data/by-day/2011-08-02.csv  \n",
            "  inflating: /content/__MACOSX/data/retail-data/by-day/._2011-08-02.csv  \n",
            "  inflating: /content/data/retail-data/by-day/2011-06-07.csv  \n",
            "  inflating: /content/__MACOSX/data/retail-data/by-day/._2011-06-07.csv  \n",
            "  inflating: /content/data/retail-data/by-day/2011-06-13.csv  \n",
            "  inflating: /content/__MACOSX/data/retail-data/by-day/._2011-06-13.csv  \n",
            "  inflating: /content/data/retail-data/by-day/2011-11-23.csv  \n",
            "  inflating: /content/__MACOSX/data/retail-data/by-day/._2011-11-23.csv  \n",
            "  inflating: /content/data/retail-data/by-day/2010-12-05.csv  \n",
            "  inflating: /content/__MACOSX/data/retail-data/by-day/._2010-12-05.csv  \n",
            "  inflating: /content/data/retail-data/by-day/2011-03-23.csv  \n",
            "  inflating: /content/__MACOSX/data/retail-data/by-day/._2011-03-23.csv  \n",
            "  inflating: /content/data/retail-data/by-day/2011-03-09.csv  \n",
            "  inflating: /content/__MACOSX/data/retail-data/by-day/._2011-03-09.csv  \n",
            "  inflating: /content/data/retail-data/by-day/2011-04-14.csv  \n",
            "  inflating: /content/__MACOSX/data/retail-data/by-day/._2011-04-14.csv  \n",
            "  inflating: /content/data/retail-data/by-day/2011-03-21.csv  \n",
            "  inflating: /content/__MACOSX/data/retail-data/by-day/._2011-03-21.csv  \n",
            "  inflating: /content/data/retail-data/by-day/2011-04-28.csv  \n",
            "  inflating: /content/__MACOSX/data/retail-data/by-day/._2011-04-28.csv  \n",
            "  inflating: /content/data/retail-data/by-day/2010-12-13.csv  \n",
            "  inflating: /content/__MACOSX/data/retail-data/by-day/._2010-12-13.csv  \n",
            "  inflating: /content/data/retail-data/by-day/2010-12-07.csv  \n",
            "  inflating: /content/__MACOSX/data/retail-data/by-day/._2010-12-07.csv  \n",
            "  inflating: /content/data/retail-data/by-day/2011-11-09.csv  \n",
            "  inflating: /content/__MACOSX/data/retail-data/by-day/._2011-11-09.csv  \n",
            "  inflating: /content/data/retail-data/by-day/2011-11-21.csv  \n",
            "  inflating: /content/__MACOSX/data/retail-data/by-day/._2011-11-21.csv  \n",
            "  inflating: /content/data/retail-data/by-day/2011-06-05.csv  \n",
            "  inflating: /content/__MACOSX/data/retail-data/by-day/._2011-06-05.csv  \n",
            "  inflating: /content/data/retail-data/by-day/2011-08-28.csv  \n",
            "  inflating: /content/__MACOSX/data/retail-data/by-day/._2011-08-28.csv  \n",
            "  inflating: /content/data/retail-data/by-day/2011-01-18.csv  \n",
            "  inflating: /content/__MACOSX/data/retail-data/by-day/._2011-01-18.csv  \n",
            "  inflating: /content/data/retail-data/by-day/2011-01-30.csv  \n",
            "  inflating: /content/__MACOSX/data/retail-data/by-day/._2011-01-30.csv  \n",
            "  inflating: /content/data/retail-data/by-day/2011-08-14.csv  \n",
            "  inflating: /content/__MACOSX/data/retail-data/by-day/._2011-08-14.csv  \n",
            "  inflating: /content/data/retail-data/by-day/2011-01-24.csv  \n",
            "  inflating: /content/__MACOSX/data/retail-data/by-day/._2011-01-24.csv  \n",
            "  inflating: /content/data/retail-data/by-day/2011-08-01.csv  \n",
            "  inflating: /content/__MACOSX/data/retail-data/by-day/._2011-08-01.csv  \n",
            "  inflating: /content/data/retail-data/by-day/2011-01-25.csv  \n",
            "  inflating: /content/__MACOSX/data/retail-data/by-day/._2011-01-25.csv  \n",
            "  inflating: /content/data/retail-data/by-day/2011-01-31.csv  \n",
            "  inflating: /content/__MACOSX/data/retail-data/by-day/._2011-01-31.csv  \n",
            "  inflating: /content/data/retail-data/by-day/2011-08-15.csv  \n",
            "  inflating: /content/__MACOSX/data/retail-data/by-day/._2011-08-15.csv  \n",
            "  inflating: /content/data/retail-data/by-day/2011-06-10.csv  \n",
            "  inflating: /content/__MACOSX/data/retail-data/by-day/._2011-06-10.csv  \n",
            "  inflating: /content/data/retail-data/by-day/2011-01-19.csv  \n",
            "  inflating: /content/__MACOSX/data/retail-data/by-day/._2011-01-19.csv  \n",
            "  inflating: /content/data/retail-data/by-day/2011-11-20.csv  \n",
            "  inflating: /content/__MACOSX/data/retail-data/by-day/._2011-11-20.csv  \n",
            "  inflating: /content/data/retail-data/by-day/2011-11-08.csv  \n",
            "  inflating: /content/__MACOSX/data/retail-data/by-day/._2011-11-08.csv  \n",
            "  inflating: /content/data/retail-data/by-day/2010-12-06.csv  \n",
            "  inflating: /content/__MACOSX/data/retail-data/by-day/._2010-12-06.csv  \n",
            "  inflating: /content/data/retail-data/by-day/2010-12-12.csv  \n",
            "  inflating: /content/__MACOSX/data/retail-data/by-day/._2010-12-12.csv  \n",
            "  inflating: /content/data/retail-data/by-day/2011-03-20.csv  \n",
            "  inflating: /content/__MACOSX/data/retail-data/by-day/._2011-03-20.csv  \n",
            "  inflating: /content/data/retail-data/by-day/2011-04-15.csv  \n",
            "  inflating: /content/__MACOSX/data/retail-data/by-day/._2011-04-15.csv  \n",
            "  inflating: /content/data/retail-data/by-day/2011-04-01.csv  \n",
            "  inflating: /content/__MACOSX/data/retail-data/by-day/._2011-04-01.csv  \n",
            "  inflating: /content/data/retail-data/by-day/2011-03-08.csv  \n",
            "  inflating: /content/__MACOSX/data/retail-data/by-day/._2011-03-08.csv  \n",
            "  inflating: /content/data/retail-data/by-day/2011-03-30.csv  \n",
            "  inflating: /content/__MACOSX/data/retail-data/by-day/._2011-03-30.csv  \n",
            "  inflating: /content/data/retail-data/by-day/2011-03-24.csv  \n",
            "  inflating: /content/__MACOSX/data/retail-data/by-day/._2011-03-24.csv  \n",
            "  inflating: /content/data/retail-data/by-day/2011-04-05.csv  \n",
            "  inflating: /content/__MACOSX/data/retail-data/by-day/._2011-04-05.csv  \n",
            "  inflating: /content/data/retail-data/by-day/2011-04-11.csv  \n",
            "  inflating: /content/__MACOSX/data/retail-data/by-day/._2011-04-11.csv  \n",
            "  inflating: /content/data/retail-data/by-day/2011-03-18.csv  \n",
            "  inflating: /content/__MACOSX/data/retail-data/by-day/._2011-03-18.csv  \n",
            "  inflating: /content/data/retail-data/by-day/2010-12-16.csv  \n",
            "  inflating: /content/__MACOSX/data/retail-data/by-day/._2010-12-16.csv  \n",
            "  inflating: /content/data/retail-data/by-day/2010-12-02.csv  \n",
            "  inflating: /content/__MACOSX/data/retail-data/by-day/._2010-12-02.csv  \n",
            "  inflating: /content/data/retail-data/by-day/2011-11-24.csv  \n",
            "  inflating: /content/__MACOSX/data/retail-data/by-day/._2011-11-24.csv  \n",
            "  inflating: /content/data/retail-data/by-day/2011-11-30.csv  \n",
            "  inflating: /content/__MACOSX/data/retail-data/by-day/._2011-11-30.csv  \n",
            "  inflating: /content/data/retail-data/by-day/2011-11-18.csv  \n",
            "  inflating: /content/__MACOSX/data/retail-data/by-day/._2011-11-18.csv  \n",
            "  inflating: /content/data/retail-data/by-day/2011-08-11.csv  \n",
            "  inflating: /content/__MACOSX/data/retail-data/by-day/._2011-08-11.csv  \n",
            "  inflating: /content/data/retail-data/by-day/2011-01-21.csv  \n",
            "  inflating: /content/__MACOSX/data/retail-data/by-day/._2011-01-21.csv  \n",
            "  inflating: /content/data/retail-data/by-day/2011-06-28.csv  \n",
            "  inflating: /content/__MACOSX/data/retail-data/by-day/._2011-06-28.csv  \n",
            "  inflating: /content/data/retail-data/by-day/2011-08-05.csv  \n",
            "  inflating: /content/__MACOSX/data/retail-data/by-day/._2011-08-05.csv  \n",
            "  inflating: /content/data/retail-data/by-day/2011-01-09.csv  \n",
            "  inflating: /content/__MACOSX/data/retail-data/by-day/._2011-01-09.csv  \n",
            "  inflating: /content/data/retail-data/by-day/2011-06-14.csv  \n",
            "  inflating: /content/__MACOSX/data/retail-data/by-day/._2011-06-14.csv  \n",
            "  inflating: /content/data/retail-data/by-day/2011-06-15.csv  \n",
            "  inflating: /content/__MACOSX/data/retail-data/by-day/._2011-06-15.csv  \n",
            "  inflating: /content/data/retail-data/by-day/2011-06-01.csv  \n",
            "  inflating: /content/__MACOSX/data/retail-data/by-day/._2011-06-01.csv  \n",
            "  inflating: /content/data/retail-data/by-day/2011-01-20.csv  \n",
            "  inflating: /content/__MACOSX/data/retail-data/by-day/._2011-01-20.csv  \n",
            "  inflating: /content/data/retail-data/by-day/2011-08-04.csv  \n",
            "  inflating: /content/__MACOSX/data/retail-data/by-day/._2011-08-04.csv  \n",
            "  inflating: /content/data/retail-data/by-day/2011-06-29.csv  \n",
            "  inflating: /content/__MACOSX/data/retail-data/by-day/._2011-06-29.csv  \n",
            "  inflating: /content/data/retail-data/by-day/2011-08-10.csv  \n",
            "  inflating: /content/__MACOSX/data/retail-data/by-day/._2011-08-10.csv  \n",
            "  inflating: /content/data/retail-data/by-day/2011-11-25.csv  \n",
            "  inflating: /content/__MACOSX/data/retail-data/by-day/._2011-11-25.csv  \n",
            "  inflating: /content/data/retail-data/by-day/2010-12-03.csv  \n",
            "  inflating: /content/__MACOSX/data/retail-data/by-day/._2010-12-03.csv  \n",
            "  inflating: /content/data/retail-data/by-day/2010-12-17.csv  \n",
            "  inflating: /content/__MACOSX/data/retail-data/by-day/._2010-12-17.csv  \n",
            "  inflating: /content/data/retail-data/by-day/2011-04-10.csv  \n",
            "  inflating: /content/__MACOSX/data/retail-data/by-day/._2011-04-10.csv  \n",
            "  inflating: /content/data/retail-data/by-day/2011-04-04.csv  \n",
            "  inflating: /content/__MACOSX/data/retail-data/by-day/._2011-04-04.csv  \n",
            "  inflating: /content/data/retail-data/by-day/2011-03-25.csv  \n",
            "  inflating: /content/__MACOSX/data/retail-data/by-day/._2011-03-25.csv  \n",
            "  inflating: /content/data/retail-data/by-day/2011-03-31.csv  \n",
            "  inflating: /content/__MACOSX/data/retail-data/by-day/._2011-03-31.csv  \n",
            "  inflating: /content/data/retail-data/by-day/2011-03-27.csv  \n",
            "  inflating: /content/__MACOSX/data/retail-data/by-day/._2011-03-27.csv  \n",
            "  inflating: /content/data/retail-data/by-day/2011-04-12.csv  \n",
            "  inflating: /content/__MACOSX/data/retail-data/by-day/._2011-04-12.csv  \n",
            "  inflating: /content/data/retail-data/by-day/2011-04-06.csv  \n",
            "  inflating: /content/__MACOSX/data/retail-data/by-day/._2011-04-06.csv  \n",
            "  inflating: /content/data/retail-data/by-day/2010-12-01.csv  \n",
            "  inflating: /content/__MACOSX/data/retail-data/by-day/._2010-12-01.csv  \n",
            "  inflating: /content/data/retail-data/by-day/2010-12-15.csv  \n",
            "  inflating: /content/__MACOSX/data/retail-data/by-day/._2010-12-15.csv  \n",
            "  inflating: /content/data/retail-data/by-day/2011-11-27.csv  \n",
            "  inflating: /content/__MACOSX/data/retail-data/by-day/._2011-11-27.csv  \n",
            "  inflating: /content/data/retail-data/by-day/2011-08-12.csv  \n",
            "  inflating: /content/__MACOSX/data/retail-data/by-day/._2011-08-12.csv  \n",
            "  inflating: /content/data/retail-data/by-day/2011-06-17.csv  \n",
            "  inflating: /content/__MACOSX/data/retail-data/by-day/._2011-06-17.csv  \n",
            "  inflating: /content/data/retail-data/by-day/2011-06-03.csv  \n",
            "  inflating: /content/__MACOSX/data/retail-data/by-day/._2011-06-03.csv  \n",
            "  inflating: /content/data/retail-data/by-day/2011-06-02.csv  \n",
            "  inflating: /content/__MACOSX/data/retail-data/by-day/._2011-06-02.csv  \n",
            "  inflating: /content/data/retail-data/by-day/2011-06-16.csv  \n",
            "  inflating: /content/__MACOSX/data/retail-data/by-day/._2011-06-16.csv  \n",
            "  inflating: /content/data/retail-data/by-day/2011-08-07.csv  \n",
            "  inflating: /content/__MACOSX/data/retail-data/by-day/._2011-08-07.csv  \n",
            "  inflating: /content/data/retail-data/by-day/2011-01-23.csv  \n",
            "  inflating: /content/__MACOSX/data/retail-data/by-day/._2011-01-23.csv  \n",
            "  inflating: /content/data/retail-data/by-day/2010-12-14.csv  \n",
            "  inflating: /content/__MACOSX/data/retail-data/by-day/._2010-12-14.csv  \n",
            "  inflating: /content/data/retail-data/by-day/2011-04-07.csv  \n",
            "  inflating: /content/__MACOSX/data/retail-data/by-day/._2011-04-07.csv  \n",
            "  inflating: /content/data/retail-data/by-day/2011-04-13.csv  \n",
            "  inflating: /content/__MACOSX/data/retail-data/by-day/._2011-04-13.csv  \n"
          ]
        }
      ]
    },
    {
      "cell_type": "code",
      "source": [
        "!pip install pyspark\n",
        "!pip install findspark"
      ],
      "metadata": {
        "id": "zGqZZnffUdF2",
        "colab": {
          "base_uri": "https://localhost:8080/"
        },
        "outputId": "6da7ec04-5eb6-4344-c26c-54a569911bf9"
      },
      "execution_count": 4,
      "outputs": [
        {
          "output_type": "stream",
          "name": "stdout",
          "text": [
            "Requirement already satisfied: pyspark in /usr/local/lib/python3.11/dist-packages (3.5.5)\n",
            "Requirement already satisfied: py4j==0.10.9.7 in /usr/local/lib/python3.11/dist-packages (from pyspark) (0.10.9.7)\n",
            "Collecting findspark\n",
            "  Downloading findspark-2.0.1-py2.py3-none-any.whl.metadata (352 bytes)\n",
            "Downloading findspark-2.0.1-py2.py3-none-any.whl (4.4 kB)\n",
            "Installing collected packages: findspark\n",
            "Successfully installed findspark-2.0.1\n"
          ]
        }
      ]
    },
    {
      "cell_type": "code",
      "execution_count": 5,
      "metadata": {
        "id": "k7bq68nbNXgP"
      },
      "outputs": [],
      "source": [
        "import findspark\n",
        "findspark.init()"
      ]
    },
    {
      "cell_type": "code",
      "execution_count": 6,
      "metadata": {
        "id": "_5vLyA9NNXgQ"
      },
      "outputs": [],
      "source": [
        "from pyspark.sql import SparkSession"
      ]
    },
    {
      "cell_type": "code",
      "execution_count": 7,
      "metadata": {
        "id": "hKJ2aSOkNXgQ"
      },
      "outputs": [],
      "source": [
        "spark = SparkSession.builder.appName('Practice2').getOrCreate()"
      ]
    },
    {
      "cell_type": "markdown",
      "metadata": {
        "id": "8dxTeFEoNXgZ"
      },
      "source": [
        "## Задание №1. Линейная регрессия (Linear Regression)"
      ]
    },
    {
      "cell_type": "markdown",
      "metadata": {
        "collapsed": true,
        "id": "lqrYh5ilNXgZ"
      },
      "source": [
        "### Построение прогностической модели для судов\n",
        "\n",
        "[Hyundai Heavy Industries](http://www.hyundai.eu/en) - одна из ведущих судостроительных компаний в мире, специализирующаяся на строительстве круизных лайнеров. В настоящее время они работают над созданием новых кораблей для различных клиентов и стремятся к точному прогнозированию количества необходимых членов экипажа для каждого корабля.\n",
        "\n",
        "Данные, с которыми мы работаем, представляют собой измерения размеров, вместимости, экипажа и возраста 158 круизных судов. Эти данные включают следующие столбцы:\n",
        "\n",
        "- Ship_name\n",
        "- Cruise_line\n",
        "- Age (по состоянию на 2013 год)\n",
        "- Tonnage (1000 тонн)\n",
        "- Passengers (100 человек)\n",
        "- Length (100 футов)\n",
        "- Cabins (100 шт.)\n",
        "- Passenger_density\n",
        "- Crew (100s)\n",
        "\n",
        "Эти данные хранятся в файле CSV под названием \"cruise_ship_info.csv\".\n",
        "\n",
        "##### **Ваша задача - создать регрессионную модель, которая поможет предсказать, сколько членов экипажа потребуется для будущих кораблей.**"
      ]
    },
    {
      "cell_type": "code",
      "source": [
        "spark = SparkSession.builder.appName('Linear Regression').getOrCreate()\n",
        "from pyspark.ml.regression import LinearRegression"
      ],
      "metadata": {
        "id": "k7EVIxyZ5t2t"
      },
      "execution_count": 8,
      "outputs": []
    },
    {
      "cell_type": "code",
      "execution_count": 9,
      "metadata": {
        "id": "AvSf5VMbNXgZ"
      },
      "outputs": [],
      "source": [
        "df = spark.read.csv('data/cruise_ship_info.csv',inferSchema=True,header=True)"
      ]
    },
    {
      "cell_type": "code",
      "execution_count": 10,
      "metadata": {
        "id": "t2KIys0-NXga",
        "outputId": "9f0c9df9-1ef1-4336-e949-9b59db405e55",
        "colab": {
          "base_uri": "https://localhost:8080/"
        }
      },
      "outputs": [
        {
          "output_type": "stream",
          "name": "stdout",
          "text": [
            "root\n",
            " |-- Ship_name: string (nullable = true)\n",
            " |-- Cruise_line: string (nullable = true)\n",
            " |-- Age: integer (nullable = true)\n",
            " |-- Tonnage: double (nullable = true)\n",
            " |-- passengers: double (nullable = true)\n",
            " |-- length: double (nullable = true)\n",
            " |-- cabins: double (nullable = true)\n",
            " |-- passenger_density: double (nullable = true)\n",
            " |-- crew: double (nullable = true)\n",
            "\n"
          ]
        }
      ],
      "source": [
        "df.printSchema()"
      ]
    },
    {
      "cell_type": "code",
      "execution_count": 11,
      "metadata": {
        "id": "_Qb9NctMNXga",
        "outputId": "b1707d43-92da-457b-b8f0-39985dad8f0f",
        "colab": {
          "base_uri": "https://localhost:8080/"
        }
      },
      "outputs": [
        {
          "output_type": "stream",
          "name": "stdout",
          "text": [
            "+-----------+-----------+---+------------------+----------+------+------+-----------------+----+\n",
            "|  Ship_name|Cruise_line|Age|           Tonnage|passengers|length|cabins|passenger_density|crew|\n",
            "+-----------+-----------+---+------------------+----------+------+------+-----------------+----+\n",
            "|    Journey|    Azamara|  6|30.276999999999997|      6.94|  5.94|  3.55|            42.64|3.55|\n",
            "|      Quest|    Azamara|  6|30.276999999999997|      6.94|  5.94|  3.55|            42.64|3.55|\n",
            "|Celebration|   Carnival| 26|            47.262|     14.86|  7.22|  7.43|             31.8| 6.7|\n",
            "|   Conquest|   Carnival| 11|             110.0|     29.74|  9.53| 14.88|            36.99|19.1|\n",
            "|    Destiny|   Carnival| 17|           101.353|     26.42|  8.92| 13.21|            38.36|10.0|\n",
            "|    Ecstasy|   Carnival| 22|            70.367|     20.52|  8.55|  10.2|            34.29| 9.2|\n",
            "|    Elation|   Carnival| 15|            70.367|     20.52|  8.55|  10.2|            34.29| 9.2|\n",
            "|    Fantasy|   Carnival| 23|            70.367|     20.56|  8.55| 10.22|            34.23| 9.2|\n",
            "|Fascination|   Carnival| 19|            70.367|     20.52|  8.55|  10.2|            34.29| 9.2|\n",
            "|    Freedom|   Carnival|  6|110.23899999999999|      37.0|  9.51| 14.87|            29.79|11.5|\n",
            "|      Glory|   Carnival| 10|             110.0|     29.74|  9.51| 14.87|            36.99|11.6|\n",
            "|    Holiday|   Carnival| 28|            46.052|     14.52|  7.27|  7.26|            31.72| 6.6|\n",
            "|Imagination|   Carnival| 18|            70.367|     20.52|  8.55|  10.2|            34.29| 9.2|\n",
            "|Inspiration|   Carnival| 17|            70.367|     20.52|  8.55|  10.2|            34.29| 9.2|\n",
            "|     Legend|   Carnival| 11|              86.0|     21.24|  9.63| 10.62|            40.49| 9.3|\n",
            "|   Liberty*|   Carnival|  8|             110.0|     29.74|  9.51| 14.87|            36.99|11.6|\n",
            "|    Miracle|   Carnival|  9|              88.5|     21.24|  9.63| 10.62|            41.67|10.3|\n",
            "|   Paradise|   Carnival| 15|            70.367|     20.52|  8.55|  10.2|            34.29| 9.2|\n",
            "|      Pride|   Carnival| 12|              88.5|     21.24|  9.63| 11.62|            41.67| 9.3|\n",
            "|  Sensation|   Carnival| 20|            70.367|     20.52|  8.55|  10.2|            34.29| 9.2|\n",
            "+-----------+-----------+---+------------------+----------+------+------+-----------------+----+\n",
            "only showing top 20 rows\n",
            "\n"
          ]
        }
      ],
      "source": [
        "df.show()"
      ]
    },
    {
      "cell_type": "code",
      "execution_count": 12,
      "metadata": {
        "id": "mfT8ajkUNXga",
        "outputId": "6c953e05-4d42-4a47-94fb-75238ab1cdc2",
        "colab": {
          "base_uri": "https://localhost:8080/"
        }
      },
      "outputs": [
        {
          "output_type": "stream",
          "name": "stdout",
          "text": [
            "+-------+---------+-----------+------------------+------------------+-----------------+-----------------+------------------+-----------------+-----------------+\n",
            "|summary|Ship_name|Cruise_line|               Age|           Tonnage|       passengers|           length|            cabins|passenger_density|             crew|\n",
            "+-------+---------+-----------+------------------+------------------+-----------------+-----------------+------------------+-----------------+-----------------+\n",
            "|  count|      158|        158|               158|               158|              158|              158|               158|              158|              158|\n",
            "|   mean| Infinity|       NULL|15.689873417721518| 71.28467088607599|18.45740506329114|8.130632911392404| 8.830000000000005|39.90094936708861|7.794177215189873|\n",
            "| stddev|     NULL|       NULL| 7.615691058751413|37.229540025907866|9.677094775143416|1.793473548054825|4.4714172221480615| 8.63921711391542|3.503486564627034|\n",
            "|    min|Adventure|    Azamara|                 4|             2.329|             0.66|             2.79|              0.33|             17.7|             0.59|\n",
            "|    max|Zuiderdam|   Windstar|                48|             220.0|             54.0|            11.82|              27.0|            71.43|             21.0|\n",
            "+-------+---------+-----------+------------------+------------------+-----------------+-----------------+------------------+-----------------+-----------------+\n",
            "\n"
          ]
        }
      ],
      "source": [
        "df.describe().show()"
      ]
    },
    {
      "cell_type": "code",
      "source": [
        "# Прежде чем Spark сможет принять данные, нам нужно сделать несколько преобразований\n",
        "# Данные должны быть в виде двух столбцов\n",
        "# (\"label\", \"features\")\n",
        "# Импортируем VectorAssembler и Vectors\n",
        "from pyspark.ml.linalg import Vectors\n",
        "from pyspark.ml.feature import VectorAssembler"
      ],
      "metadata": {
        "id": "Q8kcdhrm3kQm"
      },
      "execution_count": 13,
      "outputs": []
    },
    {
      "cell_type": "code",
      "source": [
        "# Создаем экземпляр класса VectorAssembler\n",
        "assembler = VectorAssembler(\n",
        "    # Указываем входные колонки, которые будут использоваться для создания вектора признаков\n",
        "    inputCols=['Age', 'Tonnage', 'passengers', 'length', 'cabins', 'passenger_density'],\n",
        "    # Указываем имя выходной колонки, в которой будет храниться вектор признаков\n",
        "    outputCol=\"features\")"
      ],
      "metadata": {
        "id": "hzvdz-PHkGkx"
      },
      "execution_count": 14,
      "outputs": []
    },
    {
      "cell_type": "code",
      "source": [
        "# Применяем assembler к данным для создания вектора признаков\n",
        "output = assembler.transform(df)"
      ],
      "metadata": {
        "id": "RKiCGJ892F6q"
      },
      "execution_count": 15,
      "outputs": []
    },
    {
      "cell_type": "code",
      "source": [
        "output.select(\"features\").show()"
      ],
      "metadata": {
        "colab": {
          "base_uri": "https://localhost:8080/"
        },
        "id": "CoSKWouf2F3L",
        "outputId": "3de7881e-944e-4367-ad47-5ccef063e7a1"
      },
      "execution_count": 16,
      "outputs": [
        {
          "output_type": "stream",
          "name": "stdout",
          "text": [
            "+--------------------+\n",
            "|            features|\n",
            "+--------------------+\n",
            "|[6.0,30.276999999...|\n",
            "|[6.0,30.276999999...|\n",
            "|[26.0,47.262,14.8...|\n",
            "|[11.0,110.0,29.74...|\n",
            "|[17.0,101.353,26....|\n",
            "|[22.0,70.367,20.5...|\n",
            "|[15.0,70.367,20.5...|\n",
            "|[23.0,70.367,20.5...|\n",
            "|[19.0,70.367,20.5...|\n",
            "|[6.0,110.23899999...|\n",
            "|[10.0,110.0,29.74...|\n",
            "|[28.0,46.052,14.5...|\n",
            "|[18.0,70.367,20.5...|\n",
            "|[17.0,70.367,20.5...|\n",
            "|[11.0,86.0,21.24,...|\n",
            "|[8.0,110.0,29.74,...|\n",
            "|[9.0,88.5,21.24,9...|\n",
            "|[15.0,70.367,20.5...|\n",
            "|[12.0,88.5,21.24,...|\n",
            "|[20.0,70.367,20.5...|\n",
            "+--------------------+\n",
            "only showing top 20 rows\n",
            "\n"
          ]
        }
      ]
    },
    {
      "cell_type": "code",
      "source": [
        "output.show()"
      ],
      "metadata": {
        "colab": {
          "base_uri": "https://localhost:8080/"
        },
        "id": "vac2vT7g2Fzx",
        "outputId": "43b45fe0-daaf-46ca-a585-0eb4d86bc8b7"
      },
      "execution_count": 17,
      "outputs": [
        {
          "output_type": "stream",
          "name": "stdout",
          "text": [
            "+-----------+-----------+---+------------------+----------+------+------+-----------------+----+--------------------+\n",
            "|  Ship_name|Cruise_line|Age|           Tonnage|passengers|length|cabins|passenger_density|crew|            features|\n",
            "+-----------+-----------+---+------------------+----------+------+------+-----------------+----+--------------------+\n",
            "|    Journey|    Azamara|  6|30.276999999999997|      6.94|  5.94|  3.55|            42.64|3.55|[6.0,30.276999999...|\n",
            "|      Quest|    Azamara|  6|30.276999999999997|      6.94|  5.94|  3.55|            42.64|3.55|[6.0,30.276999999...|\n",
            "|Celebration|   Carnival| 26|            47.262|     14.86|  7.22|  7.43|             31.8| 6.7|[26.0,47.262,14.8...|\n",
            "|   Conquest|   Carnival| 11|             110.0|     29.74|  9.53| 14.88|            36.99|19.1|[11.0,110.0,29.74...|\n",
            "|    Destiny|   Carnival| 17|           101.353|     26.42|  8.92| 13.21|            38.36|10.0|[17.0,101.353,26....|\n",
            "|    Ecstasy|   Carnival| 22|            70.367|     20.52|  8.55|  10.2|            34.29| 9.2|[22.0,70.367,20.5...|\n",
            "|    Elation|   Carnival| 15|            70.367|     20.52|  8.55|  10.2|            34.29| 9.2|[15.0,70.367,20.5...|\n",
            "|    Fantasy|   Carnival| 23|            70.367|     20.56|  8.55| 10.22|            34.23| 9.2|[23.0,70.367,20.5...|\n",
            "|Fascination|   Carnival| 19|            70.367|     20.52|  8.55|  10.2|            34.29| 9.2|[19.0,70.367,20.5...|\n",
            "|    Freedom|   Carnival|  6|110.23899999999999|      37.0|  9.51| 14.87|            29.79|11.5|[6.0,110.23899999...|\n",
            "|      Glory|   Carnival| 10|             110.0|     29.74|  9.51| 14.87|            36.99|11.6|[10.0,110.0,29.74...|\n",
            "|    Holiday|   Carnival| 28|            46.052|     14.52|  7.27|  7.26|            31.72| 6.6|[28.0,46.052,14.5...|\n",
            "|Imagination|   Carnival| 18|            70.367|     20.52|  8.55|  10.2|            34.29| 9.2|[18.0,70.367,20.5...|\n",
            "|Inspiration|   Carnival| 17|            70.367|     20.52|  8.55|  10.2|            34.29| 9.2|[17.0,70.367,20.5...|\n",
            "|     Legend|   Carnival| 11|              86.0|     21.24|  9.63| 10.62|            40.49| 9.3|[11.0,86.0,21.24,...|\n",
            "|   Liberty*|   Carnival|  8|             110.0|     29.74|  9.51| 14.87|            36.99|11.6|[8.0,110.0,29.74,...|\n",
            "|    Miracle|   Carnival|  9|              88.5|     21.24|  9.63| 10.62|            41.67|10.3|[9.0,88.5,21.24,9...|\n",
            "|   Paradise|   Carnival| 15|            70.367|     20.52|  8.55|  10.2|            34.29| 9.2|[15.0,70.367,20.5...|\n",
            "|      Pride|   Carnival| 12|              88.5|     21.24|  9.63| 11.62|            41.67| 9.3|[12.0,88.5,21.24,...|\n",
            "|  Sensation|   Carnival| 20|            70.367|     20.52|  8.55|  10.2|            34.29| 9.2|[20.0,70.367,20.5...|\n",
            "+-----------+-----------+---+------------------+----------+------+------+-----------------+----+--------------------+\n",
            "only showing top 20 rows\n",
            "\n"
          ]
        }
      ]
    },
    {
      "cell_type": "code",
      "source": [
        "# Выбираем колонки 'features' и 'crew' из DataFrame 'output'\n",
        "\n",
        "final_data = output.select(\"features\",'crew')"
      ],
      "metadata": {
        "id": "eI883bcV2Fv5"
      },
      "execution_count": 18,
      "outputs": []
    },
    {
      "cell_type": "code",
      "source": [
        "# Разделяем данные на обучающий и тестовый наборы\n",
        "# 70% данных идут в обучающий набор, 30% - в тестовый\n",
        "\n",
        "train_data, test_data = final_data.randomSplit([0.7,0.3])"
      ],
      "metadata": {
        "id": "LmpxnDm-5Apa"
      },
      "execution_count": 19,
      "outputs": []
    },
    {
      "cell_type": "code",
      "source": [
        "train_data.describe().show()"
      ],
      "metadata": {
        "colab": {
          "base_uri": "https://localhost:8080/"
        },
        "id": "805BvdU85AnK",
        "outputId": "a36ed05e-7c89-4491-fce1-42a98fb01489"
      },
      "execution_count": 20,
      "outputs": [
        {
          "output_type": "stream",
          "name": "stdout",
          "text": [
            "+-------+------------------+\n",
            "|summary|              crew|\n",
            "+-------+------------------+\n",
            "|  count|               114|\n",
            "|   mean| 7.965175438596502|\n",
            "| stddev|3.5583396328063244|\n",
            "|    min|              0.59|\n",
            "|    max|              21.0|\n",
            "+-------+------------------+\n",
            "\n"
          ]
        }
      ]
    },
    {
      "cell_type": "code",
      "source": [
        "# Создаём объект модели линейной регрессии\n",
        "lr = LinearRegression(labelCol='crew')"
      ],
      "metadata": {
        "id": "6DBrPJy95Akb"
      },
      "execution_count": 21,
      "outputs": []
    },
    {
      "cell_type": "code",
      "source": [
        "# Обучим модель\n",
        "\n",
        "lrModel = lr.fit(train_data,)"
      ],
      "metadata": {
        "id": "Mwb1bmte5AiB"
      },
      "execution_count": 22,
      "outputs": []
    },
    {
      "cell_type": "code",
      "source": [
        "# Выводим коэффициенты и пересечение с осью Y (intercept) обученной модели\n",
        "\n",
        "print(\"Coefficients: {} Intercept: {}\".format(lrModel.coefficients,lrModel.intercept))"
      ],
      "metadata": {
        "colab": {
          "base_uri": "https://localhost:8080/"
        },
        "id": "Xy8g0Mzg5Afr",
        "outputId": "db090902-fe8c-46d2-ac22-45b376cef93c"
      },
      "execution_count": 23,
      "outputs": [
        {
          "output_type": "stream",
          "name": "stdout",
          "text": [
            "Coefficients: [-0.009630042076769872,0.012926322156345824,-0.1892440012291379,0.3609478558887437,0.9170939969345575,0.0013321695636143683] Intercept: -0.5913880473774934\n"
          ]
        }
      ]
    },
    {
      "cell_type": "code",
      "source": [
        "test_results = lrModel.evaluate(test_data)"
      ],
      "metadata": {
        "id": "dekGJRB76FtW"
      },
      "execution_count": 24,
      "outputs": []
    },
    {
      "cell_type": "code",
      "source": [
        "test_results.residuals.show()"
      ],
      "metadata": {
        "colab": {
          "base_uri": "https://localhost:8080/"
        },
        "id": "dHRwDoy96Fo_",
        "outputId": "2d2178a0-7d5c-4fb5-b8ef-4f18dc313b47"
      },
      "execution_count": 25,
      "outputs": [
        {
          "output_type": "stream",
          "name": "stdout",
          "text": [
            "+--------------------+\n",
            "|           residuals|\n",
            "+--------------------+\n",
            "|  1.0809007776323014|\n",
            "| -0.3353662508486863|\n",
            "|  0.5550049885440647|\n",
            "|  0.6167243419039146|\n",
            "| -0.1397543221418971|\n",
            "| 0.27258883218757823|\n",
            "|  0.9118075246093635|\n",
            "| -0.4629607988798412|\n",
            "| -0.6384086892108609|\n",
            "|  1.7127870866566712|\n",
            "| -0.3642082544012357|\n",
            "| -0.4040114712464504|\n",
            "|  0.7929773416273154|\n",
            "| -1.3633191664740405|\n",
            "|-0.03179551553337312|\n",
            "|-0.06544946624309489|\n",
            "|  0.7786443434224921|\n",
            "| -1.3055599747349547|\n",
            "|  0.8816235085503816|\n",
            "|  0.0451210735147618|\n",
            "+--------------------+\n",
            "only showing top 20 rows\n",
            "\n"
          ]
        }
      ]
    },
    {
      "cell_type": "code",
      "source": [
        "# Создаем немаркированный набор данных, выбирая только признаки из тестовых данных\n",
        "unlabeled_data = test_data.select('features')"
      ],
      "metadata": {
        "id": "ksVsGr9x6Fka"
      },
      "execution_count": 26,
      "outputs": []
    },
    {
      "cell_type": "code",
      "source": [
        "# Применяем модель к немаркированным данным для получения прогнозов\n",
        "predictions = lrModel.transform(unlabeled_data)"
      ],
      "metadata": {
        "id": "kVoklS7W6FeA"
      },
      "execution_count": 27,
      "outputs": []
    },
    {
      "cell_type": "code",
      "source": [
        "# Выводим прогнозы\n",
        "predictions.show()"
      ],
      "metadata": {
        "colab": {
          "base_uri": "https://localhost:8080/"
        },
        "id": "DYFfi0oy5Ac7",
        "outputId": "e8cc0508-996e-4c87-b035-a57ae7d27c59"
      },
      "execution_count": 28,
      "outputs": [
        {
          "output_type": "stream",
          "name": "stdout",
          "text": [
            "+--------------------+------------------+\n",
            "|            features|        prediction|\n",
            "+--------------------+------------------+\n",
            "|[5.0,122.0,28.5,1...| 5.619099222367699|\n",
            "|[6.0,30.276999999...| 3.885366250848686|\n",
            "|[6.0,93.0,23.94,9...|10.534995011455935|\n",
            "|[6.0,110.23899999...|10.883275658096085|\n",
            "|[6.0,158.0,43.7,1...|13.739754322141897|\n",
            "|[8.0,77.499,19.5,...| 8.727411167812422|\n",
            "|[8.0,91.0,22.44,9...|10.088192475390636|\n",
            "|[9.0,85.0,19.68,9...|  9.15296079887984|\n",
            "|[9.0,110.0,29.74,...| 12.23840868921086|\n",
            "|[10.0,46.0,7.0,6....|2.7572129133433285|\n",
            "|[11.0,86.0,21.24,...| 9.664208254401236|\n",
            "|[11.0,90.09,25.01...|  8.88401147124645|\n",
            "|[11.0,108.977,26....|11.207022658372685|\n",
            "|[11.0,138.0,31.14...| 13.21331916647404|\n",
            "|[12.0,25.0,3.88,5...|2.9017955155333732|\n",
            "|[12.0,50.0,7.0,7....| 4.515449466243095|\n",
            "|[12.0,77.104,20.0...| 8.811355656577508|\n",
            "|[12.0,88.5,21.24,...|10.605559974734955|\n",
            "|[12.0,91.0,20.32,...| 9.108376491449619|\n",
            "|[13.0,25.0,3.82,5...|2.9048789264852384|\n",
            "+--------------------+------------------+\n",
            "only showing top 20 rows\n",
            "\n"
          ]
        }
      ]
    },
    {
      "cell_type": "code",
      "source": [
        "# Выводим корень из среднеквадратической ошибки (RMSE)\n",
        "print(\"RMSE: {}\".format(test_results.rootMeanSquaredError))\n",
        "\n",
        "# Выводим среднеквадратическую ошибку (MSE)\n",
        "print(\"MSE: {}\".format(test_results.meanSquaredError))"
      ],
      "metadata": {
        "colab": {
          "base_uri": "https://localhost:8080/"
        },
        "id": "tBp7nblg6jcQ",
        "outputId": "01bc03d8-c181-4880-daaa-096a90b67bd4"
      },
      "execution_count": 29,
      "outputs": [
        {
          "output_type": "stream",
          "name": "stdout",
          "text": [
            "RMSE: 0.6983950774972038\n",
            "MSE: 0.4877556842723253\n"
          ]
        }
      ]
    },
    {
      "cell_type": "markdown",
      "source": [
        "## Задание №2. Логистическая регрессия (Logistic Regression)"
      ],
      "metadata": {
        "id": "FYDdAXsLFfmH"
      }
    },
    {
      "cell_type": "markdown",
      "metadata": {
        "id": "rm8kMK-wNXgf"
      },
      "source": [
        "## Разработка модели бинарного классификатора для определения оттока клиентов\n",
        "\n",
        "- Маркетинговое агентство имеет множество клиентов, которые используют их услуги для создания рекламы на веб-сайтах клиентов. Они заметили, что у них довольно большой отток клиентов. Необходимо создать модель машинного обучения, которая поможет предсказать, какие клиенты уйдут (перестанут покупать их услуги), чтобы они могли правильно назначить менеджера по работе с клиентами, которые наиболее вероятно уйдут.\n",
        "\n",
        "- **Разработайте алгоритм классификации, который поможет определить, уйдет клиент или нет.** Затем компания может проверить это на входящих данных для будущих клиентов, чтобы предсказать, какие клиенты уйдут и назначить им менеджера по работе с клиентами.\n",
        "\n",
        "Данные сохранены как customer_churn.csv. Вот поля и их определения:\n",
        "\n",
        "    Name : Имя последнего контакта в компании\n",
        "    Age: Возраст клиента\n",
        "    Total_Purchase: Всего куплено рекламы\n",
        "    Account_Manager: Бинарный 0=Нет менеджера, 1= Назначен менеджер по работе с клиентами\n",
        "    Years: Общее количество лет в качестве клиента\n",
        "    Num_sites: Количество веб-сайтов, которые используют услугу.\n",
        "    Onboard_date: Дата, когда последний контакт был привлечен\n",
        "    Location: Адрес головного офиса клиента\n",
        "    Company: Название клиентской компании\n",
        "    \n",
        "После того как вы создали модель и оценили ее, проверьте модель на новых данных, которые сохранены под именем new_customers.csv. Необходимо узнать, какие клиенты наиболее вероятно уйдут (у них еще нет метки)."
      ]
    },
    {
      "cell_type": "code",
      "source": [
        "import findspark\n",
        "findspark.init()\n",
        "from pyspark.sql import SparkSession\n",
        "spark = SparkSession.builder.appName('Logistic Regression').getOrCreate()\n",
        "from pyspark.ml.classification import LogisticRegression"
      ],
      "metadata": {
        "id": "Ctr5QplyDcGn"
      },
      "execution_count": 30,
      "outputs": []
    },
    {
      "cell_type": "code",
      "execution_count": 31,
      "metadata": {
        "id": "8nNnWjkbNXgf"
      },
      "outputs": [],
      "source": [
        "data = spark.read.csv('data/customer_churn.csv',inferSchema=True,\n",
        "                     header=True)"
      ]
    },
    {
      "cell_type": "code",
      "execution_count": 32,
      "metadata": {
        "id": "Ch9jg3gDNXgf",
        "outputId": "60548efe-67d1-431c-d376-c049783cabee",
        "colab": {
          "base_uri": "https://localhost:8080/"
        }
      },
      "outputs": [
        {
          "output_type": "stream",
          "name": "stdout",
          "text": [
            "root\n",
            " |-- Names: string (nullable = true)\n",
            " |-- Age: double (nullable = true)\n",
            " |-- Total_Purchase: double (nullable = true)\n",
            " |-- Account_Manager: integer (nullable = true)\n",
            " |-- Years: double (nullable = true)\n",
            " |-- Num_Sites: double (nullable = true)\n",
            " |-- Onboard_date: timestamp (nullable = true)\n",
            " |-- Location: string (nullable = true)\n",
            " |-- Company: string (nullable = true)\n",
            " |-- Churn: integer (nullable = true)\n",
            "\n"
          ]
        }
      ],
      "source": [
        "data.printSchema()"
      ]
    },
    {
      "cell_type": "code",
      "execution_count": 33,
      "metadata": {
        "id": "ml6cHAuvNXgg",
        "outputId": "9b6182ec-3f2d-4757-d8fe-75508057e0cf",
        "colab": {
          "base_uri": "https://localhost:8080/"
        }
      },
      "outputs": [
        {
          "output_type": "stream",
          "name": "stdout",
          "text": [
            "+-------+-------------+-----------------+-----------------+------------------+-----------------+------------------+--------------------+--------------------+-------------------+\n",
            "|summary|        Names|              Age|   Total_Purchase|   Account_Manager|            Years|         Num_Sites|            Location|             Company|              Churn|\n",
            "+-------+-------------+-----------------+-----------------+------------------+-----------------+------------------+--------------------+--------------------+-------------------+\n",
            "|  count|          900|              900|              900|               900|              900|               900|                 900|                 900|                900|\n",
            "|   mean|         NULL|41.81666666666667|10062.82403333334|0.4811111111111111| 5.27315555555555| 8.587777777777777|                NULL|                NULL|0.16666666666666666|\n",
            "| stddev|         NULL|6.127560416916251|2408.644531858096|0.4999208935073339|1.274449013194616|1.7648355920350969|                NULL|                NULL| 0.3728852122772358|\n",
            "|    min|   Aaron King|             22.0|            100.0|                 0|              1.0|               3.0|00103 Jeffrey Cre...|     Abbott-Thompson|                  0|\n",
            "|    max|Zachary Walsh|             65.0|         18026.01|                 1|             9.15|              14.0|Unit 9800 Box 287...|Zuniga, Clark and...|                  1|\n",
            "+-------+-------------+-----------------+-----------------+------------------+-----------------+------------------+--------------------+--------------------+-------------------+\n",
            "\n"
          ]
        }
      ],
      "source": [
        "data.describe().show()"
      ]
    },
    {
      "cell_type": "code",
      "execution_count": 34,
      "metadata": {
        "id": "tTUlyna0NXgg",
        "outputId": "dcc80524-a523-46f1-9ebb-12b74d9ccf3f",
        "colab": {
          "base_uri": "https://localhost:8080/"
        }
      },
      "outputs": [
        {
          "output_type": "execute_result",
          "data": {
            "text/plain": [
              "['Names',\n",
              " 'Age',\n",
              " 'Total_Purchase',\n",
              " 'Account_Manager',\n",
              " 'Years',\n",
              " 'Num_Sites',\n",
              " 'Onboard_date',\n",
              " 'Location',\n",
              " 'Company',\n",
              " 'Churn']"
            ]
          },
          "metadata": {},
          "execution_count": 34
        }
      ],
      "source": [
        "data.columns"
      ]
    },
    {
      "cell_type": "code",
      "source": [
        "from pyspark.ml.feature import VectorAssembler, StringIndexer"
      ],
      "metadata": {
        "id": "xJ8nWxCvFT-n"
      },
      "execution_count": 35,
      "outputs": []
    },
    {
      "cell_type": "code",
      "source": [
        "# Индексация бинарного признака \"Account_Manager\"\n",
        "account_manager_indexer = StringIndexer(inputCol=\"Account_Manager\", outputCol=\"Account_Manager_Index\")"
      ],
      "metadata": {
        "id": "b_xgkEi5kHhU"
      },
      "execution_count": 36,
      "outputs": []
    },
    {
      "cell_type": "code",
      "source": [
        "# Индексация целевого признака \"Churn\"\n",
        "churn_indexer = StringIndexer(inputCol=\"Churn\", outputCol=\"label\")"
      ],
      "metadata": {
        "id": "0llZBRwQICGG"
      },
      "execution_count": 37,
      "outputs": []
    },
    {
      "cell_type": "code",
      "source": [
        "# Создаем экземпляр класса VectorAssembler\n",
        "assembler = VectorAssembler(\n",
        "    # Указываем входные колонки, которые будут использоваться для создания вектора признаков\n",
        "    inputCols=[\"Age\", \"Total_Purchase\", \"Account_Manager_Index\", \"Years\", \"Num_Sites\"],\n",
        "    # Указываем имя выходной колонки, в которой будет храниться вектор признаков\n",
        "    outputCol=\"features\")"
      ],
      "metadata": {
        "id": "i6ne72-BDnnt"
      },
      "execution_count": 38,
      "outputs": []
    },
    {
      "cell_type": "code",
      "source": [
        "# Создаем экземпляр класса LogisticRegression\n",
        "log_reg = LogisticRegression(featuresCol=\"features\", labelCol=\"label\")"
      ],
      "metadata": {
        "id": "XXWTcdmODnj3"
      },
      "execution_count": 39,
      "outputs": []
    },
    {
      "cell_type": "code",
      "source": [
        "from pyspark.ml import Pipeline"
      ],
      "metadata": {
        "id": "Uiubk6bAG_Ub"
      },
      "execution_count": 40,
      "outputs": []
    },
    {
      "cell_type": "code",
      "source": [
        "# Создание конвейера обработки данных и обучения модели\n",
        "pipeline = Pipeline(stages=[account_manager_indexer, churn_indexer, assembler, log_reg])"
      ],
      "metadata": {
        "id": "nkqiypV9Dngg"
      },
      "execution_count": 41,
      "outputs": []
    },
    {
      "cell_type": "code",
      "source": [
        "# Разделяем данные на обучающий и тестовый наборы\n",
        "# 70% данных идут в обучающий набор, 30% - в тестовый\n",
        "\n",
        "train_data, test_data = data.randomSplit([0.7,0.3])"
      ],
      "metadata": {
        "id": "MDOjib9iDndH"
      },
      "execution_count": 42,
      "outputs": []
    },
    {
      "cell_type": "code",
      "source": [
        "# Обучение модели\n",
        "lrModel = pipeline.fit(train_data)"
      ],
      "metadata": {
        "id": "W4p3zcAbDnZZ"
      },
      "execution_count": 43,
      "outputs": []
    },
    {
      "cell_type": "code",
      "source": [
        "# Оценка модели на тестовых данных\n",
        "results = lrModel.transform(test_data)\n",
        "results.select(\"Churn\", \"prediction\").show(10)"
      ],
      "metadata": {
        "colab": {
          "base_uri": "https://localhost:8080/"
        },
        "id": "fccAG2Z9HTmA",
        "outputId": "e543052d-662d-480a-d2e0-f12c29d69c08"
      },
      "execution_count": 44,
      "outputs": [
        {
          "output_type": "stream",
          "name": "stdout",
          "text": [
            "+-----+----------+\n",
            "|Churn|prediction|\n",
            "+-----+----------+\n",
            "|    0|       0.0|\n",
            "|    0|       0.0|\n",
            "|    0|       0.0|\n",
            "|    0|       0.0|\n",
            "|    0|       0.0|\n",
            "|    0|       0.0|\n",
            "|    0|       0.0|\n",
            "|    0|       0.0|\n",
            "|    0|       0.0|\n",
            "|    0|       0.0|\n",
            "+-----+----------+\n",
            "only showing top 10 rows\n",
            "\n"
          ]
        }
      ]
    },
    {
      "cell_type": "code",
      "source": [
        "from pyspark.ml.evaluation import BinaryClassificationEvaluator,MulticlassClassificationEvaluator"
      ],
      "metadata": {
        "id": "pr0zuexZIcjg"
      },
      "execution_count": 45,
      "outputs": []
    },
    {
      "cell_type": "code",
      "source": [
        "evaluator = BinaryClassificationEvaluator(rawPredictionCol='prediction', labelCol='label')\n",
        "# Создаем экземпляр класса MulticlassClassificationEvaluator\n",
        "# Столбец с прогнозами - 'prediction', столбец с истинными значениями - 'label'\n",
        "# Метрика, которую мы хотим вычислить - 'accuracy' (точность)\n",
        "evaluator = MulticlassClassificationEvaluator(predictionCol='prediction', labelCol='label',\n",
        "                                             metricName='accuracy')\n",
        "acc = evaluator.evaluate(results)\n",
        "acc"
      ],
      "metadata": {
        "colab": {
          "base_uri": "https://localhost:8080/"
        },
        "id": "rwIk0RF0HTjB",
        "outputId": "4d131a2b-f7c0-4337-a970-146fa92ec750"
      },
      "execution_count": 46,
      "outputs": [
        {
          "output_type": "execute_result",
          "data": {
            "text/plain": [
              "0.8780487804878049"
            ]
          },
          "metadata": {},
          "execution_count": 46
        }
      ]
    },
    {
      "cell_type": "code",
      "source": [
        "# Прогнозирование на новых данных\n",
        "new_data = spark.read.csv('data/new_customers.csv', inferSchema=True, header=True)\n",
        "new_data_transformed = lrModel.transform(new_data)\n",
        "new_data_transformed.select(\"Company\", \"prediction\").show()"
      ],
      "metadata": {
        "colab": {
          "base_uri": "https://localhost:8080/"
        },
        "id": "yUfpQIamIYWM",
        "outputId": "dee56587-95a6-4668-cda7-3f0574376e59"
      },
      "execution_count": 47,
      "outputs": [
        {
          "output_type": "stream",
          "name": "stdout",
          "text": [
            "+----------------+----------+\n",
            "|         Company|prediction|\n",
            "+----------------+----------+\n",
            "|        King Ltd|       0.0|\n",
            "|   Cannon-Benson|       1.0|\n",
            "|Barron-Robertson|       1.0|\n",
            "|   Sexton-Golden|       1.0|\n",
            "|        Wood LLC|       0.0|\n",
            "|   Parks-Robbins|       1.0|\n",
            "+----------------+----------+\n",
            "\n"
          ]
        }
      ]
    },
    {
      "cell_type": "markdown",
      "source": [
        "## Задание №3. Модели основанные на решающих деревьях (Решающие деревья, Случайный лес, Градиентный бустинг)"
      ],
      "metadata": {
        "id": "OzrxYXYDSSrW"
      }
    },
    {
      "cell_type": "markdown",
      "metadata": {
        "id": "WmDhCC7cNXgm"
      },
      "source": [
        "- Для компании-произвозителя собачьего корма, необходимо попытаться предсказать, почему некоторые партии их корма портятся гораздо быстрее, чем предполагалось.\n",
        "\n",
        "- К сожалению, эта компания по производству собачьего корма не обновила свое оборудование до последних моделей, что означает, что количество пяти консервантов, которые они используют, может значительно варьироваться. Но какой из консервантов оказывает наибольшее влияние?\n",
        "\n",
        "- Сначала компания по производству собачьего корма готовит партию консерванта, которая содержит 4 разных консерванта (A, B, C, D), а затем добавляет \"наполнитель\". Ученые полагают, что один из консервантов A, B, C или D вызывает проблему и необходимо выяснить, какой именно.\n",
        "\n",
        "Используйте методы машинного обучения, основанные на решающих деревьях, чтобы выяснить, какой признак имеет наибольшее значение, а затем выясните, какой химический элемент вызывает раннюю порчу.\n",
        "\n",
        "* Pres_A : Процент консерванта A в смеси\n",
        "* Pres_B : Процент консерванта B в смеси\n",
        "* Pres_C : Процент консерванта C в смеси\n",
        "* Pres_D : Процент консерванта D в смеси\n",
        "* Spoiled: Метка, указывающая, испортилась ли партия собачьего корма.\n",
        "\n",
        "___\n",
        "\n",
        "**Тщательно подумайте о том, что на самом деле требуется решить в этой задаче!**\n",
        "____"
      ]
    },
    {
      "cell_type": "code",
      "source": [
        "from pyspark.ml import Pipeline\n",
        "from pyspark.ml.classification import RandomForestClassifier\n",
        "from pyspark.ml.evaluation import MulticlassClassificationEvaluator\n",
        "from pyspark.sql import SparkSession\n",
        "spark = SparkSession.builder.appName('rf').getOrCreate()"
      ],
      "metadata": {
        "id": "dFoUQZoOKiJw"
      },
      "execution_count": 48,
      "outputs": []
    },
    {
      "cell_type": "code",
      "execution_count": 49,
      "metadata": {
        "id": "xdSllZt-NXgm"
      },
      "outputs": [],
      "source": [
        "data = spark.read.csv('data/dog_food.csv',inferSchema=True,header=True)"
      ]
    },
    {
      "cell_type": "code",
      "execution_count": 50,
      "metadata": {
        "id": "P_cbp_SWNXgn",
        "outputId": "6de3fbb9-65b2-4179-a924-93698b979bc2",
        "colab": {
          "base_uri": "https://localhost:8080/"
        }
      },
      "outputs": [
        {
          "output_type": "stream",
          "name": "stdout",
          "text": [
            "root\n",
            " |-- A: integer (nullable = true)\n",
            " |-- B: integer (nullable = true)\n",
            " |-- C: double (nullable = true)\n",
            " |-- D: integer (nullable = true)\n",
            " |-- Spoiled: double (nullable = true)\n",
            "\n"
          ]
        }
      ],
      "source": [
        "data.printSchema()"
      ]
    },
    {
      "cell_type": "code",
      "execution_count": 51,
      "metadata": {
        "id": "S02hFq9SNXgn",
        "outputId": "4ec931d1-caf4-4445-fe34-3ab81d1f68b9",
        "colab": {
          "base_uri": "https://localhost:8080/"
        }
      },
      "outputs": [
        {
          "output_type": "execute_result",
          "data": {
            "text/plain": [
              "Row(A=4, B=2, C=12.0, D=3, Spoiled=1.0)"
            ]
          },
          "metadata": {},
          "execution_count": 51
        }
      ],
      "source": [
        "data.head()"
      ]
    },
    {
      "cell_type": "code",
      "execution_count": 52,
      "metadata": {
        "id": "vCn5ExZ0NXgn",
        "outputId": "639ff736-c5a9-4d5b-933b-67663bed25ab",
        "colab": {
          "base_uri": "https://localhost:8080/"
        }
      },
      "outputs": [
        {
          "output_type": "stream",
          "name": "stdout",
          "text": [
            "+-------+------------------+------------------+------------------+------------------+-------------------+\n",
            "|summary|                 A|                 B|                 C|                 D|            Spoiled|\n",
            "+-------+------------------+------------------+------------------+------------------+-------------------+\n",
            "|  count|               490|               490|               490|               490|                490|\n",
            "|   mean|  5.53469387755102| 5.504081632653061| 9.126530612244897| 5.579591836734694| 0.2857142857142857|\n",
            "| stddev|2.9515204234399057|2.8537966089662063|2.0555451971054275|2.8548369309982857|0.45221563164613465|\n",
            "|    min|                 1|                 1|               5.0|                 1|                0.0|\n",
            "|    max|                10|                10|              14.0|                10|                1.0|\n",
            "+-------+------------------+------------------+------------------+------------------+-------------------+\n",
            "\n"
          ]
        }
      ],
      "source": [
        "data.describe().show()"
      ]
    },
    {
      "cell_type": "code",
      "source": [
        "from pyspark.ml.feature import VectorAssembler, StringIndexer\n",
        "# Создаем экземпляр класса VectorAssembler\n",
        "assembler = VectorAssembler(\n",
        "    # Указываем входные колонки, которые будут использоваться для создания вектора признаков\n",
        "    inputCols=[\"A\", \"B\", \"C\", \"D\"],\n",
        "    # Указываем имя выходной колонки, в которой будет храниться вектор признаков\n",
        "    outputCol=\"features\")"
      ],
      "metadata": {
        "id": "ZF21uzDeGN8x"
      },
      "execution_count": 53,
      "outputs": []
    },
    {
      "cell_type": "code",
      "source": [
        "data = assembler.transform(data)"
      ],
      "metadata": {
        "id": "Ja9hOA0porMq"
      },
      "execution_count": 54,
      "outputs": []
    },
    {
      "cell_type": "code",
      "source": [
        "# разделение на обучающую и тестовую\n",
        "(trainingData, testData) = data.randomSplit([0.7, 0.3])"
      ],
      "metadata": {
        "id": "jvHV-1KHG8h8"
      },
      "execution_count": 55,
      "outputs": []
    },
    {
      "cell_type": "code",
      "source": [
        "# модели:\n",
        "from pyspark.ml.classification import DecisionTreeClassifier,GBTClassifier,RandomForestClassifier\n",
        "# Создание экземпляра классификатора случайного леса\n",
        "rf = RandomForestClassifier(labelCol=\"Spoiled\", featuresCol=\"features\")\n",
        "\n",
        "# Создание модели GBT\n",
        "gbt = GBTClassifier(labelCol=\"Spoiled\", featuresCol=\"features\")\n",
        "\n",
        "# Создание экземпляра DecisionTreeClassifier\n",
        "dtc = DecisionTreeClassifier(labelCol='Spoiled',featuresCol='features')"
      ],
      "metadata": {
        "id": "kQF5vz7dkIYD"
      },
      "execution_count": 56,
      "outputs": []
    },
    {
      "cell_type": "code",
      "source": [
        "# Обучение модели\n",
        "rf_model = rf.fit(trainingData)\n",
        "gbt_model = gbt.fit(trainingData)\n",
        "dtc_model = dtc.fit(trainingData)"
      ],
      "metadata": {
        "id": "X1jIhikNGyvU"
      },
      "execution_count": 57,
      "outputs": []
    },
    {
      "cell_type": "code",
      "source": [
        "# Применение обученной модели для прогнозирования на тестовых данных.\n",
        "rf_predictions = rf_model.transform(testData)\n",
        "gbt_predictions = gbt_model.transform(testData)\n",
        "dtc_predictions = dtc_model.transform(testData)"
      ],
      "metadata": {
        "id": "JI-QxdhSGyrW"
      },
      "execution_count": 58,
      "outputs": []
    },
    {
      "cell_type": "code",
      "source": [
        "rf_predictions.select(\"prediction\", \"Spoiled\", \"features\").show(5)"
      ],
      "metadata": {
        "id": "8lCCCw19Gynu",
        "colab": {
          "base_uri": "https://localhost:8080/"
        },
        "outputId": "cca8821d-4447-46bf-fc06-d1cd3a7c12fe"
      },
      "execution_count": 59,
      "outputs": [
        {
          "output_type": "stream",
          "name": "stdout",
          "text": [
            "+----------+-------+------------------+\n",
            "|prediction|Spoiled|          features|\n",
            "+----------+-------+------------------+\n",
            "|       1.0|    1.0|[1.0,1.0,12.0,2.0]|\n",
            "|       1.0|    1.0|[1.0,1.0,13.0,3.0]|\n",
            "|       0.0|    0.0| [1.0,4.0,9.0,3.0]|\n",
            "|       0.0|    0.0| [1.0,5.0,8.0,3.0]|\n",
            "|       0.0|    0.0| [1.0,7.0,8.0,4.0]|\n",
            "+----------+-------+------------------+\n",
            "only showing top 5 rows\n",
            "\n"
          ]
        }
      ]
    },
    {
      "cell_type": "code",
      "source": [
        "gbt_predictions.select(\"prediction\", \"Spoiled\", \"features\").show(5)"
      ],
      "metadata": {
        "colab": {
          "base_uri": "https://localhost:8080/"
        },
        "id": "ZK6l1VjFp1Bi",
        "outputId": "0c1907b5-4d25-499d-8ba2-20139d141ddb"
      },
      "execution_count": 60,
      "outputs": [
        {
          "output_type": "stream",
          "name": "stdout",
          "text": [
            "+----------+-------+------------------+\n",
            "|prediction|Spoiled|          features|\n",
            "+----------+-------+------------------+\n",
            "|       1.0|    1.0|[1.0,1.0,12.0,2.0]|\n",
            "|       1.0|    1.0|[1.0,1.0,13.0,3.0]|\n",
            "|       0.0|    0.0| [1.0,4.0,9.0,3.0]|\n",
            "|       0.0|    0.0| [1.0,5.0,8.0,3.0]|\n",
            "|       0.0|    0.0| [1.0,7.0,8.0,4.0]|\n",
            "+----------+-------+------------------+\n",
            "only showing top 5 rows\n",
            "\n"
          ]
        }
      ]
    },
    {
      "cell_type": "code",
      "source": [
        "dtc_predictions.select(\"prediction\", \"Spoiled\", \"features\").show(5)"
      ],
      "metadata": {
        "colab": {
          "base_uri": "https://localhost:8080/"
        },
        "id": "tx0z822sp08l",
        "outputId": "292a07cb-d350-407d-ead8-78531ba04218"
      },
      "execution_count": 61,
      "outputs": [
        {
          "output_type": "stream",
          "name": "stdout",
          "text": [
            "+----------+-------+------------------+\n",
            "|prediction|Spoiled|          features|\n",
            "+----------+-------+------------------+\n",
            "|       1.0|    1.0|[1.0,1.0,12.0,2.0]|\n",
            "|       1.0|    1.0|[1.0,1.0,13.0,3.0]|\n",
            "|       0.0|    0.0| [1.0,4.0,9.0,3.0]|\n",
            "|       0.0|    0.0| [1.0,5.0,8.0,3.0]|\n",
            "|       0.0|    0.0| [1.0,7.0,8.0,4.0]|\n",
            "+----------+-------+------------------+\n",
            "only showing top 5 rows\n",
            "\n"
          ]
        }
      ]
    },
    {
      "cell_type": "code",
      "source": [
        "# Оценка точности\n",
        "acc_evaluator = MulticlassClassificationEvaluator(labelCol=\"Spoiled\", predictionCol=\"prediction\", metricName=\"accuracy\")"
      ],
      "metadata": {
        "id": "pFNkqxLSp03N"
      },
      "execution_count": 62,
      "outputs": []
    },
    {
      "cell_type": "code",
      "source": [
        "rf_accuracy = acc_evaluator.evaluate(rf_predictions)\n",
        "gbt_accuracy = acc_evaluator.evaluate(gbt_predictions)\n",
        "dtc_accuracy = acc_evaluator.evaluate(dtc_predictions)"
      ],
      "metadata": {
        "id": "BSMP4Kf-p0wu"
      },
      "execution_count": 63,
      "outputs": []
    },
    {
      "cell_type": "code",
      "source": [
        "print(\"Результаты:\")\n",
        "print('-'*80)\n",
        "print('\"Случайный лес\" показал точность: {0:2.2f}%'.format(rf_accuracy*100))\n",
        "print('-'*80)\n",
        "print('Ансамбль деревьев с использованием GBT показал точность: {0:2.2f}%'.format(gbt_accuracy*100))\n",
        "print('-'*80)\n",
        "print('Одно решающее дерево показало точность: {0:2.2f}%'.format(dtc_accuracy*100))"
      ],
      "metadata": {
        "colab": {
          "base_uri": "https://localhost:8080/"
        },
        "id": "EP0EVzu1t1Dl",
        "outputId": "30a6cc33-46bd-4f4c-b959-05c8912d9e59"
      },
      "execution_count": 64,
      "outputs": [
        {
          "output_type": "stream",
          "name": "stdout",
          "text": [
            "Результаты:\n",
            "--------------------------------------------------------------------------------\n",
            "\"Случайный лес\" показал точность: 98.47%\n",
            "--------------------------------------------------------------------------------\n",
            "Ансамбль деревьев с использованием GBT показал точность: 95.42%\n",
            "--------------------------------------------------------------------------------\n",
            "Одно решающее дерево показало точность: 95.42%\n"
          ]
        }
      ]
    },
    {
      "cell_type": "code",
      "source": [
        "rf_model.featureImportances"
      ],
      "metadata": {
        "colab": {
          "base_uri": "https://localhost:8080/"
        },
        "id": "Z7N9cRSfQFwy",
        "outputId": "57d4cfcc-7ff2-48c2-9747-af4b7779f46d"
      },
      "execution_count": 65,
      "outputs": [
        {
          "output_type": "execute_result",
          "data": {
            "text/plain": [
              "SparseVector(4, {0: 0.0208, 1: 0.029, 2: 0.9285, 3: 0.0217})"
            ]
          },
          "metadata": {},
          "execution_count": 65
        }
      ]
    },
    {
      "cell_type": "code",
      "source": [
        "#  inputCols=[\"A\", \"B\", \"C\", \"D\"],"
      ],
      "metadata": {
        "id": "K_8ZkjkyQ3il"
      },
      "execution_count": 66,
      "outputs": []
    },
    {
      "cell_type": "markdown",
      "source": [
        "# Задание №4. Кластеризация"
      ],
      "metadata": {
        "id": "1yVRXBHbTvQ1"
      }
    },
    {
      "cell_type": "markdown",
      "metadata": {
        "id": "i4HyMTZQNXgp"
      },
      "source": [
        "- Крупная технологическая компания подверглась хакерской атаке. К счастью, их судебные инженеры смогли собрать ценные данные о взломах, включая информацию о продолжительности сессии, местоположении, скорости печати и т.д. Судебный инженер рассказывает, что удалось выяснить до сих пор, она смогла получить метаданные каждой сессии, которую хакеры использовали для подключения к их серверам. Вот особенности данных:\n",
        "  * 'Session_Connection_Time': Сколько длилась сессия в минутах\n",
        "  * 'Bytes Transferred': Количество МБ, переданных во время сессии\n",
        "  * 'Kali_Trace_Used': Указывает, использовал ли хакер Kali Linux\n",
        "  * 'Servers_Corrupted': Количество серверов, поврежденных во время атаки\n",
        "  * 'Pages_Corrupted': Количество незаконно доступных страниц\n",
        "  * 'Location': Место, откуда произошла атака (вероятно, бесполезно, потому что хакеры использовали VPN)\n",
        "  * 'WPM_Typing_Speed': Их оценочная скорость печати на основе журналов сессий.\n",
        "\n",
        "- У технологической компании есть 3 потенциальных хакера, которые совершили атаку. Они уверены в первых двух хакерах, но не очень уверены, был ли вовлечен третий хакер или нет.\n",
        "\n",
        "- Вам необходимо выяснить, был ли третий подозреваемый как-то связан с атаками, или это были всего два хакера? Вероятно, наверняка это знать невозможно, но, возможно, то, что вы только что узнали о кластеризации, может помочь!\n",
        "\n",
        "**Еще один ключевой факт, судебный инженер знает, что хакеры чередуют атаки. Это означает, что каждый из них должен иметь примерно одинаковое количество атак. Например, если было 100 общих атак, то в ситуации с двумя хакерами каждый должен был бы сделать около 50 взломов, в ситуации с тремя хакерами - каждый бы сделал около 33 взломов. Инженер считает, что это ключевой элемент для решения этой проблемы, но не знает, как различить эти неразмеченные данные на группы хакеров.**"
      ]
    },
    {
      "cell_type": "code",
      "source": [
        "spark = SparkSession.builder.appName(\"clustering\").getOrCreate()"
      ],
      "metadata": {
        "id": "lNvsl4esj0Od"
      },
      "execution_count": 67,
      "outputs": []
    },
    {
      "cell_type": "code",
      "execution_count": 68,
      "metadata": {
        "id": "OsHqLtWMNXgp"
      },
      "outputs": [],
      "source": [
        "from pyspark.ml.clustering import KMeans\n",
        "\n",
        "dataset = spark.read.csv(\"data/hack_data.csv\",header=True,inferSchema=True)"
      ]
    },
    {
      "cell_type": "code",
      "execution_count": 69,
      "metadata": {
        "id": "eG8UbMuSNXgp",
        "outputId": "e0e40534-5294-46b9-cd4b-96cd0fca7701",
        "colab": {
          "base_uri": "https://localhost:8080/"
        }
      },
      "outputs": [
        {
          "output_type": "execute_result",
          "data": {
            "text/plain": [
              "Row(Session_Connection_Time=8.0, Bytes Transferred=391.09, Kali_Trace_Used=1, Servers_Corrupted=2.96, Pages_Corrupted=7.0, Location='Slovenia', WPM_Typing_Speed=72.37)"
            ]
          },
          "metadata": {},
          "execution_count": 69
        }
      ],
      "source": [
        "dataset.head()"
      ]
    },
    {
      "cell_type": "code",
      "execution_count": 70,
      "metadata": {
        "id": "3KlvZOx-NXgs",
        "outputId": "537afa22-309c-4b5e-edec-951f3dfcd13d",
        "colab": {
          "base_uri": "https://localhost:8080/"
        }
      },
      "outputs": [
        {
          "output_type": "stream",
          "name": "stdout",
          "text": [
            "+-------+-----------------------+------------------+------------------+-----------------+------------------+-----------+------------------+\n",
            "|summary|Session_Connection_Time| Bytes Transferred|   Kali_Trace_Used|Servers_Corrupted|   Pages_Corrupted|   Location|  WPM_Typing_Speed|\n",
            "+-------+-----------------------+------------------+------------------+-----------------+------------------+-----------+------------------+\n",
            "|  count|                    334|               334|               334|              334|               334|        334|               334|\n",
            "|   mean|     30.008982035928145| 607.2452694610777|0.5119760479041916|5.258502994011977|10.838323353293413|       NULL|57.342395209580864|\n",
            "| stddev|     14.088200614636158|286.33593163576757|0.5006065264451406| 2.30190693339697|  3.06352633036022|       NULL| 13.41106336843464|\n",
            "|    min|                    1.0|              10.0|                 0|              1.0|               6.0|Afghanistan|              40.0|\n",
            "|    max|                   60.0|            1330.5|                 1|             10.0|              15.0|   Zimbabwe|              75.0|\n",
            "+-------+-----------------------+------------------+------------------+-----------------+------------------+-----------+------------------+\n",
            "\n"
          ]
        }
      ],
      "source": [
        "dataset.describe().show()"
      ]
    },
    {
      "cell_type": "code",
      "execution_count": 71,
      "metadata": {
        "id": "i2dBTllzNXgs",
        "outputId": "1f40f968-9fbc-4cb5-f395-898d2a531b1c",
        "colab": {
          "base_uri": "https://localhost:8080/"
        }
      },
      "outputs": [
        {
          "output_type": "execute_result",
          "data": {
            "text/plain": [
              "['Session_Connection_Time',\n",
              " 'Bytes Transferred',\n",
              " 'Kali_Trace_Used',\n",
              " 'Servers_Corrupted',\n",
              " 'Pages_Corrupted',\n",
              " 'Location',\n",
              " 'WPM_Typing_Speed']"
            ]
          },
          "metadata": {},
          "execution_count": 71
        }
      ],
      "source": [
        "dataset.columns"
      ]
    },
    {
      "cell_type": "code",
      "source": [
        "dataset = dataset.drop(\"Location\")"
      ],
      "metadata": {
        "id": "-r_42tSvkJcJ"
      },
      "execution_count": 72,
      "outputs": []
    },
    {
      "cell_type": "code",
      "source": [
        "# Форматируем данные"
      ],
      "metadata": {
        "id": "uhgwpzWBkYYm"
      },
      "execution_count": 73,
      "outputs": []
    },
    {
      "cell_type": "code",
      "source": [
        "from pyspark.ml.linalg import Vectors\n",
        "from pyspark.ml.feature import VectorAssembler"
      ],
      "metadata": {
        "id": "Fhi0heAGkWJi"
      },
      "execution_count": 74,
      "outputs": []
    },
    {
      "cell_type": "code",
      "source": [
        "vec_assembler = VectorAssembler(inputCols = dataset.columns, outputCol='features')"
      ],
      "metadata": {
        "id": "UTB9bH9jkEnw"
      },
      "execution_count": 75,
      "outputs": []
    },
    {
      "cell_type": "code",
      "source": [
        "final_data = vec_assembler.transform(dataset)"
      ],
      "metadata": {
        "id": "k4Dwuvy1kEj5"
      },
      "execution_count": 76,
      "outputs": []
    },
    {
      "cell_type": "code",
      "source": [
        "# Нормализация данных\n",
        "from pyspark.ml.feature import StandardScaler"
      ],
      "metadata": {
        "id": "3nZ-w7fSkEfY"
      },
      "execution_count": 77,
      "outputs": []
    },
    {
      "cell_type": "code",
      "source": [
        "# Создание экземпляра StandardScaler\n",
        "\n",
        "scaler = StandardScaler(inputCol=\"features\", outputCol=\"scaledFeatures\", withStd=True, withMean=False)"
      ],
      "metadata": {
        "id": "yKeR-_lNkzZg"
      },
      "execution_count": 78,
      "outputs": []
    },
    {
      "cell_type": "code",
      "source": [
        "# Вычисление сводной статистики путем применения StandardScaler\n",
        "scalerModel = scaler.fit(final_data)"
      ],
      "metadata": {
        "id": "HJHKqjD3kzS4"
      },
      "execution_count": 79,
      "outputs": []
    },
    {
      "cell_type": "code",
      "source": [
        "# Нормализация каждого признака до единичного стандартного отклонения.\n",
        "final_data = scalerModel.transform(final_data)"
      ],
      "metadata": {
        "id": "odnXoZeSkzMR"
      },
      "execution_count": 80,
      "outputs": []
    },
    {
      "cell_type": "code",
      "source": [
        "# Обучение модели k-means.\n",
        "kmeans = KMeans(featuresCol='scaledFeatures',k=3)\n",
        "model = kmeans.fit(final_data)"
      ],
      "metadata": {
        "id": "Y0AgtNkDlZ37"
      },
      "execution_count": 81,
      "outputs": []
    },
    {
      "cell_type": "code",
      "source": [
        "# Оценка кластеризации путем вычисления суммы квадратов ошибок внутри групп.\n",
        "wssse = model.summary.trainingCost\n",
        "print(\"Сумма квадратов ошибок внутри групп = \" + str(wssse))"
      ],
      "metadata": {
        "colab": {
          "base_uri": "https://localhost:8080/"
        },
        "id": "gGO6xIKrlZz0",
        "outputId": "f76f4154-e2ff-4a14-b297-c0a26d886fb3"
      },
      "execution_count": 82,
      "outputs": [
        {
          "output_type": "stream",
          "name": "stdout",
          "text": [
            "Сумма квадратов ошибок внутри групп = 434.75507308487596\n"
          ]
        }
      ]
    },
    {
      "cell_type": "code",
      "source": [
        "# Вывод результатов.\n",
        "centers = model.clusterCenters()\n",
        "print(\"Центры кластеров: \")\n",
        "for center in centers:\n",
        "    print(center)"
      ],
      "metadata": {
        "colab": {
          "base_uri": "https://localhost:8080/"
        },
        "id": "uIlUwJSLlZwe",
        "outputId": "652b8432-e4cd-430b-9a84-67ffc4506e16"
      },
      "execution_count": 83,
      "outputs": [
        {
          "output_type": "stream",
          "name": "stdout",
          "text": [
            "Центры кластеров: \n",
            "[1.26023837 1.31829808 0.99280765 1.36491885 2.5625043  5.26676612]\n",
            "[2.93719177 2.88492202 0.         3.19938371 4.52857793 3.30407351]\n",
            "[3.05623261 2.95754486 1.99757683 3.2079628  4.49941976 3.26738378]\n"
          ]
        }
      ]
    },
    {
      "cell_type": "code",
      "source": [
        "# Применение модели к данным и выбор столбца 'prediction'\n",
        "model.transform(final_data).select('prediction').show()"
      ],
      "metadata": {
        "colab": {
          "base_uri": "https://localhost:8080/"
        },
        "id": "bjI1n2YUlZs-",
        "outputId": "5eb63e00-2492-435a-c3c0-8b1f3bb3c404"
      },
      "execution_count": 84,
      "outputs": [
        {
          "output_type": "stream",
          "name": "stdout",
          "text": [
            "+----------+\n",
            "|prediction|\n",
            "+----------+\n",
            "|         0|\n",
            "|         0|\n",
            "|         0|\n",
            "|         0|\n",
            "|         0|\n",
            "|         0|\n",
            "|         0|\n",
            "|         0|\n",
            "|         0|\n",
            "|         0|\n",
            "|         0|\n",
            "|         0|\n",
            "|         0|\n",
            "|         0|\n",
            "|         0|\n",
            "|         0|\n",
            "|         0|\n",
            "|         0|\n",
            "|         0|\n",
            "|         0|\n",
            "+----------+\n",
            "only showing top 20 rows\n",
            "\n"
          ]
        }
      ]
    },
    {
      "cell_type": "code",
      "source": [
        "predictions = model.transform(final_data)"
      ],
      "metadata": {
        "id": "sSeZTOXPl6dw"
      },
      "execution_count": 85,
      "outputs": []
    },
    {
      "cell_type": "code",
      "source": [
        "predictions.groupBy(\"prediction\").count().show()"
      ],
      "metadata": {
        "colab": {
          "base_uri": "https://localhost:8080/"
        },
        "id": "xTVZnJAolkpK",
        "outputId": "b13f4668-5bfd-44fa-abef-d02b8fd4feb9"
      },
      "execution_count": 86,
      "outputs": [
        {
          "output_type": "stream",
          "name": "stdout",
          "text": [
            "+----------+-----+\n",
            "|prediction|count|\n",
            "+----------+-----+\n",
            "|         1|   79|\n",
            "|         2|   88|\n",
            "|         0|  167|\n",
            "+----------+-----+\n",
            "\n"
          ]
        }
      ]
    },
    {
      "cell_type": "code",
      "source": [
        "# Обучение модели k-means с 2 кластерами\n",
        "kmeans_2 = KMeans(featuresCol='scaledFeatures',k=2)\n",
        "model_2 = kmeans_2.fit(final_data)"
      ],
      "metadata": {
        "id": "dNecAtEWSD0b"
      },
      "execution_count": 87,
      "outputs": []
    },
    {
      "cell_type": "code",
      "source": [
        "predictions_2 = model_2.transform(final_data)"
      ],
      "metadata": {
        "id": "b79lcwpCSffn"
      },
      "execution_count": 88,
      "outputs": []
    },
    {
      "cell_type": "code",
      "source": [
        "predictions_2.groupBy(\"prediction\").count().show()"
      ],
      "metadata": {
        "colab": {
          "base_uri": "https://localhost:8080/"
        },
        "id": "OrIDiOjXSjW8",
        "outputId": "ee9e6ce7-bd4f-44f6-ed05-60297d8754a0"
      },
      "execution_count": 89,
      "outputs": [
        {
          "output_type": "stream",
          "name": "stdout",
          "text": [
            "+----------+-----+\n",
            "|prediction|count|\n",
            "+----------+-----+\n",
            "|         1|  167|\n",
            "|         0|  167|\n",
            "+----------+-----+\n",
            "\n"
          ]
        }
      ]
    },
    {
      "cell_type": "markdown",
      "metadata": {
        "id": "D3o3pTOxNXgv"
      },
      "source": [
        "# Задание 5. Создание рекомендательной системы"
      ]
    },
    {
      "cell_type": "markdown",
      "metadata": {
        "id": "UH9drYMnNXgv"
      },
      "source": [
        "- Необходимо построить систему рекомендаций для компании по доставке еды онлайн.\n",
        "\n",
        "- Эта компания пытается выделиться на рынке, рекомендуя новые блюда клиентам на основе предпочтений других клиентов.\n",
        "\n",
        "- **Ваш окончательный результат должен быть в виде функции, которая может принимать DataFrame Spark отдельного клиента с оценками различных блюд и выводить три лучших предложенных блюда.**"
      ]
    },
    {
      "cell_type": "code",
      "execution_count": 90,
      "metadata": {
        "id": "eEjJsIkENXgv"
      },
      "outputs": [],
      "source": [
        "import pandas as pd"
      ]
    },
    {
      "cell_type": "code",
      "source": [
        "spark = SparkSession.builder.appName(\"RecommendationSystem\").getOrCreate()"
      ],
      "metadata": {
        "id": "evT0s7COxfY1"
      },
      "execution_count": 91,
      "outputs": []
    },
    {
      "cell_type": "code",
      "execution_count": 92,
      "metadata": {
        "id": "jGjTSDhJNXgv"
      },
      "outputs": [],
      "source": [
        "df = pd.read_csv('data/movielens_ratings.csv')"
      ]
    },
    {
      "cell_type": "code",
      "execution_count": 93,
      "metadata": {
        "id": "Q0ONnk1aNXgv",
        "outputId": "aca7f812-7cfb-4510-9f80-cee666e34751",
        "colab": {
          "base_uri": "https://localhost:8080/",
          "height": 143
        }
      },
      "outputs": [
        {
          "output_type": "execute_result",
          "data": {
            "text/plain": [
              "          count       mean        std  min   25%   50%   75%   max\n",
              "movieId  1501.0  49.405730  28.937034  0.0  24.0  50.0  74.0  99.0\n",
              "rating   1501.0   1.774151   1.187276  1.0   1.0   1.0   2.0   5.0\n",
              "userId   1501.0  14.383744   8.591040  0.0   7.0  14.0  22.0  29.0"
            ],
            "text/html": [
              "\n",
              "  <div id=\"df-e97643cf-235e-4b1d-8626-2c4fcaf499f1\" class=\"colab-df-container\">\n",
              "    <div>\n",
              "<style scoped>\n",
              "    .dataframe tbody tr th:only-of-type {\n",
              "        vertical-align: middle;\n",
              "    }\n",
              "\n",
              "    .dataframe tbody tr th {\n",
              "        vertical-align: top;\n",
              "    }\n",
              "\n",
              "    .dataframe thead th {\n",
              "        text-align: right;\n",
              "    }\n",
              "</style>\n",
              "<table border=\"1\" class=\"dataframe\">\n",
              "  <thead>\n",
              "    <tr style=\"text-align: right;\">\n",
              "      <th></th>\n",
              "      <th>count</th>\n",
              "      <th>mean</th>\n",
              "      <th>std</th>\n",
              "      <th>min</th>\n",
              "      <th>25%</th>\n",
              "      <th>50%</th>\n",
              "      <th>75%</th>\n",
              "      <th>max</th>\n",
              "    </tr>\n",
              "  </thead>\n",
              "  <tbody>\n",
              "    <tr>\n",
              "      <th>movieId</th>\n",
              "      <td>1501.0</td>\n",
              "      <td>49.405730</td>\n",
              "      <td>28.937034</td>\n",
              "      <td>0.0</td>\n",
              "      <td>24.0</td>\n",
              "      <td>50.0</td>\n",
              "      <td>74.0</td>\n",
              "      <td>99.0</td>\n",
              "    </tr>\n",
              "    <tr>\n",
              "      <th>rating</th>\n",
              "      <td>1501.0</td>\n",
              "      <td>1.774151</td>\n",
              "      <td>1.187276</td>\n",
              "      <td>1.0</td>\n",
              "      <td>1.0</td>\n",
              "      <td>1.0</td>\n",
              "      <td>2.0</td>\n",
              "      <td>5.0</td>\n",
              "    </tr>\n",
              "    <tr>\n",
              "      <th>userId</th>\n",
              "      <td>1501.0</td>\n",
              "      <td>14.383744</td>\n",
              "      <td>8.591040</td>\n",
              "      <td>0.0</td>\n",
              "      <td>7.0</td>\n",
              "      <td>14.0</td>\n",
              "      <td>22.0</td>\n",
              "      <td>29.0</td>\n",
              "    </tr>\n",
              "  </tbody>\n",
              "</table>\n",
              "</div>\n",
              "    <div class=\"colab-df-buttons\">\n",
              "\n",
              "  <div class=\"colab-df-container\">\n",
              "    <button class=\"colab-df-convert\" onclick=\"convertToInteractive('df-e97643cf-235e-4b1d-8626-2c4fcaf499f1')\"\n",
              "            title=\"Convert this dataframe to an interactive table.\"\n",
              "            style=\"display:none;\">\n",
              "\n",
              "  <svg xmlns=\"http://www.w3.org/2000/svg\" height=\"24px\" viewBox=\"0 -960 960 960\">\n",
              "    <path d=\"M120-120v-720h720v720H120Zm60-500h600v-160H180v160Zm220 220h160v-160H400v160Zm0 220h160v-160H400v160ZM180-400h160v-160H180v160Zm440 0h160v-160H620v160ZM180-180h160v-160H180v160Zm440 0h160v-160H620v160Z\"/>\n",
              "  </svg>\n",
              "    </button>\n",
              "\n",
              "  <style>\n",
              "    .colab-df-container {\n",
              "      display:flex;\n",
              "      gap: 12px;\n",
              "    }\n",
              "\n",
              "    .colab-df-convert {\n",
              "      background-color: #E8F0FE;\n",
              "      border: none;\n",
              "      border-radius: 50%;\n",
              "      cursor: pointer;\n",
              "      display: none;\n",
              "      fill: #1967D2;\n",
              "      height: 32px;\n",
              "      padding: 0 0 0 0;\n",
              "      width: 32px;\n",
              "    }\n",
              "\n",
              "    .colab-df-convert:hover {\n",
              "      background-color: #E2EBFA;\n",
              "      box-shadow: 0px 1px 2px rgba(60, 64, 67, 0.3), 0px 1px 3px 1px rgba(60, 64, 67, 0.15);\n",
              "      fill: #174EA6;\n",
              "    }\n",
              "\n",
              "    .colab-df-buttons div {\n",
              "      margin-bottom: 4px;\n",
              "    }\n",
              "\n",
              "    [theme=dark] .colab-df-convert {\n",
              "      background-color: #3B4455;\n",
              "      fill: #D2E3FC;\n",
              "    }\n",
              "\n",
              "    [theme=dark] .colab-df-convert:hover {\n",
              "      background-color: #434B5C;\n",
              "      box-shadow: 0px 1px 3px 1px rgba(0, 0, 0, 0.15);\n",
              "      filter: drop-shadow(0px 1px 2px rgba(0, 0, 0, 0.3));\n",
              "      fill: #FFFFFF;\n",
              "    }\n",
              "  </style>\n",
              "\n",
              "    <script>\n",
              "      const buttonEl =\n",
              "        document.querySelector('#df-e97643cf-235e-4b1d-8626-2c4fcaf499f1 button.colab-df-convert');\n",
              "      buttonEl.style.display =\n",
              "        google.colab.kernel.accessAllowed ? 'block' : 'none';\n",
              "\n",
              "      async function convertToInteractive(key) {\n",
              "        const element = document.querySelector('#df-e97643cf-235e-4b1d-8626-2c4fcaf499f1');\n",
              "        const dataTable =\n",
              "          await google.colab.kernel.invokeFunction('convertToInteractive',\n",
              "                                                    [key], {});\n",
              "        if (!dataTable) return;\n",
              "\n",
              "        const docLinkHtml = 'Like what you see? Visit the ' +\n",
              "          '<a target=\"_blank\" href=https://colab.research.google.com/notebooks/data_table.ipynb>data table notebook</a>'\n",
              "          + ' to learn more about interactive tables.';\n",
              "        element.innerHTML = '';\n",
              "        dataTable['output_type'] = 'display_data';\n",
              "        await google.colab.output.renderOutput(dataTable, element);\n",
              "        const docLink = document.createElement('div');\n",
              "        docLink.innerHTML = docLinkHtml;\n",
              "        element.appendChild(docLink);\n",
              "      }\n",
              "    </script>\n",
              "  </div>\n",
              "\n",
              "\n",
              "<div id=\"df-35bd4cf2-b055-4494-adc0-a4f9cb6ec777\">\n",
              "  <button class=\"colab-df-quickchart\" onclick=\"quickchart('df-35bd4cf2-b055-4494-adc0-a4f9cb6ec777')\"\n",
              "            title=\"Suggest charts\"\n",
              "            style=\"display:none;\">\n",
              "\n",
              "<svg xmlns=\"http://www.w3.org/2000/svg\" height=\"24px\"viewBox=\"0 0 24 24\"\n",
              "     width=\"24px\">\n",
              "    <g>\n",
              "        <path d=\"M19 3H5c-1.1 0-2 .9-2 2v14c0 1.1.9 2 2 2h14c1.1 0 2-.9 2-2V5c0-1.1-.9-2-2-2zM9 17H7v-7h2v7zm4 0h-2V7h2v10zm4 0h-2v-4h2v4z\"/>\n",
              "    </g>\n",
              "</svg>\n",
              "  </button>\n",
              "\n",
              "<style>\n",
              "  .colab-df-quickchart {\n",
              "      --bg-color: #E8F0FE;\n",
              "      --fill-color: #1967D2;\n",
              "      --hover-bg-color: #E2EBFA;\n",
              "      --hover-fill-color: #174EA6;\n",
              "      --disabled-fill-color: #AAA;\n",
              "      --disabled-bg-color: #DDD;\n",
              "  }\n",
              "\n",
              "  [theme=dark] .colab-df-quickchart {\n",
              "      --bg-color: #3B4455;\n",
              "      --fill-color: #D2E3FC;\n",
              "      --hover-bg-color: #434B5C;\n",
              "      --hover-fill-color: #FFFFFF;\n",
              "      --disabled-bg-color: #3B4455;\n",
              "      --disabled-fill-color: #666;\n",
              "  }\n",
              "\n",
              "  .colab-df-quickchart {\n",
              "    background-color: var(--bg-color);\n",
              "    border: none;\n",
              "    border-radius: 50%;\n",
              "    cursor: pointer;\n",
              "    display: none;\n",
              "    fill: var(--fill-color);\n",
              "    height: 32px;\n",
              "    padding: 0;\n",
              "    width: 32px;\n",
              "  }\n",
              "\n",
              "  .colab-df-quickchart:hover {\n",
              "    background-color: var(--hover-bg-color);\n",
              "    box-shadow: 0 1px 2px rgba(60, 64, 67, 0.3), 0 1px 3px 1px rgba(60, 64, 67, 0.15);\n",
              "    fill: var(--button-hover-fill-color);\n",
              "  }\n",
              "\n",
              "  .colab-df-quickchart-complete:disabled,\n",
              "  .colab-df-quickchart-complete:disabled:hover {\n",
              "    background-color: var(--disabled-bg-color);\n",
              "    fill: var(--disabled-fill-color);\n",
              "    box-shadow: none;\n",
              "  }\n",
              "\n",
              "  .colab-df-spinner {\n",
              "    border: 2px solid var(--fill-color);\n",
              "    border-color: transparent;\n",
              "    border-bottom-color: var(--fill-color);\n",
              "    animation:\n",
              "      spin 1s steps(1) infinite;\n",
              "  }\n",
              "\n",
              "  @keyframes spin {\n",
              "    0% {\n",
              "      border-color: transparent;\n",
              "      border-bottom-color: var(--fill-color);\n",
              "      border-left-color: var(--fill-color);\n",
              "    }\n",
              "    20% {\n",
              "      border-color: transparent;\n",
              "      border-left-color: var(--fill-color);\n",
              "      border-top-color: var(--fill-color);\n",
              "    }\n",
              "    30% {\n",
              "      border-color: transparent;\n",
              "      border-left-color: var(--fill-color);\n",
              "      border-top-color: var(--fill-color);\n",
              "      border-right-color: var(--fill-color);\n",
              "    }\n",
              "    40% {\n",
              "      border-color: transparent;\n",
              "      border-right-color: var(--fill-color);\n",
              "      border-top-color: var(--fill-color);\n",
              "    }\n",
              "    60% {\n",
              "      border-color: transparent;\n",
              "      border-right-color: var(--fill-color);\n",
              "    }\n",
              "    80% {\n",
              "      border-color: transparent;\n",
              "      border-right-color: var(--fill-color);\n",
              "      border-bottom-color: var(--fill-color);\n",
              "    }\n",
              "    90% {\n",
              "      border-color: transparent;\n",
              "      border-bottom-color: var(--fill-color);\n",
              "    }\n",
              "  }\n",
              "</style>\n",
              "\n",
              "  <script>\n",
              "    async function quickchart(key) {\n",
              "      const quickchartButtonEl =\n",
              "        document.querySelector('#' + key + ' button');\n",
              "      quickchartButtonEl.disabled = true;  // To prevent multiple clicks.\n",
              "      quickchartButtonEl.classList.add('colab-df-spinner');\n",
              "      try {\n",
              "        const charts = await google.colab.kernel.invokeFunction(\n",
              "            'suggestCharts', [key], {});\n",
              "      } catch (error) {\n",
              "        console.error('Error during call to suggestCharts:', error);\n",
              "      }\n",
              "      quickchartButtonEl.classList.remove('colab-df-spinner');\n",
              "      quickchartButtonEl.classList.add('colab-df-quickchart-complete');\n",
              "    }\n",
              "    (() => {\n",
              "      let quickchartButtonEl =\n",
              "        document.querySelector('#df-35bd4cf2-b055-4494-adc0-a4f9cb6ec777 button');\n",
              "      quickchartButtonEl.style.display =\n",
              "        google.colab.kernel.accessAllowed ? 'block' : 'none';\n",
              "    })();\n",
              "  </script>\n",
              "</div>\n",
              "    </div>\n",
              "  </div>\n"
            ],
            "application/vnd.google.colaboratory.intrinsic+json": {
              "type": "dataframe",
              "summary": "{\n  \"name\": \"df\",\n  \"rows\": 3,\n  \"fields\": [\n    {\n      \"column\": \"count\",\n      \"properties\": {\n        \"dtype\": \"number\",\n        \"std\": 0.0,\n        \"min\": 1501.0,\n        \"max\": 1501.0,\n        \"num_unique_values\": 1,\n        \"samples\": [\n          1501.0\n        ],\n        \"semantic_type\": \"\",\n        \"description\": \"\"\n      }\n    },\n    {\n      \"column\": \"mean\",\n      \"properties\": {\n        \"dtype\": \"number\",\n        \"std\": 24.678967500203875,\n        \"min\": 1.7741505662891406,\n        \"max\": 49.40572951365756,\n        \"num_unique_values\": 3,\n        \"samples\": [\n          49.40572951365756\n        ],\n        \"semantic_type\": \"\",\n        \"description\": \"\"\n      }\n    },\n    {\n      \"column\": \"std\",\n      \"properties\": {\n        \"dtype\": \"number\",\n        \"std\": 14.369088615687952,\n        \"min\": 1.187276166124807,\n        \"max\": 28.937034065089,\n        \"num_unique_values\": 3,\n        \"samples\": [\n          28.937034065089\n        ],\n        \"semantic_type\": \"\",\n        \"description\": \"\"\n      }\n    },\n    {\n      \"column\": \"min\",\n      \"properties\": {\n        \"dtype\": \"number\",\n        \"std\": 0.5773502691896258,\n        \"min\": 0.0,\n        \"max\": 1.0,\n        \"num_unique_values\": 2,\n        \"samples\": [\n          1.0\n        ],\n        \"semantic_type\": \"\",\n        \"description\": \"\"\n      }\n    },\n    {\n      \"column\": \"25%\",\n      \"properties\": {\n        \"dtype\": \"number\",\n        \"std\": 11.930353445448855,\n        \"min\": 1.0,\n        \"max\": 24.0,\n        \"num_unique_values\": 3,\n        \"samples\": [\n          24.0\n        ],\n        \"semantic_type\": \"\",\n        \"description\": \"\"\n      }\n    },\n    {\n      \"column\": \"50%\",\n      \"properties\": {\n        \"dtype\": \"number\",\n        \"std\": 25.383721817994566,\n        \"min\": 1.0,\n        \"max\": 50.0,\n        \"num_unique_values\": 3,\n        \"samples\": [\n          50.0\n        ],\n        \"semantic_type\": \"\",\n        \"description\": \"\"\n      }\n    },\n    {\n      \"column\": \"75%\",\n      \"properties\": {\n        \"dtype\": \"number\",\n        \"std\": 37.16629297271027,\n        \"min\": 2.0,\n        \"max\": 74.0,\n        \"num_unique_values\": 3,\n        \"samples\": [\n          74.0\n        ],\n        \"semantic_type\": \"\",\n        \"description\": \"\"\n      }\n    },\n    {\n      \"column\": \"max\",\n      \"properties\": {\n        \"dtype\": \"number\",\n        \"std\": 48.83987441971297,\n        \"min\": 5.0,\n        \"max\": 99.0,\n        \"num_unique_values\": 3,\n        \"samples\": [\n          99.0\n        ],\n        \"semantic_type\": \"\",\n        \"description\": \"\"\n      }\n    }\n  ]\n}"
            }
          },
          "metadata": {},
          "execution_count": 93
        }
      ],
      "source": [
        "df.describe().transpose()"
      ]
    },
    {
      "cell_type": "code",
      "execution_count": 94,
      "metadata": {
        "id": "60Zt0eKQNXgv",
        "outputId": "3e407e07-3803-4318-81dc-a5cf6bc85ed2",
        "colab": {
          "base_uri": "https://localhost:8080/",
          "height": 143
        }
      },
      "outputs": [
        {
          "output_type": "execute_result",
          "data": {
            "text/plain": [
              "          movieId    rating    userId\n",
              "movieId  1.000000  0.036569  0.003267\n",
              "rating   0.036569  1.000000  0.056411\n",
              "userId   0.003267  0.056411  1.000000"
            ],
            "text/html": [
              "\n",
              "  <div id=\"df-8f215b9a-33dd-4b79-9633-ab26edc6b38c\" class=\"colab-df-container\">\n",
              "    <div>\n",
              "<style scoped>\n",
              "    .dataframe tbody tr th:only-of-type {\n",
              "        vertical-align: middle;\n",
              "    }\n",
              "\n",
              "    .dataframe tbody tr th {\n",
              "        vertical-align: top;\n",
              "    }\n",
              "\n",
              "    .dataframe thead th {\n",
              "        text-align: right;\n",
              "    }\n",
              "</style>\n",
              "<table border=\"1\" class=\"dataframe\">\n",
              "  <thead>\n",
              "    <tr style=\"text-align: right;\">\n",
              "      <th></th>\n",
              "      <th>movieId</th>\n",
              "      <th>rating</th>\n",
              "      <th>userId</th>\n",
              "    </tr>\n",
              "  </thead>\n",
              "  <tbody>\n",
              "    <tr>\n",
              "      <th>movieId</th>\n",
              "      <td>1.000000</td>\n",
              "      <td>0.036569</td>\n",
              "      <td>0.003267</td>\n",
              "    </tr>\n",
              "    <tr>\n",
              "      <th>rating</th>\n",
              "      <td>0.036569</td>\n",
              "      <td>1.000000</td>\n",
              "      <td>0.056411</td>\n",
              "    </tr>\n",
              "    <tr>\n",
              "      <th>userId</th>\n",
              "      <td>0.003267</td>\n",
              "      <td>0.056411</td>\n",
              "      <td>1.000000</td>\n",
              "    </tr>\n",
              "  </tbody>\n",
              "</table>\n",
              "</div>\n",
              "    <div class=\"colab-df-buttons\">\n",
              "\n",
              "  <div class=\"colab-df-container\">\n",
              "    <button class=\"colab-df-convert\" onclick=\"convertToInteractive('df-8f215b9a-33dd-4b79-9633-ab26edc6b38c')\"\n",
              "            title=\"Convert this dataframe to an interactive table.\"\n",
              "            style=\"display:none;\">\n",
              "\n",
              "  <svg xmlns=\"http://www.w3.org/2000/svg\" height=\"24px\" viewBox=\"0 -960 960 960\">\n",
              "    <path d=\"M120-120v-720h720v720H120Zm60-500h600v-160H180v160Zm220 220h160v-160H400v160Zm0 220h160v-160H400v160ZM180-400h160v-160H180v160Zm440 0h160v-160H620v160ZM180-180h160v-160H180v160Zm440 0h160v-160H620v160Z\"/>\n",
              "  </svg>\n",
              "    </button>\n",
              "\n",
              "  <style>\n",
              "    .colab-df-container {\n",
              "      display:flex;\n",
              "      gap: 12px;\n",
              "    }\n",
              "\n",
              "    .colab-df-convert {\n",
              "      background-color: #E8F0FE;\n",
              "      border: none;\n",
              "      border-radius: 50%;\n",
              "      cursor: pointer;\n",
              "      display: none;\n",
              "      fill: #1967D2;\n",
              "      height: 32px;\n",
              "      padding: 0 0 0 0;\n",
              "      width: 32px;\n",
              "    }\n",
              "\n",
              "    .colab-df-convert:hover {\n",
              "      background-color: #E2EBFA;\n",
              "      box-shadow: 0px 1px 2px rgba(60, 64, 67, 0.3), 0px 1px 3px 1px rgba(60, 64, 67, 0.15);\n",
              "      fill: #174EA6;\n",
              "    }\n",
              "\n",
              "    .colab-df-buttons div {\n",
              "      margin-bottom: 4px;\n",
              "    }\n",
              "\n",
              "    [theme=dark] .colab-df-convert {\n",
              "      background-color: #3B4455;\n",
              "      fill: #D2E3FC;\n",
              "    }\n",
              "\n",
              "    [theme=dark] .colab-df-convert:hover {\n",
              "      background-color: #434B5C;\n",
              "      box-shadow: 0px 1px 3px 1px rgba(0, 0, 0, 0.15);\n",
              "      filter: drop-shadow(0px 1px 2px rgba(0, 0, 0, 0.3));\n",
              "      fill: #FFFFFF;\n",
              "    }\n",
              "  </style>\n",
              "\n",
              "    <script>\n",
              "      const buttonEl =\n",
              "        document.querySelector('#df-8f215b9a-33dd-4b79-9633-ab26edc6b38c button.colab-df-convert');\n",
              "      buttonEl.style.display =\n",
              "        google.colab.kernel.accessAllowed ? 'block' : 'none';\n",
              "\n",
              "      async function convertToInteractive(key) {\n",
              "        const element = document.querySelector('#df-8f215b9a-33dd-4b79-9633-ab26edc6b38c');\n",
              "        const dataTable =\n",
              "          await google.colab.kernel.invokeFunction('convertToInteractive',\n",
              "                                                    [key], {});\n",
              "        if (!dataTable) return;\n",
              "\n",
              "        const docLinkHtml = 'Like what you see? Visit the ' +\n",
              "          '<a target=\"_blank\" href=https://colab.research.google.com/notebooks/data_table.ipynb>data table notebook</a>'\n",
              "          + ' to learn more about interactive tables.';\n",
              "        element.innerHTML = '';\n",
              "        dataTable['output_type'] = 'display_data';\n",
              "        await google.colab.output.renderOutput(dataTable, element);\n",
              "        const docLink = document.createElement('div');\n",
              "        docLink.innerHTML = docLinkHtml;\n",
              "        element.appendChild(docLink);\n",
              "      }\n",
              "    </script>\n",
              "  </div>\n",
              "\n",
              "\n",
              "<div id=\"df-2de4b62f-0367-4414-8994-c1c94a07752b\">\n",
              "  <button class=\"colab-df-quickchart\" onclick=\"quickchart('df-2de4b62f-0367-4414-8994-c1c94a07752b')\"\n",
              "            title=\"Suggest charts\"\n",
              "            style=\"display:none;\">\n",
              "\n",
              "<svg xmlns=\"http://www.w3.org/2000/svg\" height=\"24px\"viewBox=\"0 0 24 24\"\n",
              "     width=\"24px\">\n",
              "    <g>\n",
              "        <path d=\"M19 3H5c-1.1 0-2 .9-2 2v14c0 1.1.9 2 2 2h14c1.1 0 2-.9 2-2V5c0-1.1-.9-2-2-2zM9 17H7v-7h2v7zm4 0h-2V7h2v10zm4 0h-2v-4h2v4z\"/>\n",
              "    </g>\n",
              "</svg>\n",
              "  </button>\n",
              "\n",
              "<style>\n",
              "  .colab-df-quickchart {\n",
              "      --bg-color: #E8F0FE;\n",
              "      --fill-color: #1967D2;\n",
              "      --hover-bg-color: #E2EBFA;\n",
              "      --hover-fill-color: #174EA6;\n",
              "      --disabled-fill-color: #AAA;\n",
              "      --disabled-bg-color: #DDD;\n",
              "  }\n",
              "\n",
              "  [theme=dark] .colab-df-quickchart {\n",
              "      --bg-color: #3B4455;\n",
              "      --fill-color: #D2E3FC;\n",
              "      --hover-bg-color: #434B5C;\n",
              "      --hover-fill-color: #FFFFFF;\n",
              "      --disabled-bg-color: #3B4455;\n",
              "      --disabled-fill-color: #666;\n",
              "  }\n",
              "\n",
              "  .colab-df-quickchart {\n",
              "    background-color: var(--bg-color);\n",
              "    border: none;\n",
              "    border-radius: 50%;\n",
              "    cursor: pointer;\n",
              "    display: none;\n",
              "    fill: var(--fill-color);\n",
              "    height: 32px;\n",
              "    padding: 0;\n",
              "    width: 32px;\n",
              "  }\n",
              "\n",
              "  .colab-df-quickchart:hover {\n",
              "    background-color: var(--hover-bg-color);\n",
              "    box-shadow: 0 1px 2px rgba(60, 64, 67, 0.3), 0 1px 3px 1px rgba(60, 64, 67, 0.15);\n",
              "    fill: var(--button-hover-fill-color);\n",
              "  }\n",
              "\n",
              "  .colab-df-quickchart-complete:disabled,\n",
              "  .colab-df-quickchart-complete:disabled:hover {\n",
              "    background-color: var(--disabled-bg-color);\n",
              "    fill: var(--disabled-fill-color);\n",
              "    box-shadow: none;\n",
              "  }\n",
              "\n",
              "  .colab-df-spinner {\n",
              "    border: 2px solid var(--fill-color);\n",
              "    border-color: transparent;\n",
              "    border-bottom-color: var(--fill-color);\n",
              "    animation:\n",
              "      spin 1s steps(1) infinite;\n",
              "  }\n",
              "\n",
              "  @keyframes spin {\n",
              "    0% {\n",
              "      border-color: transparent;\n",
              "      border-bottom-color: var(--fill-color);\n",
              "      border-left-color: var(--fill-color);\n",
              "    }\n",
              "    20% {\n",
              "      border-color: transparent;\n",
              "      border-left-color: var(--fill-color);\n",
              "      border-top-color: var(--fill-color);\n",
              "    }\n",
              "    30% {\n",
              "      border-color: transparent;\n",
              "      border-left-color: var(--fill-color);\n",
              "      border-top-color: var(--fill-color);\n",
              "      border-right-color: var(--fill-color);\n",
              "    }\n",
              "    40% {\n",
              "      border-color: transparent;\n",
              "      border-right-color: var(--fill-color);\n",
              "      border-top-color: var(--fill-color);\n",
              "    }\n",
              "    60% {\n",
              "      border-color: transparent;\n",
              "      border-right-color: var(--fill-color);\n",
              "    }\n",
              "    80% {\n",
              "      border-color: transparent;\n",
              "      border-right-color: var(--fill-color);\n",
              "      border-bottom-color: var(--fill-color);\n",
              "    }\n",
              "    90% {\n",
              "      border-color: transparent;\n",
              "      border-bottom-color: var(--fill-color);\n",
              "    }\n",
              "  }\n",
              "</style>\n",
              "\n",
              "  <script>\n",
              "    async function quickchart(key) {\n",
              "      const quickchartButtonEl =\n",
              "        document.querySelector('#' + key + ' button');\n",
              "      quickchartButtonEl.disabled = true;  // To prevent multiple clicks.\n",
              "      quickchartButtonEl.classList.add('colab-df-spinner');\n",
              "      try {\n",
              "        const charts = await google.colab.kernel.invokeFunction(\n",
              "            'suggestCharts', [key], {});\n",
              "      } catch (error) {\n",
              "        console.error('Error during call to suggestCharts:', error);\n",
              "      }\n",
              "      quickchartButtonEl.classList.remove('colab-df-spinner');\n",
              "      quickchartButtonEl.classList.add('colab-df-quickchart-complete');\n",
              "    }\n",
              "    (() => {\n",
              "      let quickchartButtonEl =\n",
              "        document.querySelector('#df-2de4b62f-0367-4414-8994-c1c94a07752b button');\n",
              "      quickchartButtonEl.style.display =\n",
              "        google.colab.kernel.accessAllowed ? 'block' : 'none';\n",
              "    })();\n",
              "  </script>\n",
              "</div>\n",
              "    </div>\n",
              "  </div>\n"
            ],
            "application/vnd.google.colaboratory.intrinsic+json": {
              "type": "dataframe",
              "summary": "{\n  \"name\": \"df\",\n  \"rows\": 3,\n  \"fields\": [\n    {\n      \"column\": \"movieId\",\n      \"properties\": {\n        \"dtype\": \"number\",\n        \"std\": 0.5660956091089321,\n        \"min\": 0.0032671053272180406,\n        \"max\": 1.0,\n        \"num_unique_values\": 3,\n        \"samples\": [\n          1.0,\n          0.0365686448656208,\n          0.0032671053272180406\n        ],\n        \"semantic_type\": \"\",\n        \"description\": \"\"\n      }\n    },\n    {\n      \"column\": \"rating\",\n      \"properties\": {\n        \"dtype\": \"number\",\n        \"std\": 0.5505986348560392,\n        \"min\": 0.0365686448656208,\n        \"max\": 1.0,\n        \"num_unique_values\": 3,\n        \"samples\": [\n          0.0365686448656208,\n          1.0,\n          0.05641140909630381\n        ],\n        \"semantic_type\": \"\",\n        \"description\": \"\"\n      }\n    },\n    {\n      \"column\": \"userId\",\n      \"properties\": {\n        \"dtype\": \"number\",\n        \"std\": 0.5607525017375471,\n        \"min\": 0.0032671053272180406,\n        \"max\": 1.0,\n        \"num_unique_values\": 3,\n        \"samples\": [\n          0.0032671053272180406,\n          0.05641140909630381,\n          1.0\n        ],\n        \"semantic_type\": \"\",\n        \"description\": \"\"\n      }\n    }\n  ]\n}"
            }
          },
          "metadata": {},
          "execution_count": 94
        }
      ],
      "source": [
        "df.corr()"
      ]
    },
    {
      "cell_type": "code",
      "execution_count": 95,
      "metadata": {
        "id": "I0meKRiYNXgv"
      },
      "outputs": [],
      "source": [
        "import numpy as np\n",
        "df['mealskew'] = df['movieId'].apply(lambda id: np.nan if id > 31 else id)"
      ]
    },
    {
      "cell_type": "code",
      "execution_count": 96,
      "metadata": {
        "id": "KVZnCpg8NXgv",
        "outputId": "86ac6d99-8e98-442f-9786-30b084070d24",
        "colab": {
          "base_uri": "https://localhost:8080/",
          "height": 175
        }
      },
      "outputs": [
        {
          "output_type": "execute_result",
          "data": {
            "text/plain": [
              "           count       mean        std  min   25%   50%   75%   max\n",
              "movieId   1501.0  49.405730  28.937034  0.0  24.0  50.0  74.0  99.0\n",
              "rating    1501.0   1.774151   1.187276  1.0   1.0   1.0   2.0   5.0\n",
              "userId    1501.0  14.383744   8.591040  0.0   7.0  14.0  22.0  29.0\n",
              "mealskew   486.0  15.502058   9.250634  0.0   7.0  15.0  23.0  31.0"
            ],
            "text/html": [
              "\n",
              "  <div id=\"df-d7199409-ea23-4d13-914b-7d046239ea2e\" class=\"colab-df-container\">\n",
              "    <div>\n",
              "<style scoped>\n",
              "    .dataframe tbody tr th:only-of-type {\n",
              "        vertical-align: middle;\n",
              "    }\n",
              "\n",
              "    .dataframe tbody tr th {\n",
              "        vertical-align: top;\n",
              "    }\n",
              "\n",
              "    .dataframe thead th {\n",
              "        text-align: right;\n",
              "    }\n",
              "</style>\n",
              "<table border=\"1\" class=\"dataframe\">\n",
              "  <thead>\n",
              "    <tr style=\"text-align: right;\">\n",
              "      <th></th>\n",
              "      <th>count</th>\n",
              "      <th>mean</th>\n",
              "      <th>std</th>\n",
              "      <th>min</th>\n",
              "      <th>25%</th>\n",
              "      <th>50%</th>\n",
              "      <th>75%</th>\n",
              "      <th>max</th>\n",
              "    </tr>\n",
              "  </thead>\n",
              "  <tbody>\n",
              "    <tr>\n",
              "      <th>movieId</th>\n",
              "      <td>1501.0</td>\n",
              "      <td>49.405730</td>\n",
              "      <td>28.937034</td>\n",
              "      <td>0.0</td>\n",
              "      <td>24.0</td>\n",
              "      <td>50.0</td>\n",
              "      <td>74.0</td>\n",
              "      <td>99.0</td>\n",
              "    </tr>\n",
              "    <tr>\n",
              "      <th>rating</th>\n",
              "      <td>1501.0</td>\n",
              "      <td>1.774151</td>\n",
              "      <td>1.187276</td>\n",
              "      <td>1.0</td>\n",
              "      <td>1.0</td>\n",
              "      <td>1.0</td>\n",
              "      <td>2.0</td>\n",
              "      <td>5.0</td>\n",
              "    </tr>\n",
              "    <tr>\n",
              "      <th>userId</th>\n",
              "      <td>1501.0</td>\n",
              "      <td>14.383744</td>\n",
              "      <td>8.591040</td>\n",
              "      <td>0.0</td>\n",
              "      <td>7.0</td>\n",
              "      <td>14.0</td>\n",
              "      <td>22.0</td>\n",
              "      <td>29.0</td>\n",
              "    </tr>\n",
              "    <tr>\n",
              "      <th>mealskew</th>\n",
              "      <td>486.0</td>\n",
              "      <td>15.502058</td>\n",
              "      <td>9.250634</td>\n",
              "      <td>0.0</td>\n",
              "      <td>7.0</td>\n",
              "      <td>15.0</td>\n",
              "      <td>23.0</td>\n",
              "      <td>31.0</td>\n",
              "    </tr>\n",
              "  </tbody>\n",
              "</table>\n",
              "</div>\n",
              "    <div class=\"colab-df-buttons\">\n",
              "\n",
              "  <div class=\"colab-df-container\">\n",
              "    <button class=\"colab-df-convert\" onclick=\"convertToInteractive('df-d7199409-ea23-4d13-914b-7d046239ea2e')\"\n",
              "            title=\"Convert this dataframe to an interactive table.\"\n",
              "            style=\"display:none;\">\n",
              "\n",
              "  <svg xmlns=\"http://www.w3.org/2000/svg\" height=\"24px\" viewBox=\"0 -960 960 960\">\n",
              "    <path d=\"M120-120v-720h720v720H120Zm60-500h600v-160H180v160Zm220 220h160v-160H400v160Zm0 220h160v-160H400v160ZM180-400h160v-160H180v160Zm440 0h160v-160H620v160ZM180-180h160v-160H180v160Zm440 0h160v-160H620v160Z\"/>\n",
              "  </svg>\n",
              "    </button>\n",
              "\n",
              "  <style>\n",
              "    .colab-df-container {\n",
              "      display:flex;\n",
              "      gap: 12px;\n",
              "    }\n",
              "\n",
              "    .colab-df-convert {\n",
              "      background-color: #E8F0FE;\n",
              "      border: none;\n",
              "      border-radius: 50%;\n",
              "      cursor: pointer;\n",
              "      display: none;\n",
              "      fill: #1967D2;\n",
              "      height: 32px;\n",
              "      padding: 0 0 0 0;\n",
              "      width: 32px;\n",
              "    }\n",
              "\n",
              "    .colab-df-convert:hover {\n",
              "      background-color: #E2EBFA;\n",
              "      box-shadow: 0px 1px 2px rgba(60, 64, 67, 0.3), 0px 1px 3px 1px rgba(60, 64, 67, 0.15);\n",
              "      fill: #174EA6;\n",
              "    }\n",
              "\n",
              "    .colab-df-buttons div {\n",
              "      margin-bottom: 4px;\n",
              "    }\n",
              "\n",
              "    [theme=dark] .colab-df-convert {\n",
              "      background-color: #3B4455;\n",
              "      fill: #D2E3FC;\n",
              "    }\n",
              "\n",
              "    [theme=dark] .colab-df-convert:hover {\n",
              "      background-color: #434B5C;\n",
              "      box-shadow: 0px 1px 3px 1px rgba(0, 0, 0, 0.15);\n",
              "      filter: drop-shadow(0px 1px 2px rgba(0, 0, 0, 0.3));\n",
              "      fill: #FFFFFF;\n",
              "    }\n",
              "  </style>\n",
              "\n",
              "    <script>\n",
              "      const buttonEl =\n",
              "        document.querySelector('#df-d7199409-ea23-4d13-914b-7d046239ea2e button.colab-df-convert');\n",
              "      buttonEl.style.display =\n",
              "        google.colab.kernel.accessAllowed ? 'block' : 'none';\n",
              "\n",
              "      async function convertToInteractive(key) {\n",
              "        const element = document.querySelector('#df-d7199409-ea23-4d13-914b-7d046239ea2e');\n",
              "        const dataTable =\n",
              "          await google.colab.kernel.invokeFunction('convertToInteractive',\n",
              "                                                    [key], {});\n",
              "        if (!dataTable) return;\n",
              "\n",
              "        const docLinkHtml = 'Like what you see? Visit the ' +\n",
              "          '<a target=\"_blank\" href=https://colab.research.google.com/notebooks/data_table.ipynb>data table notebook</a>'\n",
              "          + ' to learn more about interactive tables.';\n",
              "        element.innerHTML = '';\n",
              "        dataTable['output_type'] = 'display_data';\n",
              "        await google.colab.output.renderOutput(dataTable, element);\n",
              "        const docLink = document.createElement('div');\n",
              "        docLink.innerHTML = docLinkHtml;\n",
              "        element.appendChild(docLink);\n",
              "      }\n",
              "    </script>\n",
              "  </div>\n",
              "\n",
              "\n",
              "<div id=\"df-9a861a54-2b64-45f3-babc-5ddcc28b78b7\">\n",
              "  <button class=\"colab-df-quickchart\" onclick=\"quickchart('df-9a861a54-2b64-45f3-babc-5ddcc28b78b7')\"\n",
              "            title=\"Suggest charts\"\n",
              "            style=\"display:none;\">\n",
              "\n",
              "<svg xmlns=\"http://www.w3.org/2000/svg\" height=\"24px\"viewBox=\"0 0 24 24\"\n",
              "     width=\"24px\">\n",
              "    <g>\n",
              "        <path d=\"M19 3H5c-1.1 0-2 .9-2 2v14c0 1.1.9 2 2 2h14c1.1 0 2-.9 2-2V5c0-1.1-.9-2-2-2zM9 17H7v-7h2v7zm4 0h-2V7h2v10zm4 0h-2v-4h2v4z\"/>\n",
              "    </g>\n",
              "</svg>\n",
              "  </button>\n",
              "\n",
              "<style>\n",
              "  .colab-df-quickchart {\n",
              "      --bg-color: #E8F0FE;\n",
              "      --fill-color: #1967D2;\n",
              "      --hover-bg-color: #E2EBFA;\n",
              "      --hover-fill-color: #174EA6;\n",
              "      --disabled-fill-color: #AAA;\n",
              "      --disabled-bg-color: #DDD;\n",
              "  }\n",
              "\n",
              "  [theme=dark] .colab-df-quickchart {\n",
              "      --bg-color: #3B4455;\n",
              "      --fill-color: #D2E3FC;\n",
              "      --hover-bg-color: #434B5C;\n",
              "      --hover-fill-color: #FFFFFF;\n",
              "      --disabled-bg-color: #3B4455;\n",
              "      --disabled-fill-color: #666;\n",
              "  }\n",
              "\n",
              "  .colab-df-quickchart {\n",
              "    background-color: var(--bg-color);\n",
              "    border: none;\n",
              "    border-radius: 50%;\n",
              "    cursor: pointer;\n",
              "    display: none;\n",
              "    fill: var(--fill-color);\n",
              "    height: 32px;\n",
              "    padding: 0;\n",
              "    width: 32px;\n",
              "  }\n",
              "\n",
              "  .colab-df-quickchart:hover {\n",
              "    background-color: var(--hover-bg-color);\n",
              "    box-shadow: 0 1px 2px rgba(60, 64, 67, 0.3), 0 1px 3px 1px rgba(60, 64, 67, 0.15);\n",
              "    fill: var(--button-hover-fill-color);\n",
              "  }\n",
              "\n",
              "  .colab-df-quickchart-complete:disabled,\n",
              "  .colab-df-quickchart-complete:disabled:hover {\n",
              "    background-color: var(--disabled-bg-color);\n",
              "    fill: var(--disabled-fill-color);\n",
              "    box-shadow: none;\n",
              "  }\n",
              "\n",
              "  .colab-df-spinner {\n",
              "    border: 2px solid var(--fill-color);\n",
              "    border-color: transparent;\n",
              "    border-bottom-color: var(--fill-color);\n",
              "    animation:\n",
              "      spin 1s steps(1) infinite;\n",
              "  }\n",
              "\n",
              "  @keyframes spin {\n",
              "    0% {\n",
              "      border-color: transparent;\n",
              "      border-bottom-color: var(--fill-color);\n",
              "      border-left-color: var(--fill-color);\n",
              "    }\n",
              "    20% {\n",
              "      border-color: transparent;\n",
              "      border-left-color: var(--fill-color);\n",
              "      border-top-color: var(--fill-color);\n",
              "    }\n",
              "    30% {\n",
              "      border-color: transparent;\n",
              "      border-left-color: var(--fill-color);\n",
              "      border-top-color: var(--fill-color);\n",
              "      border-right-color: var(--fill-color);\n",
              "    }\n",
              "    40% {\n",
              "      border-color: transparent;\n",
              "      border-right-color: var(--fill-color);\n",
              "      border-top-color: var(--fill-color);\n",
              "    }\n",
              "    60% {\n",
              "      border-color: transparent;\n",
              "      border-right-color: var(--fill-color);\n",
              "    }\n",
              "    80% {\n",
              "      border-color: transparent;\n",
              "      border-right-color: var(--fill-color);\n",
              "      border-bottom-color: var(--fill-color);\n",
              "    }\n",
              "    90% {\n",
              "      border-color: transparent;\n",
              "      border-bottom-color: var(--fill-color);\n",
              "    }\n",
              "  }\n",
              "</style>\n",
              "\n",
              "  <script>\n",
              "    async function quickchart(key) {\n",
              "      const quickchartButtonEl =\n",
              "        document.querySelector('#' + key + ' button');\n",
              "      quickchartButtonEl.disabled = true;  // To prevent multiple clicks.\n",
              "      quickchartButtonEl.classList.add('colab-df-spinner');\n",
              "      try {\n",
              "        const charts = await google.colab.kernel.invokeFunction(\n",
              "            'suggestCharts', [key], {});\n",
              "      } catch (error) {\n",
              "        console.error('Error during call to suggestCharts:', error);\n",
              "      }\n",
              "      quickchartButtonEl.classList.remove('colab-df-spinner');\n",
              "      quickchartButtonEl.classList.add('colab-df-quickchart-complete');\n",
              "    }\n",
              "    (() => {\n",
              "      let quickchartButtonEl =\n",
              "        document.querySelector('#df-9a861a54-2b64-45f3-babc-5ddcc28b78b7 button');\n",
              "      quickchartButtonEl.style.display =\n",
              "        google.colab.kernel.accessAllowed ? 'block' : 'none';\n",
              "    })();\n",
              "  </script>\n",
              "</div>\n",
              "    </div>\n",
              "  </div>\n"
            ],
            "application/vnd.google.colaboratory.intrinsic+json": {
              "type": "dataframe",
              "summary": "{\n  \"name\": \"df\",\n  \"rows\": 4,\n  \"fields\": [\n    {\n      \"column\": \"count\",\n      \"properties\": {\n        \"dtype\": \"number\",\n        \"std\": 507.5,\n        \"min\": 486.0,\n        \"max\": 1501.0,\n        \"num_unique_values\": 2,\n        \"samples\": [\n          486.0,\n          1501.0\n        ],\n        \"semantic_type\": \"\",\n        \"description\": \"\"\n      }\n    },\n    {\n      \"column\": \"mean\",\n      \"properties\": {\n        \"dtype\": \"number\",\n        \"std\": 20.399088309767695,\n        \"min\": 1.7741505662891406,\n        \"max\": 49.40572951365756,\n        \"num_unique_values\": 4,\n        \"samples\": [\n          1.7741505662891406,\n          15.502057613168724\n        ],\n        \"semantic_type\": \"\",\n        \"description\": \"\"\n      }\n    },\n    {\n      \"column\": \"std\",\n      \"properties\": {\n        \"dtype\": \"number\",\n        \"std\": 11.873750477224931,\n        \"min\": 1.187276166124807,\n        \"max\": 28.937034065089,\n        \"num_unique_values\": 4,\n        \"samples\": [\n          1.187276166124807,\n          9.25063363027757\n        ],\n        \"semantic_type\": \"\",\n        \"description\": \"\"\n      }\n    },\n    {\n      \"column\": \"min\",\n      \"properties\": {\n        \"dtype\": \"number\",\n        \"std\": 0.5,\n        \"min\": 0.0,\n        \"max\": 1.0,\n        \"num_unique_values\": 2,\n        \"samples\": [\n          1.0,\n          0.0\n        ],\n        \"semantic_type\": \"\",\n        \"description\": \"\"\n      }\n    },\n    {\n      \"column\": \"25%\",\n      \"properties\": {\n        \"dtype\": \"number\",\n        \"std\": 9.912113800799505,\n        \"min\": 1.0,\n        \"max\": 24.0,\n        \"num_unique_values\": 3,\n        \"samples\": [\n          24.0,\n          1.0\n        ],\n        \"semantic_type\": \"\",\n        \"description\": \"\"\n      }\n    },\n    {\n      \"column\": \"50%\",\n      \"properties\": {\n        \"dtype\": \"number\",\n        \"std\": 20.992061991778385,\n        \"min\": 1.0,\n        \"max\": 50.0,\n        \"num_unique_values\": 4,\n        \"samples\": [\n          1.0,\n          15.0\n        ],\n        \"semantic_type\": \"\",\n        \"description\": \"\"\n      }\n    },\n    {\n      \"column\": \"75%\",\n      \"properties\": {\n        \"dtype\": \"number\",\n        \"std\": 30.728651125618907,\n        \"min\": 2.0,\n        \"max\": 74.0,\n        \"num_unique_values\": 4,\n        \"samples\": [\n          2.0,\n          23.0\n        ],\n        \"semantic_type\": \"\",\n        \"description\": \"\"\n      }\n    },\n    {\n      \"column\": \"max\",\n      \"properties\": {\n        \"dtype\": \"number\",\n        \"std\": 40.431011200150145,\n        \"min\": 5.0,\n        \"max\": 99.0,\n        \"num_unique_values\": 4,\n        \"samples\": [\n          5.0,\n          31.0\n        ],\n        \"semantic_type\": \"\",\n        \"description\": \"\"\n      }\n    }\n  ]\n}"
            }
          },
          "metadata": {},
          "execution_count": 96
        }
      ],
      "source": [
        "df.describe().transpose()"
      ]
    },
    {
      "cell_type": "code",
      "execution_count": 97,
      "metadata": {
        "id": "qpdT8gMQNXgv"
      },
      "outputs": [],
      "source": [
        "mealmap = { 2. : \"Chicken Curry\",\n",
        "           3. : \"Spicy Chicken Nuggest\",\n",
        "           5. : \"Hamburger\",\n",
        "           9. : \"Taco Surprise\",\n",
        "           11. : \"Meatloaf\",\n",
        "           12. : \"Ceaser Salad\",\n",
        "           15. : \"BBQ Ribs\",\n",
        "           17. : \"Sushi Plate\",\n",
        "           19. : \"Cheesesteak Sandwhich\",\n",
        "           21. : \"Lasagna\",\n",
        "           23. : \"Orange Chicken\",\n",
        "           26. : \"Spicy Beef Plate\",\n",
        "           27. : \"Salmon with Mashed Potatoes\",\n",
        "           28. : \"Penne Tomatoe Pasta\",\n",
        "           29. : \"Pork Sliders\",\n",
        "           30. : \"Vietnamese Sandwich\",\n",
        "           31. : \"Chicken Wrap\",\n",
        "           np.nan: \"Cowboy Burger\",\n",
        "           4. : \"Pretzels and Cheese Plate\",\n",
        "           6. : \"Spicy Pork Sliders\",\n",
        "           13. : \"Mandarin Chicken PLate\",\n",
        "           14. : \"Kung Pao Chicken\",\n",
        "           16. : \"Fried Rice Plate\",\n",
        "           8. : \"Chicken Chow Mein\",\n",
        "           10. : \"Roasted Eggplant \",\n",
        "           18. : \"Pepperoni Pizza\",\n",
        "           22. : \"Pulled Pork Plate\",\n",
        "           0. : \"Cheese Pizza\",\n",
        "           1. : \"Burrito\",\n",
        "           7. : \"Nachos\",\n",
        "           24. : \"Chili\",\n",
        "           20. : \"Southwest Salad\",\n",
        "           25.: \"Roast Beef Sandwich\"}"
      ]
    },
    {
      "cell_type": "code",
      "execution_count": 98,
      "metadata": {
        "id": "JiebxpH8NXgv"
      },
      "outputs": [],
      "source": [
        "df['meal_name'] = df['mealskew'].map(mealmap)"
      ]
    },
    {
      "cell_type": "code",
      "execution_count": 99,
      "metadata": {
        "id": "qFyQT4b4NXgv"
      },
      "outputs": [],
      "source": [
        "df.to_csv('data/Meal_Info.csv',index=False)"
      ]
    },
    {
      "cell_type": "code",
      "execution_count": 100,
      "metadata": {
        "id": "y5Q5qJYINXgv"
      },
      "outputs": [],
      "source": [
        "data = spark.read.csv('data/Meal_Info.csv',inferSchema=True,header=True)"
      ]
    },
    {
      "cell_type": "code",
      "execution_count": 101,
      "metadata": {
        "id": "apLWlzYRNXgw",
        "outputId": "dfd059c8-572a-40f8-df57-1b6a565097a1",
        "colab": {
          "base_uri": "https://localhost:8080/"
        }
      },
      "outputs": [
        {
          "output_type": "stream",
          "name": "stdout",
          "text": [
            "+-------+------+------+--------+--------------------+\n",
            "|movieId|rating|userId|mealskew|           meal_name|\n",
            "+-------+------+------+--------+--------------------+\n",
            "|      2|   3.0|     0|     2.0|       Chicken Curry|\n",
            "|      3|   1.0|     0|     3.0|Spicy Chicken Nug...|\n",
            "|      5|   2.0|     0|     5.0|           Hamburger|\n",
            "|      9|   4.0|     0|     9.0|       Taco Surprise|\n",
            "|     11|   1.0|     0|    11.0|            Meatloaf|\n",
            "|     12|   2.0|     0|    12.0|        Ceaser Salad|\n",
            "|     15|   1.0|     0|    15.0|            BBQ Ribs|\n",
            "|     17|   1.0|     0|    17.0|         Sushi Plate|\n",
            "|     19|   1.0|     0|    19.0|Cheesesteak Sandw...|\n",
            "|     21|   1.0|     0|    21.0|             Lasagna|\n",
            "|     23|   1.0|     0|    23.0|      Orange Chicken|\n",
            "|     26|   3.0|     0|    26.0|    Spicy Beef Plate|\n",
            "|     27|   1.0|     0|    27.0|Salmon with Mashe...|\n",
            "|     28|   1.0|     0|    28.0| Penne Tomatoe Pasta|\n",
            "|     29|   1.0|     0|    29.0|        Pork Sliders|\n",
            "|     30|   1.0|     0|    30.0| Vietnamese Sandwich|\n",
            "|     31|   1.0|     0|    31.0|        Chicken Wrap|\n",
            "|     34|   1.0|     0|    NULL|       Cowboy Burger|\n",
            "|     37|   1.0|     0|    NULL|       Cowboy Burger|\n",
            "|     41|   2.0|     0|    NULL|       Cowboy Burger|\n",
            "+-------+------+------+--------+--------------------+\n",
            "only showing top 20 rows\n",
            "\n"
          ]
        }
      ],
      "source": [
        "data.show()"
      ]
    },
    {
      "cell_type": "markdown",
      "metadata": {
        "id": "p4pzhttMNXgw"
      },
      "source": [
        "________"
      ]
    },
    {
      "cell_type": "code",
      "source": [
        "(training, test) = data.randomSplit([0.8, 0.2])"
      ],
      "metadata": {
        "id": "eSodx_PTkCxC"
      },
      "execution_count": 102,
      "outputs": []
    },
    {
      "cell_type": "code",
      "source": [
        "from pyspark.ml.recommendation import ALS"
      ],
      "metadata": {
        "id": "cpwRMG4ryGzL"
      },
      "execution_count": 103,
      "outputs": []
    },
    {
      "cell_type": "code",
      "source": [
        "# Создаем экземпляр ALS (Alternating Least Squares - метод чередующихся наименьших квадратов)\n",
        "# maxIter=5 - максимальное количество итераций\n",
        "# regParam=0.01 - параметр регуляризации\n",
        "# userCol=\"userId\" - колонка с идентификаторами пользователей\n",
        "# itemCol=\"movieId\" - колонка с идентификаторами фильмов\n",
        "# ratingCol=\"rating\" - колонка с рейтингами\n",
        "als = ALS(maxIter=5, regParam=0.01, userCol=\"userId\", itemCol=\"movieId\", ratingCol=\"rating\")"
      ],
      "metadata": {
        "id": "Z9zEb1QUxbCG"
      },
      "execution_count": 104,
      "outputs": []
    },
    {
      "cell_type": "code",
      "source": [
        "# Обучаем модель на тренировочных данных\n",
        "model = als.fit(training)"
      ],
      "metadata": {
        "id": "Gd872Bgcxa8u"
      },
      "execution_count": 105,
      "outputs": []
    },
    {
      "cell_type": "code",
      "source": [
        "predictions = model.transform(test)"
      ],
      "metadata": {
        "id": "v9dDGHkpxa3_"
      },
      "execution_count": 106,
      "outputs": []
    },
    {
      "cell_type": "code",
      "source": [
        "predictions.show()"
      ],
      "metadata": {
        "colab": {
          "base_uri": "https://localhost:8080/"
        },
        "id": "GaRu61mJxazw",
        "outputId": "00b56f87-1de9-46b1-bb6c-b7a1bcafa2be"
      },
      "execution_count": 107,
      "outputs": [
        {
          "output_type": "stream",
          "name": "stdout",
          "text": [
            "+-------+------+------+--------+--------------------+------------+\n",
            "|movieId|rating|userId|mealskew|           meal_name|  prediction|\n",
            "+-------+------+------+--------+--------------------+------------+\n",
            "|      2|   1.0|    26|     2.0|       Chicken Curry|  0.87328017|\n",
            "|      4|   1.0|    12|     4.0|Pretzels and Chee...|  -1.2910495|\n",
            "|      0|   1.0|    22|     0.0|        Cheese Pizza|   2.9311786|\n",
            "|      6|   1.0|     1|     6.0|  Spicy Pork Sliders|-0.073086284|\n",
            "|      5|   1.0|    13|     5.0|           Hamburger|   1.6010289|\n",
            "|      6|   1.0|    20|     6.0|  Spicy Pork Sliders|   1.4649295|\n",
            "|      1|   1.0|     5|     1.0|             Burrito|  -1.8046918|\n",
            "|      8|   1.0|     5|     8.0|   Chicken Chow Mein|   2.2998126|\n",
            "|      0|   1.0|    19|     0.0|        Cheese Pizza|   0.7118062|\n",
            "|      2|   3.0|     9|     2.0|       Chicken Curry| -0.33303112|\n",
            "|      4|   1.0|     9|     4.0|Pretzels and Chee...|   1.3780953|\n",
            "|      2|   4.0|     8|     2.0|       Chicken Curry|   1.9512585|\n",
            "|      4|   2.0|     8|     4.0|Pretzels and Chee...|   2.2680337|\n",
            "|      1|   1.0|     7|     1.0|             Burrito|   1.2577693|\n",
            "|      7|   1.0|    25|     7.0|              Nachos|   2.2580159|\n",
            "|      6|   2.0|    11|     6.0|  Spicy Pork Sliders|   1.9442682|\n",
            "|      3|   3.0|    14|     3.0|Spicy Chicken Nug...|   1.3126769|\n",
            "|      5|   1.0|    14|     5.0|           Hamburger|   1.5545743|\n",
            "|      6|   1.0|     2|     6.0|  Spicy Pork Sliders|  -0.8224363|\n",
            "|      3|   1.0|     0|     3.0|Spicy Chicken Nug...|  -0.8541926|\n",
            "+-------+------+------+--------+--------------------+------------+\n",
            "only showing top 20 rows\n",
            "\n"
          ]
        }
      ]
    },
    {
      "cell_type": "code",
      "source": [
        "from pyspark.ml.evaluation import RegressionEvaluator"
      ],
      "metadata": {
        "id": "X2HpGdQbyZhd"
      },
      "execution_count": 108,
      "outputs": []
    },
    {
      "cell_type": "code",
      "source": [
        "# Создаем экземпляр RegressionEvaluator для оценки модели\n",
        "# metricName=\"rmse\" - используем метрику RMSE (Root Mean Square Error - квадратный корень из среднего квадрата ошибки)\n",
        "# labelCol=\"rating\" - колонка с истинными значениями рейтинга\n",
        "# predictionCol=\"prediction\" - колонка с предсказанными значениями рейтинга\n",
        "evaluator = RegressionEvaluator(metricName=\"rmse\", labelCol=\"rating\",predictionCol=\"prediction\")"
      ],
      "metadata": {
        "id": "FWQHveFpxauZ"
      },
      "execution_count": 109,
      "outputs": []
    },
    {
      "cell_type": "code",
      "source": [
        "# Вычисляем значение RMSE на предсказаниях модели\n",
        "rmse = evaluator.evaluate(predictions)\n",
        "\n",
        "# Выводим значение RMSE\n",
        "print(\"Root-mean-square error = \" + str(rmse))"
      ],
      "metadata": {
        "colab": {
          "base_uri": "https://localhost:8080/"
        },
        "id": "b4GDuf_yyR50",
        "outputId": "372c6b7d-eb14-446d-8fc2-4f9dde79c63a"
      },
      "execution_count": 110,
      "outputs": [
        {
          "output_type": "stream",
          "name": "stdout",
          "text": [
            "Root-mean-square error = 1.750837018137974\n"
          ]
        }
      ]
    },
    {
      "cell_type": "code",
      "source": [
        "# Предложим рекомендации пользователю\n",
        "# Функция\n",
        "def recommend_for_user(user_df, num_recommend=3):\n",
        "    recommend = model.transform(user_df)\n",
        "    recommend = recommend.orderBy('prediction', ascending=False)\n",
        "    top_recommend = recommend.limit(num_recommend)\n",
        "    # Присоединяем информацию о блюдах и удаляем дубликаты\n",
        "    top_recommend = top_recommend.join(data, on='movieId', how='inner') \\\n",
        "                                 .select('movieId', 'meal_name', 'prediction') \\\n",
        "                                 .distinct()\n",
        "\n",
        "    return top_recommend"
      ],
      "metadata": {
        "id": "QqZrxOGvyR0-"
      },
      "execution_count": 111,
      "outputs": []
    },
    {
      "cell_type": "code",
      "source": [
        "# Проверка\n",
        "single_user = test.filter(test['userId'] == 11).select(['movieId', 'userId'])\n",
        "recommend = recommend_for_user(single_user)\n",
        "recommend.show()"
      ],
      "metadata": {
        "colab": {
          "base_uri": "https://localhost:8080/"
        },
        "id": "UagdXqt8yRu-",
        "outputId": "75fe0836-e2b6-4310-c10a-aecd00601799"
      },
      "execution_count": 112,
      "outputs": [
        {
          "output_type": "stream",
          "name": "stdout",
          "text": [
            "+-------+-------------+----------+\n",
            "|movieId|    meal_name|prediction|\n",
            "+-------+-------------+----------+\n",
            "|     88|Cowboy Burger| 3.4117208|\n",
            "|     36|Cowboy Burger| 4.2782655|\n",
            "|     80|Cowboy Burger|   4.96745|\n",
            "+-------+-------------+----------+\n",
            "\n"
          ]
        }
      ]
    }
  ]
}