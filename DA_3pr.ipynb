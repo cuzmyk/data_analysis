{
  "cells": [
    {
      "cell_type": "markdown",
      "metadata": {
        "id": "view-in-github",
        "colab_type": "text"
      },
      "source": [
        "<a href=\"https://colab.research.google.com/github/cuzmyk/data_analysis/blob/main/DA_3pr.ipynb\" target=\"_parent\"><img src=\"https://colab.research.google.com/assets/colab-badge.svg\" alt=\"Open In Colab\"/></a>"
      ]
    },
    {
      "cell_type": "markdown",
      "source": [
        "# **Практическая работа №3. Применение методов глубокого обучения в среде Apache Spark**:"
      ],
      "metadata": {
        "id": "tb7run2kwbnC"
      }
    },
    {
      "cell_type": "code",
      "source": [
        "%%capture\n",
        "!pip install elephas\n",
        "!pip install findspark\n",
        "!pip install numpy==1.26.0\n",
        "\n",
        "# Перезапуск среды выполнения\n",
        "import os\n",
        "os.kill(os.getpid(), 9)\n",
        "\n",
        "# После установки библиотек появится сообщение \"Сеанс прекращен по неизвестной причине.\"\n",
        "# Так и должно быть. Запускайте код в следующих далее ячейках."
      ],
      "metadata": {
        "id": "lw9zree1frqe"
      },
      "execution_count": null,
      "outputs": []
    },
    {
      "cell_type": "code",
      "source": [
        "from tensorflow.keras.datasets import mnist\n",
        "from tensorflow.keras.models import Sequential\n",
        "from tensorflow.keras.layers import Dense, Dropout, Activation\n",
        "from tensorflow.keras.optimizers.legacy import SGD\n",
        "from tensorflow.keras.utils import to_categorical\n",
        "\n",
        "from elephas.spark_model import SparkModel\n",
        "from elephas.utils.rdd_utils import to_simple_rdd\n",
        "\n",
        "from pyspark import SparkContext, SparkConf\n",
        "from pyspark.sql import SparkSession\n",
        "import findspark\n",
        "\n",
        "findspark.init()"
      ],
      "metadata": {
        "id": "X89oYtcSgN3-"
      },
      "execution_count": 1,
      "outputs": []
    },
    {
      "cell_type": "code",
      "source": [
        "conf = SparkConf().setMaster(\"local\").setAppName(\"Data Analysis\")\n",
        "sc = SparkContext(conf = conf)\n",
        "spark = SparkSession(sc)"
      ],
      "metadata": {
        "id": "zk-6QWE6gQFE"
      },
      "execution_count": 2,
      "outputs": []
    },
    {
      "cell_type": "code",
      "source": [
        "from tensorflow.keras.datasets import mnist\n",
        "from tensorflow.keras.models import Sequential\n",
        "from tensorflow.keras.layers import Dense, Dropout, Activation\n",
        "from tensorflow.keras.utils import to_categorical\n",
        "from tensorflow.keras import optimizers\n",
        "from tensorflow.keras.optimizers.legacy import SGD\n",
        "\n",
        "from elephas.ml_model import ElephasEstimator\n",
        "from elephas.ml.adapter import to_data_frame\n",
        "\n",
        "from pyspark import SparkContext, SparkConf\n",
        "from pyspark.mllib.evaluation import MulticlassMetrics\n",
        "from pyspark.ml import Pipeline\n",
        "\n",
        "from pyspark.sql.functions import udf\n",
        "from pyspark.sql.types import IntegerType, FloatType\n",
        "\n",
        "import numpy as np"
      ],
      "metadata": {
        "id": "_kD7tFK-heX9"
      },
      "execution_count": 3,
      "outputs": []
    },
    {
      "cell_type": "markdown",
      "source": [
        "### **Задание 1. Обучите модель классификации**"
      ],
      "metadata": {
        "id": "7a5B0EGKwg2c"
      }
    },
    {
      "cell_type": "markdown",
      "source": [
        "Ссылка на датасеты: https://www.kaggle.com/datasets?search=classification&tags=13302-Classification"
      ],
      "metadata": {
        "id": "6-dZpkMsxJuJ"
      }
    },
    {
      "cell_type": "code",
      "source": [
        "from pyspark.ml.feature import OneHotEncoder, StringIndexer, StandardScaler, VectorAssembler"
      ],
      "metadata": {
        "id": "1lCOW59C6UAA"
      },
      "execution_count": 4,
      "outputs": []
    },
    {
      "cell_type": "code",
      "source": [
        "df = spark.read.csv('/content/drug200.csv', header=True, inferSchema=True)\n",
        "df.printSchema()\n",
        "df.show(5)"
      ],
      "metadata": {
        "colab": {
          "base_uri": "https://localhost:8080/"
        },
        "id": "UVp9Zh65TPKE",
        "outputId": "7490825f-1e90-4fa3-dd97-d3dba5f2cdaa"
      },
      "execution_count": 5,
      "outputs": [
        {
          "output_type": "stream",
          "name": "stdout",
          "text": [
            "root\n",
            " |-- Age: integer (nullable = true)\n",
            " |-- Sex: string (nullable = true)\n",
            " |-- BP: string (nullable = true)\n",
            " |-- Cholesterol: string (nullable = true)\n",
            " |-- Na_to_K: double (nullable = true)\n",
            " |-- Drug: string (nullable = true)\n",
            "\n",
            "+---+---+------+-----------+-------+-----+\n",
            "|Age|Sex|    BP|Cholesterol|Na_to_K| Drug|\n",
            "+---+---+------+-----------+-------+-----+\n",
            "| 23|  F|  HIGH|       HIGH| 25.355|DrugY|\n",
            "| 47|  M|   LOW|       HIGH| 13.093|drugC|\n",
            "| 47|  M|   LOW|       HIGH| 10.114|drugC|\n",
            "| 28|  F|NORMAL|       HIGH|  7.798|drugX|\n",
            "| 61|  F|   LOW|       HIGH| 18.043|DrugY|\n",
            "+---+---+------+-----------+-------+-----+\n",
            "only showing top 5 rows\n",
            "\n"
          ]
        }
      ]
    },
    {
      "cell_type": "code",
      "source": [
        "from pyspark.ml.feature import StringIndexer\n",
        "indexer_sex = StringIndexer(inputCol='Sex', outputCol='Sex_index')\n",
        "indexer_bp = StringIndexer(inputCol='BP', outputCol='BP_index')\n",
        "indexer_ch = StringIndexer(inputCol='Cholesterol', outputCol='Cholesterol_index')\n",
        "indexer_drug = StringIndexer(inputCol='Drug', outputCol='label')\n",
        "\n",
        "df = indexer_sex.fit(df).transform(df)\n",
        "df = indexer_bp.fit(df).transform(df)\n",
        "df = indexer_ch.fit(df).transform(df)\n",
        "df = indexer_drug.fit(df).transform(df)"
      ],
      "metadata": {
        "id": "1_V6P3CrrdRo"
      },
      "execution_count": 6,
      "outputs": []
    },
    {
      "cell_type": "code",
      "source": [
        "encoder = OneHotEncoder(\n",
        "    inputCols=[\"Sex_index\", \"BP_index\", \"Cholesterol_index\"],\n",
        "    outputCols=[\"SexVec\", \"BPVec\", \"CholVec\"]\n",
        ")\n",
        "df = encoder.fit(df).transform(df)"
      ],
      "metadata": {
        "id": "y1AHntckwNvi"
      },
      "execution_count": 7,
      "outputs": []
    },
    {
      "cell_type": "code",
      "source": [
        "assembler = VectorAssembler(\n",
        "    inputCols=['Age', 'Sex_index', 'BP_index', 'Cholesterol_index', 'Na_to_K'],\n",
        "    outputCol='features'\n",
        ")"
      ],
      "metadata": {
        "id": "CHZIcLhKrdNw"
      },
      "execution_count": 8,
      "outputs": []
    },
    {
      "cell_type": "code",
      "source": [
        "output = assembler.transform(df)\n",
        "output.select(\"features\").show()"
      ],
      "metadata": {
        "colab": {
          "base_uri": "https://localhost:8080/"
        },
        "id": "5rf-v_Vu1DoD",
        "outputId": "8061e9bc-4948-45d0-ef91-9362efa96fc7"
      },
      "execution_count": 9,
      "outputs": [
        {
          "output_type": "stream",
          "name": "stdout",
          "text": [
            "+--------------------+\n",
            "|            features|\n",
            "+--------------------+\n",
            "|[23.0,1.0,0.0,0.0...|\n",
            "|[47.0,0.0,1.0,0.0...|\n",
            "|[47.0,0.0,1.0,0.0...|\n",
            "|[28.0,1.0,2.0,0.0...|\n",
            "|[61.0,1.0,1.0,0.0...|\n",
            "|[22.0,1.0,2.0,0.0...|\n",
            "|[49.0,1.0,2.0,0.0...|\n",
            "|[41.0,0.0,1.0,0.0...|\n",
            "|[60.0,0.0,2.0,0.0...|\n",
            "|[43.0,0.0,1.0,1.0...|\n",
            "|[47.0,1.0,1.0,0.0...|\n",
            "|[34.0,1.0,0.0,1.0...|\n",
            "|[43.0,0.0,1.0,0.0...|\n",
            "|[74.0,1.0,1.0,0.0...|\n",
            "|[50.0,1.0,2.0,0.0...|\n",
            "|[16.0,1.0,0.0,1.0...|\n",
            "|[69.0,0.0,1.0,1.0...|\n",
            "|(5,[0,4],[43.0,13...|\n",
            "|[23.0,0.0,1.0,0.0...|\n",
            "|[32.0,1.0,0.0,1.0...|\n",
            "+--------------------+\n",
            "only showing top 20 rows\n",
            "\n"
          ]
        }
      ]
    },
    {
      "cell_type": "code",
      "source": [
        "output.show()"
      ],
      "metadata": {
        "colab": {
          "base_uri": "https://localhost:8080/"
        },
        "id": "Cja3KVdr1IkI",
        "outputId": "bc29b227-f8a9-40d8-e521-2974b58a4239"
      },
      "execution_count": 10,
      "outputs": [
        {
          "output_type": "stream",
          "name": "stdout",
          "text": [
            "+---+---+------+-----------+-------+-----+---------+--------+-----------------+-----+-------------+-------------+-------------+--------------------+\n",
            "|Age|Sex|    BP|Cholesterol|Na_to_K| Drug|Sex_index|BP_index|Cholesterol_index|label|       SexVec|        BPVec|      CholVec|            features|\n",
            "+---+---+------+-----------+-------+-----+---------+--------+-----------------+-----+-------------+-------------+-------------+--------------------+\n",
            "| 23|  F|  HIGH|       HIGH| 25.355|DrugY|      1.0|     0.0|              0.0|  0.0|    (1,[],[])|(2,[0],[1.0])|(1,[0],[1.0])|[23.0,1.0,0.0,0.0...|\n",
            "| 47|  M|   LOW|       HIGH| 13.093|drugC|      0.0|     1.0|              0.0|  4.0|(1,[0],[1.0])|(2,[1],[1.0])|(1,[0],[1.0])|[47.0,0.0,1.0,0.0...|\n",
            "| 47|  M|   LOW|       HIGH| 10.114|drugC|      0.0|     1.0|              0.0|  4.0|(1,[0],[1.0])|(2,[1],[1.0])|(1,[0],[1.0])|[47.0,0.0,1.0,0.0...|\n",
            "| 28|  F|NORMAL|       HIGH|  7.798|drugX|      1.0|     2.0|              0.0|  1.0|    (1,[],[])|    (2,[],[])|(1,[0],[1.0])|[28.0,1.0,2.0,0.0...|\n",
            "| 61|  F|   LOW|       HIGH| 18.043|DrugY|      1.0|     1.0|              0.0|  0.0|    (1,[],[])|(2,[1],[1.0])|(1,[0],[1.0])|[61.0,1.0,1.0,0.0...|\n",
            "| 22|  F|NORMAL|       HIGH|  8.607|drugX|      1.0|     2.0|              0.0|  1.0|    (1,[],[])|    (2,[],[])|(1,[0],[1.0])|[22.0,1.0,2.0,0.0...|\n",
            "| 49|  F|NORMAL|       HIGH| 16.275|DrugY|      1.0|     2.0|              0.0|  0.0|    (1,[],[])|    (2,[],[])|(1,[0],[1.0])|[49.0,1.0,2.0,0.0...|\n",
            "| 41|  M|   LOW|       HIGH| 11.037|drugC|      0.0|     1.0|              0.0|  4.0|(1,[0],[1.0])|(2,[1],[1.0])|(1,[0],[1.0])|[41.0,0.0,1.0,0.0...|\n",
            "| 60|  M|NORMAL|       HIGH| 15.171|DrugY|      0.0|     2.0|              0.0|  0.0|(1,[0],[1.0])|    (2,[],[])|(1,[0],[1.0])|[60.0,0.0,2.0,0.0...|\n",
            "| 43|  M|   LOW|     NORMAL| 19.368|DrugY|      0.0|     1.0|              1.0|  0.0|(1,[0],[1.0])|(2,[1],[1.0])|    (1,[],[])|[43.0,0.0,1.0,1.0...|\n",
            "| 47|  F|   LOW|       HIGH| 11.767|drugC|      1.0|     1.0|              0.0|  4.0|    (1,[],[])|(2,[1],[1.0])|(1,[0],[1.0])|[47.0,1.0,1.0,0.0...|\n",
            "| 34|  F|  HIGH|     NORMAL| 19.199|DrugY|      1.0|     0.0|              1.0|  0.0|    (1,[],[])|(2,[0],[1.0])|    (1,[],[])|[34.0,1.0,0.0,1.0...|\n",
            "| 43|  M|   LOW|       HIGH| 15.376|DrugY|      0.0|     1.0|              0.0|  0.0|(1,[0],[1.0])|(2,[1],[1.0])|(1,[0],[1.0])|[43.0,0.0,1.0,0.0...|\n",
            "| 74|  F|   LOW|       HIGH| 20.942|DrugY|      1.0|     1.0|              0.0|  0.0|    (1,[],[])|(2,[1],[1.0])|(1,[0],[1.0])|[74.0,1.0,1.0,0.0...|\n",
            "| 50|  F|NORMAL|       HIGH| 12.703|drugX|      1.0|     2.0|              0.0|  1.0|    (1,[],[])|    (2,[],[])|(1,[0],[1.0])|[50.0,1.0,2.0,0.0...|\n",
            "| 16|  F|  HIGH|     NORMAL| 15.516|DrugY|      1.0|     0.0|              1.0|  0.0|    (1,[],[])|(2,[0],[1.0])|    (1,[],[])|[16.0,1.0,0.0,1.0...|\n",
            "| 69|  M|   LOW|     NORMAL| 11.455|drugX|      0.0|     1.0|              1.0|  1.0|(1,[0],[1.0])|(2,[1],[1.0])|    (1,[],[])|[69.0,0.0,1.0,1.0...|\n",
            "| 43|  M|  HIGH|       HIGH| 13.972|drugA|      0.0|     0.0|              0.0|  2.0|(1,[0],[1.0])|(2,[0],[1.0])|(1,[0],[1.0])|(5,[0,4],[43.0,13...|\n",
            "| 23|  M|   LOW|       HIGH|  7.298|drugC|      0.0|     1.0|              0.0|  4.0|(1,[0],[1.0])|(2,[1],[1.0])|(1,[0],[1.0])|[23.0,0.0,1.0,0.0...|\n",
            "| 32|  F|  HIGH|     NORMAL| 25.974|DrugY|      1.0|     0.0|              1.0|  0.0|    (1,[],[])|(2,[0],[1.0])|    (1,[],[])|[32.0,1.0,0.0,1.0...|\n",
            "+---+---+------+-----------+-------+-----+---------+--------+-----------------+-----+-------------+-------------+-------------+--------------------+\n",
            "only showing top 20 rows\n",
            "\n"
          ]
        }
      ]
    },
    {
      "cell_type": "code",
      "source": [
        "final_data = output.select(\"features\",'label')"
      ],
      "metadata": {
        "id": "sXWh_HeM1L43"
      },
      "execution_count": 11,
      "outputs": []
    },
    {
      "cell_type": "code",
      "source": [
        "# Разделение на обучающую и тестовую выборку\n",
        "train_data, test_data = final_data.randomSplit([0.7,0.3])"
      ],
      "metadata": {
        "id": "tFuDxc5fwU4v"
      },
      "execution_count": 12,
      "outputs": []
    },
    {
      "cell_type": "code",
      "source": [
        "# Создание модели Keras\n",
        "model = Sequential()\n",
        "model.add(Dense(64, input_shape=(train_data.select('features').first()[0].size,)))\n",
        "model.add(Activation('relu'))\n",
        "model.add(Dense(64))\n",
        "model.add(Activation('relu'))\n",
        "model.add(Dense(5, activation='softmax'))  # 5 классов (типов лекарств)"
      ],
      "metadata": {
        "id": "t04MjLQVrdJq"
      },
      "execution_count": 13,
      "outputs": []
    },
    {
      "cell_type": "code",
      "source": [
        "# Компиляция модели\n",
        "from tensorflow.keras.optimizers import Adam\n",
        "\n",
        "model.compile(optimizer=Adam(learning_rate=0.0001),\n",
        "              loss='categorical_crossentropy',\n",
        "              metrics=['accuracy'])"
      ],
      "metadata": {
        "id": "tJM7TksLxTbt"
      },
      "execution_count": 14,
      "outputs": []
    },
    {
      "cell_type": "code",
      "source": [
        "# Настройка оптимизатора\n",
        "adam_optimizer = Adam(learning_rate=0.0001)\n",
        "adam_conf = optimizers.serialize(adam_optimizer)"
      ],
      "metadata": {
        "id": "z5xVg61iyOrl"
      },
      "execution_count": 15,
      "outputs": []
    },
    {
      "cell_type": "code",
      "source": [
        "def to_data_frame(spark, x_data, y_data):\n",
        "    return spark.createDataFrame(\n",
        "        [(Vectors.dense(x), int(y)) for x, y in zip(x_data, y_data)],\n",
        "        ['features', 'label']\n",
        "    )"
      ],
      "metadata": {
        "id": "XZvKYrUByPl4"
      },
      "execution_count": 16,
      "outputs": []
    },
    {
      "cell_type": "code",
      "source": [
        "# Преобразуем данные для обучения и тестирования\n",
        "from pyspark.ml.linalg import Vectors\n",
        "\n",
        "train_features = [Vectors.dense(row[0].toArray()) for row in train_data.select('features').collect()]\n",
        "train_labels = [row[0] for row in train_data.select('label').collect()]\n",
        "df_train = spark.createDataFrame(zip(train_features, train_labels), [\"features\", \"label\"])\n",
        "\n",
        "test_features = [Vectors.dense(row[0].toArray()) for row in test_data.select('features').collect()]\n",
        "test_labels = [row[0] for row in test_data.select('label').collect()]\n",
        "df_test = spark.createDataFrame(zip(test_features, test_labels), [\"features\", \"label\"])"
      ],
      "metadata": {
        "id": "aC25IQc6yRpu"
      },
      "execution_count": 17,
      "outputs": []
    },
    {
      "cell_type": "code",
      "source": [
        "# Создание и настройка ElephasEstimator\n",
        "estimator = ElephasEstimator()\n",
        "estimator.set_keras_model_config(model.to_json())\n",
        "estimator.set_optimizer_config({\"class_name\": \"Adam\", \"config\": {\"learning_rate\": 0.0001}})\n",
        "estimator.set_mode(\"asynchronous\")\n",
        "estimator.set_loss(\"sparse_categorical_crossentropy\")\n",
        "estimator.set_metrics(['accuracy'])\n",
        "estimator.set_epochs(30)\n",
        "estimator.set_batch_size(2)\n",
        "estimator.set_validation_split(0.1)\n",
        "estimator.set_categorical_labels(False)"
      ],
      "metadata": {
        "colab": {
          "base_uri": "https://localhost:8080/"
        },
        "id": "Pg2Rhy6OrdDJ",
        "outputId": "1cc21103-cc4a-4a24-d8b4-5cb6fe9d85ce"
      },
      "execution_count": 18,
      "outputs": [
        {
          "output_type": "execute_result",
          "data": {
            "text/plain": [
              "ElephasEstimator_3111c9c4639d"
            ]
          },
          "metadata": {},
          "execution_count": 18
        }
      ]
    },
    {
      "cell_type": "code",
      "source": [
        "model.summary()"
      ],
      "metadata": {
        "colab": {
          "base_uri": "https://localhost:8080/"
        },
        "id": "P_c7m1l4rc_q",
        "outputId": "15378c4e-dc52-4878-fefe-288842a1bf98"
      },
      "execution_count": 19,
      "outputs": [
        {
          "output_type": "stream",
          "name": "stdout",
          "text": [
            "Model: \"sequential\"\n",
            "_________________________________________________________________\n",
            " Layer (type)                Output Shape              Param #   \n",
            "=================================================================\n",
            " dense (Dense)               (None, 64)                384       \n",
            "                                                                 \n",
            " activation (Activation)     (None, 64)                0         \n",
            "                                                                 \n",
            " dense_1 (Dense)             (None, 64)                4160      \n",
            "                                                                 \n",
            " activation_1 (Activation)   (None, 64)                0         \n",
            "                                                                 \n",
            " dense_2 (Dense)             (None, 5)                 325       \n",
            "                                                                 \n",
            "=================================================================\n",
            "Total params: 4869 (19.02 KB)\n",
            "Trainable params: 4869 (19.02 KB)\n",
            "Non-trainable params: 0 (0.00 Byte)\n",
            "_________________________________________________________________\n"
          ]
        }
      ]
    },
    {
      "cell_type": "code",
      "source": [
        "from pyspark.ml import Pipeline\n",
        "import numpy as np\n",
        "from pyspark.sql.functions import udf\n",
        "from pyspark.sql.types import IntegerType\n",
        "from pyspark.mllib.evaluation import MulticlassMetrics"
      ],
      "metadata": {
        "id": "AvTrpyj44k4h"
      },
      "execution_count": 20,
      "outputs": []
    },
    {
      "cell_type": "code",
      "source": [
        "# Обучаем модель через ElephasEstimator\n",
        "pipeline = Pipeline(stages=[estimator])\n",
        "\n",
        "# Обучение на тренировочном наборе\n",
        "fitted_pipeline = pipeline.fit(df_train)"
      ],
      "metadata": {
        "colab": {
          "base_uri": "https://localhost:8080/"
        },
        "outputId": "79b42250-17e7-4975-98f3-7c09fed6d312",
        "id": "Akn9kywwPbr_"
      },
      "execution_count": 21,
      "outputs": [
        {
          "output_type": "stream",
          "name": "stdout",
          "text": [
            ">>> Fit model\n",
            " * Serving Flask app 'elephas.parameter.server'\n",
            " * Debug mode: off\n"
          ]
        },
        {
          "output_type": "stream",
          "name": "stderr",
          "text": [
            "INFO:werkzeug:\u001b[31m\u001b[1mWARNING: This is a development server. Do not use it in a production deployment. Use a production WSGI server instead.\u001b[0m\n",
            " * Running on http://172.28.0.12:4000\n",
            "INFO:werkzeug:\u001b[33mPress CTRL+C to quit\u001b[0m\n"
          ]
        },
        {
          "output_type": "stream",
          "name": "stdout",
          "text": [
            ">>> Initialize workers\n",
            ">>> Distribute load\n"
          ]
        },
        {
          "output_type": "stream",
          "name": "stderr",
          "text": [
            "INFO:werkzeug:172.28.0.12 - - [03/Jun/2025 17:44:21] \"GET /parameters HTTP/1.1\" 200 -\n",
            "INFO:werkzeug:172.28.0.12 - - [03/Jun/2025 17:44:22] \"POST /update HTTP/1.1\" 200 -\n",
            "INFO:werkzeug:172.28.0.12 - - [03/Jun/2025 17:44:22] \"GET /parameters HTTP/1.1\" 200 -\n",
            "INFO:werkzeug:172.28.0.12 - - [03/Jun/2025 17:44:22] \"POST /update HTTP/1.1\" 200 -\n",
            "INFO:werkzeug:172.28.0.12 - - [03/Jun/2025 17:44:22] \"GET /parameters HTTP/1.1\" 200 -\n",
            "INFO:werkzeug:172.28.0.12 - - [03/Jun/2025 17:44:22] \"POST /update HTTP/1.1\" 200 -\n",
            "INFO:werkzeug:172.28.0.12 - - [03/Jun/2025 17:44:22] \"GET /parameters HTTP/1.1\" 200 -\n",
            "INFO:werkzeug:172.28.0.12 - - [03/Jun/2025 17:44:22] \"POST /update HTTP/1.1\" 200 -\n",
            "INFO:werkzeug:172.28.0.12 - - [03/Jun/2025 17:44:22] \"GET /parameters HTTP/1.1\" 200 -\n",
            "INFO:werkzeug:172.28.0.12 - - [03/Jun/2025 17:44:23] \"POST /update HTTP/1.1\" 200 -\n",
            "INFO:werkzeug:172.28.0.12 - - [03/Jun/2025 17:44:23] \"GET /parameters HTTP/1.1\" 200 -\n",
            "INFO:werkzeug:172.28.0.12 - - [03/Jun/2025 17:44:23] \"POST /update HTTP/1.1\" 200 -\n",
            "INFO:werkzeug:172.28.0.12 - - [03/Jun/2025 17:44:23] \"GET /parameters HTTP/1.1\" 200 -\n",
            "INFO:werkzeug:172.28.0.12 - - [03/Jun/2025 17:44:23] \"POST /update HTTP/1.1\" 200 -\n",
            "INFO:werkzeug:172.28.0.12 - - [03/Jun/2025 17:44:23] \"GET /parameters HTTP/1.1\" 200 -\n",
            "INFO:werkzeug:172.28.0.12 - - [03/Jun/2025 17:44:23] \"POST /update HTTP/1.1\" 200 -\n",
            "INFO:werkzeug:172.28.0.12 - - [03/Jun/2025 17:44:23] \"GET /parameters HTTP/1.1\" 200 -\n",
            "INFO:werkzeug:172.28.0.12 - - [03/Jun/2025 17:44:23] \"POST /update HTTP/1.1\" 200 -\n",
            "INFO:werkzeug:172.28.0.12 - - [03/Jun/2025 17:44:23] \"GET /parameters HTTP/1.1\" 200 -\n",
            "INFO:werkzeug:172.28.0.12 - - [03/Jun/2025 17:44:24] \"POST /update HTTP/1.1\" 200 -\n",
            "INFO:werkzeug:172.28.0.12 - - [03/Jun/2025 17:44:24] \"GET /parameters HTTP/1.1\" 200 -\n",
            "INFO:werkzeug:172.28.0.12 - - [03/Jun/2025 17:44:24] \"POST /update HTTP/1.1\" 200 -\n",
            "INFO:werkzeug:172.28.0.12 - - [03/Jun/2025 17:44:24] \"GET /parameters HTTP/1.1\" 200 -\n",
            "INFO:werkzeug:172.28.0.12 - - [03/Jun/2025 17:44:24] \"POST /update HTTP/1.1\" 200 -\n",
            "INFO:werkzeug:172.28.0.12 - - [03/Jun/2025 17:44:24] \"GET /parameters HTTP/1.1\" 200 -\n",
            "INFO:werkzeug:172.28.0.12 - - [03/Jun/2025 17:44:24] \"POST /update HTTP/1.1\" 200 -\n",
            "INFO:werkzeug:172.28.0.12 - - [03/Jun/2025 17:44:24] \"GET /parameters HTTP/1.1\" 200 -\n",
            "INFO:werkzeug:172.28.0.12 - - [03/Jun/2025 17:44:24] \"POST /update HTTP/1.1\" 200 -\n",
            "INFO:werkzeug:172.28.0.12 - - [03/Jun/2025 17:44:24] \"GET /parameters HTTP/1.1\" 200 -\n",
            "INFO:werkzeug:172.28.0.12 - - [03/Jun/2025 17:44:25] \"POST /update HTTP/1.1\" 200 -\n",
            "INFO:werkzeug:172.28.0.12 - - [03/Jun/2025 17:44:25] \"GET /parameters HTTP/1.1\" 200 -\n",
            "INFO:werkzeug:172.28.0.12 - - [03/Jun/2025 17:44:25] \"POST /update HTTP/1.1\" 200 -\n",
            "INFO:werkzeug:172.28.0.12 - - [03/Jun/2025 17:44:25] \"GET /parameters HTTP/1.1\" 200 -\n",
            "INFO:werkzeug:172.28.0.12 - - [03/Jun/2025 17:44:25] \"POST /update HTTP/1.1\" 200 -\n",
            "INFO:werkzeug:172.28.0.12 - - [03/Jun/2025 17:44:25] \"GET /parameters HTTP/1.1\" 200 -\n",
            "INFO:werkzeug:172.28.0.12 - - [03/Jun/2025 17:44:25] \"POST /update HTTP/1.1\" 200 -\n",
            "INFO:werkzeug:172.28.0.12 - - [03/Jun/2025 17:44:25] \"GET /parameters HTTP/1.1\" 200 -\n",
            "INFO:werkzeug:172.28.0.12 - - [03/Jun/2025 17:44:25] \"POST /update HTTP/1.1\" 200 -\n",
            "INFO:werkzeug:172.28.0.12 - - [03/Jun/2025 17:44:25] \"GET /parameters HTTP/1.1\" 200 -\n",
            "INFO:werkzeug:172.28.0.12 - - [03/Jun/2025 17:44:26] \"POST /update HTTP/1.1\" 200 -\n",
            "INFO:werkzeug:172.28.0.12 - - [03/Jun/2025 17:44:26] \"GET /parameters HTTP/1.1\" 200 -\n",
            "INFO:werkzeug:172.28.0.12 - - [03/Jun/2025 17:44:26] \"POST /update HTTP/1.1\" 200 -\n",
            "INFO:werkzeug:172.28.0.12 - - [03/Jun/2025 17:44:26] \"GET /parameters HTTP/1.1\" 200 -\n",
            "INFO:werkzeug:172.28.0.12 - - [03/Jun/2025 17:44:26] \"POST /update HTTP/1.1\" 200 -\n",
            "INFO:werkzeug:172.28.0.12 - - [03/Jun/2025 17:44:26] \"GET /parameters HTTP/1.1\" 200 -\n",
            "INFO:werkzeug:172.28.0.12 - - [03/Jun/2025 17:44:26] \"POST /update HTTP/1.1\" 200 -\n",
            "INFO:werkzeug:172.28.0.12 - - [03/Jun/2025 17:44:26] \"GET /parameters HTTP/1.1\" 200 -\n",
            "INFO:werkzeug:172.28.0.12 - - [03/Jun/2025 17:44:26] \"POST /update HTTP/1.1\" 200 -\n",
            "INFO:werkzeug:172.28.0.12 - - [03/Jun/2025 17:44:26] \"GET /parameters HTTP/1.1\" 200 -\n",
            "INFO:werkzeug:172.28.0.12 - - [03/Jun/2025 17:44:27] \"POST /update HTTP/1.1\" 200 -\n",
            "INFO:werkzeug:172.28.0.12 - - [03/Jun/2025 17:44:27] \"GET /parameters HTTP/1.1\" 200 -\n",
            "INFO:werkzeug:172.28.0.12 - - [03/Jun/2025 17:44:27] \"POST /update HTTP/1.1\" 200 -\n",
            "INFO:werkzeug:172.28.0.12 - - [03/Jun/2025 17:44:27] \"GET /parameters HTTP/1.1\" 200 -\n",
            "INFO:werkzeug:172.28.0.12 - - [03/Jun/2025 17:44:27] \"POST /update HTTP/1.1\" 200 -\n",
            "INFO:werkzeug:172.28.0.12 - - [03/Jun/2025 17:44:27] \"GET /parameters HTTP/1.1\" 200 -\n",
            "INFO:werkzeug:172.28.0.12 - - [03/Jun/2025 17:44:27] \"POST /update HTTP/1.1\" 200 -\n",
            "INFO:werkzeug:172.28.0.12 - - [03/Jun/2025 17:44:27] \"GET /parameters HTTP/1.1\" 200 -\n",
            "INFO:werkzeug:172.28.0.12 - - [03/Jun/2025 17:44:27] \"POST /update HTTP/1.1\" 200 -\n",
            "INFO:werkzeug:172.28.0.12 - - [03/Jun/2025 17:44:27] \"GET /parameters HTTP/1.1\" 200 -\n",
            "INFO:werkzeug:172.28.0.12 - - [03/Jun/2025 17:44:28] \"POST /update HTTP/1.1\" 200 -\n",
            "INFO:werkzeug:172.28.0.12 - - [03/Jun/2025 17:44:33] \"GET /parameters HTTP/1.1\" 200 -\n",
            "INFO:werkzeug:172.28.0.12 - - [03/Jun/2025 17:44:34] \"POST /update HTTP/1.1\" 200 -\n",
            "INFO:werkzeug:172.28.0.12 - - [03/Jun/2025 17:44:34] \"GET /parameters HTTP/1.1\" 200 -\n",
            "INFO:werkzeug:172.28.0.12 - - [03/Jun/2025 17:44:34] \"POST /update HTTP/1.1\" 200 -\n",
            "INFO:werkzeug:172.28.0.12 - - [03/Jun/2025 17:44:34] \"GET /parameters HTTP/1.1\" 200 -\n",
            "INFO:werkzeug:172.28.0.12 - - [03/Jun/2025 17:44:35] \"POST /update HTTP/1.1\" 200 -\n",
            "INFO:werkzeug:172.28.0.12 - - [03/Jun/2025 17:44:35] \"GET /parameters HTTP/1.1\" 200 -\n",
            "INFO:werkzeug:172.28.0.12 - - [03/Jun/2025 17:44:35] \"POST /update HTTP/1.1\" 200 -\n",
            "INFO:werkzeug:172.28.0.12 - - [03/Jun/2025 17:44:35] \"GET /parameters HTTP/1.1\" 200 -\n",
            "INFO:werkzeug:172.28.0.12 - - [03/Jun/2025 17:44:35] \"POST /update HTTP/1.1\" 200 -\n",
            "INFO:werkzeug:172.28.0.12 - - [03/Jun/2025 17:44:35] \"GET /parameters HTTP/1.1\" 200 -\n",
            "INFO:werkzeug:172.28.0.12 - - [03/Jun/2025 17:44:35] \"POST /update HTTP/1.1\" 200 -\n",
            "INFO:werkzeug:172.28.0.12 - - [03/Jun/2025 17:44:35] \"GET /parameters HTTP/1.1\" 200 -\n",
            "INFO:werkzeug:172.28.0.12 - - [03/Jun/2025 17:44:35] \"POST /update HTTP/1.1\" 200 -\n",
            "INFO:werkzeug:172.28.0.12 - - [03/Jun/2025 17:44:35] \"GET /parameters HTTP/1.1\" 200 -\n",
            "INFO:werkzeug:172.28.0.12 - - [03/Jun/2025 17:44:35] \"POST /update HTTP/1.1\" 200 -\n",
            "INFO:werkzeug:172.28.0.12 - - [03/Jun/2025 17:44:35] \"GET /parameters HTTP/1.1\" 200 -\n",
            "INFO:werkzeug:172.28.0.12 - - [03/Jun/2025 17:44:36] \"POST /update HTTP/1.1\" 200 -\n",
            "INFO:werkzeug:172.28.0.12 - - [03/Jun/2025 17:44:36] \"GET /parameters HTTP/1.1\" 200 -\n",
            "INFO:werkzeug:172.28.0.12 - - [03/Jun/2025 17:44:36] \"POST /update HTTP/1.1\" 200 -\n",
            "INFO:werkzeug:172.28.0.12 - - [03/Jun/2025 17:44:36] \"GET /parameters HTTP/1.1\" 200 -\n",
            "INFO:werkzeug:172.28.0.12 - - [03/Jun/2025 17:44:36] \"POST /update HTTP/1.1\" 200 -\n",
            "INFO:werkzeug:172.28.0.12 - - [03/Jun/2025 17:44:36] \"GET /parameters HTTP/1.1\" 200 -\n",
            "INFO:werkzeug:172.28.0.12 - - [03/Jun/2025 17:44:36] \"POST /update HTTP/1.1\" 200 -\n",
            "INFO:werkzeug:172.28.0.12 - - [03/Jun/2025 17:44:36] \"GET /parameters HTTP/1.1\" 200 -\n",
            "INFO:werkzeug:172.28.0.12 - - [03/Jun/2025 17:44:36] \"POST /update HTTP/1.1\" 200 -\n",
            "INFO:werkzeug:172.28.0.12 - - [03/Jun/2025 17:44:36] \"GET /parameters HTTP/1.1\" 200 -\n",
            "INFO:werkzeug:172.28.0.12 - - [03/Jun/2025 17:44:36] \"POST /update HTTP/1.1\" 200 -\n",
            "INFO:werkzeug:172.28.0.12 - - [03/Jun/2025 17:44:36] \"GET /parameters HTTP/1.1\" 200 -\n",
            "INFO:werkzeug:172.28.0.12 - - [03/Jun/2025 17:44:37] \"POST /update HTTP/1.1\" 200 -\n",
            "INFO:werkzeug:172.28.0.12 - - [03/Jun/2025 17:44:37] \"GET /parameters HTTP/1.1\" 200 -\n",
            "INFO:werkzeug:172.28.0.12 - - [03/Jun/2025 17:44:37] \"POST /update HTTP/1.1\" 200 -\n",
            "INFO:werkzeug:172.28.0.12 - - [03/Jun/2025 17:44:37] \"GET /parameters HTTP/1.1\" 200 -\n",
            "INFO:werkzeug:172.28.0.12 - - [03/Jun/2025 17:44:37] \"POST /update HTTP/1.1\" 200 -\n",
            "INFO:werkzeug:172.28.0.12 - - [03/Jun/2025 17:44:37] \"GET /parameters HTTP/1.1\" 200 -\n",
            "INFO:werkzeug:172.28.0.12 - - [03/Jun/2025 17:44:37] \"POST /update HTTP/1.1\" 200 -\n",
            "INFO:werkzeug:172.28.0.12 - - [03/Jun/2025 17:44:37] \"GET /parameters HTTP/1.1\" 200 -\n",
            "INFO:werkzeug:172.28.0.12 - - [03/Jun/2025 17:44:37] \"POST /update HTTP/1.1\" 200 -\n",
            "INFO:werkzeug:172.28.0.12 - - [03/Jun/2025 17:44:37] \"GET /parameters HTTP/1.1\" 200 -\n",
            "INFO:werkzeug:172.28.0.12 - - [03/Jun/2025 17:44:37] \"POST /update HTTP/1.1\" 200 -\n",
            "INFO:werkzeug:172.28.0.12 - - [03/Jun/2025 17:44:37] \"GET /parameters HTTP/1.1\" 200 -\n",
            "INFO:werkzeug:172.28.0.12 - - [03/Jun/2025 17:44:38] \"POST /update HTTP/1.1\" 200 -\n",
            "INFO:werkzeug:172.28.0.12 - - [03/Jun/2025 17:44:38] \"GET /parameters HTTP/1.1\" 200 -\n",
            "INFO:werkzeug:172.28.0.12 - - [03/Jun/2025 17:44:38] \"POST /update HTTP/1.1\" 200 -\n",
            "INFO:werkzeug:172.28.0.12 - - [03/Jun/2025 17:44:38] \"GET /parameters HTTP/1.1\" 200 -\n",
            "INFO:werkzeug:172.28.0.12 - - [03/Jun/2025 17:44:38] \"POST /update HTTP/1.1\" 200 -\n",
            "INFO:werkzeug:172.28.0.12 - - [03/Jun/2025 17:44:38] \"GET /parameters HTTP/1.1\" 200 -\n",
            "INFO:werkzeug:172.28.0.12 - - [03/Jun/2025 17:44:38] \"POST /update HTTP/1.1\" 200 -\n",
            "INFO:werkzeug:172.28.0.12 - - [03/Jun/2025 17:44:38] \"GET /parameters HTTP/1.1\" 200 -\n",
            "INFO:werkzeug:172.28.0.12 - - [03/Jun/2025 17:44:39] \"POST /update HTTP/1.1\" 200 -\n",
            "INFO:werkzeug:172.28.0.12 - - [03/Jun/2025 17:44:39] \"GET /parameters HTTP/1.1\" 200 -\n",
            "INFO:werkzeug:172.28.0.12 - - [03/Jun/2025 17:44:39] \"POST /update HTTP/1.1\" 200 -\n",
            "INFO:werkzeug:172.28.0.12 - - [03/Jun/2025 17:44:39] \"GET /parameters HTTP/1.1\" 200 -\n",
            "INFO:werkzeug:172.28.0.12 - - [03/Jun/2025 17:44:39] \"POST /update HTTP/1.1\" 200 -\n",
            "INFO:werkzeug:172.28.0.12 - - [03/Jun/2025 17:44:39] \"GET /parameters HTTP/1.1\" 200 -\n",
            "INFO:werkzeug:172.28.0.12 - - [03/Jun/2025 17:44:39] \"POST /update HTTP/1.1\" 200 -\n",
            "INFO:werkzeug:172.28.0.12 - - [03/Jun/2025 17:44:39] \"GET /parameters HTTP/1.1\" 200 -\n",
            "INFO:werkzeug:172.28.0.12 - - [03/Jun/2025 17:44:39] \"POST /update HTTP/1.1\" 200 -\n",
            "INFO:werkzeug:172.28.0.12 - - [03/Jun/2025 17:44:39] \"GET /parameters HTTP/1.1\" 200 -\n",
            "INFO:werkzeug:172.28.0.12 - - [03/Jun/2025 17:44:39] \"POST /update HTTP/1.1\" 200 -\n",
            "INFO:werkzeug:172.28.0.12 - - [03/Jun/2025 17:44:40] \"GET /parameters HTTP/1.1\" 200 -\n",
            "INFO:werkzeug:172.28.0.12 - - [03/Jun/2025 17:44:41] \"POST /update HTTP/1.1\" 200 -\n",
            "INFO:werkzeug:172.28.0.12 - - [03/Jun/2025 17:44:41] \"GET /parameters HTTP/1.1\" 200 -\n",
            "INFO:werkzeug:172.28.0.12 - - [03/Jun/2025 17:44:41] \"POST /update HTTP/1.1\" 200 -\n",
            "INFO:werkzeug:172.28.0.12 - - [03/Jun/2025 17:44:41] \"GET /parameters HTTP/1.1\" 200 -\n",
            "INFO:werkzeug:172.28.0.12 - - [03/Jun/2025 17:44:41] \"POST /update HTTP/1.1\" 200 -\n",
            "INFO:werkzeug:172.28.0.12 - - [03/Jun/2025 17:44:41] \"GET /parameters HTTP/1.1\" 200 -\n",
            "INFO:werkzeug:172.28.0.12 - - [03/Jun/2025 17:44:41] \"POST /update HTTP/1.1\" 200 -\n",
            "INFO:werkzeug:172.28.0.12 - - [03/Jun/2025 17:44:41] \"GET /parameters HTTP/1.1\" 200 -\n",
            "INFO:werkzeug:172.28.0.12 - - [03/Jun/2025 17:44:41] \"POST /update HTTP/1.1\" 200 -\n",
            "INFO:werkzeug:172.28.0.12 - - [03/Jun/2025 17:44:41] \"GET /parameters HTTP/1.1\" 200 -\n",
            "INFO:werkzeug:172.28.0.12 - - [03/Jun/2025 17:44:42] \"POST /update HTTP/1.1\" 200 -\n",
            "INFO:werkzeug:172.28.0.12 - - [03/Jun/2025 17:44:42] \"GET /parameters HTTP/1.1\" 200 -\n",
            "INFO:werkzeug:172.28.0.12 - - [03/Jun/2025 17:44:42] \"POST /update HTTP/1.1\" 200 -\n",
            "INFO:werkzeug:172.28.0.12 - - [03/Jun/2025 17:44:42] \"GET /parameters HTTP/1.1\" 200 -\n",
            "INFO:werkzeug:172.28.0.12 - - [03/Jun/2025 17:44:42] \"POST /update HTTP/1.1\" 200 -\n",
            "INFO:werkzeug:172.28.0.12 - - [03/Jun/2025 17:44:42] \"GET /parameters HTTP/1.1\" 200 -\n",
            "INFO:werkzeug:172.28.0.12 - - [03/Jun/2025 17:44:42] \"POST /update HTTP/1.1\" 200 -\n",
            "INFO:werkzeug:172.28.0.12 - - [03/Jun/2025 17:44:42] \"GET /parameters HTTP/1.1\" 200 -\n",
            "INFO:werkzeug:172.28.0.12 - - [03/Jun/2025 17:44:42] \"POST /update HTTP/1.1\" 200 -\n",
            "INFO:werkzeug:172.28.0.12 - - [03/Jun/2025 17:44:42] \"GET /parameters HTTP/1.1\" 200 -\n",
            "INFO:werkzeug:172.28.0.12 - - [03/Jun/2025 17:44:42] \"POST /update HTTP/1.1\" 200 -\n",
            "INFO:werkzeug:172.28.0.12 - - [03/Jun/2025 17:44:42] \"GET /parameters HTTP/1.1\" 200 -\n",
            "INFO:werkzeug:172.28.0.12 - - [03/Jun/2025 17:44:43] \"POST /update HTTP/1.1\" 200 -\n",
            "INFO:werkzeug:172.28.0.12 - - [03/Jun/2025 17:44:43] \"GET /parameters HTTP/1.1\" 200 -\n",
            "INFO:werkzeug:172.28.0.12 - - [03/Jun/2025 17:44:43] \"POST /update HTTP/1.1\" 200 -\n",
            "INFO:werkzeug:172.28.0.12 - - [03/Jun/2025 17:44:43] \"GET /parameters HTTP/1.1\" 200 -\n",
            "INFO:werkzeug:172.28.0.12 - - [03/Jun/2025 17:44:43] \"POST /update HTTP/1.1\" 200 -\n",
            "INFO:werkzeug:172.28.0.12 - - [03/Jun/2025 17:44:43] \"GET /parameters HTTP/1.1\" 200 -\n",
            "INFO:werkzeug:172.28.0.12 - - [03/Jun/2025 17:44:43] \"POST /update HTTP/1.1\" 200 -\n",
            "INFO:werkzeug:172.28.0.12 - - [03/Jun/2025 17:44:43] \"GET /parameters HTTP/1.1\" 200 -\n",
            "INFO:werkzeug:172.28.0.12 - - [03/Jun/2025 17:44:44] \"POST /update HTTP/1.1\" 200 -\n",
            "INFO:werkzeug:172.28.0.12 - - [03/Jun/2025 17:44:44] \"GET /parameters HTTP/1.1\" 200 -\n",
            "INFO:werkzeug:172.28.0.12 - - [03/Jun/2025 17:44:44] \"POST /update HTTP/1.1\" 200 -\n",
            "INFO:werkzeug:172.28.0.12 - - [03/Jun/2025 17:44:44] \"GET /parameters HTTP/1.1\" 200 -\n",
            "INFO:werkzeug:172.28.0.12 - - [03/Jun/2025 17:44:44] \"POST /update HTTP/1.1\" 200 -\n",
            "INFO:werkzeug:172.28.0.12 - - [03/Jun/2025 17:44:44] \"GET /parameters HTTP/1.1\" 200 -\n",
            "INFO:werkzeug:172.28.0.12 - - [03/Jun/2025 17:44:44] \"POST /update HTTP/1.1\" 200 -\n",
            "INFO:werkzeug:172.28.0.12 - - [03/Jun/2025 17:44:44] \"GET /parameters HTTP/1.1\" 200 -\n",
            "INFO:werkzeug:172.28.0.12 - - [03/Jun/2025 17:44:45] \"POST /update HTTP/1.1\" 200 -\n",
            "INFO:werkzeug:172.28.0.12 - - [03/Jun/2025 17:44:45] \"GET /parameters HTTP/1.1\" 200 -\n",
            "INFO:werkzeug:172.28.0.12 - - [03/Jun/2025 17:44:45] \"POST /update HTTP/1.1\" 200 -\n",
            "INFO:werkzeug:172.28.0.12 - - [03/Jun/2025 17:44:45] \"GET /parameters HTTP/1.1\" 200 -\n",
            "INFO:werkzeug:172.28.0.12 - - [03/Jun/2025 17:44:45] \"POST /update HTTP/1.1\" 200 -\n",
            "INFO:werkzeug:172.28.0.12 - - [03/Jun/2025 17:44:45] \"GET /parameters HTTP/1.1\" 200 -\n",
            "INFO:werkzeug:172.28.0.12 - - [03/Jun/2025 17:44:45] \"POST /update HTTP/1.1\" 200 -\n",
            "INFO:werkzeug:172.28.0.12 - - [03/Jun/2025 17:44:45] \"GET /parameters HTTP/1.1\" 200 -\n",
            "INFO:werkzeug:172.28.0.12 - - [03/Jun/2025 17:44:46] \"POST /update HTTP/1.1\" 200 -\n",
            "INFO:werkzeug:172.28.0.12 - - [03/Jun/2025 17:44:46] \"GET /parameters HTTP/1.1\" 200 -\n",
            "INFO:werkzeug:172.28.0.12 - - [03/Jun/2025 17:44:46] \"POST /update HTTP/1.1\" 200 -\n",
            "INFO:werkzeug:172.28.0.12 - - [03/Jun/2025 17:44:46] \"GET /parameters HTTP/1.1\" 200 -\n",
            "INFO:werkzeug:172.28.0.12 - - [03/Jun/2025 17:44:46] \"POST /update HTTP/1.1\" 200 -\n",
            "INFO:werkzeug:172.28.0.12 - - [03/Jun/2025 17:44:46] \"GET /parameters HTTP/1.1\" 200 -\n",
            "INFO:werkzeug:172.28.0.12 - - [03/Jun/2025 17:44:46] \"POST /update HTTP/1.1\" 200 -\n",
            "INFO:werkzeug:172.28.0.12 - - [03/Jun/2025 17:44:46] \"GET /parameters HTTP/1.1\" 200 -\n",
            "INFO:werkzeug:172.28.0.12 - - [03/Jun/2025 17:44:47] \"POST /update HTTP/1.1\" 200 -\n",
            "INFO:werkzeug:172.28.0.12 - - [03/Jun/2025 17:44:47] \"GET /parameters HTTP/1.1\" 200 -\n",
            "INFO:werkzeug:172.28.0.12 - - [03/Jun/2025 17:44:47] \"POST /update HTTP/1.1\" 200 -\n",
            "INFO:werkzeug:172.28.0.12 - - [03/Jun/2025 17:44:47] \"GET /parameters HTTP/1.1\" 200 -\n",
            "INFO:werkzeug:172.28.0.12 - - [03/Jun/2025 17:44:47] \"POST /update HTTP/1.1\" 200 -\n",
            "INFO:werkzeug:172.28.0.12 - - [03/Jun/2025 17:44:47] \"GET /parameters HTTP/1.1\" 200 -\n",
            "INFO:werkzeug:172.28.0.12 - - [03/Jun/2025 17:44:48] \"POST /update HTTP/1.1\" 200 -\n",
            "INFO:werkzeug:172.28.0.12 - - [03/Jun/2025 17:44:48] \"GET /parameters HTTP/1.1\" 200 -\n",
            "INFO:werkzeug:172.28.0.12 - - [03/Jun/2025 17:44:48] \"POST /update HTTP/1.1\" 200 -\n",
            "INFO:werkzeug:172.28.0.12 - - [03/Jun/2025 17:44:48] \"GET /parameters HTTP/1.1\" 200 -\n",
            "INFO:werkzeug:172.28.0.12 - - [03/Jun/2025 17:44:48] \"POST /update HTTP/1.1\" 200 -\n",
            "INFO:werkzeug:172.28.0.12 - - [03/Jun/2025 17:44:48] \"GET /parameters HTTP/1.1\" 200 -\n",
            "INFO:werkzeug:172.28.0.12 - - [03/Jun/2025 17:44:48] \"POST /update HTTP/1.1\" 200 -\n",
            "INFO:werkzeug:172.28.0.12 - - [03/Jun/2025 17:44:48] \"GET /parameters HTTP/1.1\" 200 -\n",
            "INFO:werkzeug:172.28.0.12 - - [03/Jun/2025 17:44:49] \"POST /update HTTP/1.1\" 200 -\n",
            "INFO:werkzeug:172.28.0.12 - - [03/Jun/2025 17:44:49] \"GET /parameters HTTP/1.1\" 200 -\n",
            "INFO:werkzeug:172.28.0.12 - - [03/Jun/2025 17:44:49] \"POST /update HTTP/1.1\" 200 -\n",
            "INFO:werkzeug:172.28.0.12 - - [03/Jun/2025 17:44:49] \"GET /parameters HTTP/1.1\" 200 -\n",
            "INFO:werkzeug:172.28.0.12 - - [03/Jun/2025 17:44:49] \"POST /update HTTP/1.1\" 200 -\n",
            "INFO:werkzeug:172.28.0.12 - - [03/Jun/2025 17:44:49] \"GET /parameters HTTP/1.1\" 200 -\n",
            "INFO:werkzeug:172.28.0.12 - - [03/Jun/2025 17:44:49] \"POST /update HTTP/1.1\" 200 -\n",
            "INFO:werkzeug:172.28.0.12 - - [03/Jun/2025 17:44:49] \"GET /parameters HTTP/1.1\" 200 -\n",
            "INFO:werkzeug:172.28.0.12 - - [03/Jun/2025 17:44:49] \"POST /update HTTP/1.1\" 200 -\n",
            "INFO:werkzeug:172.28.0.12 - - [03/Jun/2025 17:44:49] \"GET /parameters HTTP/1.1\" 200 -\n",
            "INFO:werkzeug:172.28.0.12 - - [03/Jun/2025 17:44:50] \"POST /update HTTP/1.1\" 200 -\n",
            "INFO:werkzeug:172.28.0.12 - - [03/Jun/2025 17:44:50] \"GET /parameters HTTP/1.1\" 200 -\n",
            "INFO:werkzeug:172.28.0.12 - - [03/Jun/2025 17:44:50] \"POST /update HTTP/1.1\" 200 -\n",
            "INFO:werkzeug:172.28.0.12 - - [03/Jun/2025 17:44:50] \"GET /parameters HTTP/1.1\" 200 -\n",
            "INFO:werkzeug:172.28.0.12 - - [03/Jun/2025 17:44:50] \"POST /update HTTP/1.1\" 200 -\n",
            "INFO:werkzeug:172.28.0.12 - - [03/Jun/2025 17:44:50] \"GET /parameters HTTP/1.1\" 200 -\n",
            "INFO:werkzeug:172.28.0.12 - - [03/Jun/2025 17:44:51] \"POST /update HTTP/1.1\" 200 -\n",
            "INFO:werkzeug:172.28.0.12 - - [03/Jun/2025 17:44:51] \"GET /parameters HTTP/1.1\" 200 -\n",
            "INFO:werkzeug:172.28.0.12 - - [03/Jun/2025 17:44:51] \"POST /update HTTP/1.1\" 200 -\n",
            "INFO:werkzeug:172.28.0.12 - - [03/Jun/2025 17:44:51] \"GET /parameters HTTP/1.1\" 200 -\n",
            "INFO:werkzeug:172.28.0.12 - - [03/Jun/2025 17:44:51] \"POST /update HTTP/1.1\" 200 -\n",
            "INFO:werkzeug:172.28.0.12 - - [03/Jun/2025 17:44:51] \"GET /parameters HTTP/1.1\" 200 -\n",
            "INFO:werkzeug:172.28.0.12 - - [03/Jun/2025 17:44:51] \"POST /update HTTP/1.1\" 200 -\n",
            "INFO:werkzeug:172.28.0.12 - - [03/Jun/2025 17:44:51] \"GET /parameters HTTP/1.1\" 200 -\n",
            "INFO:werkzeug:172.28.0.12 - - [03/Jun/2025 17:44:51] \"POST /update HTTP/1.1\" 200 -\n",
            "INFO:werkzeug:172.28.0.12 - - [03/Jun/2025 17:44:51] \"GET /parameters HTTP/1.1\" 200 -\n",
            "INFO:werkzeug:172.28.0.12 - - [03/Jun/2025 17:44:52] \"POST /update HTTP/1.1\" 200 -\n",
            "INFO:werkzeug:172.28.0.12 - - [03/Jun/2025 17:44:52] \"GET /parameters HTTP/1.1\" 200 -\n",
            "INFO:werkzeug:172.28.0.12 - - [03/Jun/2025 17:44:52] \"POST /update HTTP/1.1\" 200 -\n",
            "INFO:werkzeug:172.28.0.12 - - [03/Jun/2025 17:44:52] \"GET /parameters HTTP/1.1\" 200 -\n",
            "INFO:werkzeug:172.28.0.12 - - [03/Jun/2025 17:44:52] \"POST /update HTTP/1.1\" 200 -\n",
            "INFO:werkzeug:172.28.0.12 - - [03/Jun/2025 17:44:52] \"GET /parameters HTTP/1.1\" 200 -\n",
            "INFO:werkzeug:172.28.0.12 - - [03/Jun/2025 17:44:52] \"POST /update HTTP/1.1\" 200 -\n",
            "INFO:werkzeug:172.28.0.12 - - [03/Jun/2025 17:44:52] \"GET /parameters HTTP/1.1\" 200 -\n",
            "INFO:werkzeug:172.28.0.12 - - [03/Jun/2025 17:44:52] \"POST /update HTTP/1.1\" 200 -\n",
            "INFO:werkzeug:172.28.0.12 - - [03/Jun/2025 17:44:52] \"GET /parameters HTTP/1.1\" 200 -\n",
            "INFO:werkzeug:172.28.0.12 - - [03/Jun/2025 17:44:53] \"POST /update HTTP/1.1\" 200 -\n",
            "INFO:werkzeug:172.28.0.12 - - [03/Jun/2025 17:44:53] \"GET /parameters HTTP/1.1\" 200 -\n",
            "INFO:werkzeug:172.28.0.12 - - [03/Jun/2025 17:44:53] \"POST /update HTTP/1.1\" 200 -\n",
            "INFO:werkzeug:172.28.0.12 - - [03/Jun/2025 17:44:53] \"GET /parameters HTTP/1.1\" 200 -\n",
            "INFO:werkzeug:172.28.0.12 - - [03/Jun/2025 17:44:53] \"POST /update HTTP/1.1\" 200 -\n",
            "INFO:werkzeug:172.28.0.12 - - [03/Jun/2025 17:44:53] \"GET /parameters HTTP/1.1\" 200 -\n",
            "INFO:werkzeug:172.28.0.12 - - [03/Jun/2025 17:44:53] \"POST /update HTTP/1.1\" 200 -\n",
            "INFO:werkzeug:172.28.0.12 - - [03/Jun/2025 17:44:53] \"GET /parameters HTTP/1.1\" 200 -\n",
            "INFO:werkzeug:172.28.0.12 - - [03/Jun/2025 17:44:53] \"POST /update HTTP/1.1\" 200 -\n",
            "INFO:werkzeug:172.28.0.12 - - [03/Jun/2025 17:44:53] \"GET /parameters HTTP/1.1\" 200 -\n",
            "INFO:werkzeug:172.28.0.12 - - [03/Jun/2025 17:44:53] \"POST /update HTTP/1.1\" 200 -\n",
            "INFO:werkzeug:172.28.0.12 - - [03/Jun/2025 17:44:53] \"GET /parameters HTTP/1.1\" 200 -\n",
            "INFO:werkzeug:172.28.0.12 - - [03/Jun/2025 17:44:54] \"POST /update HTTP/1.1\" 200 -\n",
            "INFO:werkzeug:172.28.0.12 - - [03/Jun/2025 17:44:54] \"GET /parameters HTTP/1.1\" 200 -\n",
            "INFO:werkzeug:172.28.0.12 - - [03/Jun/2025 17:44:54] \"POST /update HTTP/1.1\" 200 -\n",
            "INFO:werkzeug:172.28.0.12 - - [03/Jun/2025 17:44:54] \"GET /parameters HTTP/1.1\" 200 -\n",
            "INFO:werkzeug:172.28.0.12 - - [03/Jun/2025 17:44:55] \"POST /update HTTP/1.1\" 200 -\n",
            "INFO:werkzeug:172.28.0.12 - - [03/Jun/2025 17:44:55] \"GET /parameters HTTP/1.1\" 200 -\n",
            "INFO:werkzeug:172.28.0.12 - - [03/Jun/2025 17:44:55] \"POST /update HTTP/1.1\" 200 -\n",
            "INFO:werkzeug:172.28.0.12 - - [03/Jun/2025 17:44:55] \"GET /parameters HTTP/1.1\" 200 -\n",
            "INFO:werkzeug:172.28.0.12 - - [03/Jun/2025 17:44:56] \"POST /update HTTP/1.1\" 200 -\n",
            "INFO:werkzeug:172.28.0.12 - - [03/Jun/2025 17:44:56] \"GET /parameters HTTP/1.1\" 200 -\n",
            "INFO:werkzeug:172.28.0.12 - - [03/Jun/2025 17:44:56] \"POST /update HTTP/1.1\" 200 -\n",
            "INFO:werkzeug:172.28.0.12 - - [03/Jun/2025 17:44:56] \"GET /parameters HTTP/1.1\" 200 -\n",
            "INFO:werkzeug:172.28.0.12 - - [03/Jun/2025 17:44:56] \"POST /update HTTP/1.1\" 200 -\n",
            "INFO:werkzeug:172.28.0.12 - - [03/Jun/2025 17:44:56] \"GET /parameters HTTP/1.1\" 200 -\n",
            "INFO:werkzeug:172.28.0.12 - - [03/Jun/2025 17:44:56] \"POST /update HTTP/1.1\" 200 -\n",
            "INFO:werkzeug:172.28.0.12 - - [03/Jun/2025 17:44:56] \"GET /parameters HTTP/1.1\" 200 -\n",
            "INFO:werkzeug:172.28.0.12 - - [03/Jun/2025 17:44:56] \"POST /update HTTP/1.1\" 200 -\n",
            "INFO:werkzeug:172.28.0.12 - - [03/Jun/2025 17:44:56] \"GET /parameters HTTP/1.1\" 200 -\n",
            "INFO:werkzeug:172.28.0.12 - - [03/Jun/2025 17:44:56] \"POST /update HTTP/1.1\" 200 -\n",
            "INFO:werkzeug:172.28.0.12 - - [03/Jun/2025 17:44:56] \"GET /parameters HTTP/1.1\" 200 -\n",
            "INFO:werkzeug:172.28.0.12 - - [03/Jun/2025 17:44:57] \"POST /update HTTP/1.1\" 200 -\n",
            "INFO:werkzeug:172.28.0.12 - - [03/Jun/2025 17:44:57] \"GET /parameters HTTP/1.1\" 200 -\n",
            "INFO:werkzeug:172.28.0.12 - - [03/Jun/2025 17:44:57] \"POST /update HTTP/1.1\" 200 -\n",
            "INFO:werkzeug:172.28.0.12 - - [03/Jun/2025 17:44:57] \"GET /parameters HTTP/1.1\" 200 -\n",
            "INFO:werkzeug:172.28.0.12 - - [03/Jun/2025 17:44:57] \"POST /update HTTP/1.1\" 200 -\n",
            "INFO:werkzeug:172.28.0.12 - - [03/Jun/2025 17:44:57] \"GET /parameters HTTP/1.1\" 200 -\n",
            "INFO:werkzeug:172.28.0.12 - - [03/Jun/2025 17:44:57] \"POST /update HTTP/1.1\" 200 -\n",
            "INFO:werkzeug:172.28.0.12 - - [03/Jun/2025 17:44:57] \"GET /parameters HTTP/1.1\" 200 -\n",
            "INFO:werkzeug:172.28.0.12 - - [03/Jun/2025 17:44:58] \"POST /update HTTP/1.1\" 200 -\n",
            "INFO:werkzeug:172.28.0.12 - - [03/Jun/2025 17:44:58] \"GET /parameters HTTP/1.1\" 200 -\n",
            "INFO:werkzeug:172.28.0.12 - - [03/Jun/2025 17:44:58] \"POST /update HTTP/1.1\" 200 -\n",
            "INFO:werkzeug:172.28.0.12 - - [03/Jun/2025 17:44:58] \"GET /parameters HTTP/1.1\" 200 -\n",
            "INFO:werkzeug:172.28.0.12 - - [03/Jun/2025 17:44:58] \"POST /update HTTP/1.1\" 200 -\n",
            "INFO:werkzeug:172.28.0.12 - - [03/Jun/2025 17:44:58] \"GET /parameters HTTP/1.1\" 200 -\n",
            "INFO:werkzeug:172.28.0.12 - - [03/Jun/2025 17:44:58] \"POST /update HTTP/1.1\" 200 -\n",
            "INFO:werkzeug:172.28.0.12 - - [03/Jun/2025 17:44:58] \"GET /parameters HTTP/1.1\" 200 -\n",
            "INFO:werkzeug:172.28.0.12 - - [03/Jun/2025 17:44:59] \"POST /update HTTP/1.1\" 200 -\n",
            "INFO:werkzeug:172.28.0.12 - - [03/Jun/2025 17:44:59] \"GET /parameters HTTP/1.1\" 200 -\n",
            "INFO:werkzeug:172.28.0.12 - - [03/Jun/2025 17:44:59] \"POST /update HTTP/1.1\" 200 -\n",
            "INFO:werkzeug:172.28.0.12 - - [03/Jun/2025 17:44:59] \"GET /parameters HTTP/1.1\" 200 -\n",
            "INFO:werkzeug:172.28.0.12 - - [03/Jun/2025 17:44:59] \"POST /update HTTP/1.1\" 200 -\n",
            "INFO:werkzeug:172.28.0.12 - - [03/Jun/2025 17:44:59] \"GET /parameters HTTP/1.1\" 200 -\n",
            "INFO:werkzeug:172.28.0.12 - - [03/Jun/2025 17:44:59] \"POST /update HTTP/1.1\" 200 -\n",
            "INFO:werkzeug:172.28.0.12 - - [03/Jun/2025 17:44:59] \"GET /parameters HTTP/1.1\" 200 -\n",
            "INFO:werkzeug:172.28.0.12 - - [03/Jun/2025 17:45:00] \"POST /update HTTP/1.1\" 200 -\n",
            "INFO:werkzeug:172.28.0.12 - - [03/Jun/2025 17:45:00] \"GET /parameters HTTP/1.1\" 200 -\n",
            "INFO:werkzeug:172.28.0.12 - - [03/Jun/2025 17:45:00] \"POST /update HTTP/1.1\" 200 -\n",
            "INFO:werkzeug:172.28.0.12 - - [03/Jun/2025 17:45:00] \"GET /parameters HTTP/1.1\" 200 -\n",
            "INFO:werkzeug:172.28.0.12 - - [03/Jun/2025 17:45:00] \"POST /update HTTP/1.1\" 200 -\n",
            "INFO:werkzeug:172.28.0.12 - - [03/Jun/2025 17:45:00] \"GET /parameters HTTP/1.1\" 200 -\n",
            "INFO:werkzeug:172.28.0.12 - - [03/Jun/2025 17:45:00] \"POST /update HTTP/1.1\" 200 -\n",
            "INFO:werkzeug:172.28.0.12 - - [03/Jun/2025 17:45:00] \"GET /parameters HTTP/1.1\" 200 -\n",
            "INFO:werkzeug:172.28.0.12 - - [03/Jun/2025 17:45:01] \"POST /update HTTP/1.1\" 200 -\n",
            "INFO:werkzeug:172.28.0.12 - - [03/Jun/2025 17:45:01] \"GET /parameters HTTP/1.1\" 200 -\n",
            "INFO:werkzeug:172.28.0.12 - - [03/Jun/2025 17:45:01] \"POST /update HTTP/1.1\" 200 -\n",
            "INFO:werkzeug:172.28.0.12 - - [03/Jun/2025 17:45:01] \"GET /parameters HTTP/1.1\" 200 -\n",
            "INFO:werkzeug:172.28.0.12 - - [03/Jun/2025 17:45:01] \"POST /update HTTP/1.1\" 200 -\n",
            "INFO:werkzeug:172.28.0.12 - - [03/Jun/2025 17:45:01] \"GET /parameters HTTP/1.1\" 200 -\n",
            "INFO:werkzeug:172.28.0.12 - - [03/Jun/2025 17:45:01] \"POST /update HTTP/1.1\" 200 -\n",
            "INFO:werkzeug:172.28.0.12 - - [03/Jun/2025 17:45:01] \"GET /parameters HTTP/1.1\" 200 -\n",
            "INFO:werkzeug:172.28.0.12 - - [03/Jun/2025 17:45:02] \"POST /update HTTP/1.1\" 200 -\n",
            "INFO:werkzeug:172.28.0.12 - - [03/Jun/2025 17:45:02] \"GET /parameters HTTP/1.1\" 200 -\n",
            "INFO:werkzeug:172.28.0.12 - - [03/Jun/2025 17:45:02] \"POST /update HTTP/1.1\" 200 -\n",
            "INFO:werkzeug:172.28.0.12 - - [03/Jun/2025 17:45:02] \"GET /parameters HTTP/1.1\" 200 -\n",
            "INFO:werkzeug:172.28.0.12 - - [03/Jun/2025 17:45:03] \"POST /update HTTP/1.1\" 200 -\n",
            "INFO:werkzeug:172.28.0.12 - - [03/Jun/2025 17:45:03] \"GET /parameters HTTP/1.1\" 200 -\n",
            "INFO:werkzeug:172.28.0.12 - - [03/Jun/2025 17:45:03] \"POST /update HTTP/1.1\" 200 -\n",
            "INFO:werkzeug:172.28.0.12 - - [03/Jun/2025 17:45:03] \"GET /parameters HTTP/1.1\" 200 -\n",
            "INFO:werkzeug:172.28.0.12 - - [03/Jun/2025 17:45:03] \"POST /update HTTP/1.1\" 200 -\n",
            "INFO:werkzeug:172.28.0.12 - - [03/Jun/2025 17:45:03] \"GET /parameters HTTP/1.1\" 200 -\n",
            "INFO:werkzeug:172.28.0.12 - - [03/Jun/2025 17:45:03] \"POST /update HTTP/1.1\" 200 -\n",
            "INFO:werkzeug:172.28.0.12 - - [03/Jun/2025 17:45:03] \"GET /parameters HTTP/1.1\" 200 -\n",
            "INFO:werkzeug:172.28.0.12 - - [03/Jun/2025 17:45:03] \"POST /update HTTP/1.1\" 200 -\n",
            "INFO:werkzeug:172.28.0.12 - - [03/Jun/2025 17:45:03] \"GET /parameters HTTP/1.1\" 200 -\n",
            "INFO:werkzeug:172.28.0.12 - - [03/Jun/2025 17:45:04] \"POST /update HTTP/1.1\" 200 -\n",
            "INFO:werkzeug:172.28.0.12 - - [03/Jun/2025 17:45:04] \"GET /parameters HTTP/1.1\" 200 -\n",
            "INFO:werkzeug:172.28.0.12 - - [03/Jun/2025 17:45:04] \"POST /update HTTP/1.1\" 200 -\n",
            "INFO:werkzeug:172.28.0.12 - - [03/Jun/2025 17:45:04] \"GET /parameters HTTP/1.1\" 200 -\n",
            "INFO:werkzeug:172.28.0.12 - - [03/Jun/2025 17:45:04] \"POST /update HTTP/1.1\" 200 -\n",
            "INFO:werkzeug:172.28.0.12 - - [03/Jun/2025 17:45:04] \"GET /parameters HTTP/1.1\" 200 -\n",
            "INFO:werkzeug:172.28.0.12 - - [03/Jun/2025 17:45:04] \"POST /update HTTP/1.1\" 200 -\n",
            "INFO:werkzeug:172.28.0.12 - - [03/Jun/2025 17:45:04] \"GET /parameters HTTP/1.1\" 200 -\n",
            "INFO:werkzeug:172.28.0.12 - - [03/Jun/2025 17:45:04] \"POST /update HTTP/1.1\" 200 -\n",
            "INFO:werkzeug:172.28.0.12 - - [03/Jun/2025 17:45:04] \"GET /parameters HTTP/1.1\" 200 -\n",
            "INFO:werkzeug:172.28.0.12 - - [03/Jun/2025 17:45:04] \"POST /update HTTP/1.1\" 200 -\n",
            "INFO:werkzeug:172.28.0.12 - - [03/Jun/2025 17:45:04] \"GET /parameters HTTP/1.1\" 200 -\n",
            "INFO:werkzeug:172.28.0.12 - - [03/Jun/2025 17:45:05] \"POST /update HTTP/1.1\" 200 -\n",
            "INFO:werkzeug:172.28.0.12 - - [03/Jun/2025 17:45:05] \"GET /parameters HTTP/1.1\" 200 -\n",
            "INFO:werkzeug:172.28.0.12 - - [03/Jun/2025 17:45:05] \"POST /update HTTP/1.1\" 200 -\n",
            "INFO:werkzeug:172.28.0.12 - - [03/Jun/2025 17:45:05] \"GET /parameters HTTP/1.1\" 200 -\n",
            "INFO:werkzeug:172.28.0.12 - - [03/Jun/2025 17:45:05] \"POST /update HTTP/1.1\" 200 -\n",
            "INFO:werkzeug:172.28.0.12 - - [03/Jun/2025 17:45:05] \"GET /parameters HTTP/1.1\" 200 -\n",
            "INFO:werkzeug:172.28.0.12 - - [03/Jun/2025 17:45:05] \"POST /update HTTP/1.1\" 200 -\n",
            "INFO:werkzeug:172.28.0.12 - - [03/Jun/2025 17:45:05] \"GET /parameters HTTP/1.1\" 200 -\n",
            "INFO:werkzeug:172.28.0.12 - - [03/Jun/2025 17:45:05] \"POST /update HTTP/1.1\" 200 -\n",
            "INFO:werkzeug:172.28.0.12 - - [03/Jun/2025 17:45:05] \"GET /parameters HTTP/1.1\" 200 -\n",
            "INFO:werkzeug:172.28.0.12 - - [03/Jun/2025 17:45:06] \"POST /update HTTP/1.1\" 200 -\n",
            "INFO:werkzeug:172.28.0.12 - - [03/Jun/2025 17:45:06] \"GET /parameters HTTP/1.1\" 200 -\n",
            "INFO:werkzeug:172.28.0.12 - - [03/Jun/2025 17:45:06] \"POST /update HTTP/1.1\" 200 -\n",
            "INFO:werkzeug:172.28.0.12 - - [03/Jun/2025 17:45:06] \"GET /parameters HTTP/1.1\" 200 -\n",
            "INFO:werkzeug:172.28.0.12 - - [03/Jun/2025 17:45:06] \"POST /update HTTP/1.1\" 200 -\n",
            "INFO:werkzeug:172.28.0.12 - - [03/Jun/2025 17:45:06] \"GET /parameters HTTP/1.1\" 200 -\n",
            "INFO:werkzeug:172.28.0.12 - - [03/Jun/2025 17:45:06] \"POST /update HTTP/1.1\" 200 -\n",
            "INFO:werkzeug:172.28.0.12 - - [03/Jun/2025 17:45:06] \"GET /parameters HTTP/1.1\" 200 -\n",
            "INFO:werkzeug:172.28.0.12 - - [03/Jun/2025 17:45:06] \"POST /update HTTP/1.1\" 200 -\n",
            "INFO:werkzeug:172.28.0.12 - - [03/Jun/2025 17:45:06] \"GET /parameters HTTP/1.1\" 200 -\n",
            "INFO:werkzeug:172.28.0.12 - - [03/Jun/2025 17:45:06] \"POST /update HTTP/1.1\" 200 -\n",
            "INFO:werkzeug:172.28.0.12 - - [03/Jun/2025 17:45:06] \"GET /parameters HTTP/1.1\" 200 -\n",
            "INFO:werkzeug:172.28.0.12 - - [03/Jun/2025 17:45:07] \"POST /update HTTP/1.1\" 200 -\n",
            "INFO:werkzeug:172.28.0.12 - - [03/Jun/2025 17:45:07] \"GET /parameters HTTP/1.1\" 200 -\n",
            "INFO:werkzeug:172.28.0.12 - - [03/Jun/2025 17:45:07] \"POST /update HTTP/1.1\" 200 -\n",
            "INFO:werkzeug:172.28.0.12 - - [03/Jun/2025 17:45:07] \"GET /parameters HTTP/1.1\" 200 -\n",
            "INFO:werkzeug:172.28.0.12 - - [03/Jun/2025 17:45:07] \"POST /update HTTP/1.1\" 200 -\n",
            "INFO:werkzeug:172.28.0.12 - - [03/Jun/2025 17:45:07] \"GET /parameters HTTP/1.1\" 200 -\n",
            "INFO:werkzeug:172.28.0.12 - - [03/Jun/2025 17:45:07] \"POST /update HTTP/1.1\" 200 -\n",
            "INFO:werkzeug:172.28.0.12 - - [03/Jun/2025 17:45:07] \"GET /parameters HTTP/1.1\" 200 -\n",
            "INFO:werkzeug:172.28.0.12 - - [03/Jun/2025 17:45:07] \"POST /update HTTP/1.1\" 200 -\n",
            "INFO:werkzeug:172.28.0.12 - - [03/Jun/2025 17:45:07] \"GET /parameters HTTP/1.1\" 200 -\n",
            "INFO:werkzeug:172.28.0.12 - - [03/Jun/2025 17:45:08] \"POST /update HTTP/1.1\" 200 -\n",
            "INFO:werkzeug:172.28.0.12 - - [03/Jun/2025 17:45:08] \"GET /parameters HTTP/1.1\" 200 -\n",
            "INFO:werkzeug:172.28.0.12 - - [03/Jun/2025 17:45:08] \"POST /update HTTP/1.1\" 200 -\n",
            "INFO:werkzeug:172.28.0.12 - - [03/Jun/2025 17:45:08] \"GET /parameters HTTP/1.1\" 200 -\n",
            "INFO:werkzeug:172.28.0.12 - - [03/Jun/2025 17:45:08] \"POST /update HTTP/1.1\" 200 -\n",
            "INFO:werkzeug:172.28.0.12 - - [03/Jun/2025 17:45:08] \"GET /parameters HTTP/1.1\" 200 -\n",
            "INFO:werkzeug:172.28.0.12 - - [03/Jun/2025 17:45:09] \"POST /update HTTP/1.1\" 200 -\n",
            "INFO:werkzeug:172.28.0.12 - - [03/Jun/2025 17:45:09] \"GET /parameters HTTP/1.1\" 200 -\n",
            "INFO:werkzeug:172.28.0.12 - - [03/Jun/2025 17:45:09] \"POST /update HTTP/1.1\" 200 -\n",
            "INFO:werkzeug:172.28.0.12 - - [03/Jun/2025 17:45:09] \"GET /parameters HTTP/1.1\" 200 -\n",
            "INFO:werkzeug:172.28.0.12 - - [03/Jun/2025 17:45:09] \"POST /update HTTP/1.1\" 200 -\n",
            "INFO:werkzeug:172.28.0.12 - - [03/Jun/2025 17:45:09] \"GET /parameters HTTP/1.1\" 200 -\n",
            "INFO:werkzeug:172.28.0.12 - - [03/Jun/2025 17:45:09] \"POST /update HTTP/1.1\" 200 -\n",
            "INFO:werkzeug:172.28.0.12 - - [03/Jun/2025 17:45:09] \"GET /parameters HTTP/1.1\" 200 -\n",
            "INFO:werkzeug:172.28.0.12 - - [03/Jun/2025 17:45:10] \"POST /update HTTP/1.1\" 200 -\n",
            "INFO:werkzeug:172.28.0.12 - - [03/Jun/2025 17:45:10] \"GET /parameters HTTP/1.1\" 200 -\n",
            "INFO:werkzeug:172.28.0.12 - - [03/Jun/2025 17:45:10] \"POST /update HTTP/1.1\" 200 -\n",
            "INFO:werkzeug:172.28.0.12 - - [03/Jun/2025 17:45:10] \"GET /parameters HTTP/1.1\" 200 -\n",
            "INFO:werkzeug:172.28.0.12 - - [03/Jun/2025 17:45:10] \"POST /update HTTP/1.1\" 200 -\n",
            "INFO:werkzeug:172.28.0.12 - - [03/Jun/2025 17:45:10] \"GET /parameters HTTP/1.1\" 200 -\n",
            "INFO:werkzeug:172.28.0.12 - - [03/Jun/2025 17:45:10] \"POST /update HTTP/1.1\" 200 -\n",
            "INFO:werkzeug:172.28.0.12 - - [03/Jun/2025 17:45:10] \"GET /parameters HTTP/1.1\" 200 -\n",
            "INFO:werkzeug:172.28.0.12 - - [03/Jun/2025 17:45:10] \"POST /update HTTP/1.1\" 200 -\n",
            "INFO:werkzeug:172.28.0.12 - - [03/Jun/2025 17:45:10] \"GET /parameters HTTP/1.1\" 200 -\n",
            "INFO:werkzeug:172.28.0.12 - - [03/Jun/2025 17:45:11] \"POST /update HTTP/1.1\" 200 -\n",
            "INFO:werkzeug:172.28.0.12 - - [03/Jun/2025 17:45:11] \"GET /parameters HTTP/1.1\" 200 -\n",
            "INFO:werkzeug:172.28.0.12 - - [03/Jun/2025 17:45:11] \"POST /update HTTP/1.1\" 200 -\n",
            "INFO:werkzeug:172.28.0.12 - - [03/Jun/2025 17:45:11] \"GET /parameters HTTP/1.1\" 200 -\n",
            "INFO:werkzeug:172.28.0.12 - - [03/Jun/2025 17:45:11] \"POST /update HTTP/1.1\" 200 -\n",
            "INFO:werkzeug:172.28.0.12 - - [03/Jun/2025 17:45:11] \"GET /parameters HTTP/1.1\" 200 -\n",
            "INFO:werkzeug:172.28.0.12 - - [03/Jun/2025 17:45:11] \"POST /update HTTP/1.1\" 200 -\n",
            "INFO:werkzeug:172.28.0.12 - - [03/Jun/2025 17:45:11] \"GET /parameters HTTP/1.1\" 200 -\n",
            "INFO:werkzeug:172.28.0.12 - - [03/Jun/2025 17:45:11] \"POST /update HTTP/1.1\" 200 -\n",
            "INFO:werkzeug:172.28.0.12 - - [03/Jun/2025 17:45:11] \"GET /parameters HTTP/1.1\" 200 -\n",
            "INFO:werkzeug:172.28.0.12 - - [03/Jun/2025 17:45:11] \"POST /update HTTP/1.1\" 200 -\n",
            "INFO:werkzeug:172.28.0.12 - - [03/Jun/2025 17:45:11] \"GET /parameters HTTP/1.1\" 200 -\n",
            "INFO:werkzeug:172.28.0.12 - - [03/Jun/2025 17:45:12] \"POST /update HTTP/1.1\" 200 -\n",
            "INFO:werkzeug:172.28.0.12 - - [03/Jun/2025 17:45:12] \"GET /parameters HTTP/1.1\" 200 -\n",
            "INFO:werkzeug:172.28.0.12 - - [03/Jun/2025 17:45:12] \"POST /update HTTP/1.1\" 200 -\n",
            "INFO:werkzeug:172.28.0.12 - - [03/Jun/2025 17:45:12] \"GET /parameters HTTP/1.1\" 200 -\n",
            "INFO:werkzeug:172.28.0.12 - - [03/Jun/2025 17:45:12] \"POST /update HTTP/1.1\" 200 -\n",
            "INFO:werkzeug:172.28.0.12 - - [03/Jun/2025 17:45:12] \"GET /parameters HTTP/1.1\" 200 -\n",
            "INFO:werkzeug:172.28.0.12 - - [03/Jun/2025 17:45:12] \"POST /update HTTP/1.1\" 200 -\n",
            "INFO:werkzeug:172.28.0.12 - - [03/Jun/2025 17:45:12] \"GET /parameters HTTP/1.1\" 200 -\n",
            "INFO:werkzeug:172.28.0.12 - - [03/Jun/2025 17:45:13] \"POST /update HTTP/1.1\" 200 -\n",
            "INFO:werkzeug:172.28.0.12 - - [03/Jun/2025 17:45:13] \"GET /parameters HTTP/1.1\" 200 -\n",
            "INFO:werkzeug:172.28.0.12 - - [03/Jun/2025 17:45:13] \"POST /update HTTP/1.1\" 200 -\n",
            "INFO:werkzeug:172.28.0.12 - - [03/Jun/2025 17:45:13] \"GET /parameters HTTP/1.1\" 200 -\n",
            "INFO:werkzeug:172.28.0.12 - - [03/Jun/2025 17:45:13] \"POST /update HTTP/1.1\" 200 -\n",
            "INFO:werkzeug:172.28.0.12 - - [03/Jun/2025 17:45:13] \"GET /parameters HTTP/1.1\" 200 -\n",
            "INFO:werkzeug:172.28.0.12 - - [03/Jun/2025 17:45:13] \"POST /update HTTP/1.1\" 200 -\n",
            "INFO:werkzeug:172.28.0.12 - - [03/Jun/2025 17:45:13] \"GET /parameters HTTP/1.1\" 200 -\n",
            "INFO:werkzeug:172.28.0.12 - - [03/Jun/2025 17:45:14] \"POST /update HTTP/1.1\" 200 -\n",
            "INFO:werkzeug:172.28.0.12 - - [03/Jun/2025 17:45:14] \"GET /parameters HTTP/1.1\" 200 -\n",
            "INFO:werkzeug:172.28.0.12 - - [03/Jun/2025 17:45:14] \"POST /update HTTP/1.1\" 200 -\n",
            "INFO:werkzeug:172.28.0.12 - - [03/Jun/2025 17:45:14] \"GET /parameters HTTP/1.1\" 200 -\n",
            "INFO:werkzeug:172.28.0.12 - - [03/Jun/2025 17:45:14] \"POST /update HTTP/1.1\" 200 -\n",
            "INFO:werkzeug:172.28.0.12 - - [03/Jun/2025 17:45:14] \"GET /parameters HTTP/1.1\" 200 -\n",
            "INFO:werkzeug:172.28.0.12 - - [03/Jun/2025 17:45:14] \"POST /update HTTP/1.1\" 200 -\n",
            "INFO:werkzeug:172.28.0.12 - - [03/Jun/2025 17:45:14] \"GET /parameters HTTP/1.1\" 200 -\n",
            "INFO:werkzeug:172.28.0.12 - - [03/Jun/2025 17:45:15] \"POST /update HTTP/1.1\" 200 -\n",
            "INFO:werkzeug:172.28.0.12 - - [03/Jun/2025 17:45:15] \"GET /parameters HTTP/1.1\" 200 -\n",
            "INFO:werkzeug:172.28.0.12 - - [03/Jun/2025 17:45:15] \"POST /update HTTP/1.1\" 200 -\n",
            "INFO:werkzeug:172.28.0.12 - - [03/Jun/2025 17:45:15] \"GET /parameters HTTP/1.1\" 200 -\n",
            "INFO:werkzeug:172.28.0.12 - - [03/Jun/2025 17:45:15] \"POST /update HTTP/1.1\" 200 -\n",
            "INFO:werkzeug:172.28.0.12 - - [03/Jun/2025 17:45:16] \"GET /parameters HTTP/1.1\" 200 -\n"
          ]
        },
        {
          "output_type": "stream",
          "name": "stdout",
          "text": [
            ">>> Async training complete.\n"
          ]
        }
      ]
    },
    {
      "cell_type": "code",
      "source": [
        "# Применение на тестовом наборе\n",
        "predictions = fitted_pipeline.transform(df_test)"
      ],
      "metadata": {
        "id": "KdwNjZbMaeIn"
      },
      "execution_count": 22,
      "outputs": []
    },
    {
      "cell_type": "code",
      "source": [
        "# UDF-функция для получения класса из вероятностей\n",
        "argmax_udf = udf(lambda x: int(np.argmax(x)), IntegerType())\n",
        "\n",
        "# Применим UDF\n",
        "predictions = predictions.withColumn(\"prediction\", argmax_udf(predictions[\"prediction\"]))"
      ],
      "metadata": {
        "id": "tGLb3ozlafiu"
      },
      "execution_count": 23,
      "outputs": []
    },
    {
      "cell_type": "code",
      "source": [
        "# Отобразим первые 10 строк предсказаний\n",
        "predictions.select(\"label\", \"prediction\").show(10, truncate=False)"
      ],
      "metadata": {
        "outputId": "2645fd0e-b4ed-4e21-d1a7-d5d0fca0ec0b",
        "colab": {
          "base_uri": "https://localhost:8080/"
        },
        "id": "wWBy75h0QM0K"
      },
      "execution_count": 24,
      "outputs": [
        {
          "output_type": "stream",
          "name": "stdout",
          "text": [
            "+-----+----------+\n",
            "|label|prediction|\n",
            "+-----+----------+\n",
            "|2.0  |1         |\n",
            "|0.0  |0         |\n",
            "|2.0  |0         |\n",
            "|2.0  |1         |\n",
            "|0.0  |0         |\n",
            "|0.0  |0         |\n",
            "|3.0  |1         |\n",
            "|1.0  |0         |\n",
            "|0.0  |0         |\n",
            "|2.0  |0         |\n",
            "+-----+----------+\n",
            "only showing top 10 rows\n",
            "\n"
          ]
        }
      ]
    },
    {
      "cell_type": "code",
      "source": [
        "# Оценка качества\n",
        "prediction_and_labels = predictions.select(\"prediction\", \"label\").rdd.map(lambda row: (float(row.prediction), float(row.label)))\n",
        "\n",
        "metrics = MulticlassMetrics(prediction_and_labels)\n",
        "\n",
        "# Матрица ошибок\n",
        "print(\"Матрица ошибок:\")\n",
        "print(metrics.confusionMatrix().toArray())\n",
        "\n",
        "# Точность модели\n",
        "accuracy = metrics.accuracy\n",
        "print(f\"\\nТочность модели: {accuracy:.4f}\")\n",
        "\n",
        "# Precision и Recall по каждому классу\n",
        "labels = prediction_and_labels.map(lambda x: x[1]).distinct().collect()\n",
        "for label in labels:\n",
        "    print(f\"Класс {int(label)}:\")\n",
        "    print(f\"  Precision: {metrics.precision(label):.4f}\")\n",
        "    print(f\"  Recall: {metrics.recall(label):.4f}\")\n",
        "    print(f\"  F1-score: {metrics.fMeasure(label):.4f}\")"
      ],
      "metadata": {
        "outputId": "471c4cfa-cd0a-458c-c27a-3de382a0ce97",
        "colab": {
          "base_uri": "https://localhost:8080/"
        },
        "id": "Me4aF23DQTgW"
      },
      "execution_count": 25,
      "outputs": [
        {
          "output_type": "stream",
          "name": "stderr",
          "text": [
            "/usr/local/lib/python3.11/dist-packages/pyspark/sql/context.py:158: FutureWarning: Deprecated in 3.0.0. Use SparkSession.builder.getOrCreate() instead.\n",
            "  warnings.warn(\n"
          ]
        },
        {
          "output_type": "stream",
          "name": "stdout",
          "text": [
            "Матрица ошибок:\n",
            "[[29.  4.  0.  0.  0.]\n",
            " [ 4. 13.  0.  0.  0.]\n",
            " [ 5.  3.  0.  0.  0.]\n",
            " [ 0.  6.  0.  0.  0.]\n",
            " [ 0.  5.  0.  0.  0.]]\n",
            "\n",
            "Точность модели: 0.6087\n",
            "Класс 2:\n",
            "  Precision: 0.0000\n",
            "  Recall: 0.0000\n",
            "  F1-score: 0.0000\n",
            "Класс 1:\n",
            "  Precision: 0.4194\n",
            "  Recall: 0.7647\n",
            "  F1-score: 0.5417\n",
            "Класс 4:\n",
            "  Precision: 0.0000\n",
            "  Recall: 0.0000\n",
            "  F1-score: 0.0000\n",
            "Класс 0:\n",
            "  Precision: 0.7632\n",
            "  Recall: 0.8788\n",
            "  F1-score: 0.8169\n",
            "Класс 3:\n",
            "  Precision: 0.0000\n",
            "  Recall: 0.0000\n",
            "  F1-score: 0.0000\n"
          ]
        }
      ]
    },
    {
      "cell_type": "markdown",
      "source": [
        "### **Задание 2. Обучите модель регрессии**"
      ],
      "metadata": {
        "id": "DicNmvDgwyxq"
      }
    },
    {
      "cell_type": "markdown",
      "source": [
        "Ссылка на датасеты: https://www.kaggle.com/datasets?search=Regression&page=2"
      ],
      "metadata": {
        "id": "1J5SOsQcybai"
      }
    },
    {
      "cell_type": "code",
      "source": [
        "from pyspark.sql import SparkSession\n",
        "from pyspark.ml import Pipeline\n",
        "from pyspark.ml.feature import VectorAssembler\n",
        "from pyspark.ml.regression import LinearRegression\n",
        "from pyspark.ml.evaluation import RegressionEvaluator\n",
        "from pyspark.ml.linalg import Vectors\n",
        "from elephas.ml_model import ElephasEstimator\n",
        "from elephas.ml.adapter import to_data_frame\n",
        "from tensorflow.keras.models import Sequential\n",
        "from tensorflow.keras.layers import Dense, Activation\n",
        "from tensorflow.keras.optimizers import SGD\n",
        "import tensorflow.keras.optimizers as optimizers"
      ],
      "metadata": {
        "id": "u0YxF_ee-lD1"
      },
      "execution_count": null,
      "outputs": []
    },
    {
      "cell_type": "code",
      "source": [
        "df_2 = spark.read.csv('/content/kc_house_data.csv', header=True, inferSchema=True)\n",
        "df_2.printSchema()\n",
        "df_2.show(5)"
      ],
      "metadata": {
        "id": "ZhYieZUzw0KV",
        "colab": {
          "base_uri": "https://localhost:8080/"
        },
        "outputId": "1ecce9f4-80f0-47dd-b3c9-32e476cc3143"
      },
      "execution_count": null,
      "outputs": [
        {
          "output_type": "stream",
          "name": "stdout",
          "text": [
            "root\n",
            " |-- id: long (nullable = true)\n",
            " |-- date: string (nullable = true)\n",
            " |-- price: double (nullable = true)\n",
            " |-- bedrooms: integer (nullable = true)\n",
            " |-- bathrooms: double (nullable = true)\n",
            " |-- sqft_living: integer (nullable = true)\n",
            " |-- sqft_lot: integer (nullable = true)\n",
            " |-- floors: double (nullable = true)\n",
            " |-- waterfront: integer (nullable = true)\n",
            " |-- view: integer (nullable = true)\n",
            " |-- condition: integer (nullable = true)\n",
            " |-- grade: integer (nullable = true)\n",
            " |-- sqft_above: integer (nullable = true)\n",
            " |-- sqft_basement: integer (nullable = true)\n",
            " |-- yr_built: integer (nullable = true)\n",
            " |-- yr_renovated: integer (nullable = true)\n",
            " |-- zipcode: integer (nullable = true)\n",
            " |-- lat: double (nullable = true)\n",
            " |-- long: double (nullable = true)\n",
            " |-- sqft_living15: integer (nullable = true)\n",
            " |-- sqft_lot15: integer (nullable = true)\n",
            "\n",
            "+----------+---------------+--------+--------+---------+-----------+--------+------+----------+----+---------+-----+----------+-------------+--------+------------+-------+-------+--------+-------------+----------+\n",
            "|        id|           date|   price|bedrooms|bathrooms|sqft_living|sqft_lot|floors|waterfront|view|condition|grade|sqft_above|sqft_basement|yr_built|yr_renovated|zipcode|    lat|    long|sqft_living15|sqft_lot15|\n",
            "+----------+---------------+--------+--------+---------+-----------+--------+------+----------+----+---------+-----+----------+-------------+--------+------------+-------+-------+--------+-------------+----------+\n",
            "|7129300520|20141013T000000|221900.0|       3|      1.0|       1180|    5650|   1.0|         0|   0|        3|    7|      1180|            0|    1955|           0|  98178|47.5112|-122.257|         1340|      5650|\n",
            "|6414100192|20141209T000000|538000.0|       3|     2.25|       2570|    7242|   2.0|         0|   0|        3|    7|      2170|          400|    1951|        1991|  98125| 47.721|-122.319|         1690|      7639|\n",
            "|5631500400|20150225T000000|180000.0|       2|      1.0|        770|   10000|   1.0|         0|   0|        3|    6|       770|            0|    1933|           0|  98028|47.7379|-122.233|         2720|      8062|\n",
            "|2487200875|20141209T000000|604000.0|       4|      3.0|       1960|    5000|   1.0|         0|   0|        5|    7|      1050|          910|    1965|           0|  98136|47.5208|-122.393|         1360|      5000|\n",
            "|1954400510|20150218T000000|510000.0|       3|      2.0|       1680|    8080|   1.0|         0|   0|        3|    8|      1680|            0|    1987|           0|  98074|47.6168|-122.045|         1800|      7503|\n",
            "+----------+---------------+--------+--------+---------+-----------+--------+------+----------+----+---------+-----+----------+-------------+--------+------------+-------+-------+--------+-------------+----------+\n",
            "only showing top 5 rows\n",
            "\n"
          ]
        }
      ]
    },
    {
      "cell_type": "code",
      "source": [
        "# Преобразуем данные в нужный формат\n",
        "feature_columns = ['bedrooms', 'bathrooms', 'sqft_living', 'sqft_lot', 'floors',\n",
        "                   'waterfront', 'view', 'condition', 'grade', 'sqft_above',\n",
        "                   'sqft_basement', 'yr_built', 'yr_renovated', 'zipcode', 'lat', 'long']\n"
      ],
      "metadata": {
        "id": "Fz9V4Maq-tJY"
      },
      "execution_count": null,
      "outputs": []
    },
    {
      "cell_type": "code",
      "source": [
        "# Создаем VectorAssembler\n",
        "assembler = VectorAssembler(inputCols=feature_columns, outputCol='features')"
      ],
      "metadata": {
        "id": "DpludA8a-tFw"
      },
      "execution_count": null,
      "outputs": []
    },
    {
      "cell_type": "code",
      "source": [
        "df_transformed = assembler.transform(df_2)"
      ],
      "metadata": {
        "id": "TyR6sKsBAAb9"
      },
      "execution_count": null,
      "outputs": []
    },
    {
      "cell_type": "code",
      "source": [
        "# Разделяем данные на обучающую и тестовую выборки\n",
        "train_df, test_df = df_transformed.randomSplit([0.8, 0.2], seed=1234)"
      ],
      "metadata": {
        "id": "a-3o51k2E926"
      },
      "execution_count": null,
      "outputs": []
    },
    {
      "cell_type": "code",
      "source": [
        "# Преобразуем RDD в два отдельных списка: features и labels\n",
        "train_features = train_df.select(\"features\").rdd.map(lambda row: row[\"features\"].toArray()).collect()\n",
        "train_labels = train_df.select(\"price\").rdd.map(lambda row: row[\"price\"]).collect()\n",
        "\n",
        "test_features = test_df.select(\"features\").rdd.map(lambda row: row[\"features\"].toArray()).collect()\n",
        "test_labels = test_df.select(\"price\").rdd.map(lambda row: row[\"price\"]).collect()\n",
        "\n",
        "# Преобразуем в формат для Elephas\n",
        "train_data = to_data_frame(spark.sparkContext, train_features, train_labels)\n",
        "test_data = to_data_frame(spark.sparkContext, test_features, test_labels)\n"
      ],
      "metadata": {
        "id": "ytwXfLZtAH7w"
      },
      "execution_count": null,
      "outputs": []
    },
    {
      "cell_type": "code",
      "source": [
        "# Построение модели Keras\n",
        "model = Sequential()\n",
        "model.add(Dense(64, input_shape=(len(feature_columns),)))\n",
        "model.add(Activation('relu'))\n",
        "model.add(Dense(64))\n",
        "model.add(Activation('relu'))\n",
        "model.add(Dense(1))  # Линейная регрессия"
      ],
      "metadata": {
        "id": "qk1KJ7XUE90A"
      },
      "execution_count": null,
      "outputs": []
    },
    {
      "cell_type": "code",
      "source": [
        "batch_size = 32\n",
        "epochs = 50"
      ],
      "metadata": {
        "id": "JPlRzUj_CEZ-"
      },
      "execution_count": null,
      "outputs": []
    },
    {
      "cell_type": "code",
      "source": [
        "# Конфигурация оптимизатора\n",
        "from keras.optimizers.legacy import SGD\n",
        "sgd = SGD(learning_rate=0.000001)\n",
        "\n",
        "sgd_conf = {\n",
        "    \"class_name\": \"SGD\",\n",
        "    \"config\": sgd.get_config()\n",
        "}"
      ],
      "metadata": {
        "id": "eppzShHUE9wC"
      },
      "execution_count": null,
      "outputs": []
    },
    {
      "cell_type": "code",
      "source": [
        "estimator = ElephasEstimator()\n",
        "estimator.set_keras_model_config(model.to_json())\n",
        "estimator.set_optimizer_config(sgd_conf)\n",
        "estimator.set_mode(\"synchronous\")\n",
        "estimator.set_loss(\"mae\")\n",
        "estimator.set_metrics(['mse'])\n",
        "estimator.set_epochs(epochs)\n",
        "estimator.set_batch_size(batch_size)\n",
        "estimator.set_validation_split(0.1)\n",
        "estimator.set_categorical_labels(False)"
      ],
      "metadata": {
        "colab": {
          "base_uri": "https://localhost:8080/"
        },
        "id": "SqJ_8r1hCEws",
        "outputId": "429d4f40-6ef1-4a48-a60f-623515ef8a46"
      },
      "execution_count": null,
      "outputs": [
        {
          "output_type": "execute_result",
          "data": {
            "text/plain": [
              "ElephasEstimator_b3ab83f56b0a"
            ]
          },
          "metadata": {},
          "execution_count": 36
        }
      ]
    },
    {
      "cell_type": "code",
      "source": [
        "# Обучение модели через Pipeline\n",
        "pipeline = Pipeline(stages=[estimator])\n",
        "fitted_pipeline = pipeline.fit(train_data)"
      ],
      "metadata": {
        "id": "uqn1GJ4RE9qX",
        "colab": {
          "base_uri": "https://localhost:8080/"
        },
        "outputId": "bb4ae436-feae-487b-bc10-5e8dd329f6ea"
      },
      "execution_count": null,
      "outputs": [
        {
          "output_type": "stream",
          "name": "stdout",
          "text": [
            ">>> Fit model\n",
            ">>> Synchronous training complete.\n"
          ]
        }
      ]
    },
    {
      "cell_type": "code",
      "source": [
        "# Предсказания\n",
        "prediction = fitted_pipeline.transform(test_data)\n",
        "pnl = prediction.select(\"label\", \"prediction\")\n",
        "pnl.show(10)"
      ],
      "metadata": {
        "id": "94zDj0VQDw0O",
        "colab": {
          "base_uri": "https://localhost:8080/"
        },
        "outputId": "03b17cb8-c283-45fd-f9cd-62f9aac9b084"
      },
      "execution_count": null,
      "outputs": [
        {
          "output_type": "stream",
          "name": "stdout",
          "text": [
            "+--------+------------+\n",
            "|   label|  prediction|\n",
            "+--------+------------+\n",
            "|300000.0|435159.71875|\n",
            "|235000.0|371819.59375|\n",
            "|617000.0| 400429.9375|\n",
            "|843000.0| 475154.9375|\n",
            "|837700.0|474464.53125|\n",
            "|715000.0| 461884.6875|\n",
            "|795000.0|  470488.875|\n",
            "|319500.0| 416803.4375|\n",
            "|570000.0|  397235.375|\n",
            "|550120.0|  427566.375|\n",
            "+--------+------------+\n",
            "only showing top 10 rows\n",
            "\n"
          ]
        }
      ]
    },
    {
      "cell_type": "code",
      "source": [
        "from pyspark.mllib.evaluation import RegressionMetrics\n",
        "\n",
        "prediction_and_label = pnl.rdd.map(lambda row: (row.label, row.prediction))\n",
        "metrics = RegressionMetrics(prediction_and_label)\n",
        "\n",
        "print(\"R^2:\", metrics.r2)\n",
        "print(\"MAE:\", metrics.meanAbsoluteError)\n",
        "print(\"RMSE:\", metrics.rootMeanSquaredError)"
      ],
      "metadata": {
        "id": "CAabThrNDwwg",
        "colab": {
          "base_uri": "https://localhost:8080/"
        },
        "outputId": "6e95b87f-f877-4743-ea87-8043a985387c"
      },
      "execution_count": null,
      "outputs": [
        {
          "output_type": "stream",
          "name": "stdout",
          "text": [
            "R^2: -34.116089512249985\n",
            "MAE: 205432.4489170146\n",
            "RMSE: 352278.4227038646\n"
          ]
        }
      ]
    },
    {
      "cell_type": "markdown",
      "source": [
        "### **Задание 3. Обучите модель текстовой классификации**"
      ],
      "metadata": {
        "id": "UbeGz3JNwxjk"
      }
    },
    {
      "cell_type": "markdown",
      "source": [
        "Ссылка на датасеты: https://www.kaggle.com/datasets?search=text+classification"
      ],
      "metadata": {
        "id": "_ZiR0j1cyv72"
      }
    },
    {
      "cell_type": "code",
      "source": [
        "from pyspark.ml.feature import Tokenizer, HashingTF, IDF\n",
        "from pyspark.ml import Pipeline\n",
        "from pyspark.sql.functions import col, when\n",
        "from tensorflow.keras.models import Sequential\n",
        "from tensorflow.keras.layers import Dense, Activation\n",
        "from tensorflow.keras.optimizers.legacy import Adam\n",
        "from elephas.spark_model import SparkModel\n",
        "from pyspark.mllib.evaluation import MulticlassMetrics\n",
        "import numpy as np"
      ],
      "metadata": {
        "id": "iH0MUGcLRAty"
      },
      "execution_count": 43,
      "outputs": []
    },
    {
      "cell_type": "code",
      "source": [
        "df = spark.read.csv('/content/ecommerceDataset.csv', header=True, inferSchema=True)\n",
        "df.printSchema()\n",
        "df.show(5)"
      ],
      "metadata": {
        "id": "9lM2XazzwyeP",
        "colab": {
          "base_uri": "https://localhost:8080/"
        },
        "outputId": "61d90ec7-291f-4da8-876f-fcecec5c6d56"
      },
      "execution_count": 44,
      "outputs": [
        {
          "output_type": "stream",
          "name": "stdout",
          "text": [
            "root\n",
            " |-- Household: string (nullable = true)\n",
            " |-- Paper Plane Design Framed Wall Hanging Motivational Office Decor Art Prints (8.7 X 8.7 inch) - Set of 4 Painting made up in synthetic frame with uv textured print which gives multi effects and attracts towards it. This is an special series of paintings which makes your wall very beautiful and gives a royal touch. This painting is ready to hang, you would be proud to possess this unique painting that is a niche apart. We use only the most modern and efficient printing technology on our prints, with only the and inks and precision epson, roland and hp printers. This innovative hd printing technique results in durable and spectacular looking prints of the highest that last a lifetime. We print solely with top-notch 100% inks, to achieve brilliant and true colours. Due to their high level of uv resistance, our prints retain their beautiful colours for many years. Add colour and style to your living space with this digitally printed painting. Some are for pleasure and some for eternal bliss.so bring home this elegant print that is lushed with rich colors that makes it nothing but sheer elegance to be to your friends and family.it would be treasured forever by whoever your lucky recipient is. Liven up your place with these intriguing paintings that are high definition hd graphic digital prints for home, office or any room.: string (nullable = true)\n",
            "\n",
            "+---------+------------------------------------------------------------------------------------------------------------------------------------------------------------------------------------------------------------------------------------------------------------------------------------------------------------------------------------------------------------------------------------------------------------------------------------------------------------------------------------------------------------------------------------------------------------------------------------------------------------------------------------------------------------------------------------------------------------------------------------------------------------------------------------------------------------------------------------------------------------------------------------------------------------------------------------------------------------------------------------------------------------------------------------------------------------------------------------------------------------------------------------------------------------------------------------------------------------------------------------------------------------------------------------------------------------------------------------------------------------------------------------------+\n",
            "|Household|Paper Plane Design Framed Wall Hanging Motivational Office Decor Art Prints (8.7 X 8.7 inch) - Set of 4 Painting made up in synthetic frame with uv textured print which gives multi effects and attracts towards it. This is an special series of paintings which makes your wall very beautiful and gives a royal touch. This painting is ready to hang, you would be proud to possess this unique painting that is a niche apart. We use only the most modern and efficient printing technology on our prints, with only the and inks and precision epson, roland and hp printers. This innovative hd printing technique results in durable and spectacular looking prints of the highest that last a lifetime. We print solely with top-notch 100% inks, to achieve brilliant and true colours. Due to their high level of uv resistance, our prints retain their beautiful colours for many years. Add colour and style to your living space with this digitally printed painting. Some are for pleasure and some for eternal bliss.so bring home this elegant print that is lushed with rich colors that makes it nothing but sheer elegance to be to your friends and family.it would be treasured forever by whoever your lucky recipient is. Liven up your place with these intriguing paintings that are high definition hd graphic digital prints for home, office or any room.|\n",
            "+---------+------------------------------------------------------------------------------------------------------------------------------------------------------------------------------------------------------------------------------------------------------------------------------------------------------------------------------------------------------------------------------------------------------------------------------------------------------------------------------------------------------------------------------------------------------------------------------------------------------------------------------------------------------------------------------------------------------------------------------------------------------------------------------------------------------------------------------------------------------------------------------------------------------------------------------------------------------------------------------------------------------------------------------------------------------------------------------------------------------------------------------------------------------------------------------------------------------------------------------------------------------------------------------------------------------------------------------------------------------------------------------------------+\n",
            "|Household|                                                                                                                                                                                                                                                                                                                                                                                                                                                                                                                                                                                                                                                                                                                                                                                                                                                                                                                                                                                                                                                                                                                                                                                                                                                                                                                                                                      SAF 'Floral' Fram...|\n",
            "|Household|                                                                                                                                                                                                                                                                                                                                                                                                                                                                                                                                                                                                                                                                                                                                                                                                                                                                                                                                                                                                                                                                                                                                                                                                                                                                                                                                                                      SAF 'UV Textured ...|\n",
            "|Household|                                                                                                                                                                                                                                                                                                                                                                                                                                                                                                                                                                                                                                                                                                                                                                                                                                                                                                                                                                                                                                                                                                                                                                                                                                                                                                                                                                      SAF Flower Print ...|\n",
            "|Household|                                                                                                                                                                                                                                                                                                                                                                                                                                                                                                                                                                                                                                                                                                                                                                                                                                                                                                                                                                                                                                                                                                                                                                                                                                                                                                                                                                      Incredible Gifts ...|\n",
            "|Household|                                                                                                                                                                                                                                                                                                                                                                                                                                                                                                                                                                                                                                                                                                                                                                                                                                                                                                                                                                                                                                                                                                                                                                                                                                                                                                                                                                      Pitaara Box Roman...|\n",
            "+---------+------------------------------------------------------------------------------------------------------------------------------------------------------------------------------------------------------------------------------------------------------------------------------------------------------------------------------------------------------------------------------------------------------------------------------------------------------------------------------------------------------------------------------------------------------------------------------------------------------------------------------------------------------------------------------------------------------------------------------------------------------------------------------------------------------------------------------------------------------------------------------------------------------------------------------------------------------------------------------------------------------------------------------------------------------------------------------------------------------------------------------------------------------------------------------------------------------------------------------------------------------------------------------------------------------------------------------------------------------------------------------------------+\n",
            "only showing top 5 rows\n",
            "\n"
          ]
        }
      ]
    },
    {
      "cell_type": "code",
      "source": [
        "# Обработка null и пустых значений\n",
        "df = df.withColumn(\"Household\", when(col(\"Household\").isNull(), \"\").otherwise(col(\"Household\")))\n",
        "df = df.filter(col(\"Household\") != \"\")\n",
        "print(f\"Количество строк после очистки: {df.count()}\")"
      ],
      "metadata": {
        "colab": {
          "base_uri": "https://localhost:8080/"
        },
        "id": "7W_hcYu-yvZ0",
        "outputId": "5ca68cff-96b7-4b6b-b0a2-b537eea7a610"
      },
      "execution_count": 45,
      "outputs": [
        {
          "output_type": "stream",
          "name": "stdout",
          "text": [
            "Количество строк после очистки: 50455\n"
          ]
        }
      ]
    },
    {
      "cell_type": "code",
      "source": [
        "# Создание сбалансированной выборки (по 250 строк на класс)\n",
        "classes = ['Household', 'Books', 'Clothing & Accessories', 'Electronics']\n",
        "balanced_df = None\n",
        "for cls in classes:\n",
        "    cls_df = df.filter(col(\"Household\") == cls).limit(250)\n",
        "    if balanced_df is None:\n",
        "        balanced_df = cls_df\n",
        "    else:\n",
        "        balanced_df = balanced_df.union(cls_df)\n",
        "\n",
        "print(f\"Количество строк в сбалансированной выборке: {balanced_df.count()}\")"
      ],
      "metadata": {
        "colab": {
          "base_uri": "https://localhost:8080/"
        },
        "id": "oakH97IRtFZk",
        "outputId": "69a2f8fa-bf29-4c49-cb50-6c229da3d73d"
      },
      "execution_count": 46,
      "outputs": [
        {
          "output_type": "stream",
          "name": "stdout",
          "text": [
            "Количество строк в сбалансированной выборке: 1000\n"
          ]
        }
      ]
    },
    {
      "cell_type": "code",
      "source": [
        "# Кодирование меток через StringIndexer\n",
        "from pyspark.ml.feature import StringIndexer\n",
        "indexer = StringIndexer(inputCol=\"Household\", outputCol=\"indexedLabel\")\n",
        "indexer_model = indexer.fit(balanced_df)\n",
        "train_df = indexer_model.transform(balanced_df)"
      ],
      "metadata": {
        "id": "Uh6IumkPtFol"
      },
      "execution_count": 47,
      "outputs": []
    },
    {
      "cell_type": "code",
      "source": [
        "# Проверка данных\n",
        "train_df.select(\"Household\", \"indexedLabel\").show(2, truncate=50)\n",
        "train_df.groupBy(\"indexedLabel\").count().show()"
      ],
      "metadata": {
        "colab": {
          "base_uri": "https://localhost:8080/"
        },
        "id": "pR9E5dP5tF4N",
        "outputId": "aa82749d-659e-421c-b118-2046646042dd"
      },
      "execution_count": 48,
      "outputs": [
        {
          "output_type": "stream",
          "name": "stdout",
          "text": [
            "+---------+------------+\n",
            "|Household|indexedLabel|\n",
            "+---------+------------+\n",
            "|Household|         3.0|\n",
            "|Household|         3.0|\n",
            "+---------+------------+\n",
            "only showing top 2 rows\n",
            "\n",
            "+------------+-----+\n",
            "|indexedLabel|count|\n",
            "+------------+-----+\n",
            "|         3.0|  250|\n",
            "|         0.0|  250|\n",
            "|         1.0|  250|\n",
            "|         2.0|  250|\n",
            "+------------+-----+\n",
            "\n"
          ]
        }
      ]
    },
    {
      "cell_type": "code",
      "source": [
        "# Предобработка текста\n",
        "tokenizer = Tokenizer(inputCol=\"Household\", outputCol=\"words\")\n",
        "hashingTF = HashingTF(inputCol=\"words\", outputCol=\"raw_features\", numFeatures=2000)\n",
        "idf = IDF(inputCol=\"raw_features\", outputCol=\"features\")"
      ],
      "metadata": {
        "id": "1Uj9pASztN78"
      },
      "execution_count": 49,
      "outputs": []
    },
    {
      "cell_type": "code",
      "source": [
        "# Пайплайн\n",
        "pipeline = Pipeline(stages=[tokenizer, hashingTF, idf])\n",
        "pipeline_model = pipeline.fit(train_df)\n",
        "train_data = pipeline_model.transform(train_df)"
      ],
      "metadata": {
        "id": "223PEYNetTlg"
      },
      "execution_count": 50,
      "outputs": []
    },
    {
      "cell_type": "code",
      "source": [
        "# Разделение данных\n",
        "train_data, test_data = train_data.randomSplit([0.7, 0.3], seed=42)\n",
        "train_data.cache()\n",
        "test_data.cache()\n",
        "\n",
        "print(f\"Train count: {train_data.count()}\")\n",
        "print(f\"Test count: {test_data.count()}\")"
      ],
      "metadata": {
        "colab": {
          "base_uri": "https://localhost:8080/"
        },
        "id": "5uc4Lp5itWFc",
        "outputId": "2bde3b8a-584d-4f2d-847a-8cd329692800"
      },
      "execution_count": 51,
      "outputs": [
        {
          "output_type": "stream",
          "name": "stdout",
          "text": [
            "Train count: 705\n",
            "Test count: 295\n"
          ]
        }
      ]
    },
    {
      "cell_type": "code",
      "source": [
        "# Создание модели Keras\n",
        "num_classes = 4  # Household, Books, Clothing & Accessories, Electronics\n",
        "model = Sequential()\n",
        "model.add(Dense(128, input_shape=(2000,)))\n",
        "model.add(Activation('relu'))\n",
        "model.add(Dense(64))\n",
        "model.add(Activation('relu'))\n",
        "model.add(Dense(num_classes))\n",
        "model.add(Activation('softmax'))"
      ],
      "metadata": {
        "id": "tjq7H1KqtX3c"
      },
      "execution_count": 52,
      "outputs": []
    },
    {
      "cell_type": "code",
      "source": [
        "# Компиляция модели\n",
        "model.compile(optimizer=Adam(lr=0.001), loss='sparse_categorical_crossentropy', metrics=['accuracy'])\n",
        "\n",
        "# Сохранение и загрузка модели\n",
        "model.save('temp_model_ecommerce.h5')\n",
        "from tensorflow.keras.models import load_model\n",
        "model = load_model('temp_model_ecommerce.h5')"
      ],
      "metadata": {
        "id": "nF5Rn68ntaEH"
      },
      "execution_count": 53,
      "outputs": []
    },
    {
      "cell_type": "code",
      "source": [
        "# Подготовка RDD\n",
        "train_rdd = train_data.rdd.map(lambda row: (row['features'].toArray(), row['indexedLabel']))"
      ],
      "metadata": {
        "id": "kxpBiVcNtcF8"
      },
      "execution_count": 54,
      "outputs": []
    },
    {
      "cell_type": "code",
      "source": [
        "from tensorflow.keras.callbacks import EarlyStopping\n",
        "\n",
        "spark_model = SparkModel(\n",
        "    model,\n",
        "    frequency='batch',  # Более частая синхронизация (чем 'epoch') может улучшить сходимость\n",
        "    mode='asynchronous',  # Асинхронный режим часто работает быстрее для больших кластеров\n",
        "    port=4001,\n",
        "    num_workers=4,  # Оптимальное количество воркеров для вашего кластера\n",
        "    elastic_learning_rate=0.001,  # Адаптация learning rate между воркерами\n",
        "    dynamic_loss_scale=True  # Автоматическое масштабирование loss для стабильности\n",
        ")\n",
        "\n",
        "history = spark_model.fit(\n",
        "    train_rdd,\n",
        "    epochs=50,  # Больше эпох для сложных моделей\n",
        "    batch_size=128,  # Увеличенный batch для распределённого обучения\n",
        "    validation_split=0.1,  # Меньше validation данных для большего обучающего набора\n",
        "    verbose=1,\n",
        "    shuffle=True,  # Перемешивание данных между эпохами\n",
        "    learning_rate=0.001,  # Стандартный learning rate для Adam\n",
        "    metrics=['accuracy'],  # Контроль метрик\n",
        "    callbacks=[EarlyStopping(monitor='val_loss', patience=3)]  # Ранняя остановка\n",
        ")"
      ],
      "metadata": {
        "colab": {
          "base_uri": "https://localhost:8080/"
        },
        "id": "aeqGMwY53j2B",
        "outputId": "939457f8-b486-4743-aef8-13127da5ee73"
      },
      "execution_count": 55,
      "outputs": [
        {
          "output_type": "stream",
          "name": "stdout",
          "text": [
            ">>> Fit model\n",
            " * Serving Flask app 'elephas.parameter.server'\n",
            " * Debug mode: off\n"
          ]
        },
        {
          "output_type": "stream",
          "name": "stderr",
          "text": [
            "INFO:werkzeug:\u001b[31m\u001b[1mWARNING: This is a development server. Do not use it in a production deployment. Use a production WSGI server instead.\u001b[0m\n",
            " * Running on http://172.28.0.12:4001\n",
            "INFO:werkzeug:\u001b[33mPress CTRL+C to quit\u001b[0m\n"
          ]
        },
        {
          "output_type": "stream",
          "name": "stdout",
          "text": [
            ">>> Initialize workers\n",
            ">>> Distribute load\n"
          ]
        },
        {
          "output_type": "stream",
          "name": "stderr",
          "text": [
            "INFO:werkzeug:172.28.0.12 - - [03/Jun/2025 17:40:38] \"GET /parameters HTTP/1.1\" 200 -\n",
            "INFO:werkzeug:172.28.0.12 - - [03/Jun/2025 17:40:38] \"POST /update HTTP/1.1\" 200 -\n",
            "INFO:werkzeug:172.28.0.12 - - [03/Jun/2025 17:40:38] \"GET /parameters HTTP/1.1\" 200 -\n",
            "INFO:werkzeug:172.28.0.12 - - [03/Jun/2025 17:40:38] \"POST /update HTTP/1.1\" 200 -\n",
            "INFO:werkzeug:172.28.0.12 - - [03/Jun/2025 17:40:38] \"GET /parameters HTTP/1.1\" 200 -\n",
            "INFO:werkzeug:172.28.0.12 - - [03/Jun/2025 17:40:38] \"POST /update HTTP/1.1\" 200 -\n",
            "INFO:werkzeug:172.28.0.12 - - [03/Jun/2025 17:40:38] \"GET /parameters HTTP/1.1\" 200 -\n",
            "INFO:werkzeug:172.28.0.12 - - [03/Jun/2025 17:40:38] \"POST /update HTTP/1.1\" 200 -\n",
            "INFO:werkzeug:172.28.0.12 - - [03/Jun/2025 17:40:38] \"GET /parameters HTTP/1.1\" 200 -\n",
            "INFO:werkzeug:172.28.0.12 - - [03/Jun/2025 17:40:38] \"POST /update HTTP/1.1\" 200 -\n",
            "INFO:werkzeug:172.28.0.12 - - [03/Jun/2025 17:40:38] \"GET /parameters HTTP/1.1\" 200 -\n",
            "INFO:werkzeug:172.28.0.12 - - [03/Jun/2025 17:40:38] \"POST /update HTTP/1.1\" 200 -\n",
            "INFO:werkzeug:172.28.0.12 - - [03/Jun/2025 17:40:38] \"GET /parameters HTTP/1.1\" 200 -\n",
            "INFO:werkzeug:172.28.0.12 - - [03/Jun/2025 17:40:38] \"POST /update HTTP/1.1\" 200 -\n",
            "INFO:werkzeug:172.28.0.12 - - [03/Jun/2025 17:40:38] \"GET /parameters HTTP/1.1\" 200 -\n",
            "INFO:werkzeug:172.28.0.12 - - [03/Jun/2025 17:40:38] \"POST /update HTTP/1.1\" 200 -\n",
            "INFO:werkzeug:172.28.0.12 - - [03/Jun/2025 17:40:38] \"GET /parameters HTTP/1.1\" 200 -\n",
            "INFO:werkzeug:172.28.0.12 - - [03/Jun/2025 17:40:39] \"POST /update HTTP/1.1\" 200 -\n",
            "INFO:werkzeug:172.28.0.12 - - [03/Jun/2025 17:40:39] \"GET /parameters HTTP/1.1\" 200 -\n",
            "INFO:werkzeug:172.28.0.12 - - [03/Jun/2025 17:40:39] \"POST /update HTTP/1.1\" 200 -\n",
            "INFO:werkzeug:172.28.0.12 - - [03/Jun/2025 17:40:39] \"GET /parameters HTTP/1.1\" 200 -\n",
            "INFO:werkzeug:172.28.0.12 - - [03/Jun/2025 17:40:39] \"POST /update HTTP/1.1\" 200 -\n",
            "INFO:werkzeug:172.28.0.12 - - [03/Jun/2025 17:40:39] \"GET /parameters HTTP/1.1\" 200 -\n",
            "INFO:werkzeug:172.28.0.12 - - [03/Jun/2025 17:40:39] \"POST /update HTTP/1.1\" 200 -\n",
            "INFO:werkzeug:172.28.0.12 - - [03/Jun/2025 17:40:39] \"GET /parameters HTTP/1.1\" 200 -\n",
            "INFO:werkzeug:172.28.0.12 - - [03/Jun/2025 17:40:39] \"POST /update HTTP/1.1\" 200 -\n",
            "INFO:werkzeug:172.28.0.12 - - [03/Jun/2025 17:40:39] \"GET /parameters HTTP/1.1\" 200 -\n",
            "INFO:werkzeug:172.28.0.12 - - [03/Jun/2025 17:40:39] \"POST /update HTTP/1.1\" 200 -\n",
            "INFO:werkzeug:172.28.0.12 - - [03/Jun/2025 17:40:39] \"GET /parameters HTTP/1.1\" 200 -\n",
            "INFO:werkzeug:172.28.0.12 - - [03/Jun/2025 17:40:39] \"POST /update HTTP/1.1\" 200 -\n",
            "INFO:werkzeug:172.28.0.12 - - [03/Jun/2025 17:40:39] \"GET /parameters HTTP/1.1\" 200 -\n",
            "INFO:werkzeug:172.28.0.12 - - [03/Jun/2025 17:40:39] \"POST /update HTTP/1.1\" 200 -\n",
            "INFO:werkzeug:172.28.0.12 - - [03/Jun/2025 17:40:39] \"GET /parameters HTTP/1.1\" 200 -\n",
            "INFO:werkzeug:172.28.0.12 - - [03/Jun/2025 17:40:39] \"POST /update HTTP/1.1\" 200 -\n",
            "INFO:werkzeug:172.28.0.12 - - [03/Jun/2025 17:40:39] \"GET /parameters HTTP/1.1\" 200 -\n",
            "INFO:werkzeug:172.28.0.12 - - [03/Jun/2025 17:40:39] \"POST /update HTTP/1.1\" 200 -\n",
            "INFO:werkzeug:172.28.0.12 - - [03/Jun/2025 17:40:39] \"GET /parameters HTTP/1.1\" 200 -\n",
            "INFO:werkzeug:172.28.0.12 - - [03/Jun/2025 17:40:39] \"POST /update HTTP/1.1\" 200 -\n",
            "INFO:werkzeug:172.28.0.12 - - [03/Jun/2025 17:40:39] \"GET /parameters HTTP/1.1\" 200 -\n",
            "INFO:werkzeug:172.28.0.12 - - [03/Jun/2025 17:40:39] \"POST /update HTTP/1.1\" 200 -\n",
            "INFO:werkzeug:172.28.0.12 - - [03/Jun/2025 17:40:39] \"GET /parameters HTTP/1.1\" 200 -\n",
            "INFO:werkzeug:172.28.0.12 - - [03/Jun/2025 17:40:39] \"POST /update HTTP/1.1\" 200 -\n",
            "INFO:werkzeug:172.28.0.12 - - [03/Jun/2025 17:40:39] \"GET /parameters HTTP/1.1\" 200 -\n",
            "INFO:werkzeug:172.28.0.12 - - [03/Jun/2025 17:40:39] \"POST /update HTTP/1.1\" 200 -\n",
            "INFO:werkzeug:172.28.0.12 - - [03/Jun/2025 17:40:39] \"GET /parameters HTTP/1.1\" 200 -\n",
            "INFO:werkzeug:172.28.0.12 - - [03/Jun/2025 17:40:39] \"POST /update HTTP/1.1\" 200 -\n",
            "INFO:werkzeug:172.28.0.12 - - [03/Jun/2025 17:40:39] \"GET /parameters HTTP/1.1\" 200 -\n",
            "INFO:werkzeug:172.28.0.12 - - [03/Jun/2025 17:40:39] \"POST /update HTTP/1.1\" 200 -\n",
            "INFO:werkzeug:172.28.0.12 - - [03/Jun/2025 17:40:39] \"GET /parameters HTTP/1.1\" 200 -\n",
            "INFO:werkzeug:172.28.0.12 - - [03/Jun/2025 17:40:39] \"POST /update HTTP/1.1\" 200 -\n",
            "INFO:werkzeug:172.28.0.12 - - [03/Jun/2025 17:40:39] \"GET /parameters HTTP/1.1\" 200 -\n",
            "INFO:werkzeug:172.28.0.12 - - [03/Jun/2025 17:40:39] \"POST /update HTTP/1.1\" 200 -\n",
            "INFO:werkzeug:172.28.0.12 - - [03/Jun/2025 17:40:39] \"GET /parameters HTTP/1.1\" 200 -\n",
            "INFO:werkzeug:172.28.0.12 - - [03/Jun/2025 17:40:39] \"POST /update HTTP/1.1\" 200 -\n",
            "INFO:werkzeug:172.28.0.12 - - [03/Jun/2025 17:40:39] \"GET /parameters HTTP/1.1\" 200 -\n",
            "INFO:werkzeug:172.28.0.12 - - [03/Jun/2025 17:40:39] \"POST /update HTTP/1.1\" 200 -\n",
            "INFO:werkzeug:172.28.0.12 - - [03/Jun/2025 17:40:39] \"GET /parameters HTTP/1.1\" 200 -\n",
            "INFO:werkzeug:172.28.0.12 - - [03/Jun/2025 17:40:39] \"POST /update HTTP/1.1\" 200 -\n",
            "INFO:werkzeug:172.28.0.12 - - [03/Jun/2025 17:40:39] \"GET /parameters HTTP/1.1\" 200 -\n",
            "INFO:werkzeug:172.28.0.12 - - [03/Jun/2025 17:40:39] \"POST /update HTTP/1.1\" 200 -\n",
            "INFO:werkzeug:172.28.0.12 - - [03/Jun/2025 17:40:39] \"GET /parameters HTTP/1.1\" 200 -\n",
            "INFO:werkzeug:172.28.0.12 - - [03/Jun/2025 17:40:39] \"POST /update HTTP/1.1\" 200 -\n",
            "INFO:werkzeug:172.28.0.12 - - [03/Jun/2025 17:40:39] \"GET /parameters HTTP/1.1\" 200 -\n",
            "INFO:werkzeug:172.28.0.12 - - [03/Jun/2025 17:40:39] \"POST /update HTTP/1.1\" 200 -\n",
            "INFO:werkzeug:172.28.0.12 - - [03/Jun/2025 17:40:39] \"GET /parameters HTTP/1.1\" 200 -\n",
            "INFO:werkzeug:172.28.0.12 - - [03/Jun/2025 17:40:39] \"POST /update HTTP/1.1\" 200 -\n",
            "INFO:werkzeug:172.28.0.12 - - [03/Jun/2025 17:40:39] \"GET /parameters HTTP/1.1\" 200 -\n",
            "INFO:werkzeug:172.28.0.12 - - [03/Jun/2025 17:40:39] \"POST /update HTTP/1.1\" 200 -\n",
            "INFO:werkzeug:172.28.0.12 - - [03/Jun/2025 17:40:39] \"GET /parameters HTTP/1.1\" 200 -\n",
            "INFO:werkzeug:172.28.0.12 - - [03/Jun/2025 17:40:39] \"POST /update HTTP/1.1\" 200 -\n",
            "INFO:werkzeug:172.28.0.12 - - [03/Jun/2025 17:40:39] \"GET /parameters HTTP/1.1\" 200 -\n",
            "INFO:werkzeug:172.28.0.12 - - [03/Jun/2025 17:40:39] \"POST /update HTTP/1.1\" 200 -\n",
            "INFO:werkzeug:172.28.0.12 - - [03/Jun/2025 17:40:39] \"GET /parameters HTTP/1.1\" 200 -\n",
            "INFO:werkzeug:172.28.0.12 - - [03/Jun/2025 17:40:39] \"POST /update HTTP/1.1\" 200 -\n",
            "INFO:werkzeug:172.28.0.12 - - [03/Jun/2025 17:40:39] \"GET /parameters HTTP/1.1\" 200 -\n",
            "INFO:werkzeug:172.28.0.12 - - [03/Jun/2025 17:40:39] \"POST /update HTTP/1.1\" 200 -\n",
            "INFO:werkzeug:172.28.0.12 - - [03/Jun/2025 17:40:39] \"GET /parameters HTTP/1.1\" 200 -\n",
            "INFO:werkzeug:172.28.0.12 - - [03/Jun/2025 17:40:39] \"POST /update HTTP/1.1\" 200 -\n",
            "INFO:werkzeug:172.28.0.12 - - [03/Jun/2025 17:40:39] \"GET /parameters HTTP/1.1\" 200 -\n",
            "INFO:werkzeug:172.28.0.12 - - [03/Jun/2025 17:40:39] \"POST /update HTTP/1.1\" 200 -\n",
            "INFO:werkzeug:172.28.0.12 - - [03/Jun/2025 17:40:39] \"GET /parameters HTTP/1.1\" 200 -\n",
            "INFO:werkzeug:172.28.0.12 - - [03/Jun/2025 17:40:39] \"POST /update HTTP/1.1\" 200 -\n",
            "INFO:werkzeug:172.28.0.12 - - [03/Jun/2025 17:40:39] \"GET /parameters HTTP/1.1\" 200 -\n",
            "INFO:werkzeug:172.28.0.12 - - [03/Jun/2025 17:40:39] \"POST /update HTTP/1.1\" 200 -\n",
            "INFO:werkzeug:172.28.0.12 - - [03/Jun/2025 17:40:39] \"GET /parameters HTTP/1.1\" 200 -\n",
            "INFO:werkzeug:172.28.0.12 - - [03/Jun/2025 17:40:39] \"POST /update HTTP/1.1\" 200 -\n",
            "INFO:werkzeug:172.28.0.12 - - [03/Jun/2025 17:40:39] \"GET /parameters HTTP/1.1\" 200 -\n",
            "INFO:werkzeug:172.28.0.12 - - [03/Jun/2025 17:40:39] \"POST /update HTTP/1.1\" 200 -\n",
            "INFO:werkzeug:172.28.0.12 - - [03/Jun/2025 17:40:39] \"GET /parameters HTTP/1.1\" 200 -\n",
            "INFO:werkzeug:172.28.0.12 - - [03/Jun/2025 17:40:40] \"POST /update HTTP/1.1\" 200 -\n",
            "INFO:werkzeug:172.28.0.12 - - [03/Jun/2025 17:40:40] \"GET /parameters HTTP/1.1\" 200 -\n",
            "INFO:werkzeug:172.28.0.12 - - [03/Jun/2025 17:40:40] \"POST /update HTTP/1.1\" 200 -\n",
            "INFO:werkzeug:172.28.0.12 - - [03/Jun/2025 17:40:40] \"GET /parameters HTTP/1.1\" 200 -\n",
            "INFO:werkzeug:172.28.0.12 - - [03/Jun/2025 17:40:40] \"POST /update HTTP/1.1\" 200 -\n",
            "INFO:werkzeug:172.28.0.12 - - [03/Jun/2025 17:40:40] \"GET /parameters HTTP/1.1\" 200 -\n",
            "INFO:werkzeug:172.28.0.12 - - [03/Jun/2025 17:40:40] \"POST /update HTTP/1.1\" 200 -\n",
            "INFO:werkzeug:172.28.0.12 - - [03/Jun/2025 17:40:40] \"GET /parameters HTTP/1.1\" 200 -\n",
            "INFO:werkzeug:172.28.0.12 - - [03/Jun/2025 17:40:40] \"POST /update HTTP/1.1\" 200 -\n",
            "INFO:werkzeug:172.28.0.12 - - [03/Jun/2025 17:40:40] \"GET /parameters HTTP/1.1\" 200 -\n",
            "INFO:werkzeug:172.28.0.12 - - [03/Jun/2025 17:40:40] \"POST /update HTTP/1.1\" 200 -\n",
            "INFO:werkzeug:172.28.0.12 - - [03/Jun/2025 17:40:40] \"GET /parameters HTTP/1.1\" 200 -\n",
            "INFO:werkzeug:172.28.0.12 - - [03/Jun/2025 17:40:40] \"POST /update HTTP/1.1\" 200 -\n",
            "INFO:werkzeug:172.28.0.12 - - [03/Jun/2025 17:40:40] \"GET /parameters HTTP/1.1\" 200 -\n",
            "INFO:werkzeug:172.28.0.12 - - [03/Jun/2025 17:40:40] \"POST /update HTTP/1.1\" 200 -\n",
            "INFO:werkzeug:172.28.0.12 - - [03/Jun/2025 17:40:40] \"GET /parameters HTTP/1.1\" 200 -\n",
            "INFO:werkzeug:172.28.0.12 - - [03/Jun/2025 17:40:40] \"POST /update HTTP/1.1\" 200 -\n",
            "INFO:werkzeug:172.28.0.12 - - [03/Jun/2025 17:40:40] \"GET /parameters HTTP/1.1\" 200 -\n",
            "INFO:werkzeug:172.28.0.12 - - [03/Jun/2025 17:40:40] \"POST /update HTTP/1.1\" 200 -\n",
            "INFO:werkzeug:172.28.0.12 - - [03/Jun/2025 17:40:40] \"GET /parameters HTTP/1.1\" 200 -\n",
            "INFO:werkzeug:172.28.0.12 - - [03/Jun/2025 17:40:40] \"POST /update HTTP/1.1\" 200 -\n",
            "INFO:werkzeug:172.28.0.12 - - [03/Jun/2025 17:40:40] \"GET /parameters HTTP/1.1\" 200 -\n",
            "INFO:werkzeug:172.28.0.12 - - [03/Jun/2025 17:40:40] \"POST /update HTTP/1.1\" 200 -\n",
            "INFO:werkzeug:172.28.0.12 - - [03/Jun/2025 17:40:40] \"GET /parameters HTTP/1.1\" 200 -\n",
            "INFO:werkzeug:172.28.0.12 - - [03/Jun/2025 17:40:40] \"POST /update HTTP/1.1\" 200 -\n",
            "INFO:werkzeug:172.28.0.12 - - [03/Jun/2025 17:40:40] \"GET /parameters HTTP/1.1\" 200 -\n",
            "INFO:werkzeug:172.28.0.12 - - [03/Jun/2025 17:40:40] \"POST /update HTTP/1.1\" 200 -\n",
            "INFO:werkzeug:172.28.0.12 - - [03/Jun/2025 17:40:40] \"GET /parameters HTTP/1.1\" 200 -\n",
            "INFO:werkzeug:172.28.0.12 - - [03/Jun/2025 17:40:40] \"POST /update HTTP/1.1\" 200 -\n",
            "INFO:werkzeug:172.28.0.12 - - [03/Jun/2025 17:40:40] \"GET /parameters HTTP/1.1\" 200 -\n",
            "INFO:werkzeug:172.28.0.12 - - [03/Jun/2025 17:40:40] \"POST /update HTTP/1.1\" 200 -\n",
            "INFO:werkzeug:172.28.0.12 - - [03/Jun/2025 17:40:40] \"GET /parameters HTTP/1.1\" 200 -\n",
            "INFO:werkzeug:172.28.0.12 - - [03/Jun/2025 17:40:40] \"POST /update HTTP/1.1\" 200 -\n",
            "INFO:werkzeug:172.28.0.12 - - [03/Jun/2025 17:40:40] \"GET /parameters HTTP/1.1\" 200 -\n",
            "INFO:werkzeug:172.28.0.12 - - [03/Jun/2025 17:40:40] \"POST /update HTTP/1.1\" 200 -\n",
            "INFO:werkzeug:172.28.0.12 - - [03/Jun/2025 17:40:40] \"GET /parameters HTTP/1.1\" 200 -\n",
            "INFO:werkzeug:172.28.0.12 - - [03/Jun/2025 17:40:40] \"POST /update HTTP/1.1\" 200 -\n",
            "INFO:werkzeug:172.28.0.12 - - [03/Jun/2025 17:40:40] \"GET /parameters HTTP/1.1\" 200 -\n",
            "INFO:werkzeug:172.28.0.12 - - [03/Jun/2025 17:40:40] \"POST /update HTTP/1.1\" 200 -\n",
            "INFO:werkzeug:172.28.0.12 - - [03/Jun/2025 17:40:40] \"GET /parameters HTTP/1.1\" 200 -\n",
            "INFO:werkzeug:172.28.0.12 - - [03/Jun/2025 17:40:40] \"POST /update HTTP/1.1\" 200 -\n",
            "INFO:werkzeug:172.28.0.12 - - [03/Jun/2025 17:40:40] \"GET /parameters HTTP/1.1\" 200 -\n",
            "INFO:werkzeug:172.28.0.12 - - [03/Jun/2025 17:40:40] \"POST /update HTTP/1.1\" 200 -\n",
            "INFO:werkzeug:172.28.0.12 - - [03/Jun/2025 17:40:40] \"GET /parameters HTTP/1.1\" 200 -\n",
            "INFO:werkzeug:172.28.0.12 - - [03/Jun/2025 17:40:40] \"POST /update HTTP/1.1\" 200 -\n",
            "INFO:werkzeug:172.28.0.12 - - [03/Jun/2025 17:40:40] \"GET /parameters HTTP/1.1\" 200 -\n",
            "INFO:werkzeug:172.28.0.12 - - [03/Jun/2025 17:40:40] \"POST /update HTTP/1.1\" 200 -\n",
            "INFO:werkzeug:172.28.0.12 - - [03/Jun/2025 17:40:40] \"GET /parameters HTTP/1.1\" 200 -\n",
            "INFO:werkzeug:172.28.0.12 - - [03/Jun/2025 17:40:40] \"POST /update HTTP/1.1\" 200 -\n",
            "INFO:werkzeug:172.28.0.12 - - [03/Jun/2025 17:40:40] \"GET /parameters HTTP/1.1\" 200 -\n",
            "INFO:werkzeug:172.28.0.12 - - [03/Jun/2025 17:40:40] \"POST /update HTTP/1.1\" 200 -\n",
            "INFO:werkzeug:172.28.0.12 - - [03/Jun/2025 17:40:40] \"GET /parameters HTTP/1.1\" 200 -\n",
            "INFO:werkzeug:172.28.0.12 - - [03/Jun/2025 17:40:40] \"POST /update HTTP/1.1\" 200 -\n",
            "INFO:werkzeug:172.28.0.12 - - [03/Jun/2025 17:40:40] \"GET /parameters HTTP/1.1\" 200 -\n",
            "INFO:werkzeug:172.28.0.12 - - [03/Jun/2025 17:40:40] \"POST /update HTTP/1.1\" 200 -\n",
            "INFO:werkzeug:172.28.0.12 - - [03/Jun/2025 17:40:40] \"GET /parameters HTTP/1.1\" 200 -\n",
            "INFO:werkzeug:172.28.0.12 - - [03/Jun/2025 17:40:40] \"POST /update HTTP/1.1\" 200 -\n",
            "INFO:werkzeug:172.28.0.12 - - [03/Jun/2025 17:40:40] \"GET /parameters HTTP/1.1\" 200 -\n",
            "INFO:werkzeug:172.28.0.12 - - [03/Jun/2025 17:40:40] \"POST /update HTTP/1.1\" 200 -\n",
            "INFO:werkzeug:172.28.0.12 - - [03/Jun/2025 17:40:40] \"GET /parameters HTTP/1.1\" 200 -\n",
            "INFO:werkzeug:172.28.0.12 - - [03/Jun/2025 17:40:40] \"POST /update HTTP/1.1\" 200 -\n",
            "INFO:werkzeug:172.28.0.12 - - [03/Jun/2025 17:40:40] \"GET /parameters HTTP/1.1\" 200 -\n",
            "INFO:werkzeug:172.28.0.12 - - [03/Jun/2025 17:40:40] \"POST /update HTTP/1.1\" 200 -\n",
            "INFO:werkzeug:172.28.0.12 - - [03/Jun/2025 17:40:40] \"GET /parameters HTTP/1.1\" 200 -\n",
            "INFO:werkzeug:172.28.0.12 - - [03/Jun/2025 17:40:40] \"POST /update HTTP/1.1\" 200 -\n",
            "INFO:werkzeug:172.28.0.12 - - [03/Jun/2025 17:40:40] \"GET /parameters HTTP/1.1\" 200 -\n",
            "INFO:werkzeug:172.28.0.12 - - [03/Jun/2025 17:40:40] \"POST /update HTTP/1.1\" 200 -\n",
            "INFO:werkzeug:172.28.0.12 - - [03/Jun/2025 17:40:40] \"GET /parameters HTTP/1.1\" 200 -\n",
            "INFO:werkzeug:172.28.0.12 - - [03/Jun/2025 17:40:40] \"POST /update HTTP/1.1\" 200 -\n",
            "INFO:werkzeug:172.28.0.12 - - [03/Jun/2025 17:40:40] \"GET /parameters HTTP/1.1\" 200 -\n",
            "INFO:werkzeug:172.28.0.12 - - [03/Jun/2025 17:40:40] \"POST /update HTTP/1.1\" 200 -\n",
            "INFO:werkzeug:172.28.0.12 - - [03/Jun/2025 17:40:40] \"GET /parameters HTTP/1.1\" 200 -\n",
            "INFO:werkzeug:172.28.0.12 - - [03/Jun/2025 17:40:40] \"POST /update HTTP/1.1\" 200 -\n",
            "INFO:werkzeug:172.28.0.12 - - [03/Jun/2025 17:40:40] \"GET /parameters HTTP/1.1\" 200 -\n",
            "INFO:werkzeug:172.28.0.12 - - [03/Jun/2025 17:40:40] \"POST /update HTTP/1.1\" 200 -\n",
            "INFO:werkzeug:172.28.0.12 - - [03/Jun/2025 17:40:40] \"GET /parameters HTTP/1.1\" 200 -\n",
            "INFO:werkzeug:172.28.0.12 - - [03/Jun/2025 17:40:40] \"POST /update HTTP/1.1\" 200 -\n",
            "INFO:werkzeug:172.28.0.12 - - [03/Jun/2025 17:40:40] \"GET /parameters HTTP/1.1\" 200 -\n",
            "INFO:werkzeug:172.28.0.12 - - [03/Jun/2025 17:40:41] \"POST /update HTTP/1.1\" 200 -\n",
            "INFO:werkzeug:172.28.0.12 - - [03/Jun/2025 17:40:41] \"GET /parameters HTTP/1.1\" 200 -\n",
            "INFO:werkzeug:172.28.0.12 - - [03/Jun/2025 17:40:41] \"POST /update HTTP/1.1\" 200 -\n",
            "INFO:werkzeug:172.28.0.12 - - [03/Jun/2025 17:40:41] \"GET /parameters HTTP/1.1\" 200 -\n",
            "INFO:werkzeug:172.28.0.12 - - [03/Jun/2025 17:40:41] \"POST /update HTTP/1.1\" 200 -\n",
            "INFO:werkzeug:172.28.0.12 - - [03/Jun/2025 17:40:41] \"GET /parameters HTTP/1.1\" 200 -\n",
            "INFO:werkzeug:172.28.0.12 - - [03/Jun/2025 17:40:41] \"POST /update HTTP/1.1\" 200 -\n",
            "INFO:werkzeug:172.28.0.12 - - [03/Jun/2025 17:40:41] \"GET /parameters HTTP/1.1\" 200 -\n",
            "INFO:werkzeug:172.28.0.12 - - [03/Jun/2025 17:40:41] \"POST /update HTTP/1.1\" 200 -\n",
            "INFO:werkzeug:172.28.0.12 - - [03/Jun/2025 17:40:41] \"GET /parameters HTTP/1.1\" 200 -\n",
            "INFO:werkzeug:172.28.0.12 - - [03/Jun/2025 17:40:41] \"POST /update HTTP/1.1\" 200 -\n",
            "INFO:werkzeug:172.28.0.12 - - [03/Jun/2025 17:40:41] \"GET /parameters HTTP/1.1\" 200 -\n",
            "INFO:werkzeug:172.28.0.12 - - [03/Jun/2025 17:40:41] \"POST /update HTTP/1.1\" 200 -\n",
            "INFO:werkzeug:172.28.0.12 - - [03/Jun/2025 17:40:41] \"GET /parameters HTTP/1.1\" 200 -\n",
            "INFO:werkzeug:172.28.0.12 - - [03/Jun/2025 17:40:41] \"POST /update HTTP/1.1\" 200 -\n",
            "INFO:werkzeug:172.28.0.12 - - [03/Jun/2025 17:40:41] \"GET /parameters HTTP/1.1\" 200 -\n",
            "INFO:werkzeug:172.28.0.12 - - [03/Jun/2025 17:40:41] \"POST /update HTTP/1.1\" 200 -\n",
            "INFO:werkzeug:172.28.0.12 - - [03/Jun/2025 17:40:41] \"GET /parameters HTTP/1.1\" 200 -\n",
            "INFO:werkzeug:172.28.0.12 - - [03/Jun/2025 17:40:41] \"POST /update HTTP/1.1\" 200 -\n",
            "INFO:werkzeug:172.28.0.12 - - [03/Jun/2025 17:40:41] \"GET /parameters HTTP/1.1\" 200 -\n",
            "INFO:werkzeug:172.28.0.12 - - [03/Jun/2025 17:40:41] \"POST /update HTTP/1.1\" 200 -\n",
            "INFO:werkzeug:172.28.0.12 - - [03/Jun/2025 17:40:41] \"GET /parameters HTTP/1.1\" 200 -\n",
            "INFO:werkzeug:172.28.0.12 - - [03/Jun/2025 17:40:41] \"POST /update HTTP/1.1\" 200 -\n",
            "INFO:werkzeug:172.28.0.12 - - [03/Jun/2025 17:40:41] \"GET /parameters HTTP/1.1\" 200 -\n",
            "INFO:werkzeug:172.28.0.12 - - [03/Jun/2025 17:40:41] \"POST /update HTTP/1.1\" 200 -\n",
            "INFO:werkzeug:172.28.0.12 - - [03/Jun/2025 17:40:41] \"GET /parameters HTTP/1.1\" 200 -\n",
            "INFO:werkzeug:172.28.0.12 - - [03/Jun/2025 17:40:41] \"POST /update HTTP/1.1\" 200 -\n",
            "INFO:werkzeug:172.28.0.12 - - [03/Jun/2025 17:40:41] \"GET /parameters HTTP/1.1\" 200 -\n",
            "INFO:werkzeug:172.28.0.12 - - [03/Jun/2025 17:40:41] \"POST /update HTTP/1.1\" 200 -\n",
            "INFO:werkzeug:172.28.0.12 - - [03/Jun/2025 17:40:41] \"GET /parameters HTTP/1.1\" 200 -\n",
            "INFO:werkzeug:172.28.0.12 - - [03/Jun/2025 17:40:41] \"POST /update HTTP/1.1\" 200 -\n",
            "INFO:werkzeug:172.28.0.12 - - [03/Jun/2025 17:40:41] \"GET /parameters HTTP/1.1\" 200 -\n",
            "INFO:werkzeug:172.28.0.12 - - [03/Jun/2025 17:40:41] \"POST /update HTTP/1.1\" 200 -\n",
            "INFO:werkzeug:172.28.0.12 - - [03/Jun/2025 17:40:41] \"GET /parameters HTTP/1.1\" 200 -\n",
            "INFO:werkzeug:172.28.0.12 - - [03/Jun/2025 17:40:42] \"POST /update HTTP/1.1\" 200 -\n",
            "INFO:werkzeug:172.28.0.12 - - [03/Jun/2025 17:40:42] \"GET /parameters HTTP/1.1\" 200 -\n",
            "INFO:werkzeug:172.28.0.12 - - [03/Jun/2025 17:40:42] \"POST /update HTTP/1.1\" 200 -\n",
            "INFO:werkzeug:172.28.0.12 - - [03/Jun/2025 17:40:42] \"GET /parameters HTTP/1.1\" 200 -\n",
            "INFO:werkzeug:172.28.0.12 - - [03/Jun/2025 17:40:42] \"POST /update HTTP/1.1\" 200 -\n",
            "INFO:werkzeug:172.28.0.12 - - [03/Jun/2025 17:40:42] \"GET /parameters HTTP/1.1\" 200 -\n",
            "INFO:werkzeug:172.28.0.12 - - [03/Jun/2025 17:40:42] \"POST /update HTTP/1.1\" 200 -\n",
            "INFO:werkzeug:172.28.0.12 - - [03/Jun/2025 17:40:42] \"GET /parameters HTTP/1.1\" 200 -\n",
            "INFO:werkzeug:172.28.0.12 - - [03/Jun/2025 17:40:42] \"POST /update HTTP/1.1\" 200 -\n",
            "INFO:werkzeug:172.28.0.12 - - [03/Jun/2025 17:40:42] \"GET /parameters HTTP/1.1\" 200 -\n",
            "INFO:werkzeug:172.28.0.12 - - [03/Jun/2025 17:40:42] \"POST /update HTTP/1.1\" 200 -\n",
            "INFO:werkzeug:172.28.0.12 - - [03/Jun/2025 17:40:42] \"GET /parameters HTTP/1.1\" 200 -\n",
            "INFO:werkzeug:172.28.0.12 - - [03/Jun/2025 17:40:42] \"POST /update HTTP/1.1\" 200 -\n",
            "INFO:werkzeug:172.28.0.12 - - [03/Jun/2025 17:40:42] \"GET /parameters HTTP/1.1\" 200 -\n",
            "INFO:werkzeug:172.28.0.12 - - [03/Jun/2025 17:40:42] \"POST /update HTTP/1.1\" 200 -\n",
            "INFO:werkzeug:172.28.0.12 - - [03/Jun/2025 17:40:42] \"GET /parameters HTTP/1.1\" 200 -\n",
            "INFO:werkzeug:172.28.0.12 - - [03/Jun/2025 17:40:42] \"POST /update HTTP/1.1\" 200 -\n",
            "INFO:werkzeug:172.28.0.12 - - [03/Jun/2025 17:40:42] \"GET /parameters HTTP/1.1\" 200 -\n",
            "INFO:werkzeug:172.28.0.12 - - [03/Jun/2025 17:40:42] \"POST /update HTTP/1.1\" 200 -\n",
            "INFO:werkzeug:172.28.0.12 - - [03/Jun/2025 17:40:42] \"GET /parameters HTTP/1.1\" 200 -\n",
            "INFO:werkzeug:172.28.0.12 - - [03/Jun/2025 17:40:42] \"POST /update HTTP/1.1\" 200 -\n",
            "INFO:werkzeug:172.28.0.12 - - [03/Jun/2025 17:40:42] \"GET /parameters HTTP/1.1\" 200 -\n",
            "INFO:werkzeug:172.28.0.12 - - [03/Jun/2025 17:40:42] \"POST /update HTTP/1.1\" 200 -\n",
            "INFO:werkzeug:172.28.0.12 - - [03/Jun/2025 17:40:42] \"GET /parameters HTTP/1.1\" 200 -\n",
            "INFO:werkzeug:172.28.0.12 - - [03/Jun/2025 17:40:42] \"POST /update HTTP/1.1\" 200 -\n",
            "INFO:werkzeug:172.28.0.12 - - [03/Jun/2025 17:40:42] \"GET /parameters HTTP/1.1\" 200 -\n",
            "INFO:werkzeug:172.28.0.12 - - [03/Jun/2025 17:40:42] \"POST /update HTTP/1.1\" 200 -\n",
            "INFO:werkzeug:172.28.0.12 - - [03/Jun/2025 17:40:42] \"GET /parameters HTTP/1.1\" 200 -\n",
            "INFO:werkzeug:172.28.0.12 - - [03/Jun/2025 17:40:42] \"POST /update HTTP/1.1\" 200 -\n",
            "INFO:werkzeug:172.28.0.12 - - [03/Jun/2025 17:40:42] \"GET /parameters HTTP/1.1\" 200 -\n",
            "INFO:werkzeug:172.28.0.12 - - [03/Jun/2025 17:40:42] \"POST /update HTTP/1.1\" 200 -\n",
            "INFO:werkzeug:172.28.0.12 - - [03/Jun/2025 17:40:42] \"GET /parameters HTTP/1.1\" 200 -\n",
            "INFO:werkzeug:172.28.0.12 - - [03/Jun/2025 17:40:42] \"POST /update HTTP/1.1\" 200 -\n",
            "INFO:werkzeug:172.28.0.12 - - [03/Jun/2025 17:40:42] \"GET /parameters HTTP/1.1\" 200 -\n",
            "INFO:werkzeug:172.28.0.12 - - [03/Jun/2025 17:40:42] \"POST /update HTTP/1.1\" 200 -\n",
            "INFO:werkzeug:172.28.0.12 - - [03/Jun/2025 17:40:42] \"GET /parameters HTTP/1.1\" 200 -\n",
            "INFO:werkzeug:172.28.0.12 - - [03/Jun/2025 17:40:42] \"POST /update HTTP/1.1\" 200 -\n",
            "INFO:werkzeug:172.28.0.12 - - [03/Jun/2025 17:40:42] \"GET /parameters HTTP/1.1\" 200 -\n",
            "INFO:werkzeug:172.28.0.12 - - [03/Jun/2025 17:40:42] \"POST /update HTTP/1.1\" 200 -\n",
            "INFO:werkzeug:172.28.0.12 - - [03/Jun/2025 17:40:42] \"GET /parameters HTTP/1.1\" 200 -\n",
            "INFO:werkzeug:172.28.0.12 - - [03/Jun/2025 17:40:42] \"POST /update HTTP/1.1\" 200 -\n",
            "INFO:werkzeug:172.28.0.12 - - [03/Jun/2025 17:40:42] \"GET /parameters HTTP/1.1\" 200 -\n",
            "INFO:werkzeug:172.28.0.12 - - [03/Jun/2025 17:40:42] \"POST /update HTTP/1.1\" 200 -\n",
            "INFO:werkzeug:172.28.0.12 - - [03/Jun/2025 17:40:42] \"GET /parameters HTTP/1.1\" 200 -\n",
            "INFO:werkzeug:172.28.0.12 - - [03/Jun/2025 17:40:42] \"POST /update HTTP/1.1\" 200 -\n",
            "INFO:werkzeug:172.28.0.12 - - [03/Jun/2025 17:40:42] \"GET /parameters HTTP/1.1\" 200 -\n",
            "INFO:werkzeug:172.28.0.12 - - [03/Jun/2025 17:40:43] \"POST /update HTTP/1.1\" 200 -\n",
            "INFO:werkzeug:172.28.0.12 - - [03/Jun/2025 17:40:43] \"GET /parameters HTTP/1.1\" 200 -\n",
            "INFO:werkzeug:172.28.0.12 - - [03/Jun/2025 17:40:43] \"POST /update HTTP/1.1\" 200 -\n",
            "INFO:werkzeug:172.28.0.12 - - [03/Jun/2025 17:40:43] \"GET /parameters HTTP/1.1\" 200 -\n",
            "INFO:werkzeug:172.28.0.12 - - [03/Jun/2025 17:40:43] \"POST /update HTTP/1.1\" 200 -\n",
            "INFO:werkzeug:172.28.0.12 - - [03/Jun/2025 17:40:43] \"GET /parameters HTTP/1.1\" 200 -\n",
            "INFO:werkzeug:172.28.0.12 - - [03/Jun/2025 17:40:43] \"POST /update HTTP/1.1\" 200 -\n",
            "INFO:werkzeug:172.28.0.12 - - [03/Jun/2025 17:40:43] \"GET /parameters HTTP/1.1\" 200 -\n",
            "INFO:werkzeug:172.28.0.12 - - [03/Jun/2025 17:40:43] \"POST /update HTTP/1.1\" 200 -\n",
            "INFO:werkzeug:172.28.0.12 - - [03/Jun/2025 17:40:43] \"GET /parameters HTTP/1.1\" 200 -\n",
            "INFO:werkzeug:172.28.0.12 - - [03/Jun/2025 17:40:43] \"POST /update HTTP/1.1\" 200 -\n",
            "INFO:werkzeug:172.28.0.12 - - [03/Jun/2025 17:40:43] \"GET /parameters HTTP/1.1\" 200 -\n",
            "INFO:werkzeug:172.28.0.12 - - [03/Jun/2025 17:40:43] \"POST /update HTTP/1.1\" 200 -\n",
            "INFO:werkzeug:172.28.0.12 - - [03/Jun/2025 17:40:43] \"GET /parameters HTTP/1.1\" 200 -\n",
            "INFO:werkzeug:172.28.0.12 - - [03/Jun/2025 17:40:43] \"POST /update HTTP/1.1\" 200 -\n",
            "INFO:werkzeug:172.28.0.12 - - [03/Jun/2025 17:40:43] \"GET /parameters HTTP/1.1\" 200 -\n",
            "INFO:werkzeug:172.28.0.12 - - [03/Jun/2025 17:40:43] \"POST /update HTTP/1.1\" 200 -\n",
            "INFO:werkzeug:172.28.0.12 - - [03/Jun/2025 17:40:43] \"GET /parameters HTTP/1.1\" 200 -\n",
            "INFO:werkzeug:172.28.0.12 - - [03/Jun/2025 17:40:43] \"POST /update HTTP/1.1\" 200 -\n",
            "INFO:werkzeug:172.28.0.12 - - [03/Jun/2025 17:40:43] \"GET /parameters HTTP/1.1\" 200 -\n",
            "INFO:werkzeug:172.28.0.12 - - [03/Jun/2025 17:40:43] \"POST /update HTTP/1.1\" 200 -\n",
            "INFO:werkzeug:172.28.0.12 - - [03/Jun/2025 17:40:43] \"GET /parameters HTTP/1.1\" 200 -\n",
            "INFO:werkzeug:172.28.0.12 - - [03/Jun/2025 17:40:43] \"POST /update HTTP/1.1\" 200 -\n",
            "INFO:werkzeug:172.28.0.12 - - [03/Jun/2025 17:40:43] \"GET /parameters HTTP/1.1\" 200 -\n",
            "INFO:werkzeug:172.28.0.12 - - [03/Jun/2025 17:40:43] \"POST /update HTTP/1.1\" 200 -\n",
            "INFO:werkzeug:172.28.0.12 - - [03/Jun/2025 17:40:43] \"GET /parameters HTTP/1.1\" 200 -\n",
            "INFO:werkzeug:172.28.0.12 - - [03/Jun/2025 17:40:43] \"POST /update HTTP/1.1\" 200 -\n",
            "INFO:werkzeug:172.28.0.12 - - [03/Jun/2025 17:40:43] \"GET /parameters HTTP/1.1\" 200 -\n",
            "INFO:werkzeug:172.28.0.12 - - [03/Jun/2025 17:40:43] \"POST /update HTTP/1.1\" 200 -\n",
            "INFO:werkzeug:172.28.0.12 - - [03/Jun/2025 17:40:43] \"GET /parameters HTTP/1.1\" 200 -\n",
            "INFO:werkzeug:172.28.0.12 - - [03/Jun/2025 17:40:43] \"POST /update HTTP/1.1\" 200 -\n",
            "INFO:werkzeug:172.28.0.12 - - [03/Jun/2025 17:40:43] \"GET /parameters HTTP/1.1\" 200 -\n",
            "INFO:werkzeug:172.28.0.12 - - [03/Jun/2025 17:40:43] \"POST /update HTTP/1.1\" 200 -\n",
            "INFO:werkzeug:172.28.0.12 - - [03/Jun/2025 17:40:43] \"GET /parameters HTTP/1.1\" 200 -\n",
            "INFO:werkzeug:172.28.0.12 - - [03/Jun/2025 17:40:43] \"POST /update HTTP/1.1\" 200 -\n",
            "INFO:werkzeug:172.28.0.12 - - [03/Jun/2025 17:40:43] \"GET /parameters HTTP/1.1\" 200 -\n",
            "INFO:werkzeug:172.28.0.12 - - [03/Jun/2025 17:40:43] \"POST /update HTTP/1.1\" 200 -\n",
            "INFO:werkzeug:172.28.0.12 - - [03/Jun/2025 17:40:43] \"GET /parameters HTTP/1.1\" 200 -\n",
            "INFO:werkzeug:172.28.0.12 - - [03/Jun/2025 17:40:43] \"POST /update HTTP/1.1\" 200 -\n",
            "INFO:werkzeug:172.28.0.12 - - [03/Jun/2025 17:40:43] \"GET /parameters HTTP/1.1\" 200 -\n",
            "INFO:werkzeug:172.28.0.12 - - [03/Jun/2025 17:40:43] \"POST /update HTTP/1.1\" 200 -\n",
            "INFO:werkzeug:172.28.0.12 - - [03/Jun/2025 17:40:43] \"GET /parameters HTTP/1.1\" 200 -\n",
            "INFO:werkzeug:172.28.0.12 - - [03/Jun/2025 17:40:43] \"POST /update HTTP/1.1\" 200 -\n",
            "INFO:werkzeug:172.28.0.12 - - [03/Jun/2025 17:40:43] \"GET /parameters HTTP/1.1\" 200 -\n",
            "INFO:werkzeug:172.28.0.12 - - [03/Jun/2025 17:40:43] \"POST /update HTTP/1.1\" 200 -\n",
            "INFO:werkzeug:172.28.0.12 - - [03/Jun/2025 17:40:43] \"GET /parameters HTTP/1.1\" 200 -\n",
            "INFO:werkzeug:172.28.0.12 - - [03/Jun/2025 17:40:43] \"POST /update HTTP/1.1\" 200 -\n",
            "INFO:werkzeug:172.28.0.12 - - [03/Jun/2025 17:40:43] \"GET /parameters HTTP/1.1\" 200 -\n",
            "INFO:werkzeug:172.28.0.12 - - [03/Jun/2025 17:40:43] \"POST /update HTTP/1.1\" 200 -\n",
            "INFO:werkzeug:172.28.0.12 - - [03/Jun/2025 17:40:43] \"GET /parameters HTTP/1.1\" 200 -\n",
            "INFO:werkzeug:172.28.0.12 - - [03/Jun/2025 17:40:43] \"POST /update HTTP/1.1\" 200 -\n",
            "INFO:werkzeug:172.28.0.12 - - [03/Jun/2025 17:40:43] \"GET /parameters HTTP/1.1\" 200 -\n",
            "INFO:werkzeug:172.28.0.12 - - [03/Jun/2025 17:40:43] \"POST /update HTTP/1.1\" 200 -\n",
            "INFO:werkzeug:172.28.0.12 - - [03/Jun/2025 17:40:43] \"GET /parameters HTTP/1.1\" 200 -\n",
            "INFO:werkzeug:172.28.0.12 - - [03/Jun/2025 17:40:43] \"POST /update HTTP/1.1\" 200 -\n",
            "INFO:werkzeug:172.28.0.12 - - [03/Jun/2025 17:40:43] \"GET /parameters HTTP/1.1\" 200 -\n",
            "INFO:werkzeug:172.28.0.12 - - [03/Jun/2025 17:40:43] \"POST /update HTTP/1.1\" 200 -\n",
            "INFO:werkzeug:172.28.0.12 - - [03/Jun/2025 17:40:43] \"GET /parameters HTTP/1.1\" 200 -\n",
            "INFO:werkzeug:172.28.0.12 - - [03/Jun/2025 17:40:43] \"POST /update HTTP/1.1\" 200 -\n",
            "INFO:werkzeug:172.28.0.12 - - [03/Jun/2025 17:40:43] \"GET /parameters HTTP/1.1\" 200 -\n",
            "INFO:werkzeug:172.28.0.12 - - [03/Jun/2025 17:40:43] \"POST /update HTTP/1.1\" 200 -\n",
            "INFO:werkzeug:172.28.0.12 - - [03/Jun/2025 17:40:43] \"GET /parameters HTTP/1.1\" 200 -\n",
            "INFO:werkzeug:172.28.0.12 - - [03/Jun/2025 17:40:43] \"POST /update HTTP/1.1\" 200 -\n",
            "INFO:werkzeug:172.28.0.12 - - [03/Jun/2025 17:40:43] \"GET /parameters HTTP/1.1\" 200 -\n",
            "INFO:werkzeug:172.28.0.12 - - [03/Jun/2025 17:40:43] \"POST /update HTTP/1.1\" 200 -\n",
            "INFO:werkzeug:172.28.0.12 - - [03/Jun/2025 17:40:43] \"GET /parameters HTTP/1.1\" 200 -\n",
            "INFO:werkzeug:172.28.0.12 - - [03/Jun/2025 17:40:43] \"POST /update HTTP/1.1\" 200 -\n",
            "INFO:werkzeug:172.28.0.12 - - [03/Jun/2025 17:40:43] \"GET /parameters HTTP/1.1\" 200 -\n",
            "INFO:werkzeug:172.28.0.12 - - [03/Jun/2025 17:40:43] \"POST /update HTTP/1.1\" 200 -\n",
            "INFO:werkzeug:172.28.0.12 - - [03/Jun/2025 17:40:43] \"GET /parameters HTTP/1.1\" 200 -\n",
            "INFO:werkzeug:172.28.0.12 - - [03/Jun/2025 17:40:43] \"POST /update HTTP/1.1\" 200 -\n",
            "INFO:werkzeug:172.28.0.12 - - [03/Jun/2025 17:40:43] \"GET /parameters HTTP/1.1\" 200 -\n",
            "INFO:werkzeug:172.28.0.12 - - [03/Jun/2025 17:40:43] \"POST /update HTTP/1.1\" 200 -\n",
            "INFO:werkzeug:172.28.0.12 - - [03/Jun/2025 17:40:43] \"GET /parameters HTTP/1.1\" 200 -\n",
            "INFO:werkzeug:172.28.0.12 - - [03/Jun/2025 17:40:43] \"POST /update HTTP/1.1\" 200 -\n",
            "INFO:werkzeug:172.28.0.12 - - [03/Jun/2025 17:40:43] \"GET /parameters HTTP/1.1\" 200 -\n",
            "INFO:werkzeug:172.28.0.12 - - [03/Jun/2025 17:40:44] \"POST /update HTTP/1.1\" 200 -\n",
            "INFO:werkzeug:172.28.0.12 - - [03/Jun/2025 17:40:44] \"GET /parameters HTTP/1.1\" 200 -\n",
            "INFO:werkzeug:172.28.0.12 - - [03/Jun/2025 17:40:44] \"POST /update HTTP/1.1\" 200 -\n",
            "INFO:werkzeug:172.28.0.12 - - [03/Jun/2025 17:40:44] \"GET /parameters HTTP/1.1\" 200 -\n",
            "INFO:werkzeug:172.28.0.12 - - [03/Jun/2025 17:40:44] \"POST /update HTTP/1.1\" 200 -\n",
            "INFO:werkzeug:172.28.0.12 - - [03/Jun/2025 17:40:44] \"GET /parameters HTTP/1.1\" 200 -\n",
            "INFO:werkzeug:172.28.0.12 - - [03/Jun/2025 17:40:44] \"POST /update HTTP/1.1\" 200 -\n",
            "INFO:werkzeug:172.28.0.12 - - [03/Jun/2025 17:40:44] \"GET /parameters HTTP/1.1\" 200 -\n",
            "INFO:werkzeug:172.28.0.12 - - [03/Jun/2025 17:40:44] \"POST /update HTTP/1.1\" 200 -\n",
            "INFO:werkzeug:172.28.0.12 - - [03/Jun/2025 17:40:44] \"GET /parameters HTTP/1.1\" 200 -\n",
            "INFO:werkzeug:172.28.0.12 - - [03/Jun/2025 17:40:44] \"POST /update HTTP/1.1\" 200 -\n",
            "INFO:werkzeug:172.28.0.12 - - [03/Jun/2025 17:40:44] \"GET /parameters HTTP/1.1\" 200 -\n",
            "INFO:werkzeug:172.28.0.12 - - [03/Jun/2025 17:40:44] \"POST /update HTTP/1.1\" 200 -\n",
            "INFO:werkzeug:172.28.0.12 - - [03/Jun/2025 17:40:44] \"GET /parameters HTTP/1.1\" 200 -\n",
            "INFO:werkzeug:172.28.0.12 - - [03/Jun/2025 17:40:44] \"POST /update HTTP/1.1\" 200 -\n",
            "INFO:werkzeug:172.28.0.12 - - [03/Jun/2025 17:40:44] \"GET /parameters HTTP/1.1\" 200 -\n",
            "INFO:werkzeug:172.28.0.12 - - [03/Jun/2025 17:40:44] \"POST /update HTTP/1.1\" 200 -\n",
            "INFO:werkzeug:172.28.0.12 - - [03/Jun/2025 17:40:44] \"GET /parameters HTTP/1.1\" 200 -\n",
            "INFO:werkzeug:172.28.0.12 - - [03/Jun/2025 17:40:44] \"POST /update HTTP/1.1\" 200 -\n",
            "INFO:werkzeug:172.28.0.12 - - [03/Jun/2025 17:40:44] \"GET /parameters HTTP/1.1\" 200 -\n",
            "INFO:werkzeug:172.28.0.12 - - [03/Jun/2025 17:40:44] \"POST /update HTTP/1.1\" 200 -\n",
            "INFO:werkzeug:172.28.0.12 - - [03/Jun/2025 17:40:44] \"GET /parameters HTTP/1.1\" 200 -\n",
            "INFO:werkzeug:172.28.0.12 - - [03/Jun/2025 17:40:44] \"POST /update HTTP/1.1\" 200 -\n",
            "INFO:werkzeug:172.28.0.12 - - [03/Jun/2025 17:40:44] \"GET /parameters HTTP/1.1\" 200 -\n",
            "INFO:werkzeug:172.28.0.12 - - [03/Jun/2025 17:40:44] \"POST /update HTTP/1.1\" 200 -\n",
            "INFO:werkzeug:172.28.0.12 - - [03/Jun/2025 17:40:44] \"GET /parameters HTTP/1.1\" 200 -\n",
            "INFO:werkzeug:172.28.0.12 - - [03/Jun/2025 17:40:44] \"POST /update HTTP/1.1\" 200 -\n",
            "INFO:werkzeug:172.28.0.12 - - [03/Jun/2025 17:40:44] \"GET /parameters HTTP/1.1\" 200 -\n",
            "INFO:werkzeug:172.28.0.12 - - [03/Jun/2025 17:40:44] \"POST /update HTTP/1.1\" 200 -\n",
            "INFO:werkzeug:172.28.0.12 - - [03/Jun/2025 17:40:44] \"GET /parameters HTTP/1.1\" 200 -\n",
            "INFO:werkzeug:172.28.0.12 - - [03/Jun/2025 17:40:44] \"POST /update HTTP/1.1\" 200 -\n",
            "INFO:werkzeug:172.28.0.12 - - [03/Jun/2025 17:40:44] \"GET /parameters HTTP/1.1\" 200 -\n",
            "INFO:werkzeug:172.28.0.12 - - [03/Jun/2025 17:40:44] \"POST /update HTTP/1.1\" 200 -\n",
            "INFO:werkzeug:172.28.0.12 - - [03/Jun/2025 17:40:44] \"GET /parameters HTTP/1.1\" 200 -\n",
            "INFO:werkzeug:172.28.0.12 - - [03/Jun/2025 17:40:44] \"POST /update HTTP/1.1\" 200 -\n",
            "INFO:werkzeug:172.28.0.12 - - [03/Jun/2025 17:40:44] \"GET /parameters HTTP/1.1\" 200 -\n",
            "INFO:werkzeug:172.28.0.12 - - [03/Jun/2025 17:40:44] \"POST /update HTTP/1.1\" 200 -\n",
            "INFO:werkzeug:172.28.0.12 - - [03/Jun/2025 17:40:44] \"GET /parameters HTTP/1.1\" 200 -\n",
            "INFO:werkzeug:172.28.0.12 - - [03/Jun/2025 17:40:44] \"POST /update HTTP/1.1\" 200 -\n",
            "INFO:werkzeug:172.28.0.12 - - [03/Jun/2025 17:40:44] \"GET /parameters HTTP/1.1\" 200 -\n",
            "INFO:werkzeug:172.28.0.12 - - [03/Jun/2025 17:40:44] \"POST /update HTTP/1.1\" 200 -\n",
            "INFO:werkzeug:172.28.0.12 - - [03/Jun/2025 17:40:44] \"GET /parameters HTTP/1.1\" 200 -\n",
            "INFO:werkzeug:172.28.0.12 - - [03/Jun/2025 17:40:44] \"POST /update HTTP/1.1\" 200 -\n",
            "INFO:werkzeug:172.28.0.12 - - [03/Jun/2025 17:40:44] \"GET /parameters HTTP/1.1\" 200 -\n",
            "INFO:werkzeug:172.28.0.12 - - [03/Jun/2025 17:40:44] \"POST /update HTTP/1.1\" 200 -\n",
            "INFO:werkzeug:172.28.0.12 - - [03/Jun/2025 17:40:44] \"GET /parameters HTTP/1.1\" 200 -\n",
            "INFO:werkzeug:172.28.0.12 - - [03/Jun/2025 17:40:44] \"POST /update HTTP/1.1\" 200 -\n",
            "INFO:werkzeug:172.28.0.12 - - [03/Jun/2025 17:40:44] \"GET /parameters HTTP/1.1\" 200 -\n",
            "INFO:werkzeug:172.28.0.12 - - [03/Jun/2025 17:40:44] \"POST /update HTTP/1.1\" 200 -\n",
            "INFO:werkzeug:172.28.0.12 - - [03/Jun/2025 17:40:44] \"GET /parameters HTTP/1.1\" 200 -\n",
            "INFO:werkzeug:172.28.0.12 - - [03/Jun/2025 17:40:44] \"POST /update HTTP/1.1\" 200 -\n",
            "INFO:werkzeug:172.28.0.12 - - [03/Jun/2025 17:40:44] \"GET /parameters HTTP/1.1\" 200 -\n",
            "INFO:werkzeug:172.28.0.12 - - [03/Jun/2025 17:40:44] \"POST /update HTTP/1.1\" 200 -\n",
            "INFO:werkzeug:172.28.0.12 - - [03/Jun/2025 17:40:44] \"GET /parameters HTTP/1.1\" 200 -\n",
            "INFO:werkzeug:172.28.0.12 - - [03/Jun/2025 17:40:44] \"POST /update HTTP/1.1\" 200 -\n",
            "INFO:werkzeug:172.28.0.12 - - [03/Jun/2025 17:40:44] \"GET /parameters HTTP/1.1\" 200 -\n",
            "INFO:werkzeug:172.28.0.12 - - [03/Jun/2025 17:40:44] \"POST /update HTTP/1.1\" 200 -\n",
            "INFO:werkzeug:172.28.0.12 - - [03/Jun/2025 17:40:44] \"GET /parameters HTTP/1.1\" 200 -\n",
            "INFO:werkzeug:172.28.0.12 - - [03/Jun/2025 17:40:44] \"POST /update HTTP/1.1\" 200 -\n",
            "INFO:werkzeug:172.28.0.12 - - [03/Jun/2025 17:40:44] \"GET /parameters HTTP/1.1\" 200 -\n",
            "INFO:werkzeug:172.28.0.12 - - [03/Jun/2025 17:40:44] \"POST /update HTTP/1.1\" 200 -\n",
            "INFO:werkzeug:172.28.0.12 - - [03/Jun/2025 17:40:44] \"GET /parameters HTTP/1.1\" 200 -\n",
            "INFO:werkzeug:172.28.0.12 - - [03/Jun/2025 17:40:44] \"POST /update HTTP/1.1\" 200 -\n",
            "INFO:werkzeug:172.28.0.12 - - [03/Jun/2025 17:40:44] \"GET /parameters HTTP/1.1\" 200 -\n",
            "INFO:werkzeug:172.28.0.12 - - [03/Jun/2025 17:40:44] \"POST /update HTTP/1.1\" 200 -\n",
            "INFO:werkzeug:172.28.0.12 - - [03/Jun/2025 17:40:44] \"GET /parameters HTTP/1.1\" 200 -\n",
            "INFO:werkzeug:172.28.0.12 - - [03/Jun/2025 17:40:44] \"POST /update HTTP/1.1\" 200 -\n",
            "INFO:werkzeug:172.28.0.12 - - [03/Jun/2025 17:40:44] \"GET /parameters HTTP/1.1\" 200 -\n",
            "INFO:werkzeug:172.28.0.12 - - [03/Jun/2025 17:40:44] \"POST /update HTTP/1.1\" 200 -\n",
            "INFO:werkzeug:172.28.0.12 - - [03/Jun/2025 17:40:44] \"GET /parameters HTTP/1.1\" 200 -\n",
            "INFO:werkzeug:172.28.0.12 - - [03/Jun/2025 17:40:44] \"POST /update HTTP/1.1\" 200 -\n",
            "INFO:werkzeug:172.28.0.12 - - [03/Jun/2025 17:40:44] \"GET /parameters HTTP/1.1\" 200 -\n",
            "INFO:werkzeug:172.28.0.12 - - [03/Jun/2025 17:40:44] \"POST /update HTTP/1.1\" 200 -\n",
            "INFO:werkzeug:172.28.0.12 - - [03/Jun/2025 17:40:44] \"GET /parameters HTTP/1.1\" 200 -\n",
            "INFO:werkzeug:172.28.0.12 - - [03/Jun/2025 17:40:45] \"POST /update HTTP/1.1\" 200 -\n",
            "INFO:werkzeug:172.28.0.12 - - [03/Jun/2025 17:40:45] \"GET /parameters HTTP/1.1\" 200 -\n",
            "INFO:werkzeug:172.28.0.12 - - [03/Jun/2025 17:40:45] \"POST /update HTTP/1.1\" 200 -\n",
            "INFO:werkzeug:172.28.0.12 - - [03/Jun/2025 17:40:45] \"GET /parameters HTTP/1.1\" 200 -\n",
            "INFO:werkzeug:172.28.0.12 - - [03/Jun/2025 17:40:45] \"POST /update HTTP/1.1\" 200 -\n",
            "INFO:werkzeug:172.28.0.12 - - [03/Jun/2025 17:40:45] \"GET /parameters HTTP/1.1\" 200 -\n",
            "INFO:werkzeug:172.28.0.12 - - [03/Jun/2025 17:40:45] \"POST /update HTTP/1.1\" 200 -\n",
            "INFO:werkzeug:172.28.0.12 - - [03/Jun/2025 17:40:46] \"GET /parameters HTTP/1.1\" 200 -\n",
            "INFO:werkzeug:172.28.0.12 - - [03/Jun/2025 17:40:46] \"POST /update HTTP/1.1\" 200 -\n",
            "INFO:werkzeug:172.28.0.12 - - [03/Jun/2025 17:40:46] \"GET /parameters HTTP/1.1\" 200 -\n",
            "INFO:werkzeug:172.28.0.12 - - [03/Jun/2025 17:40:46] \"POST /update HTTP/1.1\" 200 -\n",
            "INFO:werkzeug:172.28.0.12 - - [03/Jun/2025 17:40:46] \"GET /parameters HTTP/1.1\" 200 -\n",
            "INFO:werkzeug:172.28.0.12 - - [03/Jun/2025 17:40:46] \"POST /update HTTP/1.1\" 200 -\n",
            "INFO:werkzeug:172.28.0.12 - - [03/Jun/2025 17:40:46] \"GET /parameters HTTP/1.1\" 200 -\n",
            "INFO:werkzeug:172.28.0.12 - - [03/Jun/2025 17:40:46] \"POST /update HTTP/1.1\" 200 -\n",
            "INFO:werkzeug:172.28.0.12 - - [03/Jun/2025 17:40:46] \"GET /parameters HTTP/1.1\" 200 -\n",
            "INFO:werkzeug:172.28.0.12 - - [03/Jun/2025 17:40:46] \"POST /update HTTP/1.1\" 200 -\n",
            "INFO:werkzeug:172.28.0.12 - - [03/Jun/2025 17:40:46] \"GET /parameters HTTP/1.1\" 200 -\n",
            "INFO:werkzeug:172.28.0.12 - - [03/Jun/2025 17:40:46] \"POST /update HTTP/1.1\" 200 -\n",
            "INFO:werkzeug:172.28.0.12 - - [03/Jun/2025 17:40:46] \"GET /parameters HTTP/1.1\" 200 -\n",
            "INFO:werkzeug:172.28.0.12 - - [03/Jun/2025 17:40:46] \"POST /update HTTP/1.1\" 200 -\n",
            "INFO:werkzeug:172.28.0.12 - - [03/Jun/2025 17:40:46] \"GET /parameters HTTP/1.1\" 200 -\n",
            "INFO:werkzeug:172.28.0.12 - - [03/Jun/2025 17:40:46] \"POST /update HTTP/1.1\" 200 -\n",
            "INFO:werkzeug:172.28.0.12 - - [03/Jun/2025 17:40:46] \"GET /parameters HTTP/1.1\" 200 -\n",
            "INFO:werkzeug:172.28.0.12 - - [03/Jun/2025 17:40:46] \"POST /update HTTP/1.1\" 200 -\n",
            "INFO:werkzeug:172.28.0.12 - - [03/Jun/2025 17:40:46] \"GET /parameters HTTP/1.1\" 200 -\n",
            "INFO:werkzeug:172.28.0.12 - - [03/Jun/2025 17:40:46] \"POST /update HTTP/1.1\" 200 -\n",
            "INFO:werkzeug:172.28.0.12 - - [03/Jun/2025 17:40:46] \"GET /parameters HTTP/1.1\" 200 -\n",
            "INFO:werkzeug:172.28.0.12 - - [03/Jun/2025 17:40:46] \"POST /update HTTP/1.1\" 200 -\n",
            "INFO:werkzeug:172.28.0.12 - - [03/Jun/2025 17:40:46] \"GET /parameters HTTP/1.1\" 200 -\n",
            "INFO:werkzeug:172.28.0.12 - - [03/Jun/2025 17:40:46] \"POST /update HTTP/1.1\" 200 -\n",
            "INFO:werkzeug:172.28.0.12 - - [03/Jun/2025 17:40:46] \"GET /parameters HTTP/1.1\" 200 -\n",
            "INFO:werkzeug:172.28.0.12 - - [03/Jun/2025 17:40:46] \"POST /update HTTP/1.1\" 200 -\n",
            "INFO:werkzeug:172.28.0.12 - - [03/Jun/2025 17:40:46] \"GET /parameters HTTP/1.1\" 200 -\n",
            "INFO:werkzeug:172.28.0.12 - - [03/Jun/2025 17:40:46] \"POST /update HTTP/1.1\" 200 -\n",
            "INFO:werkzeug:172.28.0.12 - - [03/Jun/2025 17:40:46] \"GET /parameters HTTP/1.1\" 200 -\n",
            "INFO:werkzeug:172.28.0.12 - - [03/Jun/2025 17:40:46] \"POST /update HTTP/1.1\" 200 -\n",
            "INFO:werkzeug:172.28.0.12 - - [03/Jun/2025 17:40:46] \"GET /parameters HTTP/1.1\" 200 -\n",
            "INFO:werkzeug:172.28.0.12 - - [03/Jun/2025 17:40:46] \"POST /update HTTP/1.1\" 200 -\n",
            "INFO:werkzeug:172.28.0.12 - - [03/Jun/2025 17:40:46] \"GET /parameters HTTP/1.1\" 200 -\n",
            "INFO:werkzeug:172.28.0.12 - - [03/Jun/2025 17:40:46] \"POST /update HTTP/1.1\" 200 -\n",
            "INFO:werkzeug:172.28.0.12 - - [03/Jun/2025 17:40:46] \"GET /parameters HTTP/1.1\" 200 -\n",
            "INFO:werkzeug:172.28.0.12 - - [03/Jun/2025 17:40:46] \"POST /update HTTP/1.1\" 200 -\n",
            "INFO:werkzeug:172.28.0.12 - - [03/Jun/2025 17:40:46] \"GET /parameters HTTP/1.1\" 200 -\n",
            "INFO:werkzeug:172.28.0.12 - - [03/Jun/2025 17:40:46] \"POST /update HTTP/1.1\" 200 -\n",
            "INFO:werkzeug:172.28.0.12 - - [03/Jun/2025 17:40:46] \"GET /parameters HTTP/1.1\" 200 -\n",
            "INFO:werkzeug:172.28.0.12 - - [03/Jun/2025 17:40:46] \"POST /update HTTP/1.1\" 200 -\n",
            "INFO:werkzeug:172.28.0.12 - - [03/Jun/2025 17:40:46] \"GET /parameters HTTP/1.1\" 200 -\n",
            "INFO:werkzeug:172.28.0.12 - - [03/Jun/2025 17:40:46] \"POST /update HTTP/1.1\" 200 -\n",
            "INFO:werkzeug:172.28.0.12 - - [03/Jun/2025 17:40:46] \"GET /parameters HTTP/1.1\" 200 -\n",
            "INFO:werkzeug:172.28.0.12 - - [03/Jun/2025 17:40:46] \"POST /update HTTP/1.1\" 200 -\n",
            "INFO:werkzeug:172.28.0.12 - - [03/Jun/2025 17:40:46] \"GET /parameters HTTP/1.1\" 200 -\n",
            "INFO:werkzeug:172.28.0.12 - - [03/Jun/2025 17:40:46] \"POST /update HTTP/1.1\" 200 -\n",
            "INFO:werkzeug:172.28.0.12 - - [03/Jun/2025 17:40:46] \"GET /parameters HTTP/1.1\" 200 -\n",
            "INFO:werkzeug:172.28.0.12 - - [03/Jun/2025 17:40:46] \"POST /update HTTP/1.1\" 200 -\n",
            "INFO:werkzeug:172.28.0.12 - - [03/Jun/2025 17:40:46] \"GET /parameters HTTP/1.1\" 200 -\n",
            "INFO:werkzeug:172.28.0.12 - - [03/Jun/2025 17:40:46] \"POST /update HTTP/1.1\" 200 -\n",
            "INFO:werkzeug:172.28.0.12 - - [03/Jun/2025 17:40:46] \"GET /parameters HTTP/1.1\" 200 -\n",
            "INFO:werkzeug:172.28.0.12 - - [03/Jun/2025 17:40:46] \"POST /update HTTP/1.1\" 200 -\n",
            "INFO:werkzeug:172.28.0.12 - - [03/Jun/2025 17:40:46] \"GET /parameters HTTP/1.1\" 200 -\n",
            "INFO:werkzeug:172.28.0.12 - - [03/Jun/2025 17:40:46] \"POST /update HTTP/1.1\" 200 -\n",
            "INFO:werkzeug:172.28.0.12 - - [03/Jun/2025 17:40:46] \"GET /parameters HTTP/1.1\" 200 -\n",
            "INFO:werkzeug:172.28.0.12 - - [03/Jun/2025 17:40:46] \"POST /update HTTP/1.1\" 200 -\n",
            "INFO:werkzeug:172.28.0.12 - - [03/Jun/2025 17:40:46] \"GET /parameters HTTP/1.1\" 200 -\n",
            "INFO:werkzeug:172.28.0.12 - - [03/Jun/2025 17:40:46] \"POST /update HTTP/1.1\" 200 -\n",
            "INFO:werkzeug:172.28.0.12 - - [03/Jun/2025 17:40:46] \"GET /parameters HTTP/1.1\" 200 -\n",
            "INFO:werkzeug:172.28.0.12 - - [03/Jun/2025 17:40:46] \"POST /update HTTP/1.1\" 200 -\n",
            "INFO:werkzeug:172.28.0.12 - - [03/Jun/2025 17:40:46] \"GET /parameters HTTP/1.1\" 200 -\n",
            "INFO:werkzeug:172.28.0.12 - - [03/Jun/2025 17:40:46] \"POST /update HTTP/1.1\" 200 -\n",
            "INFO:werkzeug:172.28.0.12 - - [03/Jun/2025 17:40:46] \"GET /parameters HTTP/1.1\" 200 -\n",
            "INFO:werkzeug:172.28.0.12 - - [03/Jun/2025 17:40:46] \"POST /update HTTP/1.1\" 200 -\n",
            "INFO:werkzeug:172.28.0.12 - - [03/Jun/2025 17:40:46] \"GET /parameters HTTP/1.1\" 200 -\n",
            "INFO:werkzeug:172.28.0.12 - - [03/Jun/2025 17:40:46] \"POST /update HTTP/1.1\" 200 -\n",
            "INFO:werkzeug:172.28.0.12 - - [03/Jun/2025 17:40:46] \"GET /parameters HTTP/1.1\" 200 -\n",
            "INFO:werkzeug:172.28.0.12 - - [03/Jun/2025 17:40:46] \"POST /update HTTP/1.1\" 200 -\n",
            "INFO:werkzeug:172.28.0.12 - - [03/Jun/2025 17:40:46] \"GET /parameters HTTP/1.1\" 200 -\n",
            "INFO:werkzeug:172.28.0.12 - - [03/Jun/2025 17:40:46] \"POST /update HTTP/1.1\" 200 -\n",
            "INFO:werkzeug:172.28.0.12 - - [03/Jun/2025 17:40:46] \"GET /parameters HTTP/1.1\" 200 -\n",
            "INFO:werkzeug:172.28.0.12 - - [03/Jun/2025 17:40:47] \"POST /update HTTP/1.1\" 200 -\n",
            "INFO:werkzeug:172.28.0.12 - - [03/Jun/2025 17:40:47] \"GET /parameters HTTP/1.1\" 200 -\n",
            "INFO:werkzeug:172.28.0.12 - - [03/Jun/2025 17:40:47] \"POST /update HTTP/1.1\" 200 -\n",
            "INFO:werkzeug:172.28.0.12 - - [03/Jun/2025 17:40:47] \"GET /parameters HTTP/1.1\" 200 -\n",
            "INFO:werkzeug:172.28.0.12 - - [03/Jun/2025 17:40:47] \"POST /update HTTP/1.1\" 200 -\n",
            "INFO:werkzeug:172.28.0.12 - - [03/Jun/2025 17:40:47] \"GET /parameters HTTP/1.1\" 200 -\n",
            "INFO:werkzeug:172.28.0.12 - - [03/Jun/2025 17:40:47] \"POST /update HTTP/1.1\" 200 -\n",
            "INFO:werkzeug:172.28.0.12 - - [03/Jun/2025 17:40:47] \"GET /parameters HTTP/1.1\" 200 -\n",
            "INFO:werkzeug:172.28.0.12 - - [03/Jun/2025 17:40:47] \"POST /update HTTP/1.1\" 200 -\n",
            "INFO:werkzeug:172.28.0.12 - - [03/Jun/2025 17:40:47] \"GET /parameters HTTP/1.1\" 200 -\n",
            "INFO:werkzeug:172.28.0.12 - - [03/Jun/2025 17:40:47] \"POST /update HTTP/1.1\" 200 -\n",
            "INFO:werkzeug:172.28.0.12 - - [03/Jun/2025 17:40:47] \"GET /parameters HTTP/1.1\" 200 -\n",
            "INFO:werkzeug:172.28.0.12 - - [03/Jun/2025 17:40:47] \"POST /update HTTP/1.1\" 200 -\n",
            "INFO:werkzeug:172.28.0.12 - - [03/Jun/2025 17:40:47] \"GET /parameters HTTP/1.1\" 200 -\n",
            "INFO:werkzeug:172.28.0.12 - - [03/Jun/2025 17:40:47] \"POST /update HTTP/1.1\" 200 -\n",
            "INFO:werkzeug:172.28.0.12 - - [03/Jun/2025 17:40:47] \"GET /parameters HTTP/1.1\" 200 -\n",
            "INFO:werkzeug:172.28.0.12 - - [03/Jun/2025 17:40:47] \"POST /update HTTP/1.1\" 200 -\n",
            "INFO:werkzeug:172.28.0.12 - - [03/Jun/2025 17:40:47] \"GET /parameters HTTP/1.1\" 200 -\n",
            "INFO:werkzeug:172.28.0.12 - - [03/Jun/2025 17:40:47] \"POST /update HTTP/1.1\" 200 -\n",
            "INFO:werkzeug:172.28.0.12 - - [03/Jun/2025 17:40:47] \"GET /parameters HTTP/1.1\" 200 -\n",
            "INFO:werkzeug:172.28.0.12 - - [03/Jun/2025 17:40:47] \"POST /update HTTP/1.1\" 200 -\n",
            "INFO:werkzeug:172.28.0.12 - - [03/Jun/2025 17:40:47] \"GET /parameters HTTP/1.1\" 200 -\n",
            "INFO:werkzeug:172.28.0.12 - - [03/Jun/2025 17:40:47] \"POST /update HTTP/1.1\" 200 -\n",
            "INFO:werkzeug:172.28.0.12 - - [03/Jun/2025 17:40:47] \"GET /parameters HTTP/1.1\" 200 -\n",
            "INFO:werkzeug:172.28.0.12 - - [03/Jun/2025 17:40:47] \"POST /update HTTP/1.1\" 200 -\n",
            "INFO:werkzeug:172.28.0.12 - - [03/Jun/2025 17:40:47] \"GET /parameters HTTP/1.1\" 200 -\n",
            "INFO:werkzeug:172.28.0.12 - - [03/Jun/2025 17:40:47] \"POST /update HTTP/1.1\" 200 -\n",
            "INFO:werkzeug:172.28.0.12 - - [03/Jun/2025 17:40:47] \"GET /parameters HTTP/1.1\" 200 -\n",
            "INFO:werkzeug:172.28.0.12 - - [03/Jun/2025 17:40:47] \"POST /update HTTP/1.1\" 200 -\n",
            "INFO:werkzeug:172.28.0.12 - - [03/Jun/2025 17:40:47] \"GET /parameters HTTP/1.1\" 200 -\n",
            "INFO:werkzeug:172.28.0.12 - - [03/Jun/2025 17:40:47] \"POST /update HTTP/1.1\" 200 -\n",
            "INFO:werkzeug:172.28.0.12 - - [03/Jun/2025 17:40:47] \"GET /parameters HTTP/1.1\" 200 -\n",
            "INFO:werkzeug:172.28.0.12 - - [03/Jun/2025 17:40:47] \"POST /update HTTP/1.1\" 200 -\n",
            "INFO:werkzeug:172.28.0.12 - - [03/Jun/2025 17:40:47] \"GET /parameters HTTP/1.1\" 200 -\n",
            "INFO:werkzeug:172.28.0.12 - - [03/Jun/2025 17:40:47] \"POST /update HTTP/1.1\" 200 -\n",
            "INFO:werkzeug:172.28.0.12 - - [03/Jun/2025 17:40:47] \"GET /parameters HTTP/1.1\" 200 -\n",
            "INFO:werkzeug:172.28.0.12 - - [03/Jun/2025 17:40:47] \"POST /update HTTP/1.1\" 200 -\n",
            "INFO:werkzeug:172.28.0.12 - - [03/Jun/2025 17:40:47] \"GET /parameters HTTP/1.1\" 200 -\n",
            "INFO:werkzeug:172.28.0.12 - - [03/Jun/2025 17:40:47] \"POST /update HTTP/1.1\" 200 -\n",
            "INFO:werkzeug:172.28.0.12 - - [03/Jun/2025 17:40:47] \"GET /parameters HTTP/1.1\" 200 -\n",
            "INFO:werkzeug:172.28.0.12 - - [03/Jun/2025 17:40:47] \"POST /update HTTP/1.1\" 200 -\n",
            "INFO:werkzeug:172.28.0.12 - - [03/Jun/2025 17:40:47] \"GET /parameters HTTP/1.1\" 200 -\n",
            "INFO:werkzeug:172.28.0.12 - - [03/Jun/2025 17:40:47] \"POST /update HTTP/1.1\" 200 -\n",
            "INFO:werkzeug:172.28.0.12 - - [03/Jun/2025 17:40:47] \"GET /parameters HTTP/1.1\" 200 -\n",
            "INFO:werkzeug:172.28.0.12 - - [03/Jun/2025 17:40:47] \"POST /update HTTP/1.1\" 200 -\n",
            "INFO:werkzeug:172.28.0.12 - - [03/Jun/2025 17:40:47] \"GET /parameters HTTP/1.1\" 200 -\n",
            "INFO:werkzeug:172.28.0.12 - - [03/Jun/2025 17:40:47] \"POST /update HTTP/1.1\" 200 -\n",
            "INFO:werkzeug:172.28.0.12 - - [03/Jun/2025 17:40:47] \"GET /parameters HTTP/1.1\" 200 -\n",
            "INFO:werkzeug:172.28.0.12 - - [03/Jun/2025 17:40:47] \"POST /update HTTP/1.1\" 200 -\n",
            "INFO:werkzeug:172.28.0.12 - - [03/Jun/2025 17:40:47] \"GET /parameters HTTP/1.1\" 200 -\n",
            "INFO:werkzeug:172.28.0.12 - - [03/Jun/2025 17:40:47] \"POST /update HTTP/1.1\" 200 -\n",
            "INFO:werkzeug:172.28.0.12 - - [03/Jun/2025 17:40:47] \"GET /parameters HTTP/1.1\" 200 -\n",
            "INFO:werkzeug:172.28.0.12 - - [03/Jun/2025 17:40:47] \"POST /update HTTP/1.1\" 200 -\n",
            "INFO:werkzeug:172.28.0.12 - - [03/Jun/2025 17:40:47] \"GET /parameters HTTP/1.1\" 200 -\n",
            "INFO:werkzeug:172.28.0.12 - - [03/Jun/2025 17:40:47] \"POST /update HTTP/1.1\" 200 -\n",
            "INFO:werkzeug:172.28.0.12 - - [03/Jun/2025 17:40:47] \"GET /parameters HTTP/1.1\" 200 -\n",
            "INFO:werkzeug:172.28.0.12 - - [03/Jun/2025 17:40:47] \"POST /update HTTP/1.1\" 200 -\n",
            "INFO:werkzeug:172.28.0.12 - - [03/Jun/2025 17:40:47] \"GET /parameters HTTP/1.1\" 200 -\n",
            "INFO:werkzeug:172.28.0.12 - - [03/Jun/2025 17:40:47] \"POST /update HTTP/1.1\" 200 -\n",
            "INFO:werkzeug:172.28.0.12 - - [03/Jun/2025 17:40:47] \"GET /parameters HTTP/1.1\" 200 -\n",
            "INFO:werkzeug:172.28.0.12 - - [03/Jun/2025 17:40:47] \"POST /update HTTP/1.1\" 200 -\n",
            "INFO:werkzeug:172.28.0.12 - - [03/Jun/2025 17:40:47] \"GET /parameters HTTP/1.1\" 200 -\n",
            "INFO:werkzeug:172.28.0.12 - - [03/Jun/2025 17:40:47] \"POST /update HTTP/1.1\" 200 -\n",
            "INFO:werkzeug:172.28.0.12 - - [03/Jun/2025 17:40:47] \"GET /parameters HTTP/1.1\" 200 -\n",
            "INFO:werkzeug:172.28.0.12 - - [03/Jun/2025 17:40:48] \"POST /update HTTP/1.1\" 200 -\n",
            "INFO:werkzeug:172.28.0.12 - - [03/Jun/2025 17:40:48] \"GET /parameters HTTP/1.1\" 200 -\n",
            "INFO:werkzeug:172.28.0.12 - - [03/Jun/2025 17:40:48] \"POST /update HTTP/1.1\" 200 -\n",
            "INFO:werkzeug:172.28.0.12 - - [03/Jun/2025 17:40:48] \"GET /parameters HTTP/1.1\" 200 -\n",
            "INFO:werkzeug:172.28.0.12 - - [03/Jun/2025 17:40:48] \"POST /update HTTP/1.1\" 200 -\n",
            "INFO:werkzeug:172.28.0.12 - - [03/Jun/2025 17:40:48] \"GET /parameters HTTP/1.1\" 200 -\n",
            "INFO:werkzeug:172.28.0.12 - - [03/Jun/2025 17:40:48] \"POST /update HTTP/1.1\" 200 -\n",
            "INFO:werkzeug:172.28.0.12 - - [03/Jun/2025 17:40:48] \"GET /parameters HTTP/1.1\" 200 -\n",
            "INFO:werkzeug:172.28.0.12 - - [03/Jun/2025 17:40:48] \"POST /update HTTP/1.1\" 200 -\n",
            "INFO:werkzeug:172.28.0.12 - - [03/Jun/2025 17:40:48] \"GET /parameters HTTP/1.1\" 200 -\n",
            "INFO:werkzeug:172.28.0.12 - - [03/Jun/2025 17:40:48] \"POST /update HTTP/1.1\" 200 -\n",
            "INFO:werkzeug:172.28.0.12 - - [03/Jun/2025 17:40:48] \"GET /parameters HTTP/1.1\" 200 -\n",
            "INFO:werkzeug:172.28.0.12 - - [03/Jun/2025 17:40:48] \"POST /update HTTP/1.1\" 200 -\n",
            "INFO:werkzeug:172.28.0.12 - - [03/Jun/2025 17:40:48] \"GET /parameters HTTP/1.1\" 200 -\n",
            "INFO:werkzeug:172.28.0.12 - - [03/Jun/2025 17:40:48] \"POST /update HTTP/1.1\" 200 -\n",
            "INFO:werkzeug:172.28.0.12 - - [03/Jun/2025 17:40:48] \"GET /parameters HTTP/1.1\" 200 -\n",
            "INFO:werkzeug:172.28.0.12 - - [03/Jun/2025 17:40:48] \"POST /update HTTP/1.1\" 200 -\n",
            "INFO:werkzeug:172.28.0.12 - - [03/Jun/2025 17:40:48] \"GET /parameters HTTP/1.1\" 200 -\n",
            "INFO:werkzeug:172.28.0.12 - - [03/Jun/2025 17:40:48] \"POST /update HTTP/1.1\" 200 -\n",
            "INFO:werkzeug:172.28.0.12 - - [03/Jun/2025 17:40:48] \"GET /parameters HTTP/1.1\" 200 -\n",
            "INFO:werkzeug:172.28.0.12 - - [03/Jun/2025 17:40:48] \"POST /update HTTP/1.1\" 200 -\n",
            "INFO:werkzeug:172.28.0.12 - - [03/Jun/2025 17:40:48] \"GET /parameters HTTP/1.1\" 200 -\n",
            "INFO:werkzeug:172.28.0.12 - - [03/Jun/2025 17:40:48] \"POST /update HTTP/1.1\" 200 -\n",
            "INFO:werkzeug:172.28.0.12 - - [03/Jun/2025 17:40:48] \"GET /parameters HTTP/1.1\" 200 -\n",
            "INFO:werkzeug:172.28.0.12 - - [03/Jun/2025 17:40:48] \"POST /update HTTP/1.1\" 200 -\n",
            "INFO:werkzeug:172.28.0.12 - - [03/Jun/2025 17:40:48] \"GET /parameters HTTP/1.1\" 200 -\n",
            "INFO:werkzeug:172.28.0.12 - - [03/Jun/2025 17:40:48] \"POST /update HTTP/1.1\" 200 -\n",
            "INFO:werkzeug:172.28.0.12 - - [03/Jun/2025 17:40:48] \"GET /parameters HTTP/1.1\" 200 -\n",
            "INFO:werkzeug:172.28.0.12 - - [03/Jun/2025 17:40:48] \"POST /update HTTP/1.1\" 200 -\n",
            "INFO:werkzeug:172.28.0.12 - - [03/Jun/2025 17:40:48] \"GET /parameters HTTP/1.1\" 200 -\n",
            "INFO:werkzeug:172.28.0.12 - - [03/Jun/2025 17:40:48] \"POST /update HTTP/1.1\" 200 -\n",
            "INFO:werkzeug:172.28.0.12 - - [03/Jun/2025 17:40:48] \"GET /parameters HTTP/1.1\" 200 -\n",
            "INFO:werkzeug:172.28.0.12 - - [03/Jun/2025 17:40:48] \"POST /update HTTP/1.1\" 200 -\n",
            "INFO:werkzeug:172.28.0.12 - - [03/Jun/2025 17:40:48] \"GET /parameters HTTP/1.1\" 200 -\n",
            "INFO:werkzeug:172.28.0.12 - - [03/Jun/2025 17:40:48] \"POST /update HTTP/1.1\" 200 -\n",
            "INFO:werkzeug:172.28.0.12 - - [03/Jun/2025 17:40:48] \"GET /parameters HTTP/1.1\" 200 -\n",
            "INFO:werkzeug:172.28.0.12 - - [03/Jun/2025 17:40:48] \"POST /update HTTP/1.1\" 200 -\n",
            "INFO:werkzeug:172.28.0.12 - - [03/Jun/2025 17:40:48] \"GET /parameters HTTP/1.1\" 200 -\n",
            "INFO:werkzeug:172.28.0.12 - - [03/Jun/2025 17:40:48] \"POST /update HTTP/1.1\" 200 -\n",
            "INFO:werkzeug:172.28.0.12 - - [03/Jun/2025 17:40:48] \"GET /parameters HTTP/1.1\" 200 -\n",
            "INFO:werkzeug:172.28.0.12 - - [03/Jun/2025 17:40:48] \"POST /update HTTP/1.1\" 200 -\n",
            "INFO:werkzeug:172.28.0.12 - - [03/Jun/2025 17:40:48] \"GET /parameters HTTP/1.1\" 200 -\n",
            "INFO:werkzeug:172.28.0.12 - - [03/Jun/2025 17:40:48] \"POST /update HTTP/1.1\" 200 -\n",
            "INFO:werkzeug:172.28.0.12 - - [03/Jun/2025 17:40:48] \"GET /parameters HTTP/1.1\" 200 -\n",
            "INFO:werkzeug:172.28.0.12 - - [03/Jun/2025 17:40:48] \"POST /update HTTP/1.1\" 200 -\n",
            "INFO:werkzeug:172.28.0.12 - - [03/Jun/2025 17:40:48] \"GET /parameters HTTP/1.1\" 200 -\n",
            "INFO:werkzeug:172.28.0.12 - - [03/Jun/2025 17:40:48] \"POST /update HTTP/1.1\" 200 -\n",
            "INFO:werkzeug:172.28.0.12 - - [03/Jun/2025 17:40:48] \"GET /parameters HTTP/1.1\" 200 -\n",
            "INFO:werkzeug:172.28.0.12 - - [03/Jun/2025 17:40:48] \"POST /update HTTP/1.1\" 200 -\n",
            "INFO:werkzeug:172.28.0.12 - - [03/Jun/2025 17:40:48] \"GET /parameters HTTP/1.1\" 200 -\n",
            "INFO:werkzeug:172.28.0.12 - - [03/Jun/2025 17:40:48] \"POST /update HTTP/1.1\" 200 -\n",
            "INFO:werkzeug:172.28.0.12 - - [03/Jun/2025 17:40:48] \"GET /parameters HTTP/1.1\" 200 -\n",
            "INFO:werkzeug:172.28.0.12 - - [03/Jun/2025 17:40:48] \"POST /update HTTP/1.1\" 200 -\n",
            "INFO:werkzeug:172.28.0.12 - - [03/Jun/2025 17:40:48] \"GET /parameters HTTP/1.1\" 200 -\n",
            "INFO:werkzeug:172.28.0.12 - - [03/Jun/2025 17:40:48] \"POST /update HTTP/1.1\" 200 -\n",
            "INFO:werkzeug:172.28.0.12 - - [03/Jun/2025 17:40:49] \"GET /parameters HTTP/1.1\" 200 -\n",
            "INFO:werkzeug:172.28.0.12 - - [03/Jun/2025 17:40:49] \"POST /update HTTP/1.1\" 200 -\n",
            "INFO:werkzeug:172.28.0.12 - - [03/Jun/2025 17:40:49] \"GET /parameters HTTP/1.1\" 200 -\n",
            "INFO:werkzeug:172.28.0.12 - - [03/Jun/2025 17:40:49] \"POST /update HTTP/1.1\" 200 -\n",
            "INFO:werkzeug:172.28.0.12 - - [03/Jun/2025 17:40:49] \"GET /parameters HTTP/1.1\" 200 -\n",
            "INFO:werkzeug:172.28.0.12 - - [03/Jun/2025 17:40:49] \"POST /update HTTP/1.1\" 200 -\n",
            "INFO:werkzeug:172.28.0.12 - - [03/Jun/2025 17:40:49] \"GET /parameters HTTP/1.1\" 200 -\n",
            "INFO:werkzeug:172.28.0.12 - - [03/Jun/2025 17:40:50] \"POST /update HTTP/1.1\" 200 -\n",
            "INFO:werkzeug:172.28.0.12 - - [03/Jun/2025 17:40:50] \"GET /parameters HTTP/1.1\" 200 -\n",
            "INFO:werkzeug:172.28.0.12 - - [03/Jun/2025 17:40:50] \"POST /update HTTP/1.1\" 200 -\n",
            "INFO:werkzeug:172.28.0.12 - - [03/Jun/2025 17:40:50] \"GET /parameters HTTP/1.1\" 200 -\n",
            "INFO:werkzeug:172.28.0.12 - - [03/Jun/2025 17:40:50] \"POST /update HTTP/1.1\" 200 -\n",
            "INFO:werkzeug:172.28.0.12 - - [03/Jun/2025 17:40:50] \"GET /parameters HTTP/1.1\" 200 -\n",
            "INFO:werkzeug:172.28.0.12 - - [03/Jun/2025 17:40:50] \"POST /update HTTP/1.1\" 200 -\n",
            "INFO:werkzeug:172.28.0.12 - - [03/Jun/2025 17:40:50] \"GET /parameters HTTP/1.1\" 200 -\n",
            "INFO:werkzeug:172.28.0.12 - - [03/Jun/2025 17:40:50] \"POST /update HTTP/1.1\" 200 -\n",
            "INFO:werkzeug:172.28.0.12 - - [03/Jun/2025 17:40:50] \"GET /parameters HTTP/1.1\" 200 -\n",
            "INFO:werkzeug:172.28.0.12 - - [03/Jun/2025 17:40:50] \"POST /update HTTP/1.1\" 200 -\n",
            "INFO:werkzeug:172.28.0.12 - - [03/Jun/2025 17:40:50] \"GET /parameters HTTP/1.1\" 200 -\n",
            "INFO:werkzeug:172.28.0.12 - - [03/Jun/2025 17:40:50] \"POST /update HTTP/1.1\" 200 -\n",
            "INFO:werkzeug:172.28.0.12 - - [03/Jun/2025 17:40:50] \"GET /parameters HTTP/1.1\" 200 -\n",
            "INFO:werkzeug:172.28.0.12 - - [03/Jun/2025 17:40:50] \"POST /update HTTP/1.1\" 200 -\n",
            "INFO:werkzeug:172.28.0.12 - - [03/Jun/2025 17:40:50] \"GET /parameters HTTP/1.1\" 200 -\n",
            "INFO:werkzeug:172.28.0.12 - - [03/Jun/2025 17:40:50] \"POST /update HTTP/1.1\" 200 -\n",
            "INFO:werkzeug:172.28.0.12 - - [03/Jun/2025 17:40:50] \"GET /parameters HTTP/1.1\" 200 -\n",
            "INFO:werkzeug:172.28.0.12 - - [03/Jun/2025 17:40:50] \"POST /update HTTP/1.1\" 200 -\n",
            "INFO:werkzeug:172.28.0.12 - - [03/Jun/2025 17:40:50] \"GET /parameters HTTP/1.1\" 200 -\n",
            "INFO:werkzeug:172.28.0.12 - - [03/Jun/2025 17:40:50] \"POST /update HTTP/1.1\" 200 -\n",
            "INFO:werkzeug:172.28.0.12 - - [03/Jun/2025 17:40:50] \"GET /parameters HTTP/1.1\" 200 -\n",
            "INFO:werkzeug:172.28.0.12 - - [03/Jun/2025 17:40:50] \"POST /update HTTP/1.1\" 200 -\n",
            "INFO:werkzeug:172.28.0.12 - - [03/Jun/2025 17:40:50] \"GET /parameters HTTP/1.1\" 200 -\n",
            "INFO:werkzeug:172.28.0.12 - - [03/Jun/2025 17:40:51] \"POST /update HTTP/1.1\" 200 -\n",
            "INFO:werkzeug:172.28.0.12 - - [03/Jun/2025 17:40:51] \"GET /parameters HTTP/1.1\" 200 -\n",
            "INFO:werkzeug:172.28.0.12 - - [03/Jun/2025 17:40:51] \"POST /update HTTP/1.1\" 200 -\n",
            "INFO:werkzeug:172.28.0.12 - - [03/Jun/2025 17:40:51] \"GET /parameters HTTP/1.1\" 200 -\n",
            "INFO:werkzeug:172.28.0.12 - - [03/Jun/2025 17:40:51] \"POST /update HTTP/1.1\" 200 -\n",
            "INFO:werkzeug:172.28.0.12 - - [03/Jun/2025 17:40:51] \"GET /parameters HTTP/1.1\" 200 -\n",
            "INFO:werkzeug:172.28.0.12 - - [03/Jun/2025 17:40:51] \"POST /update HTTP/1.1\" 200 -\n",
            "INFO:werkzeug:172.28.0.12 - - [03/Jun/2025 17:40:51] \"GET /parameters HTTP/1.1\" 200 -\n",
            "INFO:werkzeug:172.28.0.12 - - [03/Jun/2025 17:40:51] \"POST /update HTTP/1.1\" 200 -\n",
            "INFO:werkzeug:172.28.0.12 - - [03/Jun/2025 17:40:51] \"GET /parameters HTTP/1.1\" 200 -\n",
            "INFO:werkzeug:172.28.0.12 - - [03/Jun/2025 17:40:51] \"POST /update HTTP/1.1\" 200 -\n",
            "INFO:werkzeug:172.28.0.12 - - [03/Jun/2025 17:40:51] \"GET /parameters HTTP/1.1\" 200 -\n",
            "INFO:werkzeug:172.28.0.12 - - [03/Jun/2025 17:40:51] \"POST /update HTTP/1.1\" 200 -\n",
            "INFO:werkzeug:172.28.0.12 - - [03/Jun/2025 17:40:51] \"GET /parameters HTTP/1.1\" 200 -\n",
            "INFO:werkzeug:172.28.0.12 - - [03/Jun/2025 17:40:51] \"POST /update HTTP/1.1\" 200 -\n",
            "INFO:werkzeug:172.28.0.12 - - [03/Jun/2025 17:40:51] \"GET /parameters HTTP/1.1\" 200 -\n",
            "INFO:werkzeug:172.28.0.12 - - [03/Jun/2025 17:40:51] \"POST /update HTTP/1.1\" 200 -\n",
            "INFO:werkzeug:172.28.0.12 - - [03/Jun/2025 17:40:51] \"GET /parameters HTTP/1.1\" 200 -\n",
            "INFO:werkzeug:172.28.0.12 - - [03/Jun/2025 17:40:51] \"POST /update HTTP/1.1\" 200 -\n",
            "INFO:werkzeug:172.28.0.12 - - [03/Jun/2025 17:40:51] \"GET /parameters HTTP/1.1\" 200 -\n",
            "INFO:werkzeug:172.28.0.12 - - [03/Jun/2025 17:40:51] \"POST /update HTTP/1.1\" 200 -\n",
            "INFO:werkzeug:172.28.0.12 - - [03/Jun/2025 17:40:51] \"GET /parameters HTTP/1.1\" 200 -\n",
            "INFO:werkzeug:172.28.0.12 - - [03/Jun/2025 17:40:51] \"POST /update HTTP/1.1\" 200 -\n",
            "INFO:werkzeug:172.28.0.12 - - [03/Jun/2025 17:40:51] \"GET /parameters HTTP/1.1\" 200 -\n",
            "INFO:werkzeug:172.28.0.12 - - [03/Jun/2025 17:40:51] \"POST /update HTTP/1.1\" 200 -\n",
            "INFO:werkzeug:172.28.0.12 - - [03/Jun/2025 17:40:51] \"GET /parameters HTTP/1.1\" 200 -\n",
            "INFO:werkzeug:172.28.0.12 - - [03/Jun/2025 17:40:51] \"POST /update HTTP/1.1\" 200 -\n",
            "INFO:werkzeug:172.28.0.12 - - [03/Jun/2025 17:40:51] \"GET /parameters HTTP/1.1\" 200 -\n",
            "INFO:werkzeug:172.28.0.12 - - [03/Jun/2025 17:40:51] \"POST /update HTTP/1.1\" 200 -\n",
            "INFO:werkzeug:172.28.0.12 - - [03/Jun/2025 17:40:51] \"GET /parameters HTTP/1.1\" 200 -\n",
            "INFO:werkzeug:172.28.0.12 - - [03/Jun/2025 17:40:51] \"POST /update HTTP/1.1\" 200 -\n",
            "INFO:werkzeug:172.28.0.12 - - [03/Jun/2025 17:40:51] \"GET /parameters HTTP/1.1\" 200 -\n",
            "INFO:werkzeug:172.28.0.12 - - [03/Jun/2025 17:40:51] \"POST /update HTTP/1.1\" 200 -\n",
            "INFO:werkzeug:172.28.0.12 - - [03/Jun/2025 17:40:51] \"GET /parameters HTTP/1.1\" 200 -\n",
            "INFO:werkzeug:172.28.0.12 - - [03/Jun/2025 17:40:51] \"POST /update HTTP/1.1\" 200 -\n",
            "INFO:werkzeug:172.28.0.12 - - [03/Jun/2025 17:40:51] \"GET /parameters HTTP/1.1\" 200 -\n",
            "INFO:werkzeug:172.28.0.12 - - [03/Jun/2025 17:40:51] \"POST /update HTTP/1.1\" 200 -\n",
            "INFO:werkzeug:172.28.0.12 - - [03/Jun/2025 17:40:51] \"GET /parameters HTTP/1.1\" 200 -\n",
            "INFO:werkzeug:172.28.0.12 - - [03/Jun/2025 17:40:51] \"POST /update HTTP/1.1\" 200 -\n",
            "INFO:werkzeug:172.28.0.12 - - [03/Jun/2025 17:40:51] \"GET /parameters HTTP/1.1\" 200 -\n",
            "INFO:werkzeug:172.28.0.12 - - [03/Jun/2025 17:40:51] \"POST /update HTTP/1.1\" 200 -\n",
            "INFO:werkzeug:172.28.0.12 - - [03/Jun/2025 17:40:51] \"GET /parameters HTTP/1.1\" 200 -\n",
            "INFO:werkzeug:172.28.0.12 - - [03/Jun/2025 17:40:51] \"POST /update HTTP/1.1\" 200 -\n",
            "INFO:werkzeug:172.28.0.12 - - [03/Jun/2025 17:40:51] \"GET /parameters HTTP/1.1\" 200 -\n",
            "INFO:werkzeug:172.28.0.12 - - [03/Jun/2025 17:40:51] \"POST /update HTTP/1.1\" 200 -\n",
            "INFO:werkzeug:172.28.0.12 - - [03/Jun/2025 17:40:51] \"GET /parameters HTTP/1.1\" 200 -\n",
            "INFO:werkzeug:172.28.0.12 - - [03/Jun/2025 17:40:51] \"POST /update HTTP/1.1\" 200 -\n",
            "INFO:werkzeug:172.28.0.12 - - [03/Jun/2025 17:40:51] \"GET /parameters HTTP/1.1\" 200 -\n",
            "INFO:werkzeug:172.28.0.12 - - [03/Jun/2025 17:40:52] \"POST /update HTTP/1.1\" 200 -\n",
            "INFO:werkzeug:172.28.0.12 - - [03/Jun/2025 17:40:52] \"GET /parameters HTTP/1.1\" 200 -\n",
            "INFO:werkzeug:172.28.0.12 - - [03/Jun/2025 17:40:52] \"POST /update HTTP/1.1\" 200 -\n",
            "INFO:werkzeug:172.28.0.12 - - [03/Jun/2025 17:40:52] \"GET /parameters HTTP/1.1\" 200 -\n",
            "INFO:werkzeug:172.28.0.12 - - [03/Jun/2025 17:40:52] \"POST /update HTTP/1.1\" 200 -\n",
            "INFO:werkzeug:172.28.0.12 - - [03/Jun/2025 17:40:52] \"GET /parameters HTTP/1.1\" 200 -\n",
            "INFO:werkzeug:172.28.0.12 - - [03/Jun/2025 17:40:52] \"POST /update HTTP/1.1\" 200 -\n",
            "INFO:werkzeug:172.28.0.12 - - [03/Jun/2025 17:40:52] \"GET /parameters HTTP/1.1\" 200 -\n",
            "INFO:werkzeug:172.28.0.12 - - [03/Jun/2025 17:40:52] \"POST /update HTTP/1.1\" 200 -\n",
            "INFO:werkzeug:172.28.0.12 - - [03/Jun/2025 17:40:52] \"GET /parameters HTTP/1.1\" 200 -\n",
            "INFO:werkzeug:172.28.0.12 - - [03/Jun/2025 17:40:52] \"POST /update HTTP/1.1\" 200 -\n",
            "INFO:werkzeug:172.28.0.12 - - [03/Jun/2025 17:40:52] \"GET /parameters HTTP/1.1\" 200 -\n",
            "INFO:werkzeug:172.28.0.12 - - [03/Jun/2025 17:40:52] \"POST /update HTTP/1.1\" 200 -\n",
            "INFO:werkzeug:172.28.0.12 - - [03/Jun/2025 17:40:52] \"GET /parameters HTTP/1.1\" 200 -\n",
            "INFO:werkzeug:172.28.0.12 - - [03/Jun/2025 17:40:52] \"POST /update HTTP/1.1\" 200 -\n",
            "INFO:werkzeug:172.28.0.12 - - [03/Jun/2025 17:40:52] \"GET /parameters HTTP/1.1\" 200 -\n",
            "INFO:werkzeug:172.28.0.12 - - [03/Jun/2025 17:40:52] \"POST /update HTTP/1.1\" 200 -\n",
            "INFO:werkzeug:172.28.0.12 - - [03/Jun/2025 17:40:52] \"GET /parameters HTTP/1.1\" 200 -\n",
            "INFO:werkzeug:172.28.0.12 - - [03/Jun/2025 17:40:52] \"POST /update HTTP/1.1\" 200 -\n",
            "INFO:werkzeug:172.28.0.12 - - [03/Jun/2025 17:40:52] \"GET /parameters HTTP/1.1\" 200 -\n",
            "INFO:werkzeug:172.28.0.12 - - [03/Jun/2025 17:40:52] \"POST /update HTTP/1.1\" 200 -\n",
            "INFO:werkzeug:172.28.0.12 - - [03/Jun/2025 17:40:52] \"GET /parameters HTTP/1.1\" 200 -\n",
            "INFO:werkzeug:172.28.0.12 - - [03/Jun/2025 17:40:52] \"POST /update HTTP/1.1\" 200 -\n",
            "INFO:werkzeug:172.28.0.12 - - [03/Jun/2025 17:40:52] \"GET /parameters HTTP/1.1\" 200 -\n",
            "INFO:werkzeug:172.28.0.12 - - [03/Jun/2025 17:40:52] \"POST /update HTTP/1.1\" 200 -\n",
            "INFO:werkzeug:172.28.0.12 - - [03/Jun/2025 17:40:52] \"GET /parameters HTTP/1.1\" 200 -\n",
            "INFO:werkzeug:172.28.0.12 - - [03/Jun/2025 17:40:52] \"POST /update HTTP/1.1\" 200 -\n",
            "INFO:werkzeug:172.28.0.12 - - [03/Jun/2025 17:40:52] \"GET /parameters HTTP/1.1\" 200 -\n",
            "INFO:werkzeug:172.28.0.12 - - [03/Jun/2025 17:40:52] \"POST /update HTTP/1.1\" 200 -\n",
            "INFO:werkzeug:172.28.0.12 - - [03/Jun/2025 17:40:52] \"GET /parameters HTTP/1.1\" 200 -\n",
            "INFO:werkzeug:172.28.0.12 - - [03/Jun/2025 17:40:52] \"POST /update HTTP/1.1\" 200 -\n",
            "INFO:werkzeug:172.28.0.12 - - [03/Jun/2025 17:40:52] \"GET /parameters HTTP/1.1\" 200 -\n",
            "INFO:werkzeug:172.28.0.12 - - [03/Jun/2025 17:40:52] \"POST /update HTTP/1.1\" 200 -\n",
            "INFO:werkzeug:172.28.0.12 - - [03/Jun/2025 17:40:52] \"GET /parameters HTTP/1.1\" 200 -\n",
            "INFO:werkzeug:172.28.0.12 - - [03/Jun/2025 17:40:52] \"POST /update HTTP/1.1\" 200 -\n",
            "INFO:werkzeug:172.28.0.12 - - [03/Jun/2025 17:40:52] \"GET /parameters HTTP/1.1\" 200 -\n",
            "INFO:werkzeug:172.28.0.12 - - [03/Jun/2025 17:40:52] \"POST /update HTTP/1.1\" 200 -\n",
            "INFO:werkzeug:172.28.0.12 - - [03/Jun/2025 17:40:52] \"GET /parameters HTTP/1.1\" 200 -\n",
            "INFO:werkzeug:172.28.0.12 - - [03/Jun/2025 17:40:52] \"POST /update HTTP/1.1\" 200 -\n",
            "INFO:werkzeug:172.28.0.12 - - [03/Jun/2025 17:40:52] \"GET /parameters HTTP/1.1\" 200 -\n",
            "INFO:werkzeug:172.28.0.12 - - [03/Jun/2025 17:40:52] \"POST /update HTTP/1.1\" 200 -\n",
            "INFO:werkzeug:172.28.0.12 - - [03/Jun/2025 17:40:52] \"GET /parameters HTTP/1.1\" 200 -\n",
            "INFO:werkzeug:172.28.0.12 - - [03/Jun/2025 17:40:52] \"POST /update HTTP/1.1\" 200 -\n",
            "INFO:werkzeug:172.28.0.12 - - [03/Jun/2025 17:40:52] \"GET /parameters HTTP/1.1\" 200 -\n",
            "INFO:werkzeug:172.28.0.12 - - [03/Jun/2025 17:40:52] \"POST /update HTTP/1.1\" 200 -\n",
            "INFO:werkzeug:172.28.0.12 - - [03/Jun/2025 17:40:52] \"GET /parameters HTTP/1.1\" 200 -\n",
            "INFO:werkzeug:172.28.0.12 - - [03/Jun/2025 17:40:52] \"POST /update HTTP/1.1\" 200 -\n",
            "INFO:werkzeug:172.28.0.12 - - [03/Jun/2025 17:40:52] \"GET /parameters HTTP/1.1\" 200 -\n",
            "INFO:werkzeug:172.28.0.12 - - [03/Jun/2025 17:40:52] \"POST /update HTTP/1.1\" 200 -\n",
            "INFO:werkzeug:172.28.0.12 - - [03/Jun/2025 17:40:52] \"GET /parameters HTTP/1.1\" 200 -\n",
            "INFO:werkzeug:172.28.0.12 - - [03/Jun/2025 17:40:53] \"POST /update HTTP/1.1\" 200 -\n",
            "INFO:werkzeug:172.28.0.12 - - [03/Jun/2025 17:40:53] \"GET /parameters HTTP/1.1\" 200 -\n",
            "INFO:werkzeug:172.28.0.12 - - [03/Jun/2025 17:40:53] \"POST /update HTTP/1.1\" 200 -\n",
            "INFO:werkzeug:172.28.0.12 - - [03/Jun/2025 17:40:53] \"GET /parameters HTTP/1.1\" 200 -\n",
            "INFO:werkzeug:172.28.0.12 - - [03/Jun/2025 17:40:53] \"POST /update HTTP/1.1\" 200 -\n",
            "INFO:werkzeug:172.28.0.12 - - [03/Jun/2025 17:40:53] \"GET /parameters HTTP/1.1\" 200 -\n",
            "INFO:werkzeug:172.28.0.12 - - [03/Jun/2025 17:40:53] \"POST /update HTTP/1.1\" 200 -\n",
            "INFO:werkzeug:172.28.0.12 - - [03/Jun/2025 17:40:53] \"GET /parameters HTTP/1.1\" 200 -\n",
            "INFO:werkzeug:172.28.0.12 - - [03/Jun/2025 17:40:53] \"POST /update HTTP/1.1\" 200 -\n",
            "INFO:werkzeug:172.28.0.12 - - [03/Jun/2025 17:40:53] \"GET /parameters HTTP/1.1\" 200 -\n",
            "INFO:werkzeug:172.28.0.12 - - [03/Jun/2025 17:40:53] \"POST /update HTTP/1.1\" 200 -\n",
            "INFO:werkzeug:172.28.0.12 - - [03/Jun/2025 17:40:53] \"GET /parameters HTTP/1.1\" 200 -\n",
            "INFO:werkzeug:172.28.0.12 - - [03/Jun/2025 17:40:53] \"POST /update HTTP/1.1\" 200 -\n",
            "INFO:werkzeug:172.28.0.12 - - [03/Jun/2025 17:40:53] \"GET /parameters HTTP/1.1\" 200 -\n",
            "INFO:werkzeug:172.28.0.12 - - [03/Jun/2025 17:40:53] \"POST /update HTTP/1.1\" 200 -\n",
            "INFO:werkzeug:172.28.0.12 - - [03/Jun/2025 17:40:53] \"GET /parameters HTTP/1.1\" 200 -\n",
            "INFO:werkzeug:172.28.0.12 - - [03/Jun/2025 17:40:53] \"POST /update HTTP/1.1\" 200 -\n",
            "INFO:werkzeug:172.28.0.12 - - [03/Jun/2025 17:40:53] \"GET /parameters HTTP/1.1\" 200 -\n",
            "INFO:werkzeug:172.28.0.12 - - [03/Jun/2025 17:40:53] \"POST /update HTTP/1.1\" 200 -\n",
            "INFO:werkzeug:172.28.0.12 - - [03/Jun/2025 17:40:53] \"GET /parameters HTTP/1.1\" 200 -\n",
            "INFO:werkzeug:172.28.0.12 - - [03/Jun/2025 17:40:53] \"POST /update HTTP/1.1\" 200 -\n",
            "INFO:werkzeug:172.28.0.12 - - [03/Jun/2025 17:40:53] \"GET /parameters HTTP/1.1\" 200 -\n",
            "INFO:werkzeug:172.28.0.12 - - [03/Jun/2025 17:40:53] \"POST /update HTTP/1.1\" 200 -\n",
            "INFO:werkzeug:172.28.0.12 - - [03/Jun/2025 17:40:53] \"GET /parameters HTTP/1.1\" 200 -\n",
            "INFO:werkzeug:172.28.0.12 - - [03/Jun/2025 17:40:53] \"POST /update HTTP/1.1\" 200 -\n",
            "INFO:werkzeug:172.28.0.12 - - [03/Jun/2025 17:40:53] \"GET /parameters HTTP/1.1\" 200 -\n",
            "INFO:werkzeug:172.28.0.12 - - [03/Jun/2025 17:40:53] \"POST /update HTTP/1.1\" 200 -\n",
            "INFO:werkzeug:172.28.0.12 - - [03/Jun/2025 17:40:53] \"GET /parameters HTTP/1.1\" 200 -\n",
            "INFO:werkzeug:172.28.0.12 - - [03/Jun/2025 17:40:53] \"POST /update HTTP/1.1\" 200 -\n",
            "INFO:werkzeug:172.28.0.12 - - [03/Jun/2025 17:40:53] \"GET /parameters HTTP/1.1\" 200 -\n",
            "INFO:werkzeug:172.28.0.12 - - [03/Jun/2025 17:40:53] \"POST /update HTTP/1.1\" 200 -\n",
            "INFO:werkzeug:172.28.0.12 - - [03/Jun/2025 17:40:53] \"GET /parameters HTTP/1.1\" 200 -\n",
            "INFO:werkzeug:172.28.0.12 - - [03/Jun/2025 17:40:53] \"POST /update HTTP/1.1\" 200 -\n",
            "INFO:werkzeug:172.28.0.12 - - [03/Jun/2025 17:40:53] \"GET /parameters HTTP/1.1\" 200 -\n",
            "INFO:werkzeug:172.28.0.12 - - [03/Jun/2025 17:40:53] \"POST /update HTTP/1.1\" 200 -\n",
            "INFO:werkzeug:172.28.0.12 - - [03/Jun/2025 17:40:53] \"GET /parameters HTTP/1.1\" 200 -\n",
            "INFO:werkzeug:172.28.0.12 - - [03/Jun/2025 17:40:53] \"POST /update HTTP/1.1\" 200 -\n",
            "INFO:werkzeug:172.28.0.12 - - [03/Jun/2025 17:40:53] \"GET /parameters HTTP/1.1\" 200 -\n",
            "INFO:werkzeug:172.28.0.12 - - [03/Jun/2025 17:40:53] \"POST /update HTTP/1.1\" 200 -\n",
            "INFO:werkzeug:172.28.0.12 - - [03/Jun/2025 17:40:53] \"GET /parameters HTTP/1.1\" 200 -\n",
            "INFO:werkzeug:172.28.0.12 - - [03/Jun/2025 17:40:53] \"POST /update HTTP/1.1\" 200 -\n",
            "INFO:werkzeug:172.28.0.12 - - [03/Jun/2025 17:40:53] \"GET /parameters HTTP/1.1\" 200 -\n",
            "INFO:werkzeug:172.28.0.12 - - [03/Jun/2025 17:40:53] \"POST /update HTTP/1.1\" 200 -\n",
            "INFO:werkzeug:172.28.0.12 - - [03/Jun/2025 17:40:53] \"GET /parameters HTTP/1.1\" 200 -\n",
            "INFO:werkzeug:172.28.0.12 - - [03/Jun/2025 17:40:53] \"POST /update HTTP/1.1\" 200 -\n",
            "INFO:werkzeug:172.28.0.12 - - [03/Jun/2025 17:40:53] \"GET /parameters HTTP/1.1\" 200 -\n",
            "INFO:werkzeug:172.28.0.12 - - [03/Jun/2025 17:40:53] \"POST /update HTTP/1.1\" 200 -\n",
            "INFO:werkzeug:172.28.0.12 - - [03/Jun/2025 17:40:53] \"GET /parameters HTTP/1.1\" 200 -\n",
            "INFO:werkzeug:172.28.0.12 - - [03/Jun/2025 17:40:53] \"POST /update HTTP/1.1\" 200 -\n",
            "INFO:werkzeug:172.28.0.12 - - [03/Jun/2025 17:40:53] \"GET /parameters HTTP/1.1\" 200 -\n",
            "INFO:werkzeug:172.28.0.12 - - [03/Jun/2025 17:40:54] \"POST /update HTTP/1.1\" 200 -\n",
            "INFO:werkzeug:172.28.0.12 - - [03/Jun/2025 17:40:54] \"GET /parameters HTTP/1.1\" 200 -\n",
            "INFO:werkzeug:172.28.0.12 - - [03/Jun/2025 17:40:54] \"POST /update HTTP/1.1\" 200 -\n",
            "INFO:werkzeug:172.28.0.12 - - [03/Jun/2025 17:40:54] \"GET /parameters HTTP/1.1\" 200 -\n",
            "INFO:werkzeug:172.28.0.12 - - [03/Jun/2025 17:40:54] \"POST /update HTTP/1.1\" 200 -\n",
            "INFO:werkzeug:172.28.0.12 - - [03/Jun/2025 17:40:54] \"GET /parameters HTTP/1.1\" 200 -\n",
            "INFO:werkzeug:172.28.0.12 - - [03/Jun/2025 17:40:54] \"POST /update HTTP/1.1\" 200 -\n",
            "INFO:werkzeug:172.28.0.12 - - [03/Jun/2025 17:40:54] \"GET /parameters HTTP/1.1\" 200 -\n",
            "INFO:werkzeug:172.28.0.12 - - [03/Jun/2025 17:40:54] \"POST /update HTTP/1.1\" 200 -\n",
            "INFO:werkzeug:172.28.0.12 - - [03/Jun/2025 17:40:54] \"GET /parameters HTTP/1.1\" 200 -\n",
            "INFO:werkzeug:172.28.0.12 - - [03/Jun/2025 17:40:54] \"POST /update HTTP/1.1\" 200 -\n",
            "INFO:werkzeug:172.28.0.12 - - [03/Jun/2025 17:40:54] \"GET /parameters HTTP/1.1\" 200 -\n",
            "INFO:werkzeug:172.28.0.12 - - [03/Jun/2025 17:40:54] \"POST /update HTTP/1.1\" 200 -\n",
            "INFO:werkzeug:172.28.0.12 - - [03/Jun/2025 17:40:54] \"GET /parameters HTTP/1.1\" 200 -\n",
            "INFO:werkzeug:172.28.0.12 - - [03/Jun/2025 17:40:54] \"POST /update HTTP/1.1\" 200 -\n",
            "INFO:werkzeug:172.28.0.12 - - [03/Jun/2025 17:40:54] \"GET /parameters HTTP/1.1\" 200 -\n",
            "INFO:werkzeug:172.28.0.12 - - [03/Jun/2025 17:40:54] \"POST /update HTTP/1.1\" 200 -\n",
            "INFO:werkzeug:172.28.0.12 - - [03/Jun/2025 17:40:54] \"GET /parameters HTTP/1.1\" 200 -\n",
            "INFO:werkzeug:172.28.0.12 - - [03/Jun/2025 17:40:54] \"POST /update HTTP/1.1\" 200 -\n",
            "INFO:werkzeug:172.28.0.12 - - [03/Jun/2025 17:40:54] \"GET /parameters HTTP/1.1\" 200 -\n",
            "INFO:werkzeug:172.28.0.12 - - [03/Jun/2025 17:40:54] \"POST /update HTTP/1.1\" 200 -\n",
            "INFO:werkzeug:172.28.0.12 - - [03/Jun/2025 17:40:54] \"GET /parameters HTTP/1.1\" 200 -\n",
            "INFO:werkzeug:172.28.0.12 - - [03/Jun/2025 17:40:54] \"POST /update HTTP/1.1\" 200 -\n",
            "INFO:werkzeug:172.28.0.12 - - [03/Jun/2025 17:40:54] \"GET /parameters HTTP/1.1\" 200 -\n",
            "INFO:werkzeug:172.28.0.12 - - [03/Jun/2025 17:40:54] \"POST /update HTTP/1.1\" 200 -\n",
            "INFO:werkzeug:172.28.0.12 - - [03/Jun/2025 17:40:54] \"GET /parameters HTTP/1.1\" 200 -\n",
            "INFO:werkzeug:172.28.0.12 - - [03/Jun/2025 17:40:54] \"POST /update HTTP/1.1\" 200 -\n",
            "INFO:werkzeug:172.28.0.12 - - [03/Jun/2025 17:40:54] \"GET /parameters HTTP/1.1\" 200 -\n"
          ]
        },
        {
          "output_type": "stream",
          "name": "stdout",
          "text": [
            ">>> Async training complete.\n"
          ]
        }
      ]
    },
    {
      "cell_type": "code",
      "source": [
        "# Предсказания\n",
        "test_np_x = np.array(test_data.rdd.map(lambda row: row['features'].toArray()).collect())\n",
        "test_np_y = np.array(test_data.rdd.map(lambda row: row['indexedLabel']).collect())\n",
        "predictions = spark_model.predict(test_np_x)\n",
        "predictions = np.argmax(predictions, axis=1)"
      ],
      "metadata": {
        "id": "3NBgK1IwtfNz"
      },
      "execution_count": 56,
      "outputs": []
    },
    {
      "cell_type": "code",
      "source": [
        "# Метрики\n",
        "print(f\"test_np_x shape: {test_np_x.shape}\")\n",
        "print(f\"test_np_y shape: {test_np_y.shape}\")\n",
        "print(f\"predictions shape: {predictions.shape}\")\n",
        "\n",
        "prediction_and_label = spark.sparkContext.parallelize([(float(y), float(p)) for y, p in zip(test_np_y, predictions)])\n",
        "metrics = MulticlassMetrics(prediction_and_label)\n",
        "print(f\"Accuracy: {metrics.accuracy}\")\n",
        "print(f\"Precision: {metrics.weightedPrecision}\")\n",
        "print(f\"Recall: {metrics.weightedRecall}\")\n",
        "print(f\"F1 Score: {metrics.weightedFMeasure()}\")\n",
        "\n",
        "print(f\"Sample preds: {predictions[:10]}\")\n",
        "print(f\"Sample actual: {test_np_y[:10]}\")"
      ],
      "metadata": {
        "colab": {
          "base_uri": "https://localhost:8080/"
        },
        "id": "csJ2ClPDthoI",
        "outputId": "679cad09-fe87-42bb-cd1e-32adfbd1aa67"
      },
      "execution_count": 57,
      "outputs": [
        {
          "output_type": "stream",
          "name": "stdout",
          "text": [
            "test_np_x shape: (295, 2000)\n",
            "test_np_y shape: (295,)\n",
            "predictions shape: (295,)\n",
            "Accuracy: 1.0\n",
            "Precision: 1.0\n",
            "Recall: 1.0\n",
            "F1 Score: 1.0\n",
            "Sample preds: [3 3 3 3 3 3 3 3 3 3]\n",
            "Sample actual: [3. 3. 3. 3. 3. 3. 3. 3. 3. 3.]\n"
          ]
        }
      ]
    },
    {
      "cell_type": "code",
      "source": [
        "# Завершение сессии\n",
        "spark.stop()"
      ],
      "metadata": {
        "id": "3TUnhcIbtjN4"
      },
      "execution_count": 58,
      "outputs": []
    }
  ],
  "metadata": {
    "colab": {
      "provenance": [],
      "collapsed_sections": [
        "6J2De5PqLIb2",
        "7a5B0EGKwg2c",
        "DicNmvDgwyxq",
        "UbeGz3JNwxjk"
      ],
      "include_colab_link": true
    },
    "kernelspec": {
      "display_name": "Python 3",
      "name": "python3"
    },
    "language_info": {
      "codemirror_mode": {
        "name": "ipython",
        "version": 3
      },
      "file_extension": ".py",
      "mimetype": "text/x-python",
      "name": "python",
      "nbconvert_exporter": "python",
      "pygments_lexer": "ipython3",
      "version": "3.7.3"
    }
  },
  "nbformat": 4,
  "nbformat_minor": 0
}